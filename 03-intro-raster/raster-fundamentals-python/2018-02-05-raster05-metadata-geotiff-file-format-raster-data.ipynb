{
 "cells": [
  {
   "cell_type": "raw",
   "metadata": {},
   "source": [
    "---\n",
    "layout: single\n",
    "title: \"About the Geotiff (.tif) Raster File Format: Raster Data in Python\"\n",
    "excerpt: \"Metadata describe the key characteristics of a dataset such as a raster. For spatial data, these characteristics including the coordinate reference system (CRS), resolution and spatial extent. Learn about the use of TIF tags or metadata embedded within a GeoTIFF file to explore the metadata programatically.\"\n",
    "authors: ['Leah Wasser', 'Chris Holdgraf', 'Martha Morrissey']\n",
    "dateCreated: 2018-02-06\n",
    "modified: '{:%Y-%m-%d}'.format(datetime.now())\n",
    "category: ['courses']\n",
    "class-lesson: ['intro-raster-python-tb']\n",
    "permalink: /courses/use-data-open-source-python/intro-raster-data-python/fundamentals-raster-data/intro-to-the-geotiff-file-format/\n",
    "nav-title: 'Geotiff File Format'\n",
    "week: 3\n",
    "course: 'intermediate-earth-data-science-textbook'\n",
    "sidebar:\n",
    "  nav:\n",
    "author_profile: false\n",
    "comments: false\n",
    "order: 5\n",
    "topics:\n",
    "  reproducible-science-and-programming: ['python']\n",
    "  spatial-data-and-gis: ['raster-data']\n",
    "  find-and-manage-data: ['metadata']\n",
    "redirect_from:\n",
    "  - \"/courses/earth-analytics-python/lidar-raster-data/intro-to-the-geotiff-file-format/\"\n",
    "---\n"
   ]
  },
  {
   "cell_type": "markdown",
   "metadata": {},
   "source": [
    "{% include toc title=\"On This Page\" icon=\"file-text\" %}\n",
    "\n",
    "<div class='notice--success' markdown=\"1\">\n",
    "\n",
    "## <i class=\"fa fa-graduation-cap\" aria-hidden=\"true\"></i> Learning Objectives\n",
    "\n",
    "* Access metadata stored within a geotiff raster file via tif tags in Python.\n",
    "* Describe the difference between embedded metadata and non embedded metadata.\n",
    "* Use `.meta` to quickly view key spatial metadata attributes associated with a spatial file.\n",
    "\n",
    "</div>\n",
    "\n",
    "\n",
    "## What is a GeoTIFF?\n",
    "\n",
    "A GeoTIFF is a standard `.tif` or image file format that includes additional spatial\n",
    "(georeferencing) information embedded in the .tif file as tags. These embedded\n",
    "tags are called `tif tags`. These tags can include the following raster metadata:\n",
    "\n",
    "1. **Spatial Extent:** What area does this dataset cover?\n",
    "2. **Coordinate reference system:** What spatial projection / coordinate reference\n",
    "system is used to store the data? Will it line up with other data?\n",
    "3. **Resolution:** The data appears to be in **raster** format. This means it is\n",
    "composed of pixels. What area on the ground does each pixel cover - i.e. What is\n",
    "its spatial resolution?\n",
    "4. **`nodata` value**\n",
    "5. How many layers are in the .tif file. (more on that later)\n",
    "\n",
    "You discussed spatial extent and resolution in the previous lesson. When you work with\n",
    "geotiffs the spatial information that describes the raster data are embedded within\n",
    "the file itself.\n",
    "\n",
    "<div class='notice--success alert alert-info' markdown=\"1\">\n",
    "\n",
    "<i class=\"fa fa-star\"></i> **Data Tip:** Your camera uses embedded tags to store\n",
    "information about pictures that you take including the camera make and model,\n",
    "and the time the image was taken.\n",
    "</div>\n",
    "{: .notice--success }\n",
    "\n",
    "More about the  `.tif` format:\n",
    "\n",
    "* <a href=\"https://en.wikipedia.org/wiki/GeoTIFF\" target=\"_blank\"> GeoTIFF on Wikipedia</a>\n",
    "* <a href=\"https://trac.osgeo.org/geotiff/\" target=\"_blank\"> OSGEO TIFF documentation</a>\n",
    "\n",
    "### Geotiffs in Python\n",
    "\n",
    "The **rasterio** package in **Python** allows us to both open geotiff files and also to\n",
    "directly access `.tif tags` programmatically. You can quickly view the spatial **extent**,\n",
    "**coordinate reference system** and **resolution** of your raster data.\n",
    "\n",
    "NOTE: not all GeoTIFFs contain tif tags!"
   ]
  },
  {
   "cell_type": "code",
   "execution_count": 1,
   "metadata": {},
   "outputs": [],
   "source": [
    "# Import necessary packages\n",
    "import os\n",
    "import rioxarray as rxr\n",
    "import earthpy as et\n",
    "\n",
    "# Get data and set working directory\n",
    "et.data.get_data(\"colorado-flood\")\n",
    "os.chdir(os.path.join(et.io.HOME,\n",
    "                      'earth-analytics',\n",
    "                      'data'))"
   ]
  },
  {
   "cell_type": "markdown",
   "metadata": {},
   "source": [
    "Next let's open up a raster file in geotiff format (.tif). "
   ]
  },
  {
   "cell_type": "code",
   "execution_count": 2,
   "metadata": {},
   "outputs": [
    {
     "data": {
      "text/plain": [
       "(472000.0, 4434000.0, 476000.0, 4436000.0)"
      ]
     },
     "execution_count": 2,
     "metadata": {},
     "output_type": "execute_result"
    }
   ],
   "source": [
    "# Define relative path to file\n",
    "lidar_dem_path = os.path.join(\"colorado-flood\",\n",
    "                              \"spatial\",\n",
    "                              \"boulder-leehill-rd\",\n",
    "                              \"pre-flood\",\n",
    "                              \"lidar\",\n",
    "                              \"pre_DTM.tif\")\n",
    "\n",
    "pre_lidar_dem = rxr.open_rasterio(lidar_dem_path,\n",
    "                                 masked=True)\n",
    "pre_lidar_dem.rio.bounds()"
   ]
  },
  {
   "cell_type": "markdown",
   "metadata": {},
   "source": [
    "<i class = \"fa fa-star\"></i> **Data Tip:** Rioxarray wraps around much of the rasterio functionality. Read more about attributes associated with rasterio objects and how they map to gdal objects.\n",
    "{: .notice--success }\n",
    "\n",
    "You can view spatial attibutes associated with the raster file too. Below you explore viewing a general list of attributes and then specific attributes including number of bands and horizontal (x, y) resolution."
   ]
  },
  {
   "cell_type": "code",
   "execution_count": 3,
   "metadata": {},
   "outputs": [
    {
     "name": "stdout",
     "output_type": "stream",
     "text": [
      "The crs of your data is: EPSG:32613\n",
      "The nodatavalue of your data is: nan\n",
      "The shape of your data is: (1, 2000, 4000)\n",
      "The spatial resolution for your data is: (1.0, -1.0)\n",
      "The metadata for your data is: {'scale_factor': 1.0, 'add_offset': 0.0, 'grid_mapping': 'spatial_ref'}\n"
     ]
    }
   ],
   "source": [
    "# View generate metadata associated with the raster file\n",
    "print(\"The crs of your data is:\", pre_lidar_dem.rio.crs)\n",
    "print(\"The nodatavalue of your data is:\", pre_lidar_dem.rio.nodata)\n",
    "print(\"The shape of your data is:\", pre_lidar_dem.shape)\n",
    "print(\"The spatial resolution for your data is:\", pre_lidar_dem.rio.resolution())\n",
    "print(\"The metadata for your data is:\", pre_lidar_dem.attrs)"
   ]
  },
  {
   "cell_type": "code",
   "execution_count": 4,
   "metadata": {},
   "outputs": [
    {
     "data": {
      "text/plain": [
       "(1.0, -1.0)"
      ]
     },
     "execution_count": 4,
     "metadata": {},
     "output_type": "execute_result"
    }
   ],
   "source": [
    "# What is the spatial resolution?\n",
    "pre_lidar_dem.rio.resolution()"
   ]
  },
  {
   "cell_type": "markdown",
   "metadata": {
    "tags": [
     "hide"
    ]
   },
   "source": [
    "### Raster Masks\n",
    "\n",
    "You can view the mask associated with the data too. Here values that `=0` are `nodata` values whereas `= 255` are usable data values. "
   ]
  },
  {
   "cell_type": "code",
   "execution_count": 5,
   "metadata": {
    "tags": [
     "hide"
    ]
   },
   "outputs": [],
   "source": [
    "# View data mask\n",
    "#lidar_dem_mask"
   ]
  },
  {
   "cell_type": "markdown",
   "metadata": {},
   "source": [
    "<div class='notice--success alert alert-info' markdown=\"1\">\n",
    "\n",
    "The information returned from the various attributes called above includes:\n",
    "\n",
    "* x and y resolution\n",
    "* projection\n",
    "* data format (in this case your data are stored in float format which means they contain decimals)\n",
    "\n",
    "and more. You can also extract or view individual metadata attributes.\n",
    "</div>"
   ]
  },
  {
   "cell_type": "code",
   "execution_count": 6,
   "metadata": {},
   "outputs": [
    {
     "name": "stdout",
     "output_type": "stream",
     "text": [
      "The CRS of this data is:  EPSG:32613\n",
      "The spatial extent of this data is:  (472000.0, 4434000.0, 476000.0, 4436000.0)\n"
     ]
    }
   ],
   "source": [
    "print(\"The CRS of this data is: \", pre_lidar_dem.rio.crs)\n",
    "print(\"The spatial extent of this data is: \",pre_lidar_dem.rio.bounds())"
   ]
  },
  {
   "cell_type": "markdown",
   "metadata": {},
   "source": [
    "If you extract metadata from your data, you can then perform tests on the data as you process it. For instance, you can ask the question: \n",
    "\n",
    "* Do both datasets have the same spatial extent?\n",
    "\n",
    "Find out the answer to this question this using `Python`."
   ]
  },
  {
   "cell_type": "code",
   "execution_count": 7,
   "metadata": {},
   "outputs": [],
   "source": [
    "# Define relative path to file\n",
    "lidar_dsm_path = os.path.join(\"colorado-flood\", \n",
    "                              \"spatial\",\n",
    "                              \"boulder-leehill-rd\", \n",
    "                              \"pre-flood\", \n",
    "                              \"lidar\",\n",
    "                              \"pre_DSM.tif\")\n",
    "\n",
    "# Open lidar dsm\n",
    "pre_lidar_dsm = rxr.open_rasterio(lidar_dsm_path)"
   ]
  },
  {
   "cell_type": "code",
   "execution_count": 8,
   "metadata": {},
   "outputs": [
    {
     "name": "stdout",
     "output_type": "stream",
     "text": [
      "Both datasets cover the same spatial extent.\n"
     ]
    }
   ],
   "source": [
    "if pre_lidar_dem.rio.bounds() == pre_lidar_dsm.rio.bounds():\n",
    "    print(\"Both datasets cover the same spatial extent.\")"
   ]
  },
  {
   "cell_type": "markdown",
   "metadata": {},
   "source": [
    "How about resolution? Do both datasets have the same horizontal (x and y) resolution?"
   ]
  },
  {
   "cell_type": "code",
   "execution_count": 9,
   "metadata": {},
   "outputs": [
    {
     "data": {
      "text/plain": [
       "True"
      ]
     },
     "execution_count": 9,
     "metadata": {},
     "output_type": "execute_result"
    }
   ],
   "source": [
    "# Do both layers have the same spatial resolution?\n",
    "pre_lidar_dem.rio.resolution() == pre_lidar_dsm.rio.resolution()"
   ]
  },
  {
   "cell_type": "markdown",
   "metadata": {},
   "source": [
    "### Extra Metadata with EPSG\n",
    "EPSG is short-hand way of specifying many CRS parameters at once. Each EPSG code correspondings to a Proj4 code. In **rasterio**, more metadata is available if you use Proj4 instead of EPSG. \n",
    "\n",
    "To see the Proj4 parameters for a given EPSG code, you can either <a href=\"http://www.spatialreference.org/ref/epsg/32613/\" target=\"_blank\"> look them up online </a> or use the EPSG to Proj4 dictionary:"
   ]
  },
  {
   "cell_type": "code",
   "execution_count": 10,
   "metadata": {},
   "outputs": [
    {
     "data": {
      "text/plain": [
       "CRS.from_epsg(32613)"
      ]
     },
     "execution_count": 10,
     "metadata": {},
     "output_type": "execute_result"
    }
   ],
   "source": [
    "# Get crs of a crs object\n",
    "pre_lidar_dem.rio.crs"
   ]
  },
  {
   "cell_type": "markdown",
   "metadata": {},
   "source": [
    "You can use `et.epsg` lookup to get the proj4 string for an epsg code too.\n",
    "Earthpy is a python package build for you by your instructors. We are working on better documentation for it\n",
    "but for the time being you will find snippets of how to use it here. "
   ]
  },
  {
   "cell_type": "code",
   "execution_count": 11,
   "metadata": {},
   "outputs": [
    {
     "data": {
      "text/plain": [
       "'+proj=utm +zone=13 +datum=WGS84 +units=m +no_defs'"
      ]
     },
     "execution_count": 11,
     "metadata": {},
     "output_type": "execute_result"
    }
   ],
   "source": [
    "et.epsg['32613']"
   ]
  },
  {
   "cell_type": "markdown",
   "metadata": {},
   "source": [
    "## Single Layer (or Band) vs Multi-Layer (Band Geotiffs)\n",
    "\n",
    "You will learn more about multi vs single band imagery when you work with RGB (color) imagery in later weeks\n",
    "of this course. However geotiffs can also store more than one band or layer. You\n",
    "can see if a raster object has more than one layer using the `.shape` attribute. The first\n",
    "dimension of the `.shape` output represents the number of bands."
   ]
  },
  {
   "cell_type": "code",
   "execution_count": 12,
   "metadata": {},
   "outputs": [
    {
     "name": "stdout",
     "output_type": "stream",
     "text": [
      "(1, 2000, 4000)\n"
     ]
    }
   ],
   "source": [
    "print(pre_lidar_dem.shape)"
   ]
  },
  {
   "cell_type": "markdown",
   "metadata": {},
   "source": [
    "Another way to see the number of bands is to use the `.rio.count` attribute."
   ]
  },
  {
   "cell_type": "code",
   "execution_count": 13,
   "metadata": {},
   "outputs": [
    {
     "name": "stdout",
     "output_type": "stream",
     "text": [
      "number of bands 1\n"
     ]
    }
   ],
   "source": [
    "# How many bands / layers does the object have?\n",
    "print(\"Number of bands\", pre_lidar_dem.rio.count)"
   ]
  },
  {
   "cell_type": "markdown",
   "metadata": {},
   "source": [
    "## Wrap Up\n",
    "\n",
    "You've now learned how to open and explore raster format spatial data using xarray and rioxarray\n",
    "in open source Python. The next lesson will allow you to practice what you've learned through\n",
    "challenge activities. \n",
    "\n",
    "You may also choose to move on to the next chapter of this textbook which will introduce you to \n",
    "processing approaches for raster data including how to\n",
    "\n",
    "* perform raster math (subtract one raster from another)\n",
    "* clip raster data, \n",
    "* reproject raster data, and \n",
    "* classify raster data \n",
    "\n",
    "Using open source in **python**."
   ]
  }
 ],
 "metadata": {
  "anaconda-cloud": {},
  "celltoolbar": "Tags",
  "kernelspec": {
   "display_name": "Python 3",
   "language": "python",
   "name": "python3"
  },
  "language_info": {
   "codemirror_mode": {
    "name": "ipython",
    "version": 3
   },
   "file_extension": ".py",
   "mimetype": "text/x-python",
   "name": "python",
   "nbconvert_exporter": "python",
   "pygments_lexer": "ipython3",
   "version": "3.8.5"
  },
  "toc": {
   "base_numbering": 1,
   "nav_menu": {},
   "number_sections": true,
   "sideBar": true,
   "skip_h1_title": false,
   "title_cell": "Table of Contents",
   "title_sidebar": "Contents",
   "toc_cell": false,
   "toc_position": {},
   "toc_section_display": true,
   "toc_window_display": false
  },
  "varInspector": {
   "cols": {
    "lenName": 16,
    "lenType": 16,
    "lenVar": 40
   },
   "kernels_config": {
    "python": {
     "delete_cmd_postfix": "",
     "delete_cmd_prefix": "del ",
     "library": "var_list.py",
     "varRefreshCmd": "print(var_dic_list())"
    },
    "r": {
     "delete_cmd_postfix": ") ",
     "delete_cmd_prefix": "rm(",
     "library": "var_list.r",
     "varRefreshCmd": "cat(var_dic_list()) "
    }
   },
   "types_to_exclude": [
    "module",
    "function",
    "builtin_function_or_method",
    "instance",
    "_Feature"
   ],
   "window_display": false
  }
 },
 "nbformat": 4,
 "nbformat_minor": 2
}
