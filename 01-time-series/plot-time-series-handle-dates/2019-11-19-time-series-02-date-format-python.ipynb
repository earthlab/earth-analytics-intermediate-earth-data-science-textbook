{
 "cells": [
  {
   "cell_type": "raw",
   "metadata": {},
   "source": [
    "---\n",
    "layout: single\n",
    "title: \"Work With Datetime Format in Python - Time Series Data \"\n",
    "excerpt: \"Python provides a datetime object for storing and working with dates. Learn how you can convert columns in a pandas dataframe containing dates and times as strings into datetime objects for more efficient analysis and plotting.\"\n",
    "authors: ['Leah Wasser', 'Jenny Palomino', 'Chris Holdgraf', 'Martha Morrissey']\n",
    "dateCreated: 2019-11-19\n",
    "modified: '{:%Y-%m-%d}'.format(datetime.now())\n",
    "category: [courses]\n",
    "class-lesson: ['time-series-python-tb']\n",
    "course: 'intermediate-earth-data-science-textbook'\n",
    "permalink: /courses/use-data-open-source-python/use-time-series-data-in-python/date-time-types-in-pandas-python/\n",
    "nav-title: 'Dates in Python'\n",
    "chapter: 1\n",
    "week: 1\n",
    "sidebar:\n",
    "  nav:\n",
    "author_profile: false\n",
    "comments: true\n",
    "order: 2\n",
    "topics:\n",
    "  reproducible-science-and-programming: ['jupyter-notebook', 'python']\n",
    "  time-series:\n",
    "  data-exploration-and-analysis: ['data-visualization']\n",
    "redirect_from:\n",
    "  - \"/courses/earth-analytics-python/use-time-series-data-in-python/date-time-types-in-pandas-python/\"\n",
    "---\n"
   ]
  },
  {
   "cell_type": "markdown",
   "metadata": {},
   "source": [
    "{% include toc title=\"In This Chapter\" icon=\"file-text\" %}\n",
    "\n",
    "<div class='notice--success' markdown=\"1\">\n",
    "\n",
    "## <i class=\"fa fa-graduation-cap\" aria-hidden=\"true\"></i> Learning Objectives\n",
    "\n",
    "After completing this chapter, you will be able to:\n",
    "\n",
    "* Import a time series dataset using **pandas** with dates converted to a `datetime` object in **Python**.\n",
    "* Use the `datetime` object to create easier-to-read time series plots and work with data across various timeframes (e.g. daily, monthly, yearly) in **Python**.\n",
    "* Explain the role of \"no data\" values and how the `NaN` value is used in **Python** to label \"no data\" values.\n",
    "* Set a \"no data\" value for a file when you import it into a **pandas** dataframe. \n",
    "\n",
    "</div>\n",
    "\n",
    "\n",
    "## Dive Deeper Into Working With Datetime Objects in Python\n",
    "\n",
    "On this page, you will learn how to handle dates using the `datetime` object in **Python** with **pandas**, using a dataset of daily temperature (maximum in Fahrenheit) and total precipitation (inches) in July 2018 for Boulder, CO, provided by the <a href=\"https://www.esrl.noaa.gov/psd/boulder/data/boulderdaily.complete\" target=\"_blank\">National Oceanic and Atmospheric Administration (NOAA)</a>.\n",
    "\n",
    "\n",
    "### Import Packages and Get Data\n",
    "\n",
    "To begin, import the necessary packages to work with **pandas** dataframe and download data. You will work with modules from **pandas** and **matplotlib** to plot dates more efficiently, and you will work with the <a href=\"https://seaborn.pydata.org/introduction.html\" target=\"_blank\">**seaborn**</a> package to make more attractive plots.  "
   ]
  },
  {
   "cell_type": "code",
   "execution_count": 1,
   "metadata": {},
   "outputs": [],
   "source": [
    "# Import necessary packages\n",
    "import os\n",
    "import matplotlib.pyplot as plt\n",
    "import seaborn as sns\n",
    "import pandas as pd\n",
    "import earthpy as et\n",
    "\n",
    "# Handle date time conversions between pandas and matplotlib\n",
    "from pandas.plotting import register_matplotlib_converters\n",
    "register_matplotlib_converters()\n",
    "\n",
    "# Use white grid plot background from seaborn\n",
    "sns.set(font_scale=1.5, style=\"whitegrid\")"
   ]
  },
  {
   "cell_type": "code",
   "execution_count": 2,
   "metadata": {},
   "outputs": [],
   "source": [
    "# Download csv of temp (F) and precip (inches) in July 2018 for Boulder, CO\n",
    "file_url = \"https://ndownloader.figshare.com/files/12948515\"\n",
    "et.data.get_data(url=file_url)\n",
    "\n",
    "# Set working directory\n",
    "os.chdir(os.path.join(et.io.HOME, 'earth-analytics'))\n",
    "\n",
    "# Define relative path to file\n",
    "file_path = os.path.join(\"data\", \"earthpy-downloads\",\n",
    "                         \"july-2018-temperature-precip.csv\")\n",
    "\n",
    "# Import file into pandas dataframe\n",
    "boulder_july_2018 = pd.read_csv(file_path)"
   ]
  },
  {
   "cell_type": "code",
   "execution_count": 3,
   "metadata": {},
   "outputs": [
    {
     "data": {
      "text/html": [
       "<div>\n",
       "<style scoped>\n",
       "    .dataframe tbody tr th:only-of-type {\n",
       "        vertical-align: middle;\n",
       "    }\n",
       "\n",
       "    .dataframe tbody tr th {\n",
       "        vertical-align: top;\n",
       "    }\n",
       "\n",
       "    .dataframe thead th {\n",
       "        text-align: right;\n",
       "    }\n",
       "</style>\n",
       "<table border=\"1\" class=\"dataframe\">\n",
       "  <thead>\n",
       "    <tr style=\"text-align: right;\">\n",
       "      <th></th>\n",
       "      <th>date</th>\n",
       "      <th>max_temp</th>\n",
       "      <th>precip</th>\n",
       "    </tr>\n",
       "  </thead>\n",
       "  <tbody>\n",
       "    <tr>\n",
       "      <th>0</th>\n",
       "      <td>2018-07-01</td>\n",
       "      <td>87</td>\n",
       "      <td>0.00</td>\n",
       "    </tr>\n",
       "    <tr>\n",
       "      <th>1</th>\n",
       "      <td>2018-07-02</td>\n",
       "      <td>92</td>\n",
       "      <td>0.00</td>\n",
       "    </tr>\n",
       "    <tr>\n",
       "      <th>2</th>\n",
       "      <td>2018-07-03</td>\n",
       "      <td>90</td>\n",
       "      <td>-999.00</td>\n",
       "    </tr>\n",
       "    <tr>\n",
       "      <th>3</th>\n",
       "      <td>2018-07-04</td>\n",
       "      <td>87</td>\n",
       "      <td>0.00</td>\n",
       "    </tr>\n",
       "    <tr>\n",
       "      <th>4</th>\n",
       "      <td>2018-07-05</td>\n",
       "      <td>84</td>\n",
       "      <td>0.24</td>\n",
       "    </tr>\n",
       "  </tbody>\n",
       "</table>\n",
       "</div>"
      ],
      "text/plain": [
       "         date  max_temp  precip\n",
       "0  2018-07-01        87    0.00\n",
       "1  2018-07-02        92    0.00\n",
       "2  2018-07-03        90 -999.00\n",
       "3  2018-07-04        87    0.00\n",
       "4  2018-07-05        84    0.24"
      ]
     },
     "execution_count": 3,
     "metadata": {},
     "output_type": "execute_result"
    }
   ],
   "source": [
    "# Display first few rows\n",
    "boulder_july_2018.head()"
   ]
  },
  {
   "cell_type": "code",
   "execution_count": 4,
   "metadata": {},
   "outputs": [
    {
     "name": "stdout",
     "output_type": "stream",
     "text": [
      "<class 'pandas.core.frame.DataFrame'>\n",
      "RangeIndex: 31 entries, 0 to 30\n",
      "Data columns (total 3 columns):\n",
      "date        31 non-null object\n",
      "max_temp    31 non-null int64\n",
      "precip      31 non-null float64\n",
      "dtypes: float64(1), int64(1), object(1)\n",
      "memory usage: 872.0+ bytes\n"
     ]
    }
   ],
   "source": [
    "# View dataframe info\n",
    "boulder_july_2018.info()"
   ]
  },
  {
   "cell_type": "markdown",
   "metadata": {},
   "source": [
    "### View Data Types in Pandas Dataframes\n",
    "\n",
    "Now that you have imported the data into a **pandas** dataframe, you can query the data types of the columns in the dataframe using the dataframe attribute `.dtypes`. "
   ]
  },
  {
   "cell_type": "code",
   "execution_count": 5,
   "metadata": {},
   "outputs": [
    {
     "data": {
      "text/plain": [
       "date         object\n",
       "max_temp      int64\n",
       "precip      float64\n",
       "dtype: object"
      ]
     },
     "execution_count": 5,
     "metadata": {},
     "output_type": "execute_result"
    }
   ],
   "source": [
    "# View column data types\n",
    "boulder_july_2018.dtypes"
   ]
  },
  {
   "cell_type": "markdown",
   "metadata": {},
   "source": [
    "The `.dtypes` attribute indicates that the data columns in your **pandas** dataframe are stored as several different data types as follows:\n",
    "\n",
    "* **date as object:** A string of characters that are in quotes. \n",
    "* **max_temp as int64** 64 bit integer. This is a numeric value that will never contain decimal points.\n",
    "* **precip as float64 - 64 bit float:**  This data type accepts data that are a wide variety of numeric formats including decimals (floating point values) and integers. Numeric also accept larger numbers than **int** will.\n",
    "\n",
    "Investigate the data type in the `date` column further to see the data type or class of information it contains."
   ]
  },
  {
   "cell_type": "code",
   "execution_count": 6,
   "metadata": {},
   "outputs": [
    {
     "data": {
      "text/plain": [
       "str"
      ]
     },
     "execution_count": 6,
     "metadata": {},
     "output_type": "execute_result"
    }
   ],
   "source": [
    "# Check data type of first value in date column\n",
    "type(boulder_july_2018['date'][0])"
   ]
  },
  {
   "cell_type": "markdown",
   "metadata": {},
   "source": [
    "Notice that while you may see this column as a date, **Python** stores the values as a type `str` or string. \n",
    "\n",
    "### Plot Dates as Strings\n",
    "\n",
    "To understand why using `datetime` objects can help you to create better plots, begin by creating a standard plot using **matplotlib**, based on the `date` column (as a string) and the `max_temp` column."
   ]
  },
  {
   "cell_type": "code",
   "execution_count": 7,
   "metadata": {
    "caption": "Line plot of precipitation in Boulder, CO with dates as strings and without no-data values removed."
   },
   "outputs": [
    {
     "data": {
      "image/png": "[encoded data removed]",
      "text/plain": [
       "<Figure size 720x720 with 1 Axes>"
      ]
     },
     "metadata": {},
     "output_type": "display_data"
    }
   ],
   "source": [
    "# Create figure and plot space\n",
    "fig, ax = plt.subplots(figsize=(10, 10))\n",
    "\n",
    "# Add x-axis and y-axis\n",
    "ax.plot(boulder_july_2018['date'],\n",
    "        boulder_july_2018['precip'],\n",
    "        color='purple')\n",
    "\n",
    "# Set title and labels for axes\n",
    "ax.set(xlabel=\"Date\",\n",
    "       ylabel=\"Precipitation (inches)\",\n",
    "       title=\"Daily Total Precipitation\\nBoulder, Colorado in July 2018\")\n",
    "\n",
    "plt.show()"
   ]
  },
  {
   "cell_type": "markdown",
   "metadata": {},
   "source": [
    "First, you will notice that there are many negative values in this dataset - these are actually \"no data\" values that you will handle in a later section on this page. \n",
    "\n",
    "Now, look closely at the dates on the x-axis. When you plot a string field for the x-axis, `Python` gets stuck trying to plot the all of the date labels. Each value is read as a string, and it is difficult to try to fit all of those values on the x axis efficiently. \n",
    "\n",
    "You can avoid this problem by converting the dates from strings to a `datetime` object during the import of data into a **pandas** dataframe. Once the dates are converted to a `datetime` object, you can more easily customize the dates on your plot, resulting in a more visually appealing plot. \n",
    "\n",
    "\n",
    "## Import Date Column into Pandas Dataframe As Datetime Object\n",
    "\n",
    "To import the dates as a `datetime` object, you can use the `parse_dates` parameter of the `pd.read_csv()` function that allows you to indicate that a particular column should be converted to a `datetime` object:\n",
    "\n",
    "`parse_dates = ['date_column']`\n",
    "\n",
    "If you have a single column that contain dates in your data, you can also set dates as the index for the dataframe using the `index_col` parameter: \n",
    "\n",
    "`index_col = ['date_column']`\n",
    "\n",
    "You will use this index in later lessons to allow you to quickly summarize and aggregate your data by date. \n",
    "\n",
    "Now you can recreate the dataframe using the parameter `parse_dates`to convert the dates from strings to `datetime` values and `index_col` to set the index of the dataframe to the `datetime` values."
   ]
  },
  {
   "cell_type": "code",
   "execution_count": 8,
   "metadata": {},
   "outputs": [
    {
     "data": {
      "text/html": [
       "<div>\n",
       "<style scoped>\n",
       "    .dataframe tbody tr th:only-of-type {\n",
       "        vertical-align: middle;\n",
       "    }\n",
       "\n",
       "    .dataframe tbody tr th {\n",
       "        vertical-align: top;\n",
       "    }\n",
       "\n",
       "    .dataframe thead th {\n",
       "        text-align: right;\n",
       "    }\n",
       "</style>\n",
       "<table border=\"1\" class=\"dataframe\">\n",
       "  <thead>\n",
       "    <tr style=\"text-align: right;\">\n",
       "      <th></th>\n",
       "      <th>max_temp</th>\n",
       "      <th>precip</th>\n",
       "    </tr>\n",
       "    <tr>\n",
       "      <th>date</th>\n",
       "      <th></th>\n",
       "      <th></th>\n",
       "    </tr>\n",
       "  </thead>\n",
       "  <tbody>\n",
       "    <tr>\n",
       "      <th>2018-07-01</th>\n",
       "      <td>87</td>\n",
       "      <td>0.00</td>\n",
       "    </tr>\n",
       "    <tr>\n",
       "      <th>2018-07-02</th>\n",
       "      <td>92</td>\n",
       "      <td>0.00</td>\n",
       "    </tr>\n",
       "    <tr>\n",
       "      <th>2018-07-03</th>\n",
       "      <td>90</td>\n",
       "      <td>-999.00</td>\n",
       "    </tr>\n",
       "    <tr>\n",
       "      <th>2018-07-04</th>\n",
       "      <td>87</td>\n",
       "      <td>0.00</td>\n",
       "    </tr>\n",
       "    <tr>\n",
       "      <th>2018-07-05</th>\n",
       "      <td>84</td>\n",
       "      <td>0.24</td>\n",
       "    </tr>\n",
       "  </tbody>\n",
       "</table>\n",
       "</div>"
      ],
      "text/plain": [
       "            max_temp  precip\n",
       "date                        \n",
       "2018-07-01        87    0.00\n",
       "2018-07-02        92    0.00\n",
       "2018-07-03        90 -999.00\n",
       "2018-07-04        87    0.00\n",
       "2018-07-05        84    0.24"
      ]
     },
     "execution_count": 8,
     "metadata": {},
     "output_type": "execute_result"
    }
   ],
   "source": [
    "# Import data using datetime and set index to datetime\n",
    "boulder_july_2018 = pd.read_csv(file_path,\n",
    "                                parse_dates=['date'],\n",
    "                                index_col=['date'])\n",
    "\n",
    "boulder_july_2018.head()"
   ]
  },
  {
   "cell_type": "markdown",
   "metadata": {},
   "source": [
    "Notice that during the import, you converted the column `date` to the type `datetime` and you also set the index of the dataframe as that `datetime` object.\n",
    "\n",
    "So rather than the index being the original `RangeIndex` of values from 0 to 31, the index is now a `DatetimeIndex`."
   ]
  },
  {
   "cell_type": "code",
   "execution_count": 9,
   "metadata": {},
   "outputs": [
    {
     "name": "stdout",
     "output_type": "stream",
     "text": [
      "<class 'pandas.core.frame.DataFrame'>\n",
      "DatetimeIndex: 31 entries, 2018-07-01 to 2018-07-31\n",
      "Data columns (total 2 columns):\n",
      "max_temp    31 non-null int64\n",
      "precip      31 non-null float64\n",
      "dtypes: float64(1), int64(1)\n",
      "memory usage: 744.0 bytes\n"
     ]
    }
   ],
   "source": [
    "# View dataframe info\n",
    "boulder_july_2018.info()"
   ]
  },
  {
   "cell_type": "markdown",
   "metadata": {},
   "source": [
    "Recall that after you set an index from a column in a dataframe, that original column is no longer listed as a column but rather is identified as the index of the dataframe. "
   ]
  },
  {
   "cell_type": "code",
   "execution_count": 10,
   "metadata": {},
   "outputs": [
    {
     "data": {
      "text/plain": [
       "max_temp      int64\n",
       "precip      float64\n",
       "dtype: object"
      ]
     },
     "execution_count": 10,
     "metadata": {},
     "output_type": "execute_result"
    }
   ],
   "source": [
    "# View column data types\n",
    "boulder_july_2018.dtypes"
   ]
  },
  {
   "cell_type": "markdown",
   "metadata": {},
   "source": [
    "Don't worry - the data are still there! To check the values of an index of a dataframe, you can use the attribute `index`:"
   ]
  },
  {
   "cell_type": "code",
   "execution_count": 11,
   "metadata": {},
   "outputs": [
    {
     "data": {
      "text/plain": [
       "DatetimeIndex(['2018-07-01', '2018-07-02', '2018-07-03', '2018-07-04',\n",
       "               '2018-07-05', '2018-07-06', '2018-07-07', '2018-07-08',\n",
       "               '2018-07-09', '2018-07-10', '2018-07-11', '2018-07-12',\n",
       "               '2018-07-13', '2018-07-14', '2018-07-15', '2018-07-16',\n",
       "               '2018-07-17', '2018-07-18', '2018-07-19', '2018-07-20',\n",
       "               '2018-07-21', '2018-07-22', '2018-07-23', '2018-07-24',\n",
       "               '2018-07-25', '2018-07-26', '2018-07-27', '2018-07-28',\n",
       "               '2018-07-29', '2018-07-30', '2018-07-31'],\n",
       "              dtype='datetime64[ns]', name='date', freq=None)"
      ]
     },
     "execution_count": 11,
     "metadata": {},
     "output_type": "execute_result"
    }
   ],
   "source": [
    "# View dataframe index\n",
    "boulder_july_2018.index"
   ]
  },
  {
   "cell_type": "markdown",
   "metadata": {},
   "source": [
    "## Plot Dates From Pandas Dataframe Using Datetime \n",
    "\n",
    "In **matplotlib**, there are slight differences in how bar and scatter plots read in data versus how line plots read in data.\n",
    "\n",
    "When plotting with `ax.bar()` and `ax.scatter()`, **numpy** is used to concatenate (a fancy word for combine) an array that has been created and passed in for the `x-axis` and/or `y-axis` data. However, **numpy** cannot concatenate the `datetime` object with other values. \n",
    "\n",
    "Thus, if you try to pass a `datetime` column or index directly to `ax.bar()` or `ax.scatter()`, you will receive an error. \n",
    "\n",
    "\n",
    "### Use Index Values Attribute to Plot Datetime\n",
    "\n",
    "To avoid this error, you can call the attribute `.values` on the `datetime` index using:\n",
    "\n",
    "`df.index.values`\n",
    "\n",
    "Notice that here you use `df.index` to access the datetime column because you have assigned your date column to be an index for the dataframe. \n",
    "\n",
    "Also, notice that the spacing on the x-axis looks better and that your x-axis date labels are easier to read, as **Python** knows how to only show incremental values using `datetime`, rather than plotting each and every date value. "
   ]
  },
  {
   "cell_type": "code",
   "execution_count": 12,
   "metadata": {
    "caption": "Scatter plot of precipitation with the x-axis dates formated as datetime."
   },
   "outputs": [
    {
     "data": {
      "image/png": "[encoded data removed]",
      "text/plain": [
       "<Figure size 720x720 with 1 Axes>"
      ]
     },
     "metadata": {},
     "output_type": "display_data"
    }
   ],
   "source": [
    "# Create figure and plot space\n",
    "fig, ax = plt.subplots(figsize=(10, 10))\n",
    "\n",
    "# Add x-axis and y-axis\n",
    "ax.scatter(boulder_july_2018.index.values,\n",
    "        boulder_july_2018['precip'],\n",
    "        color='purple')\n",
    "\n",
    "# Set title and labels for axes\n",
    "ax.set(xlabel=\"Date\",\n",
    "       ylabel=\"Precipitation (inches)\",\n",
    "       title=\"Daily Total Precipitation\\nBoulder, Colorado in July 2018\")\n",
    "\n",
    "plt.show()"
   ]
  },
  {
   "cell_type": "code",
   "execution_count": 13,
   "metadata": {
    "caption": "Bar plot showing daily precipitation with the x-axis dates as datetimes."
   },
   "outputs": [
    {
     "data": {
      "image/png": "[encoded data removed]",
      "text/plain": [
       "<Figure size 720x720 with 1 Axes>"
      ]
     },
     "metadata": {},
     "output_type": "display_data"
    }
   ],
   "source": [
    "# Create figure and plot space\n",
    "fig, ax = plt.subplots(figsize=(10, 10))\n",
    "\n",
    "# Add x-axis and y-axis\n",
    "ax.bar(boulder_july_2018.index.values,\n",
    "        boulder_july_2018['precip'],\n",
    "        color='purple')\n",
    "\n",
    "# Set title and labels for axes\n",
    "ax.set(xlabel=\"Date\",\n",
    "       ylabel=\"Precipitation (inches)\",\n",
    "       title=\"Daily Total Precipitation\\nBoulder, Colorado in July 2018\")\n",
    "\n",
    "# Rotate tick marks on x-axis\n",
    "plt.setp(ax.get_xticklabels(), rotation=45)\n",
    "\n",
    "plt.show()"
   ]
  },
  {
   "cell_type": "markdown",
   "metadata": {},
   "source": [
    "**Note:** you do not need to use `.values` when using an index that contains `float` values, rather than `datetime` objects, nor when creating a line graph using `ax.plot()`. \n",
    "\n",
    "However, for consistency of the code, the plot examples in this chapter will use `index.values` to create all plots using an index.\n",
    "\n",
    "On later pages of this chapter, you will learn how to customize the date labels even more, such as displaying only month and day values or specifying the spacing for the time interval (i.e. frequency). "
   ]
  },
  {
   "cell_type": "markdown",
   "metadata": {},
   "source": [
    "## Work With No Data Values in Pandas Dataframe\n",
    "\n",
    "As mentioned previously, you likely noticed that there are many negative values in this dataset, which are actually \"no data\" values. \n",
    "\n",
    "Sometimes data are missing from a file due to errors in collection, inability to record a data point, or other reasons. For example, imagine a spreadsheet with cells that are blank. If the cells are blank, you don't know for sure whether those data weren't collected, or whether someone forgot to fill them in. \n",
    "\n",
    "To account for data that are missing (not by mistake), you can put a value into those cells that represents \"no data\" to make it clear that these data are not usable for analysis or plotting.\n",
    "\n",
    "Often, you'll find a dataset that uses a specific value for \"no data\". In many scientific disciplines, the value `-999` is often used to indicate \"no data\" values. \n",
    "\n",
    "In the example on this page, the data in `july-2018-temperature-precip.csv` contains \"no data\" values in the `precip` column using the value `-999`. \n",
    "\n",
    "If you do not specify that the value `-999` is the \"no data\" value, the values will be imported as real data, which will impact any statistics, calculations, and plots using the data.\n",
    "\n",
    "For example, explore the data using `describe()` to see the impact of reading in those `-999` values as true values. "
   ]
  },
  {
   "cell_type": "code",
   "execution_count": 14,
   "metadata": {},
   "outputs": [
    {
     "data": {
      "text/html": [
       "<div>\n",
       "<style scoped>\n",
       "    .dataframe tbody tr th:only-of-type {\n",
       "        vertical-align: middle;\n",
       "    }\n",
       "\n",
       "    .dataframe tbody tr th {\n",
       "        vertical-align: top;\n",
       "    }\n",
       "\n",
       "    .dataframe thead th {\n",
       "        text-align: right;\n",
       "    }\n",
       "</style>\n",
       "<table border=\"1\" class=\"dataframe\">\n",
       "  <thead>\n",
       "    <tr style=\"text-align: right;\">\n",
       "      <th></th>\n",
       "      <th>max_temp</th>\n",
       "      <th>precip</th>\n",
       "    </tr>\n",
       "  </thead>\n",
       "  <tbody>\n",
       "    <tr>\n",
       "      <th>count</th>\n",
       "      <td>31.000000</td>\n",
       "      <td>31.000000</td>\n",
       "    </tr>\n",
       "    <tr>\n",
       "      <th>mean</th>\n",
       "      <td>88.129032</td>\n",
       "      <td>-96.618065</td>\n",
       "    </tr>\n",
       "    <tr>\n",
       "      <th>std</th>\n",
       "      <td>6.626925</td>\n",
       "      <td>300.256388</td>\n",
       "    </tr>\n",
       "    <tr>\n",
       "      <th>min</th>\n",
       "      <td>75.000000</td>\n",
       "      <td>-999.000000</td>\n",
       "    </tr>\n",
       "    <tr>\n",
       "      <th>25%</th>\n",
       "      <td>84.000000</td>\n",
       "      <td>0.000000</td>\n",
       "    </tr>\n",
       "    <tr>\n",
       "      <th>50%</th>\n",
       "      <td>88.000000</td>\n",
       "      <td>0.000000</td>\n",
       "    </tr>\n",
       "    <tr>\n",
       "      <th>75%</th>\n",
       "      <td>94.000000</td>\n",
       "      <td>0.050000</td>\n",
       "    </tr>\n",
       "    <tr>\n",
       "      <th>max</th>\n",
       "      <td>97.000000</td>\n",
       "      <td>0.450000</td>\n",
       "    </tr>\n",
       "  </tbody>\n",
       "</table>\n",
       "</div>"
      ],
      "text/plain": [
       "        max_temp      precip\n",
       "count  31.000000   31.000000\n",
       "mean   88.129032  -96.618065\n",
       "std     6.626925  300.256388\n",
       "min    75.000000 -999.000000\n",
       "25%    84.000000    0.000000\n",
       "50%    88.000000    0.000000\n",
       "75%    94.000000    0.050000\n",
       "max    97.000000    0.450000"
      ]
     },
     "execution_count": 14,
     "metadata": {},
     "output_type": "execute_result"
    }
   ],
   "source": [
    "# Both min and mean are affected by these negative, no data values\n",
    "boulder_july_2018.describe()"
   ]
  },
  {
   "cell_type": "markdown",
   "metadata": {},
   "source": [
    "The `-999` values were imported as numeric values into the **pandas** dataframe when it was created, and thus, these values are included in the summary statistics. \n",
    "\n",
    "To ensure \"no data\" values are properly ignored in your summary statistics, you can specify a \"no data\" value during the import, so that those values are not read as true numeric values using the parameter `na_values` as follows: \n",
    "\n",
    "`na_values = value`\n",
    "\n",
    "For example: \n",
    "\n",
    "`na_values = -999`\n",
    "\n",
    "This will tell **pandas** to treat all values of `-999` as no data, and thus, not to include them in the analysis or on a plot. \n",
    "\n",
    "Now that you know how to handle \"no data\" values, recreate the dataframe once more by including a value for the parameter `na_values`. "
   ]
  },
  {
   "cell_type": "code",
   "execution_count": 15,
   "metadata": {},
   "outputs": [
    {
     "data": {
      "text/html": [
       "<div>\n",
       "<style scoped>\n",
       "    .dataframe tbody tr th:only-of-type {\n",
       "        vertical-align: middle;\n",
       "    }\n",
       "\n",
       "    .dataframe tbody tr th {\n",
       "        vertical-align: top;\n",
       "    }\n",
       "\n",
       "    .dataframe thead th {\n",
       "        text-align: right;\n",
       "    }\n",
       "</style>\n",
       "<table border=\"1\" class=\"dataframe\">\n",
       "  <thead>\n",
       "    <tr style=\"text-align: right;\">\n",
       "      <th></th>\n",
       "      <th>max_temp</th>\n",
       "      <th>precip</th>\n",
       "    </tr>\n",
       "    <tr>\n",
       "      <th>date</th>\n",
       "      <th></th>\n",
       "      <th></th>\n",
       "    </tr>\n",
       "  </thead>\n",
       "  <tbody>\n",
       "    <tr>\n",
       "      <th>2018-07-01</th>\n",
       "      <td>87</td>\n",
       "      <td>0.00</td>\n",
       "    </tr>\n",
       "    <tr>\n",
       "      <th>2018-07-02</th>\n",
       "      <td>92</td>\n",
       "      <td>0.00</td>\n",
       "    </tr>\n",
       "    <tr>\n",
       "      <th>2018-07-03</th>\n",
       "      <td>90</td>\n",
       "      <td>NaN</td>\n",
       "    </tr>\n",
       "    <tr>\n",
       "      <th>2018-07-04</th>\n",
       "      <td>87</td>\n",
       "      <td>0.00</td>\n",
       "    </tr>\n",
       "    <tr>\n",
       "      <th>2018-07-05</th>\n",
       "      <td>84</td>\n",
       "      <td>0.24</td>\n",
       "    </tr>\n",
       "  </tbody>\n",
       "</table>\n",
       "</div>"
      ],
      "text/plain": [
       "            max_temp  precip\n",
       "date                        \n",
       "2018-07-01        87    0.00\n",
       "2018-07-02        92    0.00\n",
       "2018-07-03        90     NaN\n",
       "2018-07-04        87    0.00\n",
       "2018-07-05        84    0.24"
      ]
     },
     "execution_count": 15,
     "metadata": {},
     "output_type": "execute_result"
    }
   ],
   "source": [
    "# Import data using datetime and no data value\n",
    "boulder_july_2018 = pd.read_csv(file_path,\n",
    "                                parse_dates=['date'],\n",
    "                                index_col=['date'],\n",
    "                                na_values=[-999])\n",
    "\n",
    "boulder_july_2018.head()"
   ]
  },
  {
   "cell_type": "markdown",
   "metadata": {},
   "source": [
    "Notice that the `-999` value for `precip` on July 3rd has been replaced with `NaN` to indicate a \"no data\" value. \n",
    "\n",
    "Now have a look at the summary statistics."
   ]
  },
  {
   "cell_type": "code",
   "execution_count": 16,
   "metadata": {},
   "outputs": [
    {
     "data": {
      "text/html": [
       "<div>\n",
       "<style scoped>\n",
       "    .dataframe tbody tr th:only-of-type {\n",
       "        vertical-align: middle;\n",
       "    }\n",
       "\n",
       "    .dataframe tbody tr th {\n",
       "        vertical-align: top;\n",
       "    }\n",
       "\n",
       "    .dataframe thead th {\n",
       "        text-align: right;\n",
       "    }\n",
       "</style>\n",
       "<table border=\"1\" class=\"dataframe\">\n",
       "  <thead>\n",
       "    <tr style=\"text-align: right;\">\n",
       "      <th></th>\n",
       "      <th>max_temp</th>\n",
       "      <th>precip</th>\n",
       "    </tr>\n",
       "  </thead>\n",
       "  <tbody>\n",
       "    <tr>\n",
       "      <th>count</th>\n",
       "      <td>31.000000</td>\n",
       "      <td>28.000000</td>\n",
       "    </tr>\n",
       "    <tr>\n",
       "      <th>mean</th>\n",
       "      <td>88.129032</td>\n",
       "      <td>0.065714</td>\n",
       "    </tr>\n",
       "    <tr>\n",
       "      <th>std</th>\n",
       "      <td>6.626925</td>\n",
       "      <td>0.120936</td>\n",
       "    </tr>\n",
       "    <tr>\n",
       "      <th>min</th>\n",
       "      <td>75.000000</td>\n",
       "      <td>0.000000</td>\n",
       "    </tr>\n",
       "    <tr>\n",
       "      <th>25%</th>\n",
       "      <td>84.000000</td>\n",
       "      <td>0.000000</td>\n",
       "    </tr>\n",
       "    <tr>\n",
       "      <th>50%</th>\n",
       "      <td>88.000000</td>\n",
       "      <td>0.000000</td>\n",
       "    </tr>\n",
       "    <tr>\n",
       "      <th>75%</th>\n",
       "      <td>94.000000</td>\n",
       "      <td>0.055000</td>\n",
       "    </tr>\n",
       "    <tr>\n",
       "      <th>max</th>\n",
       "      <td>97.000000</td>\n",
       "      <td>0.450000</td>\n",
       "    </tr>\n",
       "  </tbody>\n",
       "</table>\n",
       "</div>"
      ],
      "text/plain": [
       "        max_temp     precip\n",
       "count  31.000000  28.000000\n",
       "mean   88.129032   0.065714\n",
       "std     6.626925   0.120936\n",
       "min    75.000000   0.000000\n",
       "25%    84.000000   0.000000\n",
       "50%    88.000000   0.000000\n",
       "75%    94.000000   0.055000\n",
       "max    97.000000   0.450000"
      ]
     },
     "execution_count": 16,
     "metadata": {},
     "output_type": "execute_result"
    }
   ],
   "source": [
    "# Both min and mean now accurately reflect the true data\n",
    "boulder_july_2018.describe()"
   ]
  },
  {
   "cell_type": "markdown",
   "metadata": {},
   "source": [
    "Finally, plot the data one last time to see that the negative values `-999` are no longer on the plot."
   ]
  },
  {
   "cell_type": "code",
   "execution_count": 17,
   "metadata": {
    "caption": "Scatter plot showing daily precipitation with the x-axis dates cleaned up and the no-data values removed."
   },
   "outputs": [
    {
     "data": {
      "image/png": "[encoded data removed]",
      "text/plain": [
       "<Figure size 720x720 with 1 Axes>"
      ]
     },
     "metadata": {},
     "output_type": "display_data"
    }
   ],
   "source": [
    "# Create figure and plot space\n",
    "fig, ax = plt.subplots(figsize=(10, 10))\n",
    "\n",
    "# Add x-axis and y-axis\n",
    "ax.scatter(boulder_july_2018.index.values,\n",
    "        boulder_july_2018['precip'],\n",
    "        color='purple')\n",
    "\n",
    "# Set title and labels for axes\n",
    "ax.set(xlabel=\"Date\",\n",
    "       ylabel=\"Precipitation (inches)\",\n",
    "       title=\"Daily Total Precipitation\\nBoulder, Colorado in July 2018\")\n",
    "\n",
    "plt.show()"
   ]
  },
  {
   "cell_type": "markdown",
   "metadata": {},
   "source": [
    "By using the `na_values` parameter, you told **Python** to ignore those \"no data\" values (which are now labeled as `NaN`) when it performs calculations on the data and when it plots the data. \n",
    "\n",
    "**Note**: if there are multiple types of missing values in your dataset, you can add multiple values in the `na_values` parameter as follows:\n",
    "\n",
    "`na_values=['NA', ' ', -999])`\n",
    "\n",
    "which would specify that the \"no data\" values are \"NA\" as a string, an empty space as a string, or the numeric value `-999`. \n",
    "\n",
    "You now know how to import dates into **pandas** dataframes using the `datetime` object in **Python** and how to deal with no data values. \n",
    "\n",
    "On the next pages of this chapter, you will learn more about working with `datetime` in **Python** to temporally subset and resample data as well as customize your plots even more."
   ]
  }
 ],
 "metadata": {
  "anaconda-cloud": {},
  "celltoolbar": "Edit Metadata",
  "kernelspec": {
   "display_name": "Python 3",
   "language": "python",
   "name": "python3"
  },
  "language_info": {
   "codemirror_mode": {
    "name": "ipython",
    "version": 3
   },
   "file_extension": ".py",
   "mimetype": "text/x-python",
   "name": "python",
   "nbconvert_exporter": "python",
   "pygments_lexer": "ipython3",
   "version": "3.7.6"
  },
  "toc": {
   "base_numbering": 1,
   "nav_menu": {},
   "number_sections": true,
   "sideBar": true,
   "skip_h1_title": false,
   "title_cell": "Table of Contents",
   "title_sidebar": "Contents",
   "toc_cell": false,
   "toc_position": {},
   "toc_section_display": true,
   "toc_window_display": false
  },
  "varInspector": {
   "cols": {
    "lenName": 16,
    "lenType": 16,
    "lenVar": 40
   },
   "kernels_config": {
    "python": {
     "delete_cmd_postfix": "",
     "delete_cmd_prefix": "del ",
     "library": "var_list.py",
     "varRefreshCmd": "print(var_dic_list())"
    },
    "r": {
     "delete_cmd_postfix": ") ",
     "delete_cmd_prefix": "rm(",
     "library": "var_list.r",
     "varRefreshCmd": "cat(var_dic_list()) "
    }
   },
   "types_to_exclude": [
    "module",
    "function",
    "builtin_function_or_method",
    "instance",
    "_Feature"
   ],
   "window_display": false
  }
 },
 "nbformat": 4,
 "nbformat_minor": 2
}
