{
 "cells": [
  {
   "cell_type": "raw",
   "metadata": {},
   "source": [
    "---\n",
    "layout: single\n",
    "title: \"Understand EPSG, WKT and Other CRS Definition Styles\"\n",
    "excerpt: \"Coordinate Reference System (CRS) information is often stored in three key formats, including proj.4, EPSG and WKT. Learn more about the ways that coordinate reference system data are stored including proj4, well known text (wkt) and EPSG codes.\"\n",
    "authors: ['Leah Wasser']\n",
    "dateCreated: 2018-02-05\n",
    "modified: '{:%Y-%m-%d}'.format(datetime.now())\n",
    "category: [courses]\n",
    "class-lesson: ['intro-vector-python-tb']\n",
    "permalink: /courses/use-data-open-source-python/intro-vector-data-python/spatial-data-vector-shapefiles/epsg-proj4-coordinate-reference-system-formats-python/\n",
    "nav-title: 'CRS: epsg vs proj.4'\n",
    "course: 'intermediate-earth-data-science-textbook'\n",
    "week: 2\n",
    "sidebar:\n",
    "  nav:\n",
    "author_profile: false\n",
    "comments: true\n",
    "order: 4\n",
    "topics:\n",
    "  spatial-data-and-gis: ['coordinate-reference-systems']\n",
    "redirect_from:\n",
    "  - \"/courses/earth-analytics-python/spatial-data-vector-shapefiles/epsg-proj4-coordinate-reference-system-formats-python/\"\n",
    "---\n"
   ]
  },
  {
   "cell_type": "markdown",
   "metadata": {},
   "source": [
    "{% include toc title=\"On This Page\" icon=\"file-text\" %}\n",
    "\n",
    "<div class='notice--success' markdown=\"1\">\n",
    "\n",
    "## <i class=\"fa fa-graduation-cap\" aria-hidden=\"true\"></i> Learning Objectives\n",
    "\n",
    "* Identify the `proj4` vs `EPSG` vs `WKT` crs format when presented with all three formats.\n",
    "* Look up a `CRS` definition in `proj4`, `EPSG` or `WKT` formats using spatialreference.org.\n",
    "\n",
    "</div>\n",
    "\n",
    "On the previous pages, you learned what a coordinate reference system (CRS) is, the\n",
    "components of a coordinate reference system and the general differences between\n",
    "projected and geographic coordinate reference systems. On this page, you will\n",
    "cover the different ways that `CRS` information is stored.\n",
    "\n",
    "### Coordinate Reference System Formats\n",
    "\n",
    "There are numerous formats that are used to document a `CRS`. Three common\n",
    "formats include:\n",
    "\n",
    "* **proj.4**\n",
    "* **EPSG**\n",
    "* Well-known Text (**WKT**)\n",
    "formats.\n",
    "\n",
    "Often you have CRS information in one format and you need to translate that CRS into a different format to use in a tool like `Python`. Thus it is good to be familiar with some of the key formats that you are likely to encounter. \n",
    "\n",
    "One of the most powerful websites to look up CRS strings is <a href=\"http://spatialreference.org/\" target=\"_blank\">Spatialreference.org</a>. You can use the search on the site to find an EPSG code. Once you find the page associated with your CRS of interest you can then look at all of the various formats associated with that CRS:\n",
    "<a href=\"http://spatialreference.org/ref/epsg/4326/\" target=\"_blank\">EPSG 4326 - WGS84 geographic</a>\n",
    "\n",
    "#### PROJ or PROJ.4 strings\n",
    "\n",
    "`PROJ.4` strings are a compact way to identify a spatial or coordinate reference\n",
    "system. `PROJ.4` strings are one of the formats that Geopandas can accept. However, note that many libraries \n",
    "are moving towards the more concise EPSG format.\n",
    "\n",
    "Using the `PROJ.4` syntax, you specify the complete set of parameters including\n",
    "the ellipse, datum, projection units and projection definition that define a particular `CRS`.\n",
    "\n",
    "#### Break down the proj.4 format\n",
    "\n",
    "Below is an example of a `proj.4` string:\n",
    "\n",
    "`+proj=utm +zone=11 +datum=WGS84 +units=m +no_defs +ellps=WGS84\n",
    "+towgs84=0,0,0`\n",
    "\n",
    "Notice that the `crs` information is structured using a string of\n",
    "characters and numbers that are combined using `+` signs. The `CRS` for your data are in the `proj4` format. The string contains all of the individual\n",
    "`CRS` elements that `Python` or another `GIS` might need. Each element is specified\n",
    "with a `+` sign, similar to how a `.csv` file is delimited or broken up by\n",
    "a `,`. After each `+` we see the `CRS` element being defined. For example\n",
    "`+proj=` and `+datum=`.\n",
    "\n",
    "You can break down the `proj4` string into its individual components (again, separated by + signs) as follows:\n",
    "\n",
    "* **+proj=utm:** the projection is UTM, UTM has several zones.\n",
    "* **+zone=11:** the zone is 11 which is a zone on the west coast, USA.\n",
    "* **datum=WGS84:** the datum WGS84 (the datum refers to the 0,0 reference for\n",
    "the coordinate system used in the projection)\n",
    "* **+units=m:** the units for the coordinates are in METERS.\n",
    "* **+ellps=WGS84:** the ellipsoid (how the earth's roundness is calculated) for\n",
    "the data is `WGS84`\n",
    "\n",
    "Note that the `zone` is unique to the UTM projection. Not all `CRS` will have a\n",
    "zone.\n",
    "\n",
    "Also note that while California is above the equator - in the northern hemisphere - there is no N (specifying north) following the zone (i.e. 11N)\n",
    "South is explicitly specified in the UTM proj4 specification however\n",
    "if there is no S, then you can assume it's a northern projection.\n",
    "\n",
    "\n",
    "### Geographic (lat / long) Proj.4 String\n",
    "\n",
    "Next, look at another CRS definition.\n",
    "\n",
    "`+proj=longlat +datum=WGS84 +no_defs +ellps=WGS84 +towgs84=0,0,0`\n",
    "\n",
    "This is a lat/long or geographic projection. The components of the\n",
    "`proj4` string are broken down below.\n",
    "\n",
    "* **+proj=longlat:** the data are in a geographic (latitude and longitude)\n",
    "coordinate system\n",
    "* **datum=WGS84:** the datum WGS84 (the datum refers to the  0,0 reference for\n",
    "the coordinate system used in the projection)\n",
    "* **+ellps=WGS84:** the ellipsoid (how the earth's roundness is calculated)\n",
    "is WGS84\n",
    "\n",
    "Note that there are no specified units above. This is because this geographic\n",
    "coordinate reference system is in latitude and longitude which is most\n",
    "often recorded in *Decimal Degrees*.\n",
    "\n",
    "<i class=\"fa fa-star\"></i> **Data Tip:** the last portion of each `proj4` string\n",
    "is `+towgs84=0,0,0 `. This is a conversion factor that is used if a `datum`\n",
    "conversion is required.\n",
    "{: .notice--warning }\n",
    "\n",
    "### EPSG codes\n",
    "The `EPSG` codes are 4-5 digit numbers that represent CRSs definitions. The\n",
    "acronym `EPSG`, comes from the, now defunct, European Petroleum Survey Group. Each\n",
    "code is a four-five digit number which represents a particular `CRS` definition.\n",
    "\n",
    "<a href=\"http://spatialreference.org/ref/epsg/\" target=\"_blank\" class=\"btn\">Explore ESPG codes on spatialreference.org\n",
    ".</a>\n",
    "\n",
    "Import the worldBoundary layer that you've been working with in this module to \n",
    "explore the `CRS`."
   ]
  },
  {
   "cell_type": "code",
   "execution_count": 1,
   "metadata": {},
   "outputs": [],
   "source": [
    "import os\n",
    "import numpy as np\n",
    "import matplotlib.pyplot as plt\n",
    "import pandas as pd\n",
    "import geopandas as gpd\n",
    "from shapely.geometry import Point\n",
    "import earthpy as et\n",
    "\n",
    "# Set working dir & get data\n",
    "data = et.data.get_data('spatial-vector-lidar')\n",
    "os.chdir(os.path.join(et.io.HOME, 'earth-analytics'))"
   ]
  },
  {
   "cell_type": "code",
   "execution_count": 2,
   "metadata": {},
   "outputs": [
    {
     "data": {
      "text/plain": [
       "{'init': 'epsg:4326'}"
      ]
     },
     "execution_count": 2,
     "metadata": {},
     "output_type": "execute_result"
    }
   ],
   "source": [
    "# Import world boundary shapefile\n",
    "worldBound_path = os.path.join(\"data\", \"spatial-vector-lidar\", \"global\", \n",
    "                               \"ne_110m_land\", \"ne_110m_land.shp\")\n",
    "worldBound = gpd.read_file(worldBound_path)\n",
    "\n",
    "worldBound.crs"
   ]
  },
  {
   "cell_type": "markdown",
   "metadata": {},
   "source": [
    "Notice that the CRS returned above, consists of two parts:\n",
    "\n",
    "1. 'init' which tells python that a CRS definition (ie EPSG code) will be provided and\n",
    "2. the epsg code itself epsg: 4326\n",
    "\n",
    "###  How to Create a CRS Object in Python  \n",
    "\n",
    "You often need to define the CRS for a spatial object. For example in the previous lessons, you created new spatial point layers, and had to define the CRS that the point x,y locations were in.\n",
    "\n",
    "To do this you completed the following steps:\n",
    "\n",
    "1. You manually created an array for a single point (x,y).\n",
    "2. You turned that x,y point into a shapely points object\n",
    "3. Finally convert that point object to a pandas GeoDataFrame "
   ]
  },
  {
   "cell_type": "code",
   "execution_count": 3,
   "metadata": {
    "tags": [
     "hide"
    ]
   },
   "outputs": [],
   "source": [
    "# no need to do this extra step - leaving this for now but i pulled this from the cell below as it's redundant.\n",
    "#boulder_loc = pd.DataFrame(geom, columns=['geometry'])"
   ]
  },
  {
   "cell_type": "code",
   "execution_count": 4,
   "metadata": {},
   "outputs": [
    {
     "data": {
      "text/plain": [
       "{'init': 'epsg:2957'}"
      ]
     },
     "execution_count": 4,
     "metadata": {},
     "output_type": "execute_result"
    }
   ],
   "source": [
    "# Create a numpy array with x,y location of Boulder\n",
    "boulder_xy = np.array([[476911.31, 4429455.35]])\n",
    "\n",
    "# Create shapely point object\n",
    "boulder_xy_pt = [Point(xy) for xy in boulder_xy]\n",
    "\n",
    "# Convert to spatial dataframe - geodataframe -- assign the CRS using epsg code\n",
    "boulder_loc = gpd.GeoDataFrame(boulder_xy_pt,\n",
    "                               columns=['geometry'],\n",
    "                               crs={'init': 'epsg:2957'})\n",
    "\n",
    "# View crs of new spatial points object\n",
    "boulder_loc.crs"
   ]
  },
  {
   "cell_type": "markdown",
   "metadata": {},
   "source": [
    "#### `WKT` or Well-known Text\n",
    "\n",
    "It's useful to recognize this format given many tools - including ESRI's ArcMap and ENVI use this format. Well-known Text (`WKT`) is a for compact machine- and human-readable representation of geometric objects. It defines elements of coordinate reference system (`CRS`) definitions using a combination of brackets `[]` and elements separated by\n",
    "commas (`,`).\n",
    "\n",
    "Here is an example of `WKT` for `WGS84` geographic:\n",
    "\n",
    "`GEOGCS[\"GCS_WGS_1984\",DATUM[\"D_WGS_1984\",SPHEROID[\"WGS_1984\",6378137,298.257223563]],PRIMEM[\"Greenwich\",0],UNIT[\"Degree\",0.017453292519943295]]\n",
    "`\n",
    "\n",
    "Notice here that the elements are described explicitly using all caps - for example:\n",
    "\n",
    "* UNIT\n",
    "* DATUM\n",
    "\n",
    "Sometimes WKT structured CRS information are embedded in a metadata file - similar to the structure seen below:\n",
    "\n",
    "```xml\n",
    "\n",
    "GEOGCS[\"WGS 84\",\n",
    "    DATUM[\"WGS_1984\",\n",
    "        SPHEROID[\"WGS 84\",6378137,298.257223563,\n",
    "            AUTHORITY[\"EPSG\",\"7030\"]],\n",
    "        AUTHORITY[\"EPSG\",\"6326\"]],\n",
    "    PRIMEM[\"Greenwich\",0,\n",
    "        AUTHORITY[\"EPSG\",\"8901\"]],\n",
    "    UNIT[\"degree\",0.01745329251994328,\n",
    "        AUTHORITY[\"EPSG\",\"9122\"]],\n",
    "    AUTHORITY[\"EPSG\",\"4326\"]]\n",
    "\n",
    "```\n",
    "\n",
    "\n",
    "## How to Look Up a `CRS`\n",
    "\n",
    "The most powerful website to look-up `CRS` information is the\n",
    "<a href=\"http://spatialreference.org\" target=\"_blank\">spatial reference.org website</a>.\n",
    "This website has a useful search function that allows you to search\n",
    "for strings such as:\n",
    "\n",
    "* `UTM 11N` or\n",
    "* `WGS84`\n",
    "\n",
    "Once you find the `CRS` that you are looking for, you can explore definitions of\n",
    "the `CRS` using various formats including `proj4`, `epsg`, `WKT` and others.\n",
    "\n",
    "<div class=\"notice--info\" markdown=\"1\">\n",
    "\n",
    "## Additional Resources\n",
    "\n",
    "* <a href=\"http://docs.opengeospatial.org/is/12-063r5/12-063r5.html#43\" target=\"_blank\">Explore the WKT standard: Open Geospatial Consortium WKT document. </a>\n",
    "\n",
    "* Read more about <a href=\"https://web.archive.org/web/20130211101051/https://www.nceas.ucsb.edu/scicomp/recipes/projections\" target=\"_blank\">all three formats from the National Center for Ecological Analysis and Synthesis.</a>\n",
    "* A handy four page overview of CRS <a href=\"https://web.archive.org/web/20200225021219/https://www.nceas.ucsb.edu/~frazier/RSpatialGuides/OverviewCoordinateReferenceSystems.pdf\" target=\"_blank\">including file formats on page 1.</a>\n",
    "\n",
    "* <a href=\"https://www.epsg-registry.org/\" target=\"_blank\">The EPSG Registry. </a>\n",
    "* <a href=\"http://spatialreference.org/\" target=\"_blank\">Spatialreference.org</a>\n",
    "* <a href=\"http://spatialreference.org/ref/epsg/\" target=\"_blank\">List of ESPG Codes.</a>\n",
    "\n",
    "</div>"
   ]
  },
  {
   "cell_type": "markdown",
   "metadata": {},
   "source": [
    "<div class=\"notice--warning\" markdown=\"1\">\n",
    "\n",
    "## <i class=\"fa fa-pencil-square-o\" aria-hidden=\"true\"></i> Practice Your GeoPandas Dataframes Skills: Import Line & Polygon Shapefiles\n",
    "\n",
    "Import the `data/week5/california/madera-county-roads/tl_2013_06039_roads`\n",
    "and `data/week5/california/SJER/vector_data/SJER_crop.shp` shapefiles into `Python`. \n",
    "\n",
    "Call the roads object `sjer_roads` and the crop layer `sjer_crop_extent`.\n",
    "\n",
    "Answer the following questions:\n",
    "\n",
    "1. What type of `Python` spatial object is created when you import each layer?\n",
    "2. What is the `CRS` and `extent` for each object?\n",
    "3. Do the files contain, points, lines or polygons?\n",
    "4. How many spatial objects are in each file?\n",
    "\n",
    "</div>\n"
   ]
  }
 ],
 "metadata": {
  "anaconda-cloud": {},
  "celltoolbar": "Tags",
  "kernelspec": {
   "display_name": "Python 3",
   "language": "python",
   "name": "python3"
  },
  "language_info": {
   "codemirror_mode": {
    "name": "ipython",
    "version": 3
   },
   "file_extension": ".py",
   "mimetype": "text/x-python",
   "name": "python",
   "nbconvert_exporter": "python",
   "pygments_lexer": "ipython3",
   "version": "3.7.6"
  },
  "varInspector": {
   "cols": {
    "lenName": 16,
    "lenType": 16,
    "lenVar": 40
   },
   "kernels_config": {
    "python": {
     "delete_cmd_postfix": "",
     "delete_cmd_prefix": "del ",
     "library": "var_list.py",
     "varRefreshCmd": "print(var_dic_list())"
    },
    "r": {
     "delete_cmd_postfix": ") ",
     "delete_cmd_prefix": "rm(",
     "library": "var_list.r",
     "varRefreshCmd": "cat(var_dic_list()) "
    }
   },
   "types_to_exclude": [
    "module",
    "function",
    "builtin_function_or_method",
    "instance",
    "_Feature"
   ],
   "window_display": false
  }
 },
 "nbformat": 4,
 "nbformat_minor": 2
}
