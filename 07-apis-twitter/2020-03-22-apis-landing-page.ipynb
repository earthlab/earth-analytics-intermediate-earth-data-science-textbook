{
 "cells": [
  {
   "cell_type": "raw",
   "metadata": {},
   "source": [
    "---\n",
    "layout: single\n",
    "category: courses\n",
    "title: \"Introduction to API Data Access in Open Source Python\"\n",
    "permalink: /courses/use-data-open-source-python/intro-to-apis/\n",
    "week-landing: 7\n",
    "modified: '{:%Y-%m-%d}'.format(datetime.now())\n",
    "week: 7\n",
    "sidebar:\n",
    "  nav:\n",
    "comments: false\n",
    "author_profile: false\n",
    "course: \"intermediate-earth-data-science-textbook\"\n",
    "module-type: 'session'\n",
    "---\n"
   ]
  },
  {
   "cell_type": "markdown",
   "metadata": {},
   "source": [
    "{% include toc title=\"Section Six\" icon=\"file-text\" %}\n",
    "\n",
    "<div class=\"notice--info\" markdown=\"1\">\n",
    "\n",
    "## <i class=\"fa fa-ship\" aria-hidden=\"true\"></i> Section Seven - API's and Natural Language Processing in Open Source Python\n",
    "\n",
    "In section seven of this textbook, you will learn about using API's to automate data \n",
    "access in open source python. You will also learn some basic natural language\n",
    "processing skills through working with twitter data - grabbed from the Twitter API.\n",
    "\n",
    "\n",
    "## <i class=\"fa fa-graduation-cap\" aria-hidden=\"true\"></i> Learning Objectives\n",
    "\n",
    "After completing this section of the textbook, you will be able to:\n",
    "\n",
    "* Explain what the JSON and GeoJSON data formats are\n",
    "* Access data programatically using Python\n",
    "* Use the Twitter API to access twitter data\n",
    "* Apply basic natural langauge processing techniques to twitter data\n",
    "\n",
    "## Materials to Review For This Week\n",
    "\n",
    "This week we will be reviewing API data access and using social media data for science.\n",
    "The chapters below cover these topics. \n",
    "\n",
    "* <a href=\"{{ site.url }}/courses/use-data-open-source-python/multispectral-remote-sensing/landsat-in-Python/remove-clouds-from-landsat-data/\">Clean Landsat Data - Apply Cloud Masks  in Python</a>\n",
    "* <a href=\"{{ site.url }}/courses/use-data-open-source-python/use-apis-natural-language-processing-twitter/intro-to-programmatic-data-access-python/\">Natural Language Processing and Twitter Data</a>. \n",
    "\n",
    "</div>"
   ]
  },
  {
   "cell_type": "markdown",
   "metadata": {},
   "source": [
    "{% include textbook-section-toc.html %}"
   ]
  }
 ],
 "metadata": {
  "kernelspec": {
   "display_name": "Python 3",
   "language": "python",
   "name": "python3"
  },
  "language_info": {
   "codemirror_mode": {
    "name": "ipython",
    "version": 3
   },
   "file_extension": ".py",
   "mimetype": "text/x-python",
   "name": "python",
   "nbconvert_exporter": "python",
   "pygments_lexer": "ipython3",
   "version": "3.7.6"
  },
  "toc": {
   "base_numbering": 1,
   "nav_menu": {},
   "number_sections": true,
   "sideBar": true,
   "skip_h1_title": false,
   "title_cell": "Table of Contents",
   "title_sidebar": "Contents",
   "toc_cell": false,
   "toc_position": {},
   "toc_section_display": true,
   "toc_window_display": false
  },
  "varInspector": {
   "cols": {
    "lenName": 16,
    "lenType": 16,
    "lenVar": 40
   },
   "kernels_config": {
    "python": {
     "delete_cmd_postfix": "",
     "delete_cmd_prefix": "del ",
     "library": "var_list.py",
     "varRefreshCmd": "print(var_dic_list())"
    },
    "r": {
     "delete_cmd_postfix": ") ",
     "delete_cmd_prefix": "rm(",
     "library": "var_list.r",
     "varRefreshCmd": "cat(var_dic_list()) "
    }
   },
   "types_to_exclude": [
    "module",
    "function",
    "builtin_function_or_method",
    "instance",
    "_Feature"
   ],
   "window_display": false
  }
 },
 "nbformat": 4,
 "nbformat_minor": 2
}
