{
 "cells": [
  {
   "cell_type": "raw",
   "metadata": {},
   "source": [
    "---\n",
    "layout: single\n",
    "title: \"Spatial Raster Metadata: CRS, Resolution, and Extent in Python\"\n",
    "excerpt: \"Raster metadata includes the coordinate reference system (CRS), resolution, and spatial extent. Learn about these metadata and how to access them in Python\"\n",
    "authors: ['Leah Wasser', 'Chris Holdgraf', 'Martha Morrissey']\n",
    "dateCreated: 2018-02-06\n",
    "modified: '{:%Y-%m-%d}'.format(datetime.now())\n",
    "category: [courses]\n",
    "class-lesson: ['intro-raster-python-tb']\n",
    "permalink: /courses/use-data-open-source-python/intro-raster-data-python/fundamentals-raster-data/raster-metadata-in-python/\n",
    "nav-title: 'Raster Metadata'\n",
    "week: 3\n",
    "course: 'intermediate-earth-data-science-textbook'\n",
    "sidebar:\n",
    "  nav:\n",
    "author_profile: false\n",
    "comments: false\n",
    "order: 4\n",
    "topics:\n",
    "  reproducible-science-and-programming: ['python']\n",
    "  remote-sensing: ['lidar']\n",
    "  earth-science: ['vegetation']\n",
    "  spatial-data-and-gis: ['raster-data']\n",
    "redirect_from:\n",
    "  - \"/courses/earth-analytics-python/lidar-raster-data/raster-metadata-in-python/\"\n",
    "---\n"
   ]
  },
  {
   "cell_type": "markdown",
   "metadata": {},
   "source": [
    "{% include toc title=\"On This Page\" icon=\"file-text\" %}\n",
    "\n",
    "<div class='notice--success' markdown=\"1\">\n",
    "\n",
    "## <i class=\"fa fa-graduation-cap\" aria-hidden=\"true\"></i> Learning Objectives\n",
    "\n",
    "* Be able to define 3 spatial attributes of a raster dataset: extent, coordinate reference system and resolution.\n",
    "* Access spatial metadata of a raster dataset in **Python**.\n",
    "\n",
    "</div>"
   ]
  },
  {
   "cell_type": "markdown",
   "metadata": {},
   "source": [
    "On this page, you will learn about three important spatial attributes associated with raster data that in this lesson: \n",
    "\n",
    "1. coordinate reference systems (CRS), \n",
    "2. resolution, and \n",
    "3. spatial extent. \n",
    "\n",
    "## 1. Coordinate Reference System\n",
    "\n",
    "The Coordinate Reference System or `CRS` of a spatial object tells `Python` where\n",
    "the raster is located in geographic space. It also tells `Python` what mathematical method should\n",
    "be used to “flatten” or project the raster in geographic space.\n",
    "\n",
    "<figure>\n",
    "    <a href=\"{{ site.url }}/images/earth-analytics/spatial-data/compare-mercator-utm-wgs-projections.jpg\">\n",
    "    <img src=\"{{ site.url }}/images/earth-analytics/spatial-data/compare-mercator-utm-wgs-projections.jpg\" alt=\"Maps of the United States in different projections. Notice the\n",
    "    differences in shape associated with each different projection. These\n",
    "    differences are a direct result of the calculations used to 'flatten' the\n",
    "    data onto a 2-dimensional map. Source: M. Corey, opennews.org\">\n",
    "    </a>\n",
    "    <figcaption> Maps of the United States in different projections. Notice the\n",
    "    differences in shape associated with each different projection. These\n",
    "    differences are a direct result of the calculations used to \"flatten\" the\n",
    "    data onto a 2-dimensional map. Source: M. Corey, opennews.org</figcaption>\n",
    "</figure>\n",
    "\n",
    "### What Makes Spatial Data Line Up On A Map?\n",
    "\n",
    "You will discuss Coordinate Reference systems in more detail in next weeks class.\n",
    "For this week, just remember that data from the same location\n",
    "but saved in **different coordinate references systems will not line up in any GIS or other\n",
    "program**. \n",
    "\n",
    "Thus, it's important when working with spatial data in a program like\n",
    "`Python` to identify the coordinate reference system applied to the data and retain\n",
    "it throughout data processing and analysis.\n",
    "\n",
    "### View Raster Coordinate Reference System (CRS) in Python\n",
    "\n",
    "You can view the `CRS` string associated with your `Python` object using the`crs()`\n",
    "method. "
   ]
  },
  {
   "cell_type": "code",
   "execution_count": 3,
   "metadata": {},
   "outputs": [],
   "source": [
    "# Import necessary packages\n",
    "import os\n",
    "\n",
    "import matplotlib.pyplot as plt\n",
    "import rioxarray as rxr\n",
    "import earthpy as et\n",
    "\n",
    "# Get data and set working directory\n",
    "et.data.get_data(\"colorado-flood\")\n",
    "os.chdir(os.path.join(et.io.HOME,\n",
    "                      'earth-analytics',\n",
    "                      'data'))"
   ]
  },
  {
   "cell_type": "markdown",
   "metadata": {},
   "source": [
    "You can explore the metadata of a raster object using `rioxarray`.\n",
    "To begin, open up your data and view the CRS."
   ]
  },
  {
   "cell_type": "code",
   "execution_count": 4,
   "metadata": {},
   "outputs": [
    {
     "name": "stdout",
     "output_type": "stream",
     "text": [
      "The CRS of this data is: EPSG:32613\n"
     ]
    }
   ],
   "source": [
    "# Define relative path to file\n",
    "lidar_dem_path = os.path.join(\"colorado-flood\",\n",
    "                              \"spatial\",\n",
    "                              \"boulder-leehill-rd\",\n",
    "                              \"pre-flood\",\n",
    "                              \"lidar\",\n",
    "                              \"pre_DTM.tif\")\n",
    "\n",
    "# View crs of raster imported with rasterio\n",
    "lidar_dem = rxr.open_rasterio(lidar_dem_path, masked=True)\n",
    "print(\"The CRS of this data is:\", lidar_dem.rio.crs)"
   ]
  },
  {
   "cell_type": "markdown",
   "metadata": {},
   "source": [
    "You can assign this string to a **Python** object, too. The example below \n",
    "only shows the code example to set a crs for an object where it is missing \n",
    "and you know what the CRS should be. In this case your data\n",
    "already has a defined CRS so this step is not necessary."
   ]
  },
  {
   "cell_type": "code",
   "execution_count": 7,
   "metadata": {},
   "outputs": [],
   "source": [
    "a_crs = lidar_dem.rio.crs\n",
    "# Assign crs to myCRS object - this is just an example of how you would do that\n",
    "lidar_dem = lidar_dem.rio.set_crs(a_crs, inplace=True)"
   ]
  },
  {
   "cell_type": "markdown",
   "metadata": {},
   "source": [
    "The `CRS` EPSG code for your `lidar_dem` object  is 32613. \n",
    "Next, you can look that EPSG code up on the <a href=\"http://www.spatialreference.org/ref/epsg/32613/\" target=\"_blank\">spatial reference.org website</a> to figure out what CRS it refers to and the associated units. In this case you are using UTM zone 13 North.\n",
    "\n",
    "Digging deeper <a href=\"http://www.spatialreference.org/ref/epsg/32613/proj4/\" target=\"_blank\">you can view the proj 4 string </a> which tells us that the horizontal units of this project are in meters (`m`). \n",
    "\n",
    "<figure>\n",
    "    <a href=\"{{ site.url }}/images/earth-analytics/spatial-data/UTM-zones.png\">\n",
    "    <img src=\"{{ site.url }}/images/earth-analytics/spatial-data/UTM-zones.png\" alt=\"The UTM zones across the continental United States. Source:\n",
    "   \tChrismurf, wikimedia.org.\"></a>\n",
    "   \t<figcaption> The UTM zones across the continental United States. Source:\n",
    "   \tChrismurf, wikimedia.org.\n",
    "\t\t</figcaption>\n",
    "</figure>\n",
    "\n",
    "The CRS format, returned by python, is in a `EPSG` format. This means that the projection\n",
    "information is represented by a single number. However on the spatialreference.org website you can also view the proj4 string which will tell you a bit more about the horizontal units that the data are in. An overview of proj4 is below. \n",
    "\n",
    " `+proj=utm +zone=18 +datum=WGS84 +units=m +no_defs +ellps=WGS84 +towgs84=0,0,0`\n",
    " \n",
    "## Converting EPSG to Proj4 in Python\n",
    "\n",
    "A python package for this class called 'earthpy' contains a dictionary that will help you convert EPSG codes into a Proj4 string. This can be used with **rasterio** in order to determine the metadata for a given EPSG code. For example, if you wish to know the units of the EPSG code above, you can do the following:"
   ]
  },
  {
   "cell_type": "code",
   "execution_count": 8,
   "metadata": {},
   "outputs": [
    {
     "name": "stdout",
     "output_type": "stream",
     "text": [
      "['29188', '26733', '24600', '32189', '4899', '29189', '26734', '7402', '26951', '29190']\n"
     ]
    }
   ],
   "source": [
    "# Each key of the dictionary is an EPSG code\n",
    "print(list(et.epsg.keys())[:10])"
   ]
  },
  {
   "cell_type": "markdown",
   "metadata": {},
   "source": [
    "You can convert to proj4 using `earthpy`:"
   ]
  },
  {
   "cell_type": "code",
   "execution_count": 8,
   "metadata": {},
   "outputs": [
    {
     "name": "stdout",
     "output_type": "stream",
     "text": [
      "+proj=utm +zone=13 +datum=WGS84 +units=m +no_defs\n"
     ]
    }
   ],
   "source": [
    "# Convert to project string using earthpy\n",
    "proj4 = et.epsg['32613']\n",
    "print(proj4)"
   ]
  },
  {
   "cell_type": "markdown",
   "metadata": {},
   "source": [
    "You'll focus on the first few components of the CRS in this tutorial.\n",
    "\n",
    "* `+proj=utm` The projection of the dataset. Your data are in Universal\n",
    "Transverse Mercator (UTM).\n",
    "* `+zone=18` The UTM projection divides up the world into zones, this element\n",
    "tells you which zone the data is in. Harvard Forest is in Zone 18.\n",
    "* `+datum=WGS84` The datum was used to define the center point of the\n",
    "projection. Your raster uses the `WGS84` datum.\n",
    "* `+units=m` This is the **horizontal** units that the data are in. Your units\n",
    "are meters.\n",
    "\n",
    "\n",
    "<div class=\"notice--success\" markdown=\"1\">\n",
    "<i fa fa-star></i>**Important:**\n",
    "You are working with lidar data which has a Z or vertical value as well.\n",
    "While the horizontal units often match the vertical units of a raster they don't\n",
    "always! Be sure the check the metadata of your data to figure out the vertical\n",
    "units!\n",
    "</div>\n",
    "\n",
    "## Spatial Extent\n",
    "\n",
    "Next, you'll learn about spatial extent of your raster data. The spatial extent of a raster or spatial\n",
    "object is the geographic area that the raster data covers.\n",
    "<figure>\n",
    "    <a href=\"{{ site.baseurl}}/images/earth-analytics/raster-data/raster-spatial-extent-coordinates.png\">\n",
    "    <img src=\"{{ site.baseurl}}/images/earth-analytics/raster-data/raster-spatial-extent-coordinates.png\" alt=\"The spatial extent of vector data which you will learn next week.\n",
    "    Notice that the spatial extent represents the rectangular area that the data cover.\n",
    "    Thus, if the data are not rectangular (i.e. points OR an image that is rotated\n",
    "    in some way) the spatial extent covers portions of the dataset where there are no data.\n",
    "    Image Source: National Ecological Observatory Network (NEON).\">\n",
    "    </a>\n",
    "    <figcaption> The spatial extent of raster data.\n",
    "    Notice that the spatial extent represents the rectangular area that the data cover.\n",
    "    Thus, if the data are not rectangular (i.e. points OR an image that is rotated in some way)\n",
    "    the spatial extent covers portions of the dataset where there are no data.\n",
    "    Image Source: National Ecological Observatory Network (NEON).\n",
    "    </figcaption>\n",
    "</figure>\n",
    "\n",
    "\n",
    "<figure>\n",
    "    <a href=\"{{ site.baseurl}}/images/earth-analytics/spatial-data/spatial-extent.png\">\n",
    "    <img src=\"{{ site.baseurl}}/images/earth-analytics/spatial-data/spatial-extent.png\" alt=\"The spatial extent of vector data which you will learn next week.\n",
    "    Notice that the spatial extent represents the rectangular area that the data cover.\n",
    "    Thus, if the data are not rectangular (i.e. points OR an image that is rotated in some way)\n",
    "    the spatial extent covers portions of the dataset where there are no data.\n",
    "    Image Source: National Ecological Observatory Network (NEON)\">\n",
    "    </a>\n",
    "    <figcaption> The spatial extent of vector data which you will learn next week.\n",
    "    Notice that the spatial extent represents the rectangular area that the data cover.\n",
    "    Thus, if the data are not rectangular (i.e. points OR an image that is rotated in some way)\n",
    "    the spatial extent covers portions of the dataset where there are no data.\n",
    "    Image Source: National Ecological Observatory Network (NEON)\n",
    "    </figcaption>\n",
    "</figure>\n",
    "\n",
    "The spatial extent of an `Python` spatial object represents the geographic \"edge\" or\n",
    "location that is the furthest north, south, east and west. In other words, `extent`\n",
    "represents the overall geographic coverage of the spatial object.\n",
    "\n",
    "You can access the spatial extent using the `.bounds()` attribute in `rasterio`."
   ]
  },
  {
   "cell_type": "code",
   "execution_count": 13,
   "metadata": {},
   "outputs": [
    {
     "data": {
      "text/plain": [
       "(472000.0, 4434000.0, 476000.0, 4436000.0)"
      ]
     },
     "execution_count": 13,
     "metadata": {},
     "output_type": "execute_result"
    }
   ],
   "source": [
    "lidar_dem.rio.bounds()"
   ]
  },
  {
   "cell_type": "markdown",
   "metadata": {},
   "source": [
    "## Raster Resolution\n",
    "\n",
    "A raster has horizontal (x and y) resolution. This resolution represents the\n",
    "area on the ground that each pixel covers. The units for your data are in meters as determined by the CRS above.\n",
    "In this case, your data resolution is 1 x 1. This means that each pixel represents\n",
    "a 1 x 1 meter area on the ground. You can view the resolution of your data using the `.res` function."
   ]
  },
  {
   "cell_type": "code",
   "execution_count": 16,
   "metadata": {},
   "outputs": [
    {
     "data": {
      "text/plain": [
       "(1.0, -1.0)"
      ]
     },
     "execution_count": 16,
     "metadata": {},
     "output_type": "execute_result"
    }
   ],
   "source": [
    "# What is the x and y resolution for your raster data?\n",
    "lidar_dem.rio.resolution()"
   ]
  },
  {
   "cell_type": "markdown",
   "metadata": {},
   "source": [
    "Above you have learned about the basic spatial metadata attributes of raster data.\n",
    "In the following lesson you will learn more about the geotiff file format (`.tif`)\n",
    "which is the file format used to store the lidar terrain models used throughout \n",
    "this chapter. "
   ]
  }
 ],
 "metadata": {
  "anaconda-cloud": {},
  "celltoolbar": "Tags",
  "kernelspec": {
   "display_name": "Python 3",
   "language": "python",
   "name": "python3"
  },
  "language_info": {
   "codemirror_mode": {
    "name": "ipython",
    "version": 3
   },
   "file_extension": ".py",
   "mimetype": "text/x-python",
   "name": "python",
   "nbconvert_exporter": "python",
   "pygments_lexer": "ipython3",
   "version": "3.8.5"
  },
  "toc": {
   "base_numbering": 1,
   "nav_menu": {},
   "number_sections": true,
   "sideBar": true,
   "skip_h1_title": false,
   "title_cell": "Table of Contents",
   "title_sidebar": "Contents",
   "toc_cell": false,
   "toc_position": {},
   "toc_section_display": true,
   "toc_window_display": false
  },
  "varInspector": {
   "cols": {
    "lenName": 16,
    "lenType": 16,
    "lenVar": 40
   },
   "kernels_config": {
    "python": {
     "delete_cmd_postfix": "",
     "delete_cmd_prefix": "del ",
     "library": "var_list.py",
     "varRefreshCmd": "print(var_dic_list())"
    },
    "r": {
     "delete_cmd_postfix": ") ",
     "delete_cmd_prefix": "rm(",
     "library": "var_list.r",
     "varRefreshCmd": "cat(var_dic_list()) "
    }
   },
   "types_to_exclude": [
    "module",
    "function",
    "builtin_function_or_method",
    "instance",
    "_Feature"
   ],
   "window_display": false
  }
 },
 "nbformat": 4,
 "nbformat_minor": 2
}
