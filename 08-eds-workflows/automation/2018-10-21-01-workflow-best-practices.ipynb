{
 "cells": [
  {
   "cell_type": "raw",
   "metadata": {
    "hideCode": false,
    "hidePrompt": false
   },
   "source": [
    "---\n",
    "layout: single\n",
    "title: \"Data Workflow Best Practices - Things to Consider When Processing Data\"\n",
    "excerpt: \"Identifying aspects of a workflow that can be modularized and tested can help you design efficient and effective data workflows. Learn best practices for designing efficient data workflows.\"\n",
    "authors: ['Leah Wasser', 'Jenny Palomino', 'Max Joseph', 'Lauren Herwehe', 'Joe McGlinchy']\n",
    "dateCreated: 2018-10-21\n",
    "modified: '{:%Y-%m-%d}'.format(datetime.now())\n",
    "category: [courses]\n",
    "class-lesson: ['create-data-workflows-tb']\n",
    "permalink: /courses/use-data-open-source-python/earth-data-science-workflows/design-efficient-automated-data-workflows/efficient-workflow-best-practices/\n",
    "nav-title: 'Best Practices For Data Workflows'\n",
    "week: 8\n",
    "course: \"intermediate-earth-data-science-textbook\"\n",
    "estimated-time: \"1 hour\"\n",
    "difficulty: \"intermediate\"\n",
    "sidebar:\n",
    "  nav:\n",
    "author_profile: false\n",
    "comments: true\n",
    "order: 3\n",
    "topics:\n",
    "  reproducible-science-and-programming: ['python']\n",
    "redirect_from:\n",
    "  - \"/courses/earth-analytics-python/create-efficient-data-workflows/design-efficient-workflows/\"\n",
    "---\n"
   ]
  },
  {
   "cell_type": "markdown",
   "metadata": {},
   "source": [
    "{% include toc title=\"On This Page\" icon=\"file-text\" %}\n",
    "\n",
    "<div class='notice--success' markdown=\"1\">\n",
    "\n",
    "## <i class=\"fa fa-graduation-cap\" aria-hidden=\"true\"></i> Learning Objectives\n",
    "\n",
    "* List best practices for implementing data workflows.\n",
    "* Be able to identify aspects of a workflow that can be modularized (i.e. ideal for functions) and be tested.\n",
    "\n",
    "</div>"
   ]
  },
  {
   "cell_type": "markdown",
   "metadata": {},
   "source": [
    "## Data Workflow Best Practices \n",
    "\n",
    "In the previous lessons, you designed a workflow to process several sites worth of Landsat data, but of course, identifying the workflow is just beginning. \n",
    "\n",
    "For each of the steps you identified in your pseudocode, you need to flesh out how you can accomplish each task. \n",
    "\n",
    "Before you design your workflow in more detail, there are many things to keep in mind regarding how you will use and name files, how you will modularize code to reduce repetitive code, etc. \n",
    "\n",
    "Consider the data workflow best practices discussed below. \n",
    " \n",
    "\n",
    "## Do Not Modify the Raw Data\n",
    "\n",
    "Typically you do not want to modify the raw data, so that you can always reproduce your output from the same inputs. In some cases, this is less important, e.g., when you are not tasked with curating the raw data. For example you *could*  redownload the landsat data provided in this class. \n",
    "\n",
    "In other cases, this is extremely important - you wouldn’t want to recollect a summers worth of field collected data because you accidentally modified the original spreadsheet. \n",
    "\n",
    "A good rule of thumb is to create an “outputs” directory where you store outputs. An outputs directory is helpful because:\n",
    "1. You can always delete and recreate the outputs without worrying about deleting your original data.\n",
    "2. An outputs directory is expressive and reminds anyone looking at your project (including you in the future - i.e. your future self!) where the output products are - they don’t have to dig for the data. \n",
    "\n",
    "\n",
    "## Create Expressive Intermediate File Names and Outputs\n",
    "\n",
    "You want to carefully consider how you name your intermediate and end product outputs so that the names reflect your intention and the content. For instance - in this case you are creating an NDVI dataframe which would be exported to a csv.\n",
    "\n",
    "Here are some naming options:\n",
    "```\n",
    "# Less than ideal name\n",
    "data.csv\n",
    "# OK Name\n",
    "ndvi.csv\n",
    "# More expressive name\n",
    "all-sites-ndvi.csv\n",
    "```\n",
    "\n",
    "Always use clear, expressive names for objects, files, etc. Ask yourself if someone reading your code could guess what is contained in that object or file based on the name. \n",
    "\n",
    "\n",
    "## Write Modular Code \n",
    "\n",
    "As you are working on your pseudo code, consider the parts of your analysis that are well suited for functions.\n",
    "\n",
    "Writing custom functions for repetitive tasks in your workflows can help your workflow to be more efficient and easier to follow and implement.\n",
    "\n",
    "Ideally, a Python function will have 1-3 inputs and will produce 1-2 outputs. \n",
    "\n",
    "Keep functions small and focused. A function should do one thing well. \n",
    "\n",
    "You can then combine many functions into a wrapper function to automate and make for a nicely crafted program."
   ]
  },
  {
   "cell_type": "markdown",
   "metadata": {},
   "source": [
    "### Functions - What Are They Again?\n",
    "\n",
    "A <a href=\"{{ site.url }}/courses/intro-to-earth-data-science/write-efficient-python-code/functions-modular-code/\">function</a> is a unit of code that executes a specific, outlined task on command, using sets of input parameters to specify how the task is performed.\n",
    "\n",
    "### input parameter(s) –> function does something –> output result(s)\n",
    "\n",
    "Useful for organizing and executing generalizable code that you need to run frequently:\n",
    "* importing data\n",
    "* aggregating or summarizing data\n",
    "* calculating indices such as normalized difference vegetation index, NDVI\n",
    "* plotting data\n",
    "\n",
    "You can use existing functions from commonly used packages (i.e. `geopandas.read_file()` or `rasterio.open()`) or <a href=\"https://www.earthdatascience.org/courses/earth-analytics-bootcamp/functions/intro-functions/\" target=\"_blank\">write your own functions</a> when one does not already exist.\n",
    "\n",
    "### Review of Key Components of Python Functions\n",
    "\n",
    "1. `def` keyword\n",
    "2. Function name\n",
    "3. Input parameters/arguments\n",
    "4. Docstring (that identifies parameters and returns)\n",
    "5. `return` statement"
   ]
  },
  {
   "cell_type": "code",
   "execution_count": 1,
   "metadata": {},
   "outputs": [],
   "source": [
    "# Example of a simple function\n",
    "def add_five(x):\n",
    "    \"\"\"Add the numeric value 5 to an input value.\n",
    "    \n",
    "    Parameters\n",
    "    ----------\n",
    "    x : int or float\n",
    "            \n",
    "    Returns\n",
    "    ----------\n",
    "    int or float\n",
    "        Input data with value increased by 5.\n",
    "    \"\"\"\n",
    "    \n",
    "    return (x + 5)"
   ]
  },
  {
   "cell_type": "code",
   "execution_count": 2,
   "metadata": {},
   "outputs": [
    {
     "data": {
      "text/plain": [
       "8"
      ]
     },
     "execution_count": 2,
     "metadata": {},
     "output_type": "execute_result"
    }
   ],
   "source": [
    "# How do we call a Python function again?\n",
    "add_five(3)"
   ]
  },
  {
   "cell_type": "markdown",
   "metadata": {},
   "source": [
    "Now, check out the more complex <a href=\"https://github.com/geopandas/geopandas/blob/master/geopandas/io/file.py\" target=\"_blank\">geopandas.read_file() function</a> on GitHub and identify each of the key components.\n",
    "\n",
    "**Do we have to fully understand all of the detailed code in order to use the function?**\n",
    "\n",
    "Simply put - no. We only need to know the appropriate inputs and outputs, so we can provide the correct file to get back our GeoDataframe. \n",
    "\n",
    "This one of the primary benefits of writing and using functions!"
   ]
  },
  {
   "cell_type": "markdown",
   "metadata": {},
   "source": [
    "### Review of Benefits of Using and Writing Functions\n",
    "\n",
    "1. Reusability (e.g. by yourself or others) \n",
    "2. Fewer variables (e.g. temporary variables not needed outside of the function are not stored)\n",
    "3. Documentation/Reproducibility (e.g. for yourself or others) \n",
    "4. Easier updates to code (i.e. update only the function definition)\n",
    "5. Testing (e.g. include checks and tests on inputs and outputs directly within function)\n",
    "6. Modularity (i.e. stand-alone units of code that can executed independently and asynchronously)\n",
    "\n",
    "Sometimes you may need to write custom functions to:\n",
    "* complete tasks that do not already have published functions\n",
    "* combine existing functions into one function for a specific task "
   ]
  },
  {
   "cell_type": "markdown",
   "metadata": {},
   "source": [
    "### Generalizing Custom Functions\n",
    "\n",
    "The best functions complete one specific task but are generalizable for more than one application. \n",
    "\n",
    "Example: Goal is a function that can be used to calculate Normalized Difference Vegetation Index (NDVI)\n",
    "\n",
    "```python\n",
    "(Near_Infrared - Red) / (Near_Infrared + Red)\n",
    "```"
   ]
  },
  {
   "cell_type": "markdown",
   "metadata": {},
   "source": [
    "### How Can We Generalize This For Broader Use?\n",
    "\n",
    "There are other indices that can be calculated using the same formula:\n",
    "\n",
    "```python\n",
    "# Normalized Burn Ratio (NBR)\n",
    "(near_infrared - shortwave_infrared) / (near_infrared + shortwave_infrared)\n",
    "```\n",
    "\n",
    "```python\n",
    "# Normalized Difference Water Index (NDWI)\n",
    "(green - near_infrared) / (Green + near_infrared)\n",
    "```\n",
    "\n",
    "For example: \n",
    "```python\n",
    "(band1 - band2) / (band1 + band2)\n",
    "```\n",
    "\n",
    "Even better for conciseness and readibility:\n",
    "```python\n",
    "(b1 - b2) / (b1 + b2)\n",
    "```"
   ]
  },
  {
   "cell_type": "code",
   "execution_count": 3,
   "metadata": {},
   "outputs": [],
   "source": [
    "def normalized_diff(b1, b2):\n",
    "    \"\"\"Calculate the normalized difference of two arrays of same shape.\n",
    "    Math will be calculated (b1-b2) / (b1+b2). \n",
    "    \n",
    "    Parameters\n",
    "    ----------\n",
    "    b1, b2 : numpy arrays\n",
    "        Two numpy arrays of same shape.\n",
    "    \n",
    "    Returns\n",
    "    ----------\n",
    "    n_diff : numpy array\n",
    "        The element-wise result of (b1-b2) / (b1+b2) calculation. \n",
    "    \"\"\"\n",
    "    n_diff = (b1 - b2) / (b1 + b2)\n",
    "        \n",
    "    return n_diff"
   ]
  },
  {
   "cell_type": "markdown",
   "metadata": {},
   "source": [
    "## Expand Code to Add Checks and Tests\n",
    "\n",
    "By including checks (i.e. tests) in your code, you can be more confident that your code is doing what you think is! \n",
    "\n",
    "### Specific Reasons to Check Your Code\n",
    "\n",
    "* Check that inputs are of correct type/format (e.g. both arrays are two-dimensional)\n",
    "* Check that necessary preqrequisites have been executed or exist (e.g. a directory named `output`)\n",
    "* Test assumptions of code (e.g. is it actually doing what you think it is?)\n",
    "* Identify points of failure (e.g. where is the code failing - input data, processing/analysis, writing out data?)\n",
    "* Identify something about the function that you did not consider (e.g. function is applicable to additional data types, function needs additional code to handle special circumstances)"
   ]
  },
  {
   "cell_type": "markdown",
   "metadata": {},
   "source": [
    "### How Can You Check Your Code?\n",
    "\n",
    "There are many different ways to start checking your code. You can begin with <a href=\"{{ site.url }}/courses/intro-to-earth-data-science/write-efficient-python-code/conditional-statements/\">conditional statements </a> and work toward more complex checks using try/except and exception handling (which are introduced below). \n",
    "\n",
    "\n",
    "### Conditional Statements\n",
    "\n",
    "This is frequently referred to as \"asking permission\" before code can execute. \n",
    "\n",
    "```python\n",
    "if condition_1:\n",
    "    action_1\n",
    "elif condition_2:\n",
    "    action_2\n",
    "else: \n",
    "    action_3\n",
    "```\n",
    "\n",
    "Thinking about the `norm_diff` function: what is a condition that we might want to check for the code to run successfully? \n",
    "\n",
    "Take a look at the equation again, and think about what the intended inputs are for b1 and b2 (\"arrays of same shape\"). \n",
    "\n",
    "```python\n",
    "(b1 - b2) / (b1 + b2)\n",
    "```"
   ]
  },
  {
   "cell_type": "code",
   "execution_count": 4,
   "metadata": {},
   "outputs": [
    {
     "data": {
      "text/plain": [
       "3"
      ]
     },
     "execution_count": 4,
     "metadata": {},
     "output_type": "execute_result"
    }
   ],
   "source": [
    "import numpy as np \n",
    "\n",
    "# Create numpy array inputs for function\n",
    "nir_band = np.array([[6, 7, 8, 9, 10], [16, 17, 18, 19, 20]])\n",
    "red_band = np.array([[1, 2, 3, 4, 5], [11, 12, 13, 14, 15]])\n",
    "\n",
    "# Create three dimensional numpy array for testing\n",
    "nir_band_3d = np.array([[[6, 7, 8, 9, 10], [16, 17, 18, 19, 20]]])\n",
    "nir_band_3d.ndim"
   ]
  },
  {
   "cell_type": "code",
   "execution_count": 5,
   "metadata": {},
   "outputs": [
    {
     "name": "stdout",
     "output_type": "stream",
     "text": [
      "Input arrays are not of same shape\n"
     ]
    }
   ],
   "source": [
    "# Note that the if/else is used when calling the function\n",
    "if nir_band_3d.shape == red_band.shape:\n",
    "    ndvi = normalized_diff(b1=nir_band_3d, b2=red_band)\n",
    "    print(ndvi)\n",
    "else:\n",
    "    print(\"Input arrays are not of same shape\")"
   ]
  },
  {
   "cell_type": "markdown",
   "metadata": {},
   "source": [
    "### `Try` and `except`\n",
    "\n",
    "These statements allow the a code block to try to execute first, and then do something else if the code is not executed successfully. \n",
    "\n",
    "This is often referred to as \"asking for forgiveness, rather than permission\".\n",
    "\n",
    "<figure>\n",
    "  <a href=\"{{ site.url }}/images/earth-analytics/clean-code/try-except-else-finally.png\">\n",
    "    <img src=\"{{ site.url }}/images/earth-analytics/clean-code/try-except-else-finally.png\" alt=\"Example of Try and Except code block.\">\n",
    "  </a>\n",
    "  <figcaption>The Try and Except code block can be used to add tests and checks your code. Source: <a href=\"https://files.realpython.com/media/try_except_else_finally.a7fac6c36c55.png\" target=\"_blank\">Real Python</a>\n",
    "  </figcaption>\n",
    "</figure>"
   ]
  },
  {
   "cell_type": "code",
   "execution_count": 6,
   "metadata": {},
   "outputs": [
    {
     "name": "stdout",
     "output_type": "stream",
     "text": [
      "Division by zero not allowed!\n"
     ]
    }
   ],
   "source": [
    "# Example of asking for permission\n",
    "x = 5\n",
    "y = 0\n",
    "\n",
    "if y != 0:\n",
    "    print(x/y)\n",
    "else:\n",
    "    print(\"Division by zero not allowed!\")"
   ]
  },
  {
   "cell_type": "code",
   "execution_count": 7,
   "metadata": {},
   "outputs": [
    {
     "name": "stdout",
     "output_type": "stream",
     "text": [
      "Division by zero not allowed!\n"
     ]
    }
   ],
   "source": [
    "# Instead, ask for forgiveness\n",
    "try:\n",
    "    print(x/y)\n",
    "except:\n",
    "    print(\"Division by zero not allowed!\")"
   ]
  },
  {
   "cell_type": "code",
   "execution_count": 8,
   "metadata": {},
   "outputs": [
    {
     "name": "stdout",
     "output_type": "stream",
     "text": [
      "Input arrays are not of same shape\n"
     ]
    }
   ],
   "source": [
    "# In this example, try/except is used when calling the function\n",
    "try:\n",
    "    ndvi = calc_indices.norm_diff(b1=nir_band_3d, b2=red_band)\n",
    "    print(ndvi)\n",
    "except:\n",
    "    print(\"Input arrays are not of same shape\")"
   ]
  },
  {
   "cell_type": "markdown",
   "metadata": {},
   "source": [
    "After this try/except, if you try to print `ndvi`, you will see the following error because it was not created by the code. \n",
    "\n",
    "```\n",
    "---------------------------------------------------------------------------\n",
    "NameError                                 Traceback (most recent call last)\n",
    "<ipython-input-8-24938b8c9bd5> in <module>\n",
    "      6     print(\"Input arrays are not of same shape\")\n",
    "      7 \n",
    "----> 8 print(ndvi.ndim)\n",
    "\n",
    "NameError: name 'ndvi' is not defined\n",
    "```"
   ]
  },
  {
   "cell_type": "markdown",
   "metadata": {},
   "source": [
    "**Caveat: Do you see anything potential issues with `try` and `except` statements?**"
   ]
  },
  {
   "cell_type": "code",
   "execution_count": 9,
   "metadata": {
    "tags": [
     "hide"
    ]
   },
   "outputs": [],
   "source": [
    "import os\n",
    "import earthpy as et\n",
    "\n",
    "try:\n",
    "    os.makedirs(os.path.join(et.io.HOME, \"earth-analytics\"))\n",
    "except:\n",
    "    pass"
   ]
  },
  {
   "cell_type": "code",
   "execution_count": 10,
   "metadata": {},
   "outputs": [
    {
     "name": "stdout",
     "output_type": "stream",
     "text": [
      "Directory already exists!\n"
     ]
    }
   ],
   "source": [
    "import os\n",
    "import earthpy as et\n",
    "\n",
    "# Another example of try and except\n",
    "directory = os.path.join(et.io.HOME, \"earth-analytics\", \"test\")\n",
    "\n",
    "# Create folder if it does not exist\n",
    "try:\n",
    "    os.makedirs(directory)\n",
    "    print(\"Directory created!\")\n",
    "except:\n",
    "    print(\"Directory already exists!\")"
   ]
  },
  {
   "cell_type": "markdown",
   "metadata": {},
   "source": [
    "**Caveat: How would you know that a failure to make a new directory was due to it already existing?**\n",
    "\n",
    "Is it possible that something else could cause a new directory to not get created?"
   ]
  },
  {
   "cell_type": "markdown",
   "metadata": {},
   "source": [
    "### Exception Handling\n",
    "\n",
    "Also commonly referred to as error handling, exceptions are used to check for specific types of errors that can occur when running code. \n",
    "\n",
    "Though it is more common to use exception handling when writing code that you want to publish as packages or libraries or when you are writing applications for end users, it is useful to know about these, so that you are familiar with them when you receive exception messages by others' code.\n",
    "\n",
    "### Commonly Used Exceptions\n",
    "\n",
    "<figure>\n",
    "  <a href=\"{{ site.url }}/images/earth-analytics/clean-code/common-exceptions.png\">\n",
    "    <img src=\"{{ site.url }}/images/earth-analytics/clean-code/common-exceptions.png\" alt=\"Commonly Used Exceptions.\">\n",
    "  </a>\n",
    "  <figcaption>Exceptions can be used with try and except code block can be used to add tests and checks your code. Source: <a href=\"https://www.datacamp.com/community/tutorials/exception-handling-python\" target=\"_blank\">Data Camp</a>\n",
    "  </figcaption>\n",
    "</figure>"
   ]
  },
  {
   "cell_type": "code",
   "execution_count": 11,
   "metadata": {},
   "outputs": [
    {
     "name": "stdout",
     "output_type": "stream",
     "text": [
      "Directory already exists!\n"
     ]
    }
   ],
   "source": [
    "# Same try and except with exception FileExistsError\n",
    "directory = os.path.join(et.io.HOME, \"earth-analytics\", \"test\")\n",
    "\n",
    "try:\n",
    "    os.makedirs(directory)\n",
    "    print(\"Directory created!\")\n",
    "except FileExistsError:\n",
    "    print(\"Directory already exists!\")\n",
    "    \n",
    "    # Uncomment line below to have the except do nothing (e.g. no print statement)\n",
    "    #pass  "
   ]
  },
  {
   "cell_type": "code",
   "execution_count": 12,
   "metadata": {},
   "outputs": [],
   "source": [
    "# You could also explore error handling in your function definitions\n",
    "\n",
    "# Example of ValueError\n",
    "def normalized_diff(b1, b2):\n",
    "    \"\"\"Calculate the normalized difference of two arrays of same shape.\n",
    "    Math will be calculated (b1-b2) / (b1+b2). \n",
    "    \n",
    "    Parameters\n",
    "    ----------\n",
    "    b1, b2 : numpy arrays\n",
    "        Two numpy arrays of same shape.\n",
    "    \n",
    "    Returns\n",
    "    ----------\n",
    "    n_diff : numpy array\n",
    "        The element-wise result of (b1-b2) / (b1+b2) calculation. \n",
    "    \"\"\"\n",
    "    if not (b1.shape == b2.shape):\n",
    "        raise ValueError(\"Inputs arrays should have the same dimensions\")\n",
    "        \n",
    "    n_diff = (b1 - b2) / (b1 + b2)\n",
    "        \n",
    "    return n_diff"
   ]
  },
  {
   "cell_type": "markdown",
   "metadata": {},
   "source": [
    "Now if you try to run the following code:\n",
    "\n",
    "`ndvi = normalized_diff(b1=nir_band_3d, b2=red_band)`\n",
    "\n",
    "You will see the following ValueError that can help you (and others) understand why the function did not execute successfully. \n",
    "\n",
    "\n",
    "```\n",
    "---------------------------------------------------------------------------\n",
    "ValueError                                Traceback (most recent call last)\n",
    "<ipython-input-13-7a66955ecfea> in <module>\n",
    "----> 1 ndvi = normalized_diff(b1=nir_band_3d, b2=red_band)\n",
    "      2 \n",
    "\n",
    "<ipython-input-11-018feb34e9f1> in norm_diff(b1, b2)\n",
    "     16     \"\"\"\n",
    "     17     if not (b1.shape == b2.shape):\n",
    "---> 18         raise ValueError(\"Inputs arrays should have the same dimensions\")\n",
    "     19 \n",
    "     20     n_diff = (b1 - b2) / (b1 + b2)\n",
    "\n",
    "ValueError: Inputs arrays should have the same dimensions\n",
    "```"
   ]
  },
  {
   "cell_type": "markdown",
   "metadata": {},
   "source": [
    "### Old Fashioned Trial and Error\n",
    "\n",
    "Maybe the code is executing just fine, but maybe you are not getting the output in the most optimal format. \n",
    "\n",
    "It may not be clear to you until you run the function many times with different inputs."
   ]
  },
  {
   "cell_type": "code",
   "execution_count": 13,
   "metadata": {},
   "outputs": [],
   "source": [
    "# Create numpy array inputs for function\n",
    "# Note that we are creating a zero in the numerator with -15\n",
    "nir_band = np.array([[6, 7, 8, 9, 10], [16, 17, 18, 19, -15]])\n",
    "red_band = np.array([[1, 2, 3, 4, 5], [11, 12, 13, 14, 15]])"
   ]
  },
  {
   "cell_type": "code",
   "execution_count": 14,
   "metadata": {},
   "outputs": [
    {
     "name": "stdout",
     "output_type": "stream",
     "text": [
      "[[0.71428571 0.55555556 0.45454545 0.38461538 0.33333333]\n",
      " [0.18518519 0.17241379 0.16129032 0.15151515       -inf]]\n"
     ]
    },
    {
     "name": "stderr",
     "output_type": "stream",
     "text": [
      "/home/jpalomino/miniconda3/envs/earth-analytics-python/lib/python3.7/site-packages/ipykernel_launcher.py:21: RuntimeWarning: divide by zero encountered in true_divide\n"
     ]
    }
   ],
   "source": [
    "# Produces infinity values due to divide by zero\n",
    "ndvi = normalized_diff(b1=nir_band, b2=red_band)\n",
    "print(ndvi)"
   ]
  },
  {
   "cell_type": "markdown",
   "metadata": {},
   "source": [
    "**What if we would rather have the output be a masked numpy array if there are any infinite values or nan values?**"
   ]
  },
  {
   "cell_type": "code",
   "execution_count": 15,
   "metadata": {},
   "outputs": [],
   "source": [
    "# Function definition in the earthpy package:\n",
    "# https://github.com/earthlab/earthpy/blob/main/earthpy/spatial.py#L62\n",
    "import warnings\n",
    "\n",
    "def normalized_diff(b1, b2):\n",
    "    \"\"\"Take two numpy arrays and calculate the normalized difference.\n",
    "    Math will be calculated (b1-b2) / (b1+b2). The arrays must be of the\n",
    "    same shape.\n",
    "    \n",
    "    Parameters\n",
    "    ----------\n",
    "    b1, b2 : numpy arrays\n",
    "        Two numpy arrays that will be used to calculate the normalized difference.\n",
    "        Math will be calculated (b1-b2) / (b1+b2).\n",
    "   \n",
    "   Returns\n",
    "    ----------\n",
    "    n_diff : numpy array\n",
    "        The element-wise result of (b1-b2) / (b1+b2) calculation. Inf values are set\n",
    "        to nan. Array returned as masked if result includes nan values.\n",
    "    \"\"\"\n",
    "    if not (b1.shape == b2.shape):\n",
    "        raise ValueError(\"Both arrays should have the same dimensions\")\n",
    "\n",
    "    n_diff = (b1 - b2) / (b1 + b2)\n",
    "\n",
    "    # Set inf values to nan and provide custom warning\n",
    "    if np.isinf(n_diff).any():\n",
    "        warnings.warn(\n",
    "            \"Divide by zero produced infinity values that will be replaced with nan values\",\n",
    "            Warning)\n",
    "        n_diff[np.isinf(n_diff)] = np.nan\n",
    "\n",
    "    # Mask invalid values\n",
    "    if np.isnan(n_diff).any():\n",
    "        n_diff = np.ma.masked_invalid(n_diff)\n",
    "\n",
    "    return n_diff"
   ]
  },
  {
   "cell_type": "code",
   "execution_count": 16,
   "metadata": {},
   "outputs": [
    {
     "name": "stdout",
     "output_type": "stream",
     "text": [
      "[[0.7142857142857143 0.5555555555555556 0.45454545454545453\n",
      "  0.38461538461538464 0.3333333333333333]\n",
      " [0.18518518518518517 0.1724137931034483 0.16129032258064516\n",
      "  0.15151515151515152 --]]\n"
     ]
    },
    {
     "name": "stderr",
     "output_type": "stream",
     "text": [
      "/home/jpalomino/miniconda3/envs/earth-analytics-python/lib/python3.7/site-packages/ipykernel_launcher.py:25: RuntimeWarning: divide by zero encountered in true_divide\n",
      "/home/jpalomino/miniconda3/envs/earth-analytics-python/lib/python3.7/site-packages/ipykernel_launcher.py:31: Warning: Divide by zero produced infinity values that will be replaced with nan values\n"
     ]
    }
   ],
   "source": [
    "ndvi = normalized_diff(b1=nir_band, b2=red_band)\n",
    "print(ndvi)"
   ]
  },
  {
   "cell_type": "markdown",
   "metadata": {},
   "source": [
    "There is now a warning provided by the function to explain that the division by zero resulted in values that are replaced with nan values. \n",
    "\n",
    "There are many ways to include tests and checks in your code, so explore the resources below to learn different ways to incorporate them into your workflows.  "
   ]
  },
  {
   "cell_type": "markdown",
   "metadata": {},
   "source": [
    "<div class=\"notice--info\" markdown=\"1\">\n",
    "\n",
    "## Additional Resources\n",
    "\n",
    "* <a href=\"https://www.oreilly.com/library/view/head-first-python/9781491919521/ch04.html\" target=\"_blank\">OReilly Review of Functions and Modularization</a>.\n",
    "\n",
    "* <a href=\"https://www.youtube.com/watch?v=NIWwJbo-9_8\" target=\"_blank\">Video tutorial on try and except by Corey Schafer</a>.\n",
    "\n",
    "* <a href=\"https://www.geeksforgeeks.org/built-exceptions-python/\" target = \"_blank\">List of Commonly Used Exceptions</a>.\n",
    "\n",
    "* <a href=\"https://www.datacamp.com/community/tutorials/exception-handling-python\" target = \"_blank\">Data Camp Tutorial on Exceptions</a>.\n",
    "\n",
    "* <a href=\"https://intermediate-and-advanced-software-carpentry.readthedocs.io/en/latest/structuring-python.html\" target = \"_blank\">Advanced Tutorial by Software Carpentry on programming for reusability</a>.\n",
    "\n",
    "</div>"
   ]
  }
 ],
 "metadata": {
  "celltoolbar": "Tags",
  "hide_code_all_hidden": false,
  "kernelspec": {
   "display_name": "Python 3",
   "language": "python",
   "name": "python3"
  },
  "language_info": {
   "codemirror_mode": {
    "name": "ipython",
    "version": 3
   },
   "file_extension": ".py",
   "mimetype": "text/x-python",
   "name": "python",
   "nbconvert_exporter": "python",
   "pygments_lexer": "ipython3",
   "version": "3.8.6"
  },
  "toc": {
   "base_numbering": 1,
   "nav_menu": {},
   "number_sections": true,
   "sideBar": true,
   "skip_h1_title": false,
   "title_cell": "Table of Contents",
   "title_sidebar": "Contents",
   "toc_cell": false,
   "toc_position": {},
   "toc_section_display": true,
   "toc_window_display": false
  },
  "varInspector": {
   "cols": {
    "lenName": 16,
    "lenType": 16,
    "lenVar": 40
   },
   "kernels_config": {
    "python": {
     "delete_cmd_postfix": "",
     "delete_cmd_prefix": "del ",
     "library": "var_list.py",
     "varRefreshCmd": "print(var_dic_list())"
    },
    "r": {
     "delete_cmd_postfix": ") ",
     "delete_cmd_prefix": "rm(",
     "library": "var_list.r",
     "varRefreshCmd": "cat(var_dic_list()) "
    }
   },
   "types_to_exclude": [
    "module",
    "function",
    "builtin_function_or_method",
    "instance",
    "_Feature"
   ],
   "window_display": false
  }
 },
 "nbformat": 4,
 "nbformat_minor": 2
}
