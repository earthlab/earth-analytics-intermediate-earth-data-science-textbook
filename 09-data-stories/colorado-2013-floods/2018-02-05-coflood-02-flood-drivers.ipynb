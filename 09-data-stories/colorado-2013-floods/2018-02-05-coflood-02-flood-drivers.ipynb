{
 "cells": [
  {
   "cell_type": "raw",
   "metadata": {},
   "source": [
    "---\n",
    "layout: single\n",
    "title: 'How the Atmosphere Drives Floods: The 2013 Colorado Floods'\n",
    "excerpt: \"Changes in the atmosphere, including how quickly a storm moves can impact the severity of a flood. Learn more about how atmospheric conditions impact flood events.\"\n",
    "authors: ['Leah Wasser', 'Lauren Herwehe']\n",
    "modified: '{:%Y-%m-%d}'.format(datetime.now())\n",
    "category: [courses]\n",
    "class-lesson: ['about-2013-floods-tb']\n",
    "course: 'intermediate-earth-data-science-textbook'\n",
    "chapter: 20\n",
    "permalink: /courses/use-data-open-source-python/data-stories/colorado-floods-2013/how-atmospheric-conditions-and-drought-impact-floods/\n",
    "nav-title: 'Atmosphere & Drought'\n",
    "dateCreated: 2018-05-24\n",
    "module-type: 'class'\n",
    "week: 9\n",
    "sidebar:\n",
    "  nav:\n",
    "author_profile: false\n",
    "comments: true\n",
    "order: 2\n",
    "topics: \n",
    "    remote-sensing: ['multispectral-remote-sensing']\n",
    "    earth-science: ['flood-erosion']\n",
    "    time-series: \n",
    "redirect_from:\n",
    "  - \"/courses/earth-analytics-python/python-open-science-toolbox/how-atmospheric-conditions-and-drought-impact-floods/\"\n",
    "  - \"/courses/use-data-open-source-python/data-stories/colorado-2013-floods/how-atmospheric-conditions-and-drought-impact-floods/\"\n",
    "---\n"
   ]
  },
  {
   "cell_type": "markdown",
   "metadata": {},
   "source": [
    "{% include toc title=\"On This Page\" icon=\"file-text\" %}\n",
    "\n",
    "<div class='notice--success' markdown=\"1\">\n",
    "\n",
    "## <i class=\"fa fa-graduation-cap\" aria-hidden=\"true\"></i> Learning Objectives\n",
    "\n",
    "* Describe how atmospheric conditions contribute to flood events.\n",
    "* Describe one method that is used to study and track atmospheric conditions.\n",
    "\n",
    "</div>\n",
    "\n",
    "\n",
    "## Primary Driver: Atmospheric Conditions - a Driver of Flood Impacts\n",
    "\n",
    "### What Are Atmospheric Conditions?\n",
    "\n",
    "Atmospheric conditions are what produces weather. The term refers to the physical conditions in the Earth’s atmosphere including temperature, wind, clouds, and precipitation.\n",
    "\n",
    "### How Are Atmospheric Conditions Measured?\n",
    "\n",
    "Atmospheric conditions can be measured with ground-based or satellite observations. Ground measurements can include air temperature and heat indices, barometric pressure, humidity, precipitation, wind speed and direction, and solar radiation. \n",
    "\n",
    "There are several satellites that track atmospheric conditions, the most popular being the NOAA operated Geostationary Operational Environmental Satellite System.\n",
    "\n",
    "<figure>\n",
    " <a href=\"{{ site.url }}/images/earth-analytics/science/colorado-2013-floods/goes-satellite-data-colorado-floods.jpg\">\n",
    " <img src=\"{{ site.url }}/images/earth-analytics/science/colorado-2013-floods/goes-satellite-data-colorado-floods.jpg\" alt = \"GOES satellite imagery of the rain that caused the 2013 Colorado floods.\"></a>\n",
    " <figcaption>This animated loop shows water vapor systems over the western area of North America during the Colorado floods, on September 12th, 2013, as recorded by the GOES-15 and GOES-13 satellites. Source: <a href=\"http://cimss.ssec.wisc.edu/goes/blog/archives/13876\" target=\"_blank\">Cooperative Institute for Meteorological Satellite Studies (CIMSS).</a>\n",
    " </figcaption>\n",
    "</figure>\n",
    "\n",
    "\n",
    "The GOES system consists of space and ground tools that work together to support weather forecasting, severe storm tracking, and meteorology research. GOES satellites are “geostationary” meaning that they always remain over one particular point on the Earth’s surface, allowing them to provide dependable information on weather conditions in that location.\n",
    "\n",
    "### Where Can You Get Atmospheric Data?\n",
    "\n",
    "One source of atmospheric data is GOES satellite data on this NOAA Geostationary Satellite Server.\n",
    "\n",
    "### Atmospheric Conditions and the Colorado Floods\n",
    "\n",
    "The storm that caused the 2013 flooding  in Boulder began when a slow moving cold front intersected with a warm, humid front leading to heavy rain. The storm was kept in a confined area over the Eastern Range of the Rocky Mountains in Colorado by water vapor systems. This confinement resulted in a large amount of rainfall being dumped over the region in a short period of time. Over the course of just five days Boulder County received more rainfall than it does in a typical year.\n",
    "\n",
    "## Primary Driver: Drought as a Driver of Flood Impacts\n",
    "\n",
    "### What is Drought?\n",
    "\n",
    "Drought is a disturbance event that occurs when a given area experiences below average precipitation. It can also be caused and exacerbated by the way that humans choose to distribute water resources.\n",
    "\n",
    "### How Are Droughts Measured?\n",
    "\n",
    "There are many ways to measure or quantify drought. The Palmer Drought Severity Index is one commonly used drought index. The Palmer Drought Severity Index is a measure of soil moisture content. It is calculated from soil available water content, precipitation and temperature data. The values range from extreme drought (values <-4.0) through near normal (-.49 to .49) to extremely moist (>4.0). "
   ]
  },
  {
   "cell_type": "code",
   "execution_count": 1,
   "metadata": {
    "tags": [
     "hide"
    ]
   },
   "outputs": [],
   "source": [
    "# ensure the earth-analytics dir is setup and get data used in week 1\n",
    "# note this is a big download - we should just check for and create the directory if needed\n",
    "import earthpy as et\n",
    "data = et.data.get_data(\"colorado-flood\", verbose = False)"
   ]
  },
  {
   "cell_type": "code",
   "execution_count": 13,
   "metadata": {
    "caption": "Plot of Palmer Drought Index for Colorado 2005-2016.",
    "tags": [
     "hide"
    ]
   },
   "outputs": [
    {
     "data": {
      "image/png": "[encoded data removed]",
      "text/plain": [
       "<Figure size 1296x576 with 1 Axes>"
      ]
     },
     "metadata": {},
     "output_type": "display_data"
    }
   ],
   "source": [
    "# hide this code \n",
    "import numpy as np\n",
    "import pandas as pd\n",
    "import os\n",
    "import urllib\n",
    "from matplotlib import pyplot as plt\n",
    "import seaborn as sns\n",
    "sns.set(font_scale=1.5)\n",
    "sns.set_style(\"white\")\n",
    "from pandas.plotting import register_matplotlib_converters\n",
    "register_matplotlib_converters()\n",
    "\n",
    "# set home directory and download data\n",
    "os.chdir(os.path.join(et.io.HOME, 'earth-analytics'))\n",
    "\n",
    "urllib.request.urlretrieve(url='https://ndownloader.figshare.com/files/11642072', \n",
    "                           filename= 'data/palmer-index.csv')\n",
    "\n",
    "palmer = pd.read_csv('data/palmer-index.csv')\n",
    "# update dates to datetime object\n",
    "palmer.YearMonth = pd.to_datetime(palmer.YearMonth, format='%Y%m')\n",
    "#palmer.rename(columns=lambda x: x.strip())\n",
    "# white spaces in headers be gone!\n",
    "palmer.columns = palmer.columns.str.strip()\n",
    "palmer_20yrs = palmer.query('YearMonth >= \"2005-01-1\"')\n",
    "# note when plottinglots of bars, snap = False will turn off the pixel snapping or set the width to be wider.\n",
    "fig, ax = plt.subplots(figsize = (18,8))\n",
    "ax.bar(palmer_20yrs['YearMonth'], \n",
    "       palmer_20yrs['PDSI'], \n",
    "       color = 'purple', width=20)\n",
    "ax.set(ylim = [-8,4])\n",
    "ax.set_title(\"Palmer Drought Index for Colorado 2005-2016\")\n",
    "plt.show()"
   ]
  },
  {
   "cell_type": "markdown",
   "metadata": {},
   "source": [
    "## Where Can You Get Drought Data?\n",
    "\n",
    "You can obtain data on drought and read more about different ways to measure it on the National Drought Mitigation Center website.\n",
    "\n",
    "## Drought and the Colorado Floods\n",
    "\n",
    "The 2013 flood occurred right at the end of a severe drought in Colorado.\n",
    "\n",
    "\n",
    "<figure>\n",
    " <a href=\"{{ site.url }}/images/earth-analytics/science/colorado-2013-floods/drought-dust-storm-colorado-floods.jpg\">\n",
    " <img src=\"{{ site.url }}/images/earth-analytics/science/colorado-2013-floods/drought-dust-storm-colorado-floods.jpg\" alt = \"MODIS satellite image of a dust storm caused by drought in Colorado\"></a>\n",
    " <figcaption>This MODIS satellite image of the Colorado-Kansas border shows a massive dust storm during the 2013 drought in Colorado. The image was taken in January, several months prior to the Colorado floods, and shows how drought led to soil transport that exacerbated the impacts of the flooding. Source: <a href=\"https://earthobservatory.nasa.gov/IOTD/view.php?id=80164\" target=\"_blank\">NASA Earth Observatory.</a>\n",
    " </figcaption>\n",
    "</figure>\n",
    "\n",
    "\n",
    "In a drought period, the top soil layers and the moisture-absorbing organic matter (generally plant and animal residues at various stages of decomposition) within them dry out. \n",
    "\n",
    "<figure>\n",
    " <a href=\"{{ site.url }}/images/earth-analytics/science/colorado-2013-floods/drought-soil-colorado-floods.jpg\">\n",
    " <img src=\"{{ site.url }}/images/earth-analytics/science/colorado-2013-floods/drought-soil-colorado-floods.jpg\" alt = \"Dry, compacted soil during a drought \"></a>\n",
    " <figcaption>Dry, compacted soil during a drought. Source: <a href=\"https://commons.wikimedia.org/wiki/File:CSIRO_ScienceImage_607_Effects_of_Drought_on_the_Soil.jpg\" target=\"_blank\">Wikipedia.</a>\n",
    " </figcaption>\n",
    "</figure>\n",
    "\n",
    "\n",
    "Dry organic matter is less able to absorb moisture. It also can be easily relocated by wind, leaving only the harder less permeable earth beneath it. Some soil types, like clay, can dry out so much that they become almost as impermeable as pavement and unable to absorb water. \n",
    "\n",
    "<figure>\n",
    " <a href=\"{{ site.url }}/images/earth-analytics/science/colorado-2013-floods/soil-layers-colorado-floods.jpg\">\n",
    " <img src=\"{{ site.url }}/images/earth-analytics/science/colorado-2013-floods/soil-layers-colorado-floods.jpg\" alt = \"Soil layers diagram\"></a>\n",
    " <figcaption>In this diagram of soils layers you can see the the organic and top soil layers that are often dried out during drought periods. Source:<a href=\"https://commons.wikimedia.org/wiki/File:Soil_Layers.jpg\" target=\"_blank\">Wikipedia.</a>\n",
    " </figcaption>\n",
    "</figure>\n",
    "\n",
    "\n",
    "All of this causes water to flow across the soil rather than being absorbed into the soil. Water flowing over the soil and earth is referred to as overland flow. Often times the floods that have significant impacts on an area have a lot of overland flow."
   ]
  }
 ],
 "metadata": {
  "anaconda-cloud": {},
  "celltoolbar": "Edit Metadata",
  "kernelspec": {
   "display_name": "Python 3",
   "language": "python",
   "name": "python3"
  },
  "language_info": {
   "codemirror_mode": {
    "name": "ipython",
    "version": 3
   },
   "file_extension": ".py",
   "mimetype": "text/x-python",
   "name": "python",
   "nbconvert_exporter": "python",
   "pygments_lexer": "ipython3",
   "version": "3.7.6"
  },
  "toc": {
   "base_numbering": 1,
   "nav_menu": {},
   "number_sections": true,
   "sideBar": true,
   "skip_h1_title": false,
   "title_cell": "Table of Contents",
   "title_sidebar": "Contents",
   "toc_cell": false,
   "toc_position": {},
   "toc_section_display": true,
   "toc_window_display": false
  },
  "varInspector": {
   "cols": {
    "lenName": 16,
    "lenType": 16,
    "lenVar": 40
   },
   "kernels_config": {
    "python": {
     "delete_cmd_postfix": "",
     "delete_cmd_prefix": "del ",
     "library": "var_list.py",
     "varRefreshCmd": "print(var_dic_list())"
    },
    "r": {
     "delete_cmd_postfix": ") ",
     "delete_cmd_prefix": "rm(",
     "library": "var_list.r",
     "varRefreshCmd": "cat(var_dic_list()) "
    }
   },
   "types_to_exclude": [
    "module",
    "function",
    "builtin_function_or_method",
    "instance",
    "_Feature"
   ],
   "window_display": false
  }
 },
 "nbformat": 4,
 "nbformat_minor": 2
}
