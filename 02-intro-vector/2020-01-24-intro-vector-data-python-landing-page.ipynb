{
 "cells": [
  {
   "cell_type": "raw",
   "metadata": {},
   "source": [
    "---\n",
    "layout: single\n",
    "category: courses\n",
    "title: \"Intro to Spatial Vector Data in Python\"\n",
    "permalink: /courses/use-data-open-source-python/intro-vector-data-python/\n",
    "week-landing: 2\n",
    "modified: '{:%Y-%m-%d}'.format(datetime.now())\n",
    "week: 2\n",
    "sidebar:\n",
    "  nav:\n",
    "comments: false\n",
    "author_profile: false\n",
    "course: \"intermediate-earth-data-science-textbook\"\n",
    "module-type: 'session'\n",
    "---\n"
   ]
  },
  {
   "cell_type": "markdown",
   "metadata": {},
   "source": [
    "{% include toc title=\"Section Three\" icon=\"file-text\" %}\n",
    "\n",
    "<div class=\"notice--info\" markdown=\"1\">\n",
    "\n",
    "## <i class=\"fa fa-ship\" aria-hidden=\"true\"></i> Section Three - Intro to Spatial Vector Data in Python\n",
    "\n",
    "In section three of this textbook, you will learn how to work with and plot spatial vector data using the **geopandas** package for **Python**. \n",
    "\n",
    "\n",
    "## <i class=\"fa fa-graduation-cap\" aria-hidden=\"true\"></i> Learning Objectives\n",
    "\n",
    "After completing this section of the textbook, you will be able to:\n",
    "\n",
    "* Describe the characteristics of 3 key vector data structures: points, lines and polygons.\n",
    "* Open a shapefile in **Python** using **geopandas**.\n",
    "* View the CRS and other spatial metadata of a vector spatial layer in **Python**\n",
    "* Be able to describe what a Coordinate Reference System (CRS) is.\n",
    "* List 2-3 fundamental differences between a geographic and a projected CRS.\n",
    "* Identify the CRS of a spatial dataset and reproject it to another CRS in **Python**.\n",
    "* Clip a spatial vector point and line layer to the spatial extent of a polygon layer in **Python** using **geopandas**.\n",
    "* Dissolve polygons based upon an attribute in **Python** using **geopandas**.\n",
    "* Join spatial attributes from one shapefile to another in **Python** using **geopandas**.\n",
    "\n",
    "</div>\n",
    "\n",
    "\n",
    "{% include textbook-section-toc.html %}"
   ]
  }
 ],
 "metadata": {
  "kernelspec": {
   "display_name": "Python 3",
   "language": "python",
   "name": "python3"
  },
  "language_info": {
   "codemirror_mode": {
    "name": "ipython",
    "version": 3
   },
   "file_extension": ".py",
   "mimetype": "text/x-python",
   "name": "python",
   "nbconvert_exporter": "python",
   "pygments_lexer": "ipython3",
   "version": "3.7.6"
  },
  "toc": {
   "base_numbering": 1,
   "nav_menu": {},
   "number_sections": true,
   "sideBar": true,
   "skip_h1_title": false,
   "title_cell": "Table of Contents",
   "title_sidebar": "Contents",
   "toc_cell": false,
   "toc_position": {},
   "toc_section_display": true,
   "toc_window_display": false
  },
  "varInspector": {
   "cols": {
    "lenName": 16,
    "lenType": 16,
    "lenVar": 40
   },
   "kernels_config": {
    "python": {
     "delete_cmd_postfix": "",
     "delete_cmd_prefix": "del ",
     "library": "var_list.py",
     "varRefreshCmd": "print(var_dic_list())"
    },
    "r": {
     "delete_cmd_postfix": ") ",
     "delete_cmd_prefix": "rm(",
     "library": "var_list.r",
     "varRefreshCmd": "cat(var_dic_list()) "
    }
   },
   "types_to_exclude": [
    "module",
    "function",
    "builtin_function_or_method",
    "instance",
    "_Feature"
   ],
   "window_display": false
  }
 },
 "nbformat": 4,
 "nbformat_minor": 2
}
