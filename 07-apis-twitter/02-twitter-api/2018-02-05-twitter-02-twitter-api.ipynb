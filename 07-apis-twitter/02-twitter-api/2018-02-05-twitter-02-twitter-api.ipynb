{
 "cells": [
  {
   "cell_type": "raw",
   "metadata": {},
   "source": [
    "---\n",
    "layout: single\n",
    "title: 'Automate Getting Twitter Data in Python Using Tweepy and API Access'\n",
    "excerpt: 'You can use the Twitter RESTful API to access tweet data from Twitter. Learn how to use tweepy to download and work with twitter social media data in Python.'\n",
    "authors: ['Martha Morrissey', 'Leah Wasser','Carson Farmer']\n",
    "modified: '{:%Y-%m-%d}'.format(datetime.now())\n",
    "category: [courses]\n",
    "class-lesson: ['social-media-python']\n",
    "permalink: /courses/use-data-open-source-python/intro-to-apis/twitter-data-in-python/\n",
    "nav-title: 'Get Twitter Data'\n",
    "week: 7\n",
    "sidebar:\n",
    "    nav:\n",
    "author_profile: false\n",
    "comments: true\n",
    "order: 2\n",
    "course: \"intermediate-earth-data-science-textbook\"\n",
    "topics:\n",
    "    find-and-manage-data: ['apis']\n",
    "redirect_from:\n",
    "  - \"/courses/earth-analytics-python/using-apis-natural-language-processing-twitter/get-and-use-twitter-data-in-python/\"\n",
    "---"
   ]
  },
  {
   "cell_type": "markdown",
   "metadata": {},
   "source": [
    "{% include toc title = \"In This Lesson\" icon=\"file-text\" %}\n",
    "\n",
    "<div class='notice--success' markdown=\"1\">\n",
    "\n",
    "## <i class=\"fa fa-graduation-cap\" aria-hidden=\"true\"></i> Learning Objectives\n",
    "\n",
    "After completing this tutorial, you will be able to:\n",
    "\n",
    "* Connect to the twitter RESTful API to access twitter data with `Python`.\n",
    "* Generate custom queries that download tweet data into `Python` using `Tweepy`.\n",
    "* Access tweet metadata including users in `Python` using `Tweepy`.\n",
    "\n",
    "## <i class=\"fa fa-check-square-o fa-2\" aria-hidden=\"true\"></i> What You Need\n",
    "\n",
    "You will need a computer with internet access to complete this lesson.\n",
    "\n",
    "</div>\n",
    "\n",
    "In this lesson, you will explore analyzing social media data accessed from Twitter using Python. You will use the Twitter RESTful API to access data about both Twitter users and what they are tweeting about. \n",
    "\n",
    "## Getting Started\n",
    "\n",
    "To get started, you'll need to do the following things:\n",
    "\n",
    "1. Set up a Twitter account if you don't have one already.\n",
    "2. Using your Twitter account, you will need to apply for Developer Access and then create an application that will generate the API credentials that you will use to access Twitter from `Python`. \n",
    "3. Import the `tweepy` package.\n",
    "\n",
    "Once you've done these things, you are ready to begin querying Twitter's API to see what you can learn about tweets!\n",
    "\n",
    "## Set up Twitter App \n",
    "\n",
    "After you have applied for <a href = \"https://apps.twitter.com/\" target=\"_blank\">Developer Access</a>, you can create an application in Twitter that you can use to access tweets. Make sure you already have a Twitter account. \n",
    "\n",
    "To create your application, you can follow a useful tutorial from `rtweet`, which includes a section on Create an application that is not specific to R:\n",
    "\n",
    "<a href=\"https://cran.r-project.org/web/packages/rtweet/vignettes/auth.html\" target=\"_blank\"><i class=\"fa fa-info-circle\" aria-hidden=\"true\"></i>TUTORIAL: How to setup a Twitter application using your Twitter account</a>\n",
    "\n",
    "NOTE: you will need to provide a phone number that can receive text messages (e.g. mobile or Google phone number) to Twitter to verify your use of the API.\n",
    "\n",
    "<figure>\n",
    " <a href=\"{{ site.url }}/images/courses/earth-analytics/week-12/boulder_twitter_map_visualizations.jpg\" >\n",
    " <img src=\"{{ site.url }}/images/courses/earth-analytics/week-12/boulder_twitter_map_visualizations.jpg\"  alt=\"Image showing tweet activity across Boulder and Denver.\"></a>\n",
    "    <figcaption>A heat map of the distribution of tweets across the Denver / Boulder region. <a href=\"http://www.socialmatt.com/amazing-denver-twitter-visualization/\" target=\"_blank\">Source: socialmatt.com</a>\n",
    "    </figcaption>\n",
    "</figure>\n",
    "\n",
    "## Access Twitter API in Python \n",
    "\n",
    "Once you have your Twitter app set-up, you are ready to access tweets in `Python`. Begin by importing the necessary `Python` libraries. "
   ]
  },
  {
   "cell_type": "code",
   "execution_count": 2,
   "metadata": {},
   "outputs": [],
   "source": [
    "import os\n",
    "import tweepy as tw\n",
    "import pandas as pd"
   ]
  },
  {
   "cell_type": "markdown",
   "metadata": {},
   "source": [
    "To access the Twitter API, you will need 4 things from the your Twitter App page. These keys are located in your Twitter app settings in the `Keys and Access Tokens` tab.\n",
    "\n",
    "* consumer key\n",
    "* consumer seceret key\n",
    "* access token key \n",
    "* access token secret key \n",
    "\n",
    "Do not share these with anyone else because these values are specific to your app. "
   ]
  },
  {
   "cell_type": "markdown",
   "metadata": {},
   "source": [
    "First you will need define your keys\n",
    "\n",
    "```Python\n",
    "consumer_key= 'yourkeyhere'\n",
    "consumer_secret= 'yourkeyhere'\n",
    "access_token= 'yourkeyhere'\n",
    "access_token_secret= 'yourkeyhere'\n",
    "```"
   ]
  },
  {
   "cell_type": "code",
   "execution_count": null,
   "metadata": {
    "tags": [
     "hide"
    ]
   },
   "outputs": [],
   "source": [
    "consumer_key = os.environ['tw_consumer_key']\n",
    "consumer_secret = os.environ['tw_consumer_secret']\n",
    "access_token = os.environ['tw_access_token']\n",
    "access_token_secret = os.environ['tw_access_secret']"
   ]
  },
  {
   "cell_type": "code",
   "execution_count": 3,
   "metadata": {},
   "outputs": [],
   "source": [
    "auth = tw.OAuthHandler(consumer_key, consumer_secret)\n",
    "auth.set_access_token(access_token, access_token_secret)\n",
    "api = tw.API(auth, wait_on_rate_limit=True)"
   ]
  },
  {
   "cell_type": "markdown",
   "metadata": {},
   "source": [
    "### Send a Tweet\n",
    "\n",
    "You can send tweets using your API access. Note that your tweet needs to be 280 characters or less.\n",
    "\n",
    "```python\n",
    "# Post a tweet from Python\n",
    "api.update_status(\"Look, I'm tweeting from #Python in my #earthanalytics class! @EarthLabCU\")\n",
    "# Your tweet has been posted!\n",
    "```"
   ]
  },
  {
   "cell_type": "markdown",
   "metadata": {},
   "source": [
    "### Search Twitter for Tweets\n",
    "\n",
    "Now you are ready to search Twitter for recent tweets! Start by finding recent tweets that use the `#wildfires` hashtag. You will use the `.Cursor` method to get an object containing tweets containing the hashtag `#wildfires`. \n",
    "\n",
    "To create this query, you will define the:\n",
    "1. Search term - in this case `#wildfires`\n",
    "2. the start date of your search\n",
    "\n",
    "Remember that the Twitter API only allows you to access the past few weeks of tweets, so you cannot dig into the history too far."
   ]
  },
  {
   "cell_type": "code",
   "execution_count": 4,
   "metadata": {},
   "outputs": [],
   "source": [
    "# Define the search term and the date_since date as variables\n",
    "search_words = \"#wildfires\"\n",
    "date_since = \"2018-11-16\""
   ]
  },
  {
   "cell_type": "markdown",
   "metadata": {},
   "source": [
    "Below you use `.Cursor()` to search twitter for tweets containing the search term #wildfires. You can restrict the number of tweets returned by specifying a number in the `.items()` method. `.items(5)` will return 5 of the most recent tweets.\n",
    "\n",
    "\n",
    "```python\n",
    "# Collect tweets\n",
    "tweets = tw.Cursor(api.search,\n",
    "              q=search_words,\n",
    "              lang=\"en\",\n",
    "              since=date_since).items(5)\n",
    "tweets\n",
    "\n",
    "```\n",
    "\n",
    "```\n",
    "<tweepy.cursor.ItemIterator at 0x7fafc296e400>\n",
    "```"
   ]
  },
  {
   "cell_type": "markdown",
   "metadata": {},
   "source": [
    "`.Cursor()` returns an object that you can iterate or loop over to access the data collected. Each item in the iterator has various attributes that you can access to get information about each tweet including:\n",
    "\n",
    "1. the text of the tweet\n",
    "2. who sent the tweet\n",
    "3. the date the tweet was sent\n",
    "\n",
    "and more. The code below loops through the object and prints the text associated with each tweet.\n",
    "\n",
    "\n",
    "\n",
    "```python\n",
    "# Collect tweets\n",
    "tweets = tw.Cursor(api.search,\n",
    "              q=search_words,\n",
    "              lang=\"en\",\n",
    "              since=date_since).items(5)\n",
    "\n",
    "# Iterate and print tweets\n",
    "for tweet in tweets:\n",
    "    print(tweet.text)\n",
    "    \n",
    "```\n",
    "\n",
    "```\n",
    "2/2 provide forest products to local mills, provide jobs to local communities, and improve the ecological health of… https://t.co/XemzXvyPyX\n",
    "1/2 Obama's Forest Service Chief in 2015 --&gt;\"Treating these acres through commercial thinning, hazardous fuels remo… https://t.co/01obvjezQW\n",
    "RT @EnviroEdgeNews: US-#Volunteers care for abandoned #pets found in #California #wildfires; #Dogs, #cats, [#horses], livestock get care an…\n",
    "RT @FairWarningNews: The wildfires that ravaged CA have been contained, but the health impacts from the resulting air pollution will be sev…\n",
    "RT @chiarabtownley: If you know anybody who has been affected by the wildfires, please refer them to @awarenow_io It is one of the companie…\n",
    "```"
   ]
  },
  {
   "cell_type": "markdown",
   "metadata": {},
   "source": [
    "The above approach uses a standard for loop. However, this is an excellent place to use a Python list comprehension. A list comprehension provides an efficient way to collect object elements contained within an iterator as a list.\n",
    "\n",
    "\n",
    "```python\n",
    "# Collect tweets\n",
    "tweets = tw.Cursor(api.search,\n",
    "                       q=search_words,\n",
    "                       lang=\"en\",\n",
    "                       since=date_since).items(5)\n",
    "\n",
    "# Collect a list of tweets\n",
    "[tweet.text for tweet in tweets]\n",
    "\n",
    "```\n",
    "\n",
    "```\n",
    "['Expert insight on how #wildfires impact our environment: https://t.co/sHg6PcC3R3',\n",
    " 'Lomakatsi crews join the firefight: \\n\\n#wildfires #smoke #firefighter\\n\\nhttps://t.co/DcI2uvmKQv',\n",
    " 'RT @rpallanuk: Current @PHE_uk #climate extremes bulletin: #Arctic #wildfires &amp; Greenland melt, #drought in Australia/NSW; #flooding+#droug…',\n",
    " \"RT @witzshared: And yet the lies continue. Can't trust a corporation this deaf dumb and blind -- PG&amp;E tells court deferred #Maintenance did…\",\n",
    " 'The #wildfires have consumed an area twice the size of Connecticut, and their smoke is reaching Seattle. Russia isn… https://t.co/SgoF6tds1s']\n",
    "```"
   ]
  },
  {
   "cell_type": "markdown",
   "metadata": {},
   "source": [
    "## To Keep or Remove Retweets\n",
    "\n",
    "A retweet is when someone shares someone else's tweet. It is similar to sharing in Facebook. Sometimes you may want to remove retweets as they contain duplicate content that might skew your analysis if you are only looking at word frequency. Other times, you may want to keep retweets. \n",
    "\n",
    "Below you ignore all retweets by adding `-filter:retweets` to your query. The <a href=\"https://developer.twitter.com/en/docs/tweets/rules-and-filtering/overview/standard-operators\" target=\"_blank\">Twitter API documentation</a> has information on other ways to customize your queries. "
   ]
  },
  {
   "cell_type": "code",
   "execution_count": 5,
   "metadata": {},
   "outputs": [
    {
     "data": {
      "text/plain": [
       "'#wildfires -filter:retweets'"
      ]
     },
     "execution_count": 5,
     "metadata": {},
     "output_type": "execute_result"
    }
   ],
   "source": [
    "new_search = search_words + \" -filter:retweets\"\n",
    "new_search"
   ]
  },
  {
   "cell_type": "code",
   "execution_count": 11,
   "metadata": {},
   "outputs": [
    {
     "data": {
      "text/plain": [
       "['I enjoyed working with @ACS on this @YouTube video on how fire retardants are used to suppress #wildfires. Always g… https://t.co/qEZptVucCH',\n",
       " \"Why don't Trump use the millions on helping out with victims from the wildfire's and flooded areas instead of a wal… https://t.co/NBN3AS9lli\",\n",
       " 'Expert insight on how #wildfires impact our environment: https://t.co/sHg6PcC3R3',\n",
       " 'Lomakatsi crews join the firefight: \\n\\n#wildfires #smoke #firefighter\\n\\nhttps://t.co/DcI2uvmKQv',\n",
       " 'The #wildfires have consumed an area twice the size of Connecticut, and their smoke is reaching Seattle. Russia isn… https://t.co/SgoF6tds1s']"
      ]
     },
     "execution_count": 11,
     "metadata": {},
     "output_type": "execute_result"
    }
   ],
   "source": [
    "tweets = tw.Cursor(api.search,\n",
    "                       q=new_search,\n",
    "                       lang=\"en\",\n",
    "                       since=date_since).items(5)\n",
    "\n",
    "[tweet.text for tweet in tweets]"
   ]
  },
  {
   "cell_type": "markdown",
   "metadata": {},
   "source": [
    "## Who is Tweeting About Wildfires?\n",
    "\n",
    "You can access a wealth of information associated with each tweet. Below is an example of accessing the users who are sending the tweets related to #wildfires and their locations. Note that user locations are manually entered into Twitter by the user. Thus, you will see a lot of variation in the format of this value. \n",
    "\n",
    "* `tweet.user.screen_name` provides the user's twitter handle associated with each tweet. \n",
    "* `tweet.user.location` provides the user's provided location. \n",
    "\n",
    "You can experiment with other items available within each tweet by typing `tweet.` and using the tab button to see all of the available attributes stored. \n"
   ]
  },
  {
   "cell_type": "code",
   "execution_count": 14,
   "metadata": {},
   "outputs": [
    {
     "data": {
      "text/plain": [
       "[['gollnerfire', 'College Park, MD'],\n",
       " ['Daniell42427439', 'United States'],\n",
       " ['BELFORGroup', 'USA'],\n",
       " ['mailtribune', 'Southern Oregon'],\n",
       " ['OHudsonValley', 'Hudson, NY']]"
      ]
     },
     "execution_count": 14,
     "metadata": {},
     "output_type": "execute_result"
    }
   ],
   "source": [
    "tweets = tw.Cursor(api.search, \n",
    "                           q=new_search,\n",
    "                           lang=\"en\",\n",
    "                           since=date_since).items(5)\n",
    "\n",
    "users_locs = [[tweet.user.screen_name, tweet.user.location] for tweet in tweets]\n",
    "users_locs"
   ]
  },
  {
   "cell_type": "markdown",
   "metadata": {},
   "source": [
    "## Create a `Pandas Dataframe` From A List of Tweet Data\n",
    "\n",
    "One you have a list of items that you wish to work with, you can create a pandas dataframe that contains that data. "
   ]
  },
  {
   "cell_type": "code",
   "execution_count": 15,
   "metadata": {},
   "outputs": [
    {
     "data": {
      "text/html": [
       "<div>\n",
       "<style scoped>\n",
       "    .dataframe tbody tr th:only-of-type {\n",
       "        vertical-align: middle;\n",
       "    }\n",
       "\n",
       "    .dataframe tbody tr th {\n",
       "        vertical-align: top;\n",
       "    }\n",
       "\n",
       "    .dataframe thead th {\n",
       "        text-align: right;\n",
       "    }\n",
       "</style>\n",
       "<table border=\"1\" class=\"dataframe\">\n",
       "  <thead>\n",
       "    <tr style=\"text-align: right;\">\n",
       "      <th></th>\n",
       "      <th>user</th>\n",
       "      <th>location</th>\n",
       "    </tr>\n",
       "  </thead>\n",
       "  <tbody>\n",
       "    <tr>\n",
       "      <th>0</th>\n",
       "      <td>gollnerfire</td>\n",
       "      <td>College Park, MD</td>\n",
       "    </tr>\n",
       "    <tr>\n",
       "      <th>1</th>\n",
       "      <td>Daniell42427439</td>\n",
       "      <td>United States</td>\n",
       "    </tr>\n",
       "    <tr>\n",
       "      <th>2</th>\n",
       "      <td>BELFORGroup</td>\n",
       "      <td>USA</td>\n",
       "    </tr>\n",
       "    <tr>\n",
       "      <th>3</th>\n",
       "      <td>mailtribune</td>\n",
       "      <td>Southern Oregon</td>\n",
       "    </tr>\n",
       "    <tr>\n",
       "      <th>4</th>\n",
       "      <td>OHudsonValley</td>\n",
       "      <td>Hudson, NY</td>\n",
       "    </tr>\n",
       "  </tbody>\n",
       "</table>\n",
       "</div>"
      ],
      "text/plain": [
       "              user          location\n",
       "0      gollnerfire  College Park, MD\n",
       "1  Daniell42427439     United States\n",
       "2      BELFORGroup               USA\n",
       "3      mailtribune   Southern Oregon\n",
       "4    OHudsonValley        Hudson, NY"
      ]
     },
     "execution_count": 15,
     "metadata": {},
     "output_type": "execute_result"
    }
   ],
   "source": [
    "tweet_text = pd.DataFrame(data=users_locs, \n",
    "                    columns=['user', \"location\"])\n",
    "tweet_text"
   ]
  },
  {
   "cell_type": "markdown",
   "metadata": {},
   "source": [
    "## Customizing Twitter Queries\n",
    "\n",
    "As mentioned above, you can customize your Twitter search queries by following the <a href=\"https://developer.twitter.com/en/docs/tweets/rules-and-filtering/overview/standard-operators\" target=\"_blank\">Twitter API documentation</a>. \n",
    "\n",
    "For instance, if you search for `climate+change`, Twitter will return all tweets that contain both of those words (in a row) in each tweet. \n",
    "\n",
    "Note that the code below creates a list that can be queried using Python indexing to return the first five tweets. \n",
    "\n",
    "\n",
    "```python\n",
    "new_search = \"climate+change -filter:retweets\"\n",
    "\n",
    "tweets = tw.Cursor(api.search,\n",
    "                   q=new_search,\n",
    "                   lang=\"en\",\n",
    "                   since='2018-04-23').items(1000)\n",
    "\n",
    "all_tweets = [tweet.text for tweet in tweets]\n",
    "all_tweets[:5]\n",
    "\n",
    "```\n",
    "\n",
    "\n",
    "```\n",
    "['They care so much for these bears, but climate change is altering their relationship with them. It’s getting so dan… https://t.co/D4wLNhhsdt',\n",
    " 'Prediction any celebrity/person in government that preaches about climate change probably is blackmailed… https://t.co/TM64QukGhy',\n",
    " '@RichardBurgon Brain washed and trying to do the same to others. Capitalism is ALL that \"Climate Change\" is about. https://t.co/GbNE87luVx',\n",
    " \"We're in a climate crisis, but Canada's handing out billions to fossil fuel companies. Click to change this:… https://t.co/oQZXUfOWe8\",\n",
    " 'Hundreds Of Starved Reindeer Found Dead In Norway, Climate Change Blamed - Forbes #nordic #norway https://t.co/9XLS8yi72l']\n",
    "```"
   ]
  },
  {
   "cell_type": "markdown",
   "metadata": {},
   "source": [
    "In the next lesson, you will explore calculating word frequencies associated with tweets using `Python`.\n",
    "\n",
    "<div class = \"notice--info\" markdown = \"1\" >\n",
    "\n",
    "## Additional Resources\n",
    "\n",
    "* <a href = \"http://docs.tweepy.org/en/v3.6.0/index.html\" target=\"_blank\"> View `tweepy` Documentation</a>\n",
    "* <a href=\"https://developer.twitter.com/en/docs/tweets/rules-and-filtering/overview/standard-operators\" target=\"_blank\">Twitter API documentation</a>\n",
    "\n",
    "</div >"
   ]
  },
  {
   "cell_type": "code",
   "execution_count": null,
   "metadata": {},
   "outputs": [],
   "source": []
  }
 ],
 "metadata": {
  "anaconda-cloud": {},
  "celltoolbar": "Tags",
  "kernelspec": {
   "display_name": "Python 3",
   "language": "python",
   "name": "python3"
  },
  "language_info": {
   "codemirror_mode": {
    "name": "ipython",
    "version": 3
   },
   "file_extension": ".py",
   "mimetype": "text/x-python",
   "name": "python",
   "nbconvert_exporter": "python",
   "pygments_lexer": "ipython3",
   "version": "3.7.6"
  },
  "toc": {
   "base_numbering": 1,
   "nav_menu": {},
   "number_sections": true,
   "sideBar": true,
   "skip_h1_title": false,
   "title_cell": "Table of Contents",
   "title_sidebar": "Contents",
   "toc_cell": false,
   "toc_position": {},
   "toc_section_display": true,
   "toc_window_display": false
  }
 },
 "nbformat": 4,
 "nbformat_minor": 2
}
