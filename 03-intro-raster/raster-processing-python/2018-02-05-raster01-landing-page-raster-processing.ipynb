{
 "cells": [
  {
   "cell_type": "raw",
   "metadata": {},
   "source": [
    "---\n",
    "layout: single\n",
    "title: \"Introduction to Raster Data Processing in Open Source Python\"\n",
    "excerpt: \"You can perform the same raster processing steps in Python that you would in a tool like ArcGIS. Learn how to process spatial raster data using Open Source Python.\"\n",
    "authors: ['Leah Wasser', 'Chris Holdgraf', 'Martha Morrissey']\n",
    "dateCreated: 2018-02-05\n",
    "modified: '{:%Y-%m-%d}'.format(datetime.now())\n",
    "category: [courses]\n",
    "class-lesson: ['raster-processing-python']\n",
    "permalink: /courses/use-data-open-source-python/intro-raster-data-python/raster-data-processing/\n",
    "nav-title: 'Process Raster Data'\n",
    "module-title: 'Raster Data Processing in Python'\n",
    "module-description: 'Common raster data processing tasks include cropping and reprojecting raster data, using raster math to derive new rasters, and reclassifying rasters using a set of values. Learn how to process raster data using open source Python.'\n",
    "module-nav-title: 'Processing Raster Data in Python'\n",
    "module-type: 'class'\n",
    "week: 3\n",
    "class-order: 2\n",
    "course: 'intermediate-earth-data-science-textbook'\n",
    "chapter: 5\n",
    "estimated-time: \"2-3 hours\"\n",
    "difficulty: \"intermediate\"\n",
    "sidebar:\n",
    "  nav:\n",
    "author_profile: false\n",
    "comments: true\n",
    "order: 1\n",
    "topics:\n",
    "  reproducible-science-and-programming: ['python']\n",
    "  remote-sensing: ['lidar']\n",
    "  earth-science: ['vegetation']\n",
    "  spatial-data-and-gis: ['raster-data']\n",
    "redirect_from:\n",
    "  - \"/courses/earth-analytics-python/lidar-raster-data/subtract-rasters-in-python/\"\n",
    "---"
   ]
  },
  {
   "cell_type": "markdown",
   "metadata": {},
   "source": [
    "{% include toc title=\"On This Page\" icon=\"file-text\" %}\n",
    "\n",
    "<div class='notice--success' markdown=\"1\">\n",
    "\n",
    "## <i class=\"fa fa-ship\" aria-hidden=\"true\"></i> Chapter Five - Raster Data Processing in Python \n",
    "\n",
    "In this chapter, you will learn how to process raster data. You will learn how to \n",
    "crop, reproject and reclassify raster data.\n",
    "\n",
    "## <i class=\"fa fa-graduation-cap\" aria-hidden=\"true\"></i> Learning Objectives\n",
    "\n",
    "After completing this chapter, you will be able to:\n",
    "\n",
    "* Use raster math in **Python** to derive new rasters, such as a Canopy Height Model (CHM).\n",
    "* Reclassify a raster dataset in **Python** using a set of defined values. \n",
    "* Crop a raster dataset in **Python** using a vector extent object derived from a shapefile.\n",
    "* Reproject a raster using **rasterio**.\n",
    "\n",
    "## <i class=\"fa fa-check-square-o fa-2\" aria-hidden=\"true\"></i> What You Need\n",
    "\n",
    "You will need a computer with internet access to complete this lesson.\n",
    "\n",
    "{% include/data_subsets/course_earth_analytics/_data-colorado-flood.md %}\n",
    "\n",
    "</div>"
   ]
  }
 ],
 "metadata": {
  "kernelspec": {
   "display_name": "Python 3",
   "language": "python",
   "name": "python3"
  },
  "language_info": {
   "codemirror_mode": {
    "name": "ipython",
    "version": 3
   },
   "file_extension": ".py",
   "mimetype": "text/x-python",
   "name": "python",
   "nbconvert_exporter": "python",
   "pygments_lexer": "ipython3",
   "version": "3.8.5"
  },
  "toc": {
   "base_numbering": 1,
   "nav_menu": {},
   "number_sections": true,
   "sideBar": true,
   "skip_h1_title": false,
   "title_cell": "Table of Contents",
   "title_sidebar": "Contents",
   "toc_cell": false,
   "toc_position": {},
   "toc_section_display": true,
   "toc_window_display": false
  }
 },
 "nbformat": 4,
 "nbformat_minor": 4
}
