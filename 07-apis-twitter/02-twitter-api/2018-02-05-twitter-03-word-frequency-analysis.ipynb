{
 "cells": [
  {
   "cell_type": "raw",
   "metadata": {},
   "source": [
    "---\n",
    "layout: single\n",
    "title: 'Analyze Word Frequency Counts Using Twitter Data and Tweepy in Python'\n",
    "excerpt: 'One common way to analyze Twitter data is to calculate word frequencies to understand how often words are used in tweets on a particular topic. To complete any analysis, you need to first prepare the data. Learn how to clean Twitter data and calculate word frequencies using Python.'\n",
    "authors: ['Martha Morrissey', 'Leah Wasser', 'Jeremey Diaz', 'Jenny Palomino']\n",
    "modified: '{:%Y-%m-%d}'.format(datetime.now())\n",
    "category: [courses]\n",
    "class-lesson: ['social-media-python']\n",
    "permalink: /courses/use-data-open-source-python/intro-to-apis/calculate-tweet-word-frequencies-in-python/\n",
    "nav-title: 'Tweet Word Frequency Analysis'\n",
    "week: 7 \n",
    "sidebar:\n",
    "    nav:\n",
    "author_profile: false\n",
    "comments: true\n",
    "order: 3\n",
    "course: \"intermediate-earth-data-science-textbook\"\n",
    "topics:\n",
    "    find-and-manage-data: ['apis']\n",
    "redirect_from:\n",
    "  - \"/courses/earth-analytics-python/using-apis-natural-language-processing-twitter/calculate-tweet-word-frequencies-in-python/\"\n",
    "---"
   ]
  },
  {
   "cell_type": "markdown",
   "metadata": {},
   "source": [
    "{% include toc title = \"In This Lesson\" icon=\"file-text\" %}\n",
    "\n",
    "<div class='notice--success' markdown=\"1\">\n",
    "\n",
    "## <i class=\"fa fa-graduation-cap\" aria-hidden=\"true\"></i> Learning Objectives\n",
    "\n",
    "After completing this tutorial, you will be able to:\n",
    "\n",
    "* Clean or \"munge\" social media data to prepare it for analysis.\n",
    "* Explore and analyze word counts associated with tweets.\n",
    "\n",
    "## <i class=\"fa fa-check-square-o fa-2\" aria-hidden=\"true\"></i> What You Need\n",
    "\n",
    "You will need a computer with internet access to complete this lesson.\n",
    "\n",
    "</div>\n",
    "\n",
    "In this lesson, you will learn how to take a set of tweets and clean them, in order to analyze the frequency of words found in the tweets. You will learn how to do several things including:\n",
    "\n",
    "1. Remove URLs from tweets.\n",
    "2. Clean up tweet text, including differences in case (e.g. upper, lower) that will affect unique word counts and removing words that are not useful for the analysis. \n",
    "3. Summarize and count words found in tweets.\n",
    "\n",
    "\n",
    "## Get Tweets Related to Climate\n",
    "\n",
    "When you work with social media and other text data, the user community creates and curates the content. This means there are NO RULES! This also means that you may have to perform extra steps to clean the data to ensure you are analyzing the right thing.\n",
    "\n",
    "Next, you will explore the text associated with a set of tweets that you access using `Tweepy` and the Twitter API. You will use some standard natural language processing (also known as text mining) approaches to do this."
   ]
  },
  {
   "cell_type": "code",
   "execution_count": 1,
   "metadata": {},
   "outputs": [],
   "source": [
    "import os\n",
    "import pandas as pd\n",
    "import matplotlib.pyplot as plt\n",
    "import seaborn as sns\n",
    "import itertools\n",
    "import collections\n",
    "\n",
    "import tweepy as tw\n",
    "import nltk\n",
    "from nltk.corpus import stopwords\n",
    "import re\n",
    "import networkx\n",
    "\n",
    "import warnings\n",
    "warnings.filterwarnings(\"ignore\")\n",
    "\n",
    "sns.set(font_scale=1.5)\n",
    "sns.set_style(\"whitegrid\")"
   ]
  },
  {
   "cell_type": "markdown",
   "metadata": {},
   "source": [
    "Remember to define your keys: \n",
    "\n",
    "```python \n",
    "consumer_key= 'yourkeyhere'\n",
    "consumer_secret= 'yourkeyhere'\n",
    "access_token= 'yourkeyhere'\n",
    "access_token_secret= 'yourkeyhere'\n",
    "```"
   ]
  },
  {
   "cell_type": "code",
   "execution_count": 2,
   "metadata": {
    "tags": [
     "hide"
    ]
   },
   "outputs": [],
   "source": [
    "consumer_key = os.environ['tw_consumer_key']\n",
    "consumer_secret = os.environ['tw_consumer_secret']\n",
    "access_token = os.environ['tw_access_token']\n",
    "access_token_secret = os.environ['tw_access_secret']"
   ]
  },
  {
   "cell_type": "code",
   "execution_count": 3,
   "metadata": {},
   "outputs": [],
   "source": [
    "auth = tw.OAuthHandler(consumer_key, consumer_secret)\n",
    "auth.set_access_token(access_token, access_token_secret)\n",
    "api = tw.API(auth, wait_on_rate_limit=True)"
   ]
  },
  {
   "cell_type": "markdown",
   "metadata": {},
   "source": [
    "Now that you've authenticated you're ready to search for tweets that contain `#climatechange`. Below you grab 1000 recent tweets and add them to a list. "
   ]
  },
  {
   "cell_type": "code",
   "execution_count": 4,
   "metadata": {},
   "outputs": [
    {
     "data": {
      "text/plain": [
       "['How #Climate Change Scientists Are Learning To Get Their Message Across ... #Communications  #Science via @forbes https://t.co/NnsBYZRDNg',\n",
       " '@Obikonobe @LesIsMore1 @Bruce_Winter @JackieForrest @PTertzakian @RachelNotley Facts do not require your belief to… https://t.co/7L6o5DiVsA',\n",
       " \"Here's How Much #Climate Change Could Cost the U.S. https://t.co/5KtsvZYCEY via @sciam\",\n",
       " 'The UN’s #CLIMATE Change Conference is Meeting…in Poland’s #COAL Country https://t.co/Y8Wt4CTSda #GPWX #GlobalWarming #climatechange',\n",
       " '\"..and it highlights how the govt’s current abomination of a #climate change policy is not just hopelessly damaged… https://t.co/6h8kBcI5Tq']"
      ]
     },
     "execution_count": 4,
     "metadata": {},
     "output_type": "execute_result"
    }
   ],
   "source": [
    "search_term = \"#climate+change -filter:retweets\"\n",
    "\n",
    "tweets = tw.Cursor(api.search,\n",
    "                   q=search_term,\n",
    "                   lang=\"en\",\n",
    "                   since='2018-11-01').items(1000)\n",
    "\n",
    "all_tweets = [tweet.text for tweet in tweets]\n",
    "\n",
    "all_tweets[:5]"
   ]
  },
  {
   "cell_type": "markdown",
   "metadata": {},
   "source": [
    "## Remove URLs (links)\n",
    "\n",
    "The tweets above have some elements that you do not want in your word counts. For instance, URLs will not be analyzed in this lesson. You can remove URLs (links) using regular expressions accessed from the `re` package. \n",
    "\n",
    "Re stands for `regular expressions`. Regular expressions are a special syntax that is used to identify patterns in a string. \n",
    "\n",
    "While this lesson will not cover regular expressions, it is helpful to understand that this syntax below:\n",
    "\n",
    "`([^0-9A-Za-z \\t])|(\\w+:\\/\\/\\S+)`\n",
    "\n",
    "Tells the search to find all strings that look like a URL, and replace it with nothing -- `\"\"`. It also removes other punctionation including hashtags - `#`.\n",
    "\n",
    "`re.sub` allows you to substitute a selection of characters defined using a regular expression, with something else. \n",
    "\n",
    "In the function defined below, this line takes the text in each tweet and replaces the URL with `\"\"` (nothing):\n",
    "`re.sub(\"([^0-9A-Za-z \\t])|(\\w+:\\/\\/\\S+)\", \"\", tweet`"
   ]
  },
  {
   "cell_type": "code",
   "execution_count": 5,
   "metadata": {},
   "outputs": [],
   "source": [
    "def remove_url(txt):\n",
    "    \"\"\"Replace URLs found in a text string with nothing \n",
    "    (i.e. it will remove the URL from the string).\n",
    "\n",
    "    Parameters\n",
    "    ----------\n",
    "    txt : string\n",
    "        A text string that you want to parse and remove urls.\n",
    "\n",
    "    Returns\n",
    "    -------\n",
    "    The same txt string with url's removed.\n",
    "    \"\"\"\n",
    "\n",
    "    return \" \".join(re.sub(\"([^0-9A-Za-z \\t])|(\\w+:\\/\\/\\S+)\", \"\", txt).split())"
   ]
  },
  {
   "cell_type": "markdown",
   "metadata": {},
   "source": [
    "After defining the function, you can call it in a list comprehension to create a list of the clean tweets. "
   ]
  },
  {
   "cell_type": "code",
   "execution_count": 6,
   "metadata": {},
   "outputs": [
    {
     "data": {
      "text/plain": [
       "['How Climate Change Scientists Are Learning To Get Their Message Across Communications Science via forbes',\n",
       " 'Obikonobe LesIsMore1 BruceWinter JackieForrest PTertzakian RachelNotley Facts do not require your belief to',\n",
       " 'Heres How Much Climate Change Could Cost the US via sciam',\n",
       " 'The UNs CLIMATE Change Conference is Meetingin Polands COAL Country GPWX GlobalWarming climatechange',\n",
       " 'and it highlights how the govts current abomination of a climate change policy is not just hopelessly damaged']"
      ]
     },
     "execution_count": 6,
     "metadata": {},
     "output_type": "execute_result"
    }
   ],
   "source": [
    "all_tweets_no_urls = [remove_url(tweet) for tweet in all_tweets]\n",
    "all_tweets_no_urls[:5]"
   ]
  },
  {
   "cell_type": "markdown",
   "metadata": {},
   "source": [
    "### Text Cleanup - Address Case Issues\n",
    "\n",
    "Capitalization is also a challenge when analyzing text data. If you are trying to create a list of unique words in your tweets, words with capitalization will be different from words that are all lowercase."
   ]
  },
  {
   "cell_type": "code",
   "execution_count": 7,
   "metadata": {},
   "outputs": [
    {
     "data": {
      "text/plain": [
       "{',', 'Dog', 'cat', 'dog'}"
      ]
     },
     "execution_count": 7,
     "metadata": {},
     "output_type": "execute_result"
    }
   ],
   "source": [
    "# Note how capitalization impacts unique returned values\n",
    "ex_list = [\"Dog\", \"dog\", \"dog\", \"cat\", \"cat\", \",\"]\n",
    "\n",
    "# Get unique elements in the list\n",
    "set(ex_list)"
   ]
  },
  {
   "cell_type": "markdown",
   "metadata": {},
   "source": [
    "To account for this, you can make each word lowercase using the string method `.lower()`. In the code below, this method is applied using a list comprehension."
   ]
  },
  {
   "cell_type": "code",
   "execution_count": 8,
   "metadata": {},
   "outputs": [
    {
     "data": {
      "text/plain": [
       "['dog', 'dog', 'dog', 'cat', 'cat', ',']"
      ]
     },
     "execution_count": 8,
     "metadata": {},
     "output_type": "execute_result"
    }
   ],
   "source": [
    "# Note how capitalization impacts unique returned values\n",
    "words_list = [\"Dog\", \"dog\", \"dog\", \"cat\", \"cat\", \",\"]\n",
    "\n",
    "# Make all elements in the list lowercase\n",
    "lower_case = [word.lower() for word in words_list]\n",
    "\n",
    "# Get all elements in the list\n",
    "lower_case"
   ]
  },
  {
   "cell_type": "markdown",
   "metadata": {},
   "source": [
    "Now all of the words in your list are lowercase. You can again use `set()` function to return only unique words."
   ]
  },
  {
   "cell_type": "code",
   "execution_count": 9,
   "metadata": {},
   "outputs": [
    {
     "data": {
      "text/plain": [
       "{',', 'cat', 'dog'}"
      ]
     },
     "execution_count": 9,
     "metadata": {},
     "output_type": "execute_result"
    }
   ],
   "source": [
    "# Now you have only unique words\n",
    "set(lower_case)"
   ]
  },
  {
   "cell_type": "markdown",
   "metadata": {},
   "source": [
    "## Create List of Lower Case Words from Tweets\n",
    "\n",
    "Right now, you have a list of lists that contains each full tweet and you know how to lowercase the words.\n",
    "\n",
    "However, to do a word frequency analysis, you need a list of all of the words associated with each tweet. You can use `.split()` to split out each word into a unique element in a list, as shown below."
   ]
  },
  {
   "cell_type": "code",
   "execution_count": 10,
   "metadata": {},
   "outputs": [
    {
     "data": {
      "text/plain": [
       "['How',\n",
       " 'Climate',\n",
       " 'Change',\n",
       " 'Scientists',\n",
       " 'Are',\n",
       " 'Learning',\n",
       " 'To',\n",
       " 'Get',\n",
       " 'Their',\n",
       " 'Message',\n",
       " 'Across',\n",
       " 'Communications',\n",
       " 'Science',\n",
       " 'via',\n",
       " 'forbes']"
      ]
     },
     "execution_count": 10,
     "metadata": {},
     "output_type": "execute_result"
    }
   ],
   "source": [
    "# Split the words from one tweet into unique elements\n",
    "all_tweets_no_urls[0].split()"
   ]
  },
  {
   "cell_type": "markdown",
   "metadata": {},
   "source": [
    "Of course, you will notice above that you have a capital word in your list of words. \n",
    "\n",
    "You can combine `.lower()` with `.split()` to remove capital letters and split up the tweet in one step. Below is an example of applying these methods to the first tweet in the list. "
   ]
  },
  {
   "cell_type": "code",
   "execution_count": 11,
   "metadata": {},
   "outputs": [
    {
     "data": {
      "text/plain": [
       "['how',\n",
       " 'climate',\n",
       " 'change',\n",
       " 'scientists',\n",
       " 'are',\n",
       " 'learning',\n",
       " 'to',\n",
       " 'get',\n",
       " 'their',\n",
       " 'message',\n",
       " 'across',\n",
       " 'communications',\n",
       " 'science',\n",
       " 'via',\n",
       " 'forbes']"
      ]
     },
     "execution_count": 11,
     "metadata": {},
     "output_type": "execute_result"
    }
   ],
   "source": [
    "# Split the words from one tweet into unique elements\n",
    "all_tweets_no_urls[0].lower().split()"
   ]
  },
  {
   "cell_type": "markdown",
   "metadata": {},
   "source": [
    "To split and lower case words in all of the tweets, you can string both methods `.lower()` and `.split()` together in a list comprehension."
   ]
  },
  {
   "cell_type": "code",
   "execution_count": 12,
   "metadata": {},
   "outputs": [
    {
     "data": {
      "text/plain": [
       "[['how',\n",
       "  'climate',\n",
       "  'change',\n",
       "  'scientists',\n",
       "  'are',\n",
       "  'learning',\n",
       "  'to',\n",
       "  'get',\n",
       "  'their',\n",
       "  'message',\n",
       "  'across',\n",
       "  'communications',\n",
       "  'science',\n",
       "  'via',\n",
       "  'forbes'],\n",
       " ['obikonobe',\n",
       "  'lesismore1',\n",
       "  'brucewinter',\n",
       "  'jackieforrest',\n",
       "  'ptertzakian',\n",
       "  'rachelnotley',\n",
       "  'facts',\n",
       "  'do',\n",
       "  'not',\n",
       "  'require',\n",
       "  'your',\n",
       "  'belief',\n",
       "  'to']]"
      ]
     },
     "execution_count": 12,
     "metadata": {},
     "output_type": "execute_result"
    }
   ],
   "source": [
    "# Create a list of lists containing lowercase words for each tweet\n",
    "words_in_tweet = [tweet.lower().split() for tweet in all_tweets_no_urls]\n",
    "words_in_tweet[:2]"
   ]
  },
  {
   "cell_type": "markdown",
   "metadata": {},
   "source": [
    "### Calculate and Plot Word Frequency\n",
    "\n",
    "To get the count of how many times each word appears in the sample, you can use the built-in `Python` library `collections`, which helps create a special type of a `Python dictonary.` The `collection.Counter` object has a useful built-in method `most_common` that will return the most commonly used words and the number of times that they are used. \n",
    "\n",
    "To begin, flatten your list, so that all words across the tweets are in one list. Note that you could flatten your list with another list comprehension like this:\n",
    "`all_words = [item for sublist in tweets_nsw for item in sublist]`\n",
    "\n",
    "However, it is actually faster to use `itertools` to flatten the list as follows."
   ]
  },
  {
   "cell_type": "code",
   "execution_count": 13,
   "metadata": {},
   "outputs": [
    {
     "data": {
      "text/plain": [
       "[('climate', 948),\n",
       " ('change', 655),\n",
       " ('the', 621),\n",
       " ('to', 404),\n",
       " ('of', 304),\n",
       " ('in', 243),\n",
       " ('and', 233),\n",
       " ('is', 220),\n",
       " ('on', 211),\n",
       " ('a', 201),\n",
       " ('we', 150),\n",
       " ('for', 145),\n",
       " ('are', 136),\n",
       " ('climatechange', 121),\n",
       " ('you', 82)]"
      ]
     },
     "execution_count": 13,
     "metadata": {},
     "output_type": "execute_result"
    }
   ],
   "source": [
    "# List of all words across tweets\n",
    "all_words_no_urls = list(itertools.chain(*words_in_tweet))\n",
    "\n",
    "# Create counter\n",
    "counts_no_urls = collections.Counter(all_words_no_urls)\n",
    "\n",
    "counts_no_urls.most_common(15)"
   ]
  },
  {
   "cell_type": "markdown",
   "metadata": {},
   "source": [
    "Based on the counter, you can create a `Pandas Dataframe` for analysis and plotting that includes only the top 15 most common words. "
   ]
  },
  {
   "cell_type": "code",
   "execution_count": 14,
   "metadata": {},
   "outputs": [
    {
     "data": {
      "text/html": [
       "<div>\n",
       "<style scoped>\n",
       "    .dataframe tbody tr th:only-of-type {\n",
       "        vertical-align: middle;\n",
       "    }\n",
       "\n",
       "    .dataframe tbody tr th {\n",
       "        vertical-align: top;\n",
       "    }\n",
       "\n",
       "    .dataframe thead th {\n",
       "        text-align: right;\n",
       "    }\n",
       "</style>\n",
       "<table border=\"1\" class=\"dataframe\">\n",
       "  <thead>\n",
       "    <tr style=\"text-align: right;\">\n",
       "      <th></th>\n",
       "      <th>words</th>\n",
       "      <th>count</th>\n",
       "    </tr>\n",
       "  </thead>\n",
       "  <tbody>\n",
       "    <tr>\n",
       "      <th>0</th>\n",
       "      <td>climate</td>\n",
       "      <td>948</td>\n",
       "    </tr>\n",
       "    <tr>\n",
       "      <th>1</th>\n",
       "      <td>change</td>\n",
       "      <td>655</td>\n",
       "    </tr>\n",
       "    <tr>\n",
       "      <th>2</th>\n",
       "      <td>the</td>\n",
       "      <td>621</td>\n",
       "    </tr>\n",
       "    <tr>\n",
       "      <th>3</th>\n",
       "      <td>to</td>\n",
       "      <td>404</td>\n",
       "    </tr>\n",
       "    <tr>\n",
       "      <th>4</th>\n",
       "      <td>of</td>\n",
       "      <td>304</td>\n",
       "    </tr>\n",
       "  </tbody>\n",
       "</table>\n",
       "</div>"
      ],
      "text/plain": [
       "     words  count\n",
       "0  climate    948\n",
       "1   change    655\n",
       "2      the    621\n",
       "3       to    404\n",
       "4       of    304"
      ]
     },
     "execution_count": 14,
     "metadata": {},
     "output_type": "execute_result"
    }
   ],
   "source": [
    "clean_tweets_no_urls = pd.DataFrame(counts_no_urls.most_common(15),\n",
    "                             columns=['words', 'count'])\n",
    "\n",
    "clean_tweets_no_urls.head()"
   ]
  },
  {
   "cell_type": "markdown",
   "metadata": {},
   "source": [
    "Using this `Pandas Dataframe`, you can create a horizontal bar graph of the top 15 most common words in the tweets as shown below.  "
   ]
  },
  {
   "cell_type": "code",
   "execution_count": 20,
   "metadata": {
    "caption": "This plot displays the frequency of all words in the tweets on climate change, after URLs have been removed."
   },
   "outputs": [
    {
     "data": {
      "image/png": "[encoded data removed]",
      "text/plain": [
       "<Figure size 576x576 with 1 Axes>"
      ]
     },
     "metadata": {},
     "output_type": "display_data"
    }
   ],
   "source": [
    "fig, ax = plt.subplots(figsize=(8, 8))\n",
    "\n",
    "# Plot horizontal bar graph\n",
    "clean_tweets_no_urls.sort_values(by='count').plot.barh(x='words',\n",
    "                      y='count',\n",
    "                      ax=ax,\n",
    "                      color=\"purple\")\n",
    "\n",
    "ax.set_title(\"Common Words Found in Tweets (Including All Words)\")\n",
    "\n",
    "plt.show()"
   ]
  },
  {
   "cell_type": "markdown",
   "metadata": {
    "tags": [
     "hide"
    ]
   },
   "source": [
    "### Tweet Length Analysis\n",
    "\n",
    "A tweet is limited to 280 characters. You can explore how many words (not including links) were used by people that recently tweeted about climate change. To do this, you will use the `len()` function to calculate the length of each list of words that are associated with each tweet."
   ]
  },
  {
   "cell_type": "code",
   "execution_count": null,
   "metadata": {
    "tags": [
     "hide"
    ]
   },
   "outputs": [],
   "source": [
    "tweet_word_count = [len(word) for word in words_in_tweet]\n",
    "tweet_word_count[:3]"
   ]
  },
  {
   "cell_type": "markdown",
   "metadata": {
    "tags": [
     "hide"
    ]
   },
   "source": [
    "You can use the list you created above to plot the distribution of tweet length."
   ]
  },
  {
   "cell_type": "code",
   "execution_count": null,
   "metadata": {
    "tags": [
     "hide"
    ]
   },
   "outputs": [],
   "source": [
    "# Get the average word count\n",
    "#average_word_count = np.mean(tweet_word_count)\n",
    "\n",
    "# Print this value out in a text statement\n",
    "#print('The average number of words in each tweet is %0.6f' % average_word_count)\n",
    "\n",
    "#fig, ax = plt.subplots(figsize=(8, 6))\n",
    "\n",
    "# Plot the histogram\n",
    "#ax.hist(tweet_word_count,\n",
    "        #bins=50, color=\"purple\")\n",
    "\n",
    "# Add labels of specified sizes\n",
    "#ax.set(xlabel=\"Word Count\",\n",
    "#       ylabel=\"Frequency\",\n",
    "#       title=\"Tweet Word Count Distribution\")\n",
    "\n",
    "# Plot a line for the average value\n",
    "#ax.axvline(x=average_word_count,\n",
    "#           lw=2,\n",
    "#           color='red',\n",
    "#           linestyle='--')\n",
    "#plt.show()"
   ]
  },
  {
   "cell_type": "markdown",
   "metadata": {},
   "source": [
    "## Remove Stopwords With `nltk`\n",
    "\n",
    "In addition to lowercase words, you may also want to perform additional clean-up, such as removing words that do not add meaningful information to the text you are trying to analysis. These words referred to as \"stop words\" and include commonly appearing words such as who, what, you, etc.\n",
    "\n",
    "The `Python` package `nltk`, commonly used for text analysis, provides a list of \"stop words\" that you can use to clean your Twitter data."
   ]
  },
  {
   "cell_type": "code",
   "execution_count": 21,
   "metadata": {},
   "outputs": [
    {
     "name": "stdout",
     "output_type": "stream",
     "text": [
      "[nltk_data] Downloading package stopwords to\n",
      "[nltk_data]     /home/jpalomino/nltk_data...\n",
      "[nltk_data]   Package stopwords is already up-to-date!\n"
     ]
    },
    {
     "data": {
      "text/plain": [
       "True"
      ]
     },
     "execution_count": 21,
     "metadata": {},
     "output_type": "execute_result"
    }
   ],
   "source": [
    "nltk.download('stopwords')"
   ]
  },
  {
   "cell_type": "code",
   "execution_count": 22,
   "metadata": {},
   "outputs": [
    {
     "data": {
      "text/plain": [
       "['wouldn',\n",
       " 'our',\n",
       " 'who',\n",
       " 'under',\n",
       " 're',\n",
       " 'through',\n",
       " 'down',\n",
       " 'once',\n",
       " 'between',\n",
       " 'out']"
      ]
     },
     "execution_count": 22,
     "metadata": {},
     "output_type": "execute_result"
    }
   ],
   "source": [
    "stop_words = set(stopwords.words('english'))\n",
    "\n",
    "# View a few words from the set\n",
    "list(stop_words)[0:10]"
   ]
  },
  {
   "cell_type": "markdown",
   "metadata": {},
   "source": [
    "Notice that the stop words provided by `nltk` are all lower-case. This works well given you already have converted all of your tweet words to lower case using the `Python` `string` method `.lower()`. \n",
    "\n",
    "Next, you will remove all stop words from each tweet. First, have a look at the words in the first tweet below."
   ]
  },
  {
   "cell_type": "code",
   "execution_count": 23,
   "metadata": {
    "scrolled": true
   },
   "outputs": [
    {
     "data": {
      "text/plain": [
       "['how',\n",
       " 'climate',\n",
       " 'change',\n",
       " 'scientists',\n",
       " 'are',\n",
       " 'learning',\n",
       " 'to',\n",
       " 'get',\n",
       " 'their',\n",
       " 'message',\n",
       " 'across',\n",
       " 'communications',\n",
       " 'science',\n",
       " 'via',\n",
       " 'forbes']"
      ]
     },
     "execution_count": 23,
     "metadata": {},
     "output_type": "execute_result"
    }
   ],
   "source": [
    "words_in_tweet[0]"
   ]
  },
  {
   "cell_type": "markdown",
   "metadata": {},
   "source": [
    "Below, you remove all of the stop words in each tweet. The list comprehension below might look confusing as it is nested. The list comprehension below is the same as calling:\n",
    "\n",
    "```python\n",
    "for all_words in words_in_tweet:\n",
    "    for a word in all_words:\n",
    "        # remove stop words\n",
    "```\n",
    "\n",
    "Now, compare the words in the original tweet to the words in the tweet after the stop words are removed: "
   ]
  },
  {
   "cell_type": "code",
   "execution_count": 24,
   "metadata": {},
   "outputs": [
    {
     "data": {
      "text/plain": [
       "['climate',\n",
       " 'change',\n",
       " 'scientists',\n",
       " 'learning',\n",
       " 'get',\n",
       " 'message',\n",
       " 'across',\n",
       " 'communications',\n",
       " 'science',\n",
       " 'via',\n",
       " 'forbes']"
      ]
     },
     "execution_count": 24,
     "metadata": {},
     "output_type": "execute_result"
    }
   ],
   "source": [
    "# Remove stop words from each tweet list of words\n",
    "tweets_nsw = [[word for word in tweet_words if not word in stop_words]\n",
    "              for tweet_words in words_in_tweet]\n",
    "\n",
    "tweets_nsw[0]"
   ]
  },
  {
   "cell_type": "markdown",
   "metadata": {},
   "source": [
    "Again, you can flatten your list and create a counter to return the most commonly used words and the number of times that they are used.  "
   ]
  },
  {
   "cell_type": "code",
   "execution_count": 25,
   "metadata": {},
   "outputs": [
    {
     "data": {
      "text/plain": [
       "[('climate', 948),\n",
       " ('change', 655),\n",
       " ('climatechange', 121),\n",
       " ('cop24', 68),\n",
       " ('via', 62),\n",
       " ('world', 61),\n",
       " ('us', 58),\n",
       " ('un', 52),\n",
       " ('amp', 47),\n",
       " ('globalwarming', 44),\n",
       " ('trump', 44),\n",
       " ('people', 41),\n",
       " ('action', 39),\n",
       " ('news', 39),\n",
       " ('gpwx', 36)]"
      ]
     },
     "execution_count": 25,
     "metadata": {},
     "output_type": "execute_result"
    }
   ],
   "source": [
    "all_words_nsw = list(itertools.chain(*tweets_nsw))\n",
    "\n",
    "counts_nsw = collections.Counter(all_words_nsw)\n",
    "\n",
    "counts_nsw.most_common(15)"
   ]
  },
  {
   "cell_type": "markdown",
   "metadata": {},
   "source": [
    "Then, you can create the `Pandas Dataframe` and plot the word frequencies without the stop words. "
   ]
  },
  {
   "cell_type": "code",
   "execution_count": 26,
   "metadata": {
    "caption": "This plot displays the frequency of the words in the tweets on climate change, after URLs and stop words have been removed."
   },
   "outputs": [
    {
     "data": {
      "image/png": "[encoded data removed]",
      "text/plain": [
       "<Figure size 576x576 with 1 Axes>"
      ]
     },
     "metadata": {},
     "output_type": "display_data"
    }
   ],
   "source": [
    "clean_tweets_nsw = pd.DataFrame(counts_nsw.most_common(15),\n",
    "                             columns=['words', 'count'])\n",
    "\n",
    "fig, ax = plt.subplots(figsize=(8, 8))\n",
    "\n",
    "# Plot horizontal bar graph\n",
    "clean_tweets_nsw.sort_values(by='count').plot.barh(x='words',\n",
    "                      y='count',\n",
    "                      ax=ax,\n",
    "                      color=\"purple\")\n",
    "\n",
    "ax.set_title(\"Common Words Found in Tweets (Without Stop Words)\")\n",
    "\n",
    "plt.show()"
   ]
  },
  {
   "cell_type": "markdown",
   "metadata": {},
   "source": [
    "## Remove Collection Words\n",
    "\n",
    "In additional to removing stopwords, it is common to also remove collection words. Collection words are the words that you used to query your data from Twitter. \n",
    "\n",
    "In this case, you used \"climate change\" as a collection term. Thus, you can expect that these terms will be found in each tweet. This could skew your word frequency analysis. \n",
    "\n",
    "Below you remove the collection words - climate, change, and climatechange - from the tweets through list comprehension.  "
   ]
  },
  {
   "cell_type": "code",
   "execution_count": 27,
   "metadata": {},
   "outputs": [],
   "source": [
    "collection_words = ['climatechange', 'climate', 'change']"
   ]
  },
  {
   "cell_type": "code",
   "execution_count": 28,
   "metadata": {},
   "outputs": [],
   "source": [
    "tweets_nsw_nc = [[w for w in word if not w in collection_words]\n",
    "                 for word in tweets_nsw]"
   ]
  },
  {
   "cell_type": "markdown",
   "metadata": {},
   "source": [
    "Compare the words in first tweet with and without the collection words."
   ]
  },
  {
   "cell_type": "code",
   "execution_count": 29,
   "metadata": {},
   "outputs": [
    {
     "data": {
      "text/plain": [
       "['climate',\n",
       " 'change',\n",
       " 'scientists',\n",
       " 'learning',\n",
       " 'get',\n",
       " 'message',\n",
       " 'across',\n",
       " 'communications',\n",
       " 'science',\n",
       " 'via',\n",
       " 'forbes']"
      ]
     },
     "execution_count": 29,
     "metadata": {},
     "output_type": "execute_result"
    }
   ],
   "source": [
    "tweets_nsw[0]"
   ]
  },
  {
   "cell_type": "code",
   "execution_count": 30,
   "metadata": {},
   "outputs": [
    {
     "data": {
      "text/plain": [
       "['scientists',\n",
       " 'learning',\n",
       " 'get',\n",
       " 'message',\n",
       " 'across',\n",
       " 'communications',\n",
       " 'science',\n",
       " 'via',\n",
       " 'forbes']"
      ]
     },
     "execution_count": 30,
     "metadata": {},
     "output_type": "execute_result"
    }
   ],
   "source": [
    "tweets_nsw_nc[0]"
   ]
  },
  {
   "cell_type": "markdown",
   "metadata": {},
   "source": [
    "## Calculate and Plot Word Frequency of Clean Tweets\n",
    "\n",
    "Now that you have cleaned up your data, you are ready to calculate and plot the final word frequency results.\n",
    "\n",
    "Using the skills you have learned, you can flatten the list and create the counter for the words in the tweets. "
   ]
  },
  {
   "cell_type": "code",
   "execution_count": 31,
   "metadata": {},
   "outputs": [
    {
     "data": {
      "text/plain": [
       "[('cop24', 68),\n",
       " ('via', 62),\n",
       " ('world', 61),\n",
       " ('us', 58),\n",
       " ('un', 52),\n",
       " ('amp', 47),\n",
       " ('globalwarming', 44),\n",
       " ('trump', 44),\n",
       " ('people', 41),\n",
       " ('action', 39),\n",
       " ('news', 39),\n",
       " ('gpwx', 36),\n",
       " ('new', 36),\n",
       " ('climateaction', 34),\n",
       " ('threat', 33)]"
      ]
     },
     "execution_count": 31,
     "metadata": {},
     "output_type": "execute_result"
    }
   ],
   "source": [
    "# Flatten list of words in clean tweets\n",
    "all_words_nsw_nc = list(itertools.chain(*tweets_nsw_nc))\n",
    "\n",
    "# Create counter of words in clean tweets\n",
    "counts_nsw_nc = collections.Counter(all_words_nsw_nc)\n",
    "\n",
    "counts_nsw_nc.most_common(15)"
   ]
  },
  {
   "cell_type": "markdown",
   "metadata": {},
   "source": [
    "To find out the number of unique words across all of the tweets, you can take the `len()` of the object counts that you just created. "
   ]
  },
  {
   "cell_type": "code",
   "execution_count": 32,
   "metadata": {},
   "outputs": [
    {
     "data": {
      "text/plain": [
       "3399"
      ]
     },
     "execution_count": 32,
     "metadata": {},
     "output_type": "execute_result"
    }
   ],
   "source": [
    "len(counts_nsw_nc)"
   ]
  },
  {
   "cell_type": "markdown",
   "metadata": {},
   "source": [
    "Last, you can create the `Pandas Dataframe` of the words and their counts and plot the top 15 most common words from the clean tweets (i.e. no URLs, stop words, or collection words). "
   ]
  },
  {
   "cell_type": "code",
   "execution_count": 33,
   "metadata": {},
   "outputs": [
    {
     "data": {
      "text/html": [
       "<div>\n",
       "<style scoped>\n",
       "    .dataframe tbody tr th:only-of-type {\n",
       "        vertical-align: middle;\n",
       "    }\n",
       "\n",
       "    .dataframe tbody tr th {\n",
       "        vertical-align: top;\n",
       "    }\n",
       "\n",
       "    .dataframe thead th {\n",
       "        text-align: right;\n",
       "    }\n",
       "</style>\n",
       "<table border=\"1\" class=\"dataframe\">\n",
       "  <thead>\n",
       "    <tr style=\"text-align: right;\">\n",
       "      <th></th>\n",
       "      <th>words</th>\n",
       "      <th>count</th>\n",
       "    </tr>\n",
       "  </thead>\n",
       "  <tbody>\n",
       "    <tr>\n",
       "      <th>0</th>\n",
       "      <td>cop24</td>\n",
       "      <td>68</td>\n",
       "    </tr>\n",
       "    <tr>\n",
       "      <th>1</th>\n",
       "      <td>via</td>\n",
       "      <td>62</td>\n",
       "    </tr>\n",
       "    <tr>\n",
       "      <th>2</th>\n",
       "      <td>world</td>\n",
       "      <td>61</td>\n",
       "    </tr>\n",
       "    <tr>\n",
       "      <th>3</th>\n",
       "      <td>us</td>\n",
       "      <td>58</td>\n",
       "    </tr>\n",
       "    <tr>\n",
       "      <th>4</th>\n",
       "      <td>un</td>\n",
       "      <td>52</td>\n",
       "    </tr>\n",
       "  </tbody>\n",
       "</table>\n",
       "</div>"
      ],
      "text/plain": [
       "   words  count\n",
       "0  cop24     68\n",
       "1    via     62\n",
       "2  world     61\n",
       "3     us     58\n",
       "4     un     52"
      ]
     },
     "execution_count": 33,
     "metadata": {},
     "output_type": "execute_result"
    }
   ],
   "source": [
    "clean_tweets_ncw = pd.DataFrame(counts_nsw_nc.most_common(15),\n",
    "                             columns=['words', 'count'])\n",
    "clean_tweets_ncw.head()"
   ]
  },
  {
   "cell_type": "code",
   "execution_count": 34,
   "metadata": {
    "caption": "This plot displays the frequency of all words in the tweets on climate change, after URLs, stop words, and collection words have been removed."
   },
   "outputs": [
    {
     "data": {
      "image/png": "[encoded data removed]",
      "text/plain": [
       "<Figure size 576x576 with 1 Axes>"
      ]
     },
     "metadata": {},
     "output_type": "display_data"
    }
   ],
   "source": [
    "fig, ax = plt.subplots(figsize=(8, 8))\n",
    "\n",
    "# Plot horizontal bar graph\n",
    "clean_tweets_ncw.sort_values(by='count').plot.barh(x='words',\n",
    "                      y='count',\n",
    "                      ax=ax,\n",
    "                      color=\"purple\")\n",
    "\n",
    "ax.set_title(\"Common Words Found in Tweets (Without Stop or Collection Words)\")\n",
    "\n",
    "plt.show()"
   ]
  },
  {
   "cell_type": "markdown",
   "metadata": {},
   "source": [
    "You now know how to clean Twitter data, including how to remove URLs as well as stop and collection words. You also learned how to calculate and plot word frequencies. \n",
    "\n",
    "In the lessons that follow, you will analyze co-occurrence of words (i.e. bigrams) and attitudes (i.e. sentiments) in Tweets."
   ]
  }
 ],
 "metadata": {
  "anaconda-cloud": {},
  "celltoolbar": "Edit Metadata",
  "kernelspec": {
   "display_name": "Python 3",
   "language": "python",
   "name": "python3"
  },
  "language_info": {
   "codemirror_mode": {
    "name": "ipython",
    "version": 3
   },
   "file_extension": ".py",
   "mimetype": "text/x-python",
   "name": "python",
   "nbconvert_exporter": "python",
   "pygments_lexer": "ipython3",
   "version": "3.7.6"
  },
  "toc": {
   "base_numbering": 1,
   "nav_menu": {},
   "number_sections": true,
   "sideBar": true,
   "skip_h1_title": false,
   "title_cell": "Table of Contents",
   "title_sidebar": "Contents",
   "toc_cell": false,
   "toc_position": {},
   "toc_section_display": true,
   "toc_window_display": false
  }
 },
 "nbformat": 4,
 "nbformat_minor": 2
}
