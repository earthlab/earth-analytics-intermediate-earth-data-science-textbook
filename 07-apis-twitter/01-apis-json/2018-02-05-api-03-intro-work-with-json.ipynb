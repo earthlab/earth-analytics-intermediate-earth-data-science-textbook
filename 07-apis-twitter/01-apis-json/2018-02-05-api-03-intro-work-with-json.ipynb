{
 "cells": [
  {
   "cell_type": "raw",
   "metadata": {},
   "source": [
    "---\n",
    "layout: single\n",
    "title: 'Introduction to Working With JSON Data in Open Source Python'\n",
    "excerpt: 'This lesson introduces how to work with the JSON data structure using Python using the JSON and Pandas libraries to create and convert JSON objects. '\n",
    "authors: ['Leah Wasser', 'Max Joseph', 'Martha Morrissey', 'Jenny Palomino']\n",
    "modified: '{:%Y-%m-%d}'.format(datetime.now())\n",
    "category: [courses]\n",
    "class-lesson: ['intro-APIs-python']\n",
    "permalink: /courses/use-data-open-source-python/intro-to-apis/use-JSON-in-python/\n",
    "nav-title: 'JSON Data in Python'\n",
    "week: 7\n",
    "sidebar:\n",
    "    nav:\n",
    "author_profile: false\n",
    "comments: true\n",
    "order: 3\n",
    "course: \"intermediate-earth-data-science-textbook\"\n",
    "topics:\n",
    "    find-and-manage-data: ['apis']\n",
    "redirect_from:\n",
    "  - \"/courses/earth-analytics-python/using-apis-natural-language-processing-twitter/work-with-JSON-intro/\"\n",
    "---"
   ]
  },
  {
   "cell_type": "markdown",
   "metadata": {},
   "source": [
    "{% include toc title = \"In This Lesson\" icon=\"file-text\" %}\n",
    "\n",
    "<div class='notice--success' markdown=\"1\">\n",
    "\n",
    "## <i class=\"fa fa-graduation-cap\" aria-hidden=\"true\"></i> Learning Objectives\n",
    "\n",
    "After completing this tutorial, you will be able to:\n",
    "\n",
    "* Create and convert `JSON` objects using `Python`.\n",
    "\n",
    "## <i class=\"fa fa-check-square-o fa-2\" aria-hidden=\"true\"></i> What You Need\n",
    "\n",
    "You will need a computer with internet access to complete this lesson.\n",
    "\n",
    "</div>"
   ]
  },
  {
   "cell_type": "markdown",
   "metadata": {},
   "source": [
    "In this lesson, you will explore the **machine readable** JSON data structure. Machine readable data structures are more efficient - particularly for larger data that contain hierarchical structures."
   ]
  },
  {
   "cell_type": "markdown",
   "metadata": {},
   "source": [
    "## Review JSON\n",
    "\n",
    "Recall from the previous lesson that the structure of a `JSON` object is as follows:\n",
    "\n",
    "* The data are in name/value pairs using colons `:`.\n",
    "* Data **objects** are separated by commas.\n",
    "* Curly braces `{}` hold the objects.\n",
    "* Square brackets `[]` can be used to indicate an **array** that contains a group of objects.\n",
    "* Each **data element** is enclosed with quotes `\"\"` if it is a character, or without quotes if it is a numeric value.\n",
    "\n",
    "Example:\n",
    "```json\n",
    "{ \"name\":\"Chaya\", \"age\":12, \"city\":\"Boulder\", \"type\":\"Canine\" }\n",
    "```\n",
    "\n",
    "You also learned that the `Python` library `json` is helpful to convert data from lists or dictonaries into `JSON` strings and `JSON` strings into lists or dictonaries. `Pandas` can also be used to convert `JSON` data (via a `Python` dictionary) into a `Pandas` `DataFrame`. \n",
    "\n",
    "In this lesson, you will use the `json` and `Pandas` libraries to create and convert `JSON` objects. "
   ]
  },
  {
   "cell_type": "markdown",
   "metadata": {},
   "source": [
    "## Work with JSON Data in Python\n",
    "\n",
    "### Python Dictionary to JSON\n",
    "\n",
    "Using the `Python` `json` library, you can convert a `Python` dictionary to a `JSON` string using the `json.dumps()` function.\n",
    "\n",
    "Begin by creating the `Python` dictionary that will be converted to `JSON`. "
   ]
  },
  {
   "cell_type": "code",
   "execution_count": 1,
   "metadata": {},
   "outputs": [],
   "source": [
    "import json\n",
    "import pandas as pd"
   ]
  },
  {
   "cell_type": "code",
   "execution_count": 2,
   "metadata": {},
   "outputs": [
    {
     "data": {
      "text/plain": [
       "{'name': 'Chaya', 'age': 12, 'city': 'Boulder', 'type': 'Canine'}"
      ]
     },
     "execution_count": 2,
     "metadata": {},
     "output_type": "execute_result"
    }
   ],
   "source": [
    "# Create and populate the dictionary\n",
    "dict = {}\n",
    "dict[\"name\"] = \"Chaya\"\n",
    "dict[\"age\"] = 12\n",
    "dict[\"city\"] = \"Boulder\"\n",
    "dict[\"type\"] = \"Canine\"\n",
    "\n",
    "dict"
   ]
  },
  {
   "cell_type": "markdown",
   "metadata": {},
   "source": [
    "Notice below that the `Python` dictionary and the `JSON` string look very similiar, but that the `JSON` string is enclosed with quotes `''`. "
   ]
  },
  {
   "cell_type": "code",
   "execution_count": 3,
   "metadata": {},
   "outputs": [
    {
     "data": {
      "text/plain": [
       "'{\"name\": \"Chaya\", \"age\": 12, \"city\": \"Boulder\", \"type\": \"Canine\"}'"
      ]
     },
     "execution_count": 3,
     "metadata": {},
     "output_type": "execute_result"
    }
   ],
   "source": [
    "json_example = json.dumps(dict, ensure_ascii=False)\n",
    "\n",
    "json_example"
   ]
  },
  {
   "cell_type": "markdown",
   "metadata": {},
   "source": [
    "Recall that you use `type()` to check the object type, and notice that the `JSON` is of type `str`. "
   ]
  },
  {
   "cell_type": "code",
   "execution_count": 4,
   "metadata": {},
   "outputs": [
    {
     "data": {
      "text/plain": [
       "str"
      ]
     },
     "execution_count": 4,
     "metadata": {},
     "output_type": "execute_result"
    }
   ],
   "source": [
    "type(json_example)"
   ]
  },
  {
   "cell_type": "markdown",
   "metadata": {},
   "source": [
    "###  JSON to Python Dictionary\n",
    "\n",
    "You can also manually define `JSON` by enclosing the `JSON` with quotes `''`. "
   ]
  },
  {
   "cell_type": "code",
   "execution_count": 5,
   "metadata": {},
   "outputs": [
    {
     "data": {
      "text/plain": [
       "str"
      ]
     },
     "execution_count": 5,
     "metadata": {},
     "output_type": "execute_result"
    }
   ],
   "source": [
    "json_sample =  '{ \"name\":\"Chaya\", \"age\":12, \"city\":\"Boulder\", \"type\":\"Canine\" }'\n",
    "\n",
    "type(json_sample)"
   ]
  },
  {
   "cell_type": "markdown",
   "metadata": {},
   "source": [
    "Using the `json.loads()` function, a `JSON` string can be converted to a `dictionary`. "
   ]
  },
  {
   "cell_type": "code",
   "execution_count": 6,
   "metadata": {},
   "outputs": [
    {
     "data": {
      "text/plain": [
       "{'name': 'Chaya', 'age': 12, 'city': 'Boulder', 'type': 'Canine'}"
      ]
     },
     "execution_count": 6,
     "metadata": {},
     "output_type": "execute_result"
    }
   ],
   "source": [
    "# Load JSON into dictionary\n",
    "data_sample = json.loads(json_sample)\n",
    "data_sample"
   ]
  },
  {
   "cell_type": "markdown",
   "metadata": {},
   "source": [
    "You can check the type again to see that it has been converted to a `Python` dictionary. "
   ]
  },
  {
   "cell_type": "code",
   "execution_count": 7,
   "metadata": {},
   "outputs": [
    {
     "data": {
      "text/plain": [
       "dict"
      ]
     },
     "execution_count": 7,
     "metadata": {},
     "output_type": "execute_result"
    }
   ],
   "source": [
    "type(data_sample)"
   ]
  },
  {
   "cell_type": "markdown",
   "metadata": {},
   "source": [
    "Recall that you can call any key of a `Python` dictionary and see the associated values. "
   ]
  },
  {
   "cell_type": "code",
   "execution_count": 8,
   "metadata": {},
   "outputs": [
    {
     "data": {
      "text/plain": [
       "'Chaya'"
      ]
     },
     "execution_count": 8,
     "metadata": {},
     "output_type": "execute_result"
    }
   ],
   "source": [
    "data_sample[\"name\"]"
   ]
  },
  {
   "cell_type": "code",
   "execution_count": 9,
   "metadata": {},
   "outputs": [
    {
     "data": {
      "text/plain": [
       "'Boulder'"
      ]
     },
     "execution_count": 9,
     "metadata": {},
     "output_type": "execute_result"
    }
   ],
   "source": [
    "data_sample[\"city\"]"
   ]
  },
  {
   "cell_type": "markdown",
   "metadata": {},
   "source": [
    "### Python Dictionary to Pandas Dataframe\n",
    "\n",
    "If desired, you can use the `from_dict()` function from `Pandas` to read the dictionary into a `Pandas` `Dataframe`."
   ]
  },
  {
   "cell_type": "code",
   "execution_count": 10,
   "metadata": {},
   "outputs": [
    {
     "data": {
      "text/html": [
       "<div>\n",
       "<style scoped>\n",
       "    .dataframe tbody tr th:only-of-type {\n",
       "        vertical-align: middle;\n",
       "    }\n",
       "\n",
       "    .dataframe tbody tr th {\n",
       "        vertical-align: top;\n",
       "    }\n",
       "\n",
       "    .dataframe thead th {\n",
       "        text-align: right;\n",
       "    }\n",
       "</style>\n",
       "<table border=\"1\" class=\"dataframe\">\n",
       "  <thead>\n",
       "    <tr style=\"text-align: right;\">\n",
       "      <th></th>\n",
       "      <th>0</th>\n",
       "    </tr>\n",
       "  </thead>\n",
       "  <tbody>\n",
       "    <tr>\n",
       "      <th>name</th>\n",
       "      <td>Chaya</td>\n",
       "    </tr>\n",
       "    <tr>\n",
       "      <th>age</th>\n",
       "      <td>12</td>\n",
       "    </tr>\n",
       "    <tr>\n",
       "      <th>city</th>\n",
       "      <td>Boulder</td>\n",
       "    </tr>\n",
       "    <tr>\n",
       "      <th>type</th>\n",
       "      <td>Canine</td>\n",
       "    </tr>\n",
       "  </tbody>\n",
       "</table>\n",
       "</div>"
      ],
      "text/plain": [
       "            0\n",
       "name    Chaya\n",
       "age        12\n",
       "city  Boulder\n",
       "type   Canine"
      ]
     },
     "execution_count": 10,
     "metadata": {},
     "output_type": "execute_result"
    }
   ],
   "source": [
    "df = pd.DataFrame.from_dict(data_sample, orient='index')\n",
    "df"
   ]
  },
  {
   "cell_type": "markdown",
   "metadata": {},
   "source": [
    "### Pandas Dataframe to JSON\n",
    "\n",
    "Conversely, you can also convert a `Pandas` `Dataframe` to `JSON` using the `Pandas` method `to_json()`."
   ]
  },
  {
   "cell_type": "code",
   "execution_count": 11,
   "metadata": {},
   "outputs": [
    {
     "data": {
      "text/plain": [
       "str"
      ]
     },
     "execution_count": 11,
     "metadata": {},
     "output_type": "execute_result"
    }
   ],
   "source": [
    "sample_json = df.to_json(orient='split')\n",
    "\n",
    "type(sample_json)"
   ]
  },
  {
   "cell_type": "markdown",
   "metadata": {},
   "source": [
    "You now know the basics of creating and converting `JSON` objects using `Python`. In the next lessons, you will work with hierarchical `JSON` data accessed via RESTful APIs. "
   ]
  }
 ],
 "metadata": {
  "anaconda-cloud": {},
  "kernelspec": {
   "display_name": "Python 3",
   "language": "python",
   "name": "python3"
  },
  "language_info": {
   "codemirror_mode": {
    "name": "ipython",
    "version": 3
   },
   "file_extension": ".py",
   "mimetype": "text/x-python",
   "name": "python",
   "nbconvert_exporter": "python",
   "pygments_lexer": "ipython3",
   "version": "3.7.6"
  },
  "nteract": {
   "version": "0.8.4"
  },
  "toc": {
   "base_numbering": 1,
   "nav_menu": {},
   "number_sections": true,
   "sideBar": true,
   "skip_h1_title": false,
   "title_cell": "Table of Contents",
   "title_sidebar": "Contents",
   "toc_cell": false,
   "toc_position": {},
   "toc_section_display": true,
   "toc_window_display": false
  }
 },
 "nbformat": 4,
 "nbformat_minor": 2
}
