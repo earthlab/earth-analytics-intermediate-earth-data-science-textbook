{
 "cells": [
  {
   "cell_type": "raw",
   "metadata": {},
   "source": [
    "---\n",
    "layout: single\n",
    "category: courses\n",
    "title: \"Introduction to Hierarchical Data Formats in Python\"\n",
    "permalink: /courses/use-data-open-source-python/hierarchical-data-formats-hdf/\n",
    "week-landing: 6\n",
    "modified: '{:%Y-%m-%d}'.format(datetime.now())\n",
    "week: 6\n",
    "sidebar:\n",
    "  nav:\n",
    "comments: false\n",
    "author_profile: false\n",
    "course: \"intermediate-earth-data-science-textbook\"\n",
    "module-type: 'session'\n",
    "---\n"
   ]
  },
  {
   "cell_type": "markdown",
   "metadata": {},
   "source": [
    "{% include toc title=\"Section Six\" icon=\"file-text\" %}\n",
    "\n",
    "<div class=\"notice--info\" markdown=\"1\">\n",
    "\n",
    "## <i class=\"fa fa-ship\" aria-hidden=\"true\"></i> Section Six - Hierarchical Data Formats in Python\n",
    "\n",
    "In section six of this textbook, you will learn about Hierarchical Data Formats (HDF) and how they can be used to store complex data (and related metadata) such as satellite imagery. You will learn how to open and process HDF files in **Python** to complete remote sensing analyses.\n",
    "\n",
    "\n",
    "## <i class=\"fa fa-graduation-cap\" aria-hidden=\"true\"></i> Learning Objectives\n",
    "\n",
    "After completing this section of the textbook, you will be able to:\n",
    "\n",
    "* Explain what the Hierarchical Data Formats (HDF) are.\n",
    "* List the different types of HDF files and the benefits of using these formats for storing data.\n",
    "* List the types of data that can be stored in HDF files.\n",
    "* Explain how data are structured and stored in HDF files.\n",
    "* Open and process HDF files in **Python**.\n",
    "\n",
    "</div>"
   ]
  },
  {
   "cell_type": "markdown",
   "metadata": {},
   "source": [
    "## About Hierarchical Data Formats\n",
    "\n",
    "Hierarchical Data Formats (HDF) are open source file formats that support large, complex, heterogeneous data.\n",
    "\n",
    "HDF files use a \"file directory\" like structure that allows you to organize data within the file in many different structured ways, as you might do with files on your computer. HDF files also allow for embedding of metadata making them *self-describing*.\n",
    "\n",
    "\n",
    "## Types of HDF Files\n",
    "\n",
    "There are many different types of HDFs. For Earth Data Science, the most widely used HDFs are:\n",
    "* HDF4: the format adapted by the MODIS data products.\n",
    "* HDF5: the format used for many different products provided by NASA.\n",
    "* NetCDF: a format frequently used to store climate data.\n",
    "\n",
    "In the first chapter of this section, you will learn more about HDF4 files and process HDF4 files to complete remote sensing analyses with MODIS data. \n",
    "\n",
    "\n",
    "## Hierarchical Structure - A File Directory Within a File\n",
    "\n",
    "HDF files can be thought of as a file system contained and described within one single file. \n",
    "\n",
    "Think about the files and folders stored on your computer. You might have a data directory with some temperature data for multiple field sites. This temperature data is collected every minute and summarized on an hourly, daily and weekly basis. \n",
    "\n",
    "Within **ONE** HDF file, you can store a similar set of data organized in the same way that you might organize files and folders on your computer. "
   ]
  },
  {
   "cell_type": "markdown",
   "metadata": {},
   "source": [
    "## HDFs Are Self Describing Files\n",
    "\n",
    "HDF formats are self describing. This means that each file, group, or dataset can have associated metadata that describes exactly what the data are. \n",
    "\n",
    "Following the example above, you can embed information about each site to the file, such as:\n",
    "\n",
    "* The full name and X,Y location of the site.\n",
    "* Description of the site.\n",
    "* Any documentation of interest.\n",
    "\n",
    "Similarly, you might add information about how the data in the dataset were collected, such as descriptions of the sensor used to collect the temperature data. You can also attach information to each dataset within the site group about how the averaging was performed and over what time period data are available. \n",
    "\n",
    "One key benefit of having metadata that are attached to each file, group or dataset is that this facilitates automation without the need for a separate (and additional) metadata document. \n",
    "\n",
    "Using a programming language like **Python**, you can grab the information needed to process the dataset directly from the metadata that are associated with the dataset.\n",
    "\n",
    "\n",
    "<figure>\n",
    " <a href=\"{{ site.url }}/images/earth-analytics/hierarchical-data-formats/hdf5-example-data-structure-with-metadata.jpg\">\n",
    " <img src=\"{{ site.url }}/images/earth-analytics/hierarchical-data-formats/hdf5-example-data-structure-with-metadata.jpg\" alt = \"An example HDF5 file structure containing metadata for the file, groups, and datasets.\"></a>\n",
    " <figcaption> HDF files are self describing - this means that all elements (the file itself, groups and datasets) can have associated metadata that describes the information contained within the element. Source: NEON\n",
    " </figcaption>\n",
    "</figure>\n",
    "\n",
    "\n",
    "\n",
    "## HDFs Are Compressed and Facilitate Efficient Subsetting\n",
    "\n",
    "HDF files are compressed formats. The size of all data contained within the HDF file is optimized, which makes the overall file size smaller. \n",
    "\n",
    "Even when compressed, however, HDF files often contain big data and can thus still be quite large. \n",
    "\n",
    "A powerful attribute of HDF is data slicing, by which a particular subset of a dataset can be extracted for processing. This means that the entire dataset does not have to be read into memory (RAM); which is very helpful in allowing us to more efficiently work with very large (gigabytes or more) datasets! \n",
    "\n",
    "\n",
    "## HDFs Can Store Heterogeneous Data Storage\n",
    "\n",
    "HDF files can store many different types of data within in the same file. For example, one group may contain a set of datasets to contain integer (numeric) and text (string) data. \n",
    "\n",
    "One dataset can also contain heterogeneous data types (e.g., both text and numeric data in the same dataset). This means that HDF files can store any of the following (and more) in one file:\n",
    "\n",
    "* Temperature, precipitation and PAR (photosynthetic active radiation) data for a site or for many sites \n",
    "* A set of images that cover one or more areas (each image can have specific spatial information associated with it - all in the same file)\n",
    "* A multi or hyperspectral spatial dataset that contains thousands of bands.\n",
    "* Field data for several sites characterizing insects, mammals, vegetation and climate.\n",
    "* A set of images that cover one or more areas (each image can have unique spatial information associated with it)\n",
    "* A multi or hyperspectral spatial dataset that contains thousands of bands\n",
    "* Field data for several sites characterizing insects, mammals, vegetation and climate\n",
    "* And much more!\n",
    "\n",
    "\n",
    "## HDFs Are Open Data Formats\n",
    "\n",
    "HDF formats are open and free to use. The supporting libraries and a free HDF viewer can be downloaded from the <a href=\"https://www.hdfgroup.org/downloads/\" target=\"_blank\">HDF Group </a> website.\n",
    "\n",
    "As such, HDF files are widely supported in a host of programs, including open source programming languages like **Python**, and commercial programming tools like **Matlab** and **IDL**. Spatial data that are stored in HDF formats can also be used in GIS and imaging programs including QGIS, ArcGIS, and ENVI.\n",
    "\n",
    "\n",
    "## Benefits of HDF Files \n",
    "\n",
    "* **Self-Describing** The datasets within HDF files are self describing. This allows you to efficiently extract metadata without needing an additional metadata document.\n",
    "* **Support Heterogeneous Data**: Different types of datasets can be contained within one HDF file. \n",
    "* **Support Large, Complex Data**: HDF files are compressed formats that are designed to support large, heterogeneous, and complex datasets. \n",
    "* **Support Data Slicing:** Data slicing (or extracting portions of the dataset as needed for analysis) means that large files do not need to be completely read into the computer memory or RAM.\n",
    "* **Open Format -  wide support in the many tools**: Because HDF formats are open, they are supported by a host of programming languages and tools, including open source languages like ** Python** and open GIS tools like QGIS."
   ]
  },
  {
   "cell_type": "markdown",
   "metadata": {},
   "source": [
    "{% include textbook-section-toc.html %}"
   ]
  }
 ],
 "metadata": {
  "kernelspec": {
   "display_name": "Python 3",
   "language": "python",
   "name": "python3"
  },
  "language_info": {
   "codemirror_mode": {
    "name": "ipython",
    "version": 3
   },
   "file_extension": ".py",
   "mimetype": "text/x-python",
   "name": "python",
   "nbconvert_exporter": "python",
   "pygments_lexer": "ipython3",
   "version": "3.7.6"
  },
  "toc": {
   "base_numbering": 1,
   "nav_menu": {},
   "number_sections": true,
   "sideBar": true,
   "skip_h1_title": false,
   "title_cell": "Table of Contents",
   "title_sidebar": "Contents",
   "toc_cell": false,
   "toc_position": {},
   "toc_section_display": true,
   "toc_window_display": false
  },
  "varInspector": {
   "cols": {
    "lenName": 16,
    "lenType": 16,
    "lenVar": 40
   },
   "kernels_config": {
    "python": {
     "delete_cmd_postfix": "",
     "delete_cmd_prefix": "del ",
     "library": "var_list.py",
     "varRefreshCmd": "print(var_dic_list())"
    },
    "r": {
     "delete_cmd_postfix": ") ",
     "delete_cmd_prefix": "rm(",
     "library": "var_list.r",
     "varRefreshCmd": "cat(var_dic_list()) "
    }
   },
   "types_to_exclude": [
    "module",
    "function",
    "builtin_function_or_method",
    "instance",
    "_Feature"
   ],
   "window_display": false
  }
 },
 "nbformat": 4,
 "nbformat_minor": 2
}
