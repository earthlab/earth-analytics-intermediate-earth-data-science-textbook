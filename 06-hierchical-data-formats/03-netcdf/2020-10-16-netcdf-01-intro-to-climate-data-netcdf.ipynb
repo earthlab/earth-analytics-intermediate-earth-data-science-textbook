{
 "cells": [
  {
   "cell_type": "raw",
   "metadata": {},
   "source": [
    "---\n",
    "layout: single\n",
    "title: \"Introduction to the NetCDF4 Hierarchical Data Format\"\n",
    "excerpt: \"In this lesson you will learn about that netcdf 4 data format which is a format, commonly used to store climate data. In later lessons you will learn how to open climate data using open source Python tools.\"\n",
    "authors: ['Leah Wasser']\n",
    "dateCreated: 2020-10-23\n",
    "modified: '{:%Y-%m-%d}'.format(datetime.now())\n",
    "category: [courses]\n",
    "class-lesson: ['netcdf4']\n",
    "permalink: /courses/use-data-open-source-python/hierarchical-data-formats-hdf/intro-to-climate-data/\n",
    "nav-title: 'Intro to netcdf4'\n",
    "module-title: 'Introduction to the netcdf 4 File Format in Python'\n",
    "module-description: 'Learn how to work with MACA v2 climate data stored in netcdf 4 format using open source Python and the xarray package.'\n",
    "module-nav-title: 'NETCDF'\n",
    "module-type: 'class'\n",
    "chapter: 13\n",
    "class-order: 2\n",
    "week: 6\n",
    "course: \"intermediate-earth-data-science-textbook\"\n",
    "sidebar:\n",
    "  nav:\n",
    "author_profile: false\n",
    "comments: true\n",
    "order: 1\n",
    "topics:\n",
    "  remote-sensing: ['modis']\n",
    "  reproducible-science-and-programming:\n",
    "  spatial-data-and-gis: ['raster-data']\n",
    "---\n"
   ]
  },
  {
   "cell_type": "markdown",
   "metadata": {},
   "source": [
    "{% include toc title=\"In This Chapter\" icon=\"file-text\" %}\n",
    "\n",
    "<div class='notice--success' markdown=\"1\">\n",
    "\n",
    "## <i class=\"fa fa-ship\" aria-hidden=\"true\"></i> Chapter 13 - NETCDF 4 Climate Data in Open Source Python \n",
    "\n",
    "In this chapter, you will learn how to work with Climate Data Sets (MACA v2 for the United states) stored in netcdf 4 format using open source **Python**.\n",
    "\n",
    "\n",
    "## <i class=\"fa fa-graduation-cap\" aria-hidden=\"true\"></i> Learning Objectives\n",
    "\n",
    "After completing this chapter, you will be able to:\n",
    "\n",
    "* Describe the netcdf data format as it is used to store climate data\n",
    "* Define the characteristics of MACAv2 and CMIP5 data.\n",
    "* Explain what downscaling is.\n",
    "\n",
    "\n",
    "## <i class=\"fa fa-check-square-o fa-2\" aria-hidden=\"true\"></i> What You Need\n",
    "\n",
    "OPTIONAL: If you want to explore the netcdf 4 files in a graphics based tool, you can download th <a href=\"https://www.hdfgroup.org/downloads/hdfview/\" target=\"_blank\">free HDF viewer</a> from the HDF Group website. \n",
    "\n",
    "</div>"
   ]
  },
  {
   "cell_type": "markdown",
   "metadata": {},
   "source": [
    "## What is netCDF Data?\n",
    "\n",
    "NetCDF (network Common Data Form) is a hierarchical data format similar to <a href=\"{{ site.url }}/courses/use-data-open-source-python/hierarchical-data-formats-hdf/intro-to-hdf4/\">hdf4</a> and hdf5. It is what is known as a “self-describing” data structure which means that metadata, or descriptions of the data, are included in the file itself and can be parsed programmatically, meaning that they can be accessed using code to build automated and reproducible workflows. \n",
    "\n",
    "The NetCDF format can store data with multiple dimensions. It can also store different types of data through arrays that can contain geospatial imagery, rasters, terrain data, climate data, and text. These arrays support metadata, making the netCDF format highly flexible. NetCDF was developed and is supported by UCAR who maintains standards and software that support the use of the format.\n",
    "\n",
    "\n",
    "### NetCDF4 Format for Climate Data\n",
    "The hierarchical and flexible nature of netcdf files supports storing data in many different ways. This flexibility is nice, however, similar to hdf5 data formats, it can be challenging when communities make different decisions about how and where they store data in a netCDF file. The netCDF4 data standard is used broadly by the climate science community to store climate data. Climate data are:\n",
    "\n",
    "* often delivered in a time series  format (months and years of historic or future projected data).\n",
    "* spatial in nature, covering regions such as the United States or even the world.\n",
    "* driven by models which require documentation making the self describing aspect of netCDF files useful.\n",
    "\n",
    "The netCDF4 format supports data stored in an array format. Arrays are used to store raster spatial data (terrain layers, gridded temperature data, etc) and also point based time series data (for example temperature for a single location over 10 years). Climate data typically have three dimensions---x and y values representing latitude and longitude location for a  point or a grid cell location on the earth's surface and time.\n",
    "\n",
    "The x/y locations often store a data value such as temperature, humidity, precipitation or wind direction. \n",
    "\n",
    "\n",
    "### NetCDF is Self Describing\n",
    "\n",
    "One of the biggest benefits of working with a data type like netCDF is that it is self-describing. This means that all of the metadata needed to work with the data is often contained within the netCDF file (the `.nc` file) itself.\n",
    "\n",
    "<figure>\n",
    "\n",
    "<img src = \"{{ site.url }}/images/earth-analytics/hierarchical-data-formats/hdf5-example-data-structure.jpg\" alt = \"netcdf is a hierarchical data format. It is self describing meaning that the metadata for the file is contained within the file itself. Self-contained metadata makes it easier to create a fully reproducible workflow given you can pull metadata elements such as coordinate reference systems and units directly from the file itself.\">\n",
    "<figcaption>Netcdf is a hierarchical data format. It is self describing meaning that the metadata for the file is contained within the file itself. Self-contained metadata makes it easier to create a fully reproducible workflow given you can pull metadata elements such as coordinate reference systems and units directly from the file itself. </figcaption>\n",
    "\n",
    "</figure>\n",
    "\n"
   ]
  },
  {
   "cell_type": "markdown",
   "metadata": {},
   "source": [
    "## Tools to Work With NetCDF Data\n",
    "\n",
    "Python also has several open source  tools that are useful for processing netcdf files including:\n",
    "\n",
    "* `Xarray`: one of the most common tools used to process netcdf data. Xarray knows how to open netcdf 4 files automatically giving you access to the data and metadata in spatial formats.\n",
    "* `rioxarray`: a wrapper that adds spatial functionality such as reproject and export to geotiff to xarray objects.\n",
    "* `Regionmask`: regionmask builds on top of xarray to support spatial subsetting and AOIs for xarray objects. \n",
    "\n",
    "\n",
    "In the next lessons you will learn more about climate data and how to open climate data stored in **netCDF** format using open source Python tools. Read the section below to learn more about the climate data itself. \n"
   ]
  }
 ],
 "metadata": {
  "celltoolbar": "Edit Metadata",
  "kernelspec": {
   "display_name": "Python 3",
   "language": "python",
   "name": "python3"
  },
  "language_info": {
   "codemirror_mode": {
    "name": "ipython",
    "version": 3
   },
   "file_extension": ".py",
   "mimetype": "text/x-python",
   "name": "python",
   "nbconvert_exporter": "python",
   "pygments_lexer": "ipython3",
   "version": "3.8.5"
  },
  "toc": {
   "base_numbering": 1,
   "nav_menu": {},
   "number_sections": true,
   "sideBar": true,
   "skip_h1_title": false,
   "title_cell": "Table of Contents",
   "title_sidebar": "Contents",
   "toc_cell": false,
   "toc_position": {
    "height": "calc(100% - 180px)",
    "left": "10px",
    "top": "150px",
    "width": "285.8px"
   },
   "toc_section_display": true,
   "toc_window_display": true
  }
 },
 "nbformat": 4,
 "nbformat_minor": 4
}
