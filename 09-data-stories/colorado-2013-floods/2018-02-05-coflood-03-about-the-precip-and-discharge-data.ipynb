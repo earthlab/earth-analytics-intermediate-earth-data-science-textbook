{
 "cells": [
  {
   "cell_type": "raw",
   "metadata": {},
   "source": [
    "---\n",
    "layout: single\n",
    "title: \"About the Stream Discharge Data Used in this Data Story\"\n",
    "excerpt: \"Learn more about the stream discharge data that is used in this data story.\"\n",
    "authors: ['Leah Wasser']\n",
    "dateCreated: 2018-02-05\n",
    "modified: '{:%Y-%m-%d}'.format(datetime.now())\n",
    "category: [courses]\n",
    "class-lesson: ['about-2013-floods-tb']\n",
    "course: 'intermediate-earth-data-science-textbook'\n",
    "chapter: 20\n",
    "week: 9\n",
    "permalink: /courses/use-data-open-source-python/data-stories/colorado-floods-2013/about-the-stream-discharge-data/\n",
    "nav-title: 'About the Stream Discharge Data'\n",
    "sidebar:\n",
    "  nav:\n",
    "author_profile: false\n",
    "comments: true\n",
    "order: 3\n",
    "topics: \n",
    "    remote-sensing: ['multispectral-remote-sensing']\n",
    "    earth-science: ['flood-erosion']\n",
    "    time-series:  \n",
    "redirect_from:\n",
    "  - \"/courses/earth-analytics-python/use-time-series-data-in-python/about-the-time-series-data/\"\n",
    "  - \"/courses/use-data-open-source-python/data-stories/colorado-2013-floods/about-the-stream-discharge-data/\"\n",
    "---\n"
   ]
  },
  {
   "cell_type": "markdown",
   "metadata": {},
   "source": [
    "{% include toc title=\"On This Page\" icon=\"file-text\" %}\n",
    "\n",
    "<div class='notice--success' markdown=\"1\">\n",
    "\n",
    "## <i class=\"fa fa-graduation-cap\" aria-hidden=\"true\"></i> Learning Objectives\n",
    "\n",
    "* Be able to describe where the stream discharge data that is provided in this data story comes from and what it represents. \n",
    "\n",
    "</div>\n",
    "\n",
    "\n",
    "## About the Data - USGS Stream Discharge Data\n",
    "\n",
    "The USGS has a distributed network of aquatic sensors located in streams across the United States. This network monitors a suit of variables that are important to stream morphology and health. One of the metrics that this sensor network monitors is **Stream Discharge**, a metric which quantifies the volume of water moving down a stream. Discharge is an ideal metric to quantify flow, which increases significantly during a flood event.\n",
    "\n",
    "> As defined by USGS: Discharge is the volume of water moving down a stream or\n",
    "> river per unit of time, commonly expressed in cubic feet per second or gallons\n",
    "> per day. In general, river discharge is computed by multiplying the area of\n",
    "> water in a channel cross section by the average velocity of the water in that\n",
    "> cross section.\n",
    ">\n",
    "> <a href=\"http://water.usgs.gov/edu/streamflow2.html\" target=\"_blank\">\n",
    "Read more about stream discharge data collected by USGS.</a>\n",
    "\n",
    "<figure>\n",
    "<a href=\"{{ site.url }}/images/earth-analytics/co-flood-lessons/USGS-peak-discharge.gif\">\n",
    "<img src=\"{{ site.url }}/images/earth-analytics/co-flood-lessons/USGS-peak-discharge.gif\" alt=\"Plot of stream discharge from the USGS boulder creek stream gage\"></a>\n",
    "<figcaption>\n",
    "The USGS tracks stream discharge through time at locations across the United\n",
    "States. Note the pattern observed in the plot above. The peak recorded discharge\n",
    "value in 2013 was significantly larger than what was observed in other years.\n",
    "Source: <a href=\"http://nwis.waterdata.usgs.gov/usa/nwis/peak/?site_no=06730200\" target=\"_blank\"> USGS, National Water Information System. </a>\n",
    "</figcaption>\n",
    "</figure>"
   ]
  },
  {
   "cell_type": "markdown",
   "metadata": {},
   "source": [
    "<i class=\"fa fa-star\"></i> **Data Tip:**\n",
    "To make your plots more attractive check out <a href=\"https://seaborn.pydata.org/tutorial/aesthetics.html\" target=\"_blank\"> this tutorial from seaborn! </a> \n",
    "{: .notice--success}"
   ]
  }
 ],
 "metadata": {
  "anaconda-cloud": {},
  "celltoolbar": "Tags",
  "kernelspec": {
   "display_name": "Python 3",
   "language": "python",
   "name": "python3"
  },
  "language_info": {
   "codemirror_mode": {
    "name": "ipython",
    "version": 3
   },
   "file_extension": ".py",
   "mimetype": "text/x-python",
   "name": "python",
   "nbconvert_exporter": "python",
   "pygments_lexer": "ipython3",
   "version": "3.7.6"
  },
  "toc": {
   "base_numbering": 1,
   "nav_menu": {},
   "number_sections": true,
   "sideBar": true,
   "skip_h1_title": false,
   "title_cell": "Table of Contents",
   "title_sidebar": "Contents",
   "toc_cell": false,
   "toc_position": {},
   "toc_section_display": true,
   "toc_window_display": false
  },
  "varInspector": {
   "cols": {
    "lenName": 16,
    "lenType": 16,
    "lenVar": 40
   },
   "kernels_config": {
    "python": {
     "delete_cmd_postfix": "",
     "delete_cmd_prefix": "del ",
     "library": "var_list.py",
     "varRefreshCmd": "print(var_dic_list())"
    },
    "r": {
     "delete_cmd_postfix": ") ",
     "delete_cmd_prefix": "rm(",
     "library": "var_list.r",
     "varRefreshCmd": "cat(var_dic_list()) "
    }
   },
   "types_to_exclude": [
    "module",
    "function",
    "builtin_function_or_method",
    "instance",
    "_Feature"
   ],
   "window_display": false
  }
 },
 "nbformat": 4,
 "nbformat_minor": 2
}
