{
 "cells": [
  {
   "cell_type": "raw",
   "metadata": {},
   "source": [
    "---\n",
    "layout: single\n",
    "title: \"Field Methods to Study Wildfire\"\n",
    "excerpt: \"Scientists often use field survey methods to study the impacts of wildfire through measurements of biomass and soil. Learn more about how survey methods can be used to study wildfire impacts.\"\n",
    "authors: ['Leah Wasser']\n",
    "dateCreated: 2018-10-04\n",
    "modified: '{:%Y-%m-%d}'.format(datetime.now())\n",
    "category: [courses]\n",
    "class-lesson: ['wildfire-overview-tb']\n",
    "permalink: /courses/use-data-open-source-python/data-stories/cold-springs-wildfire/wildfire-field-methods/\n",
    "nav-title: 'Field Studies of Wildfire Impacts'\n",
    "week: 9\n",
    "course: 'intermediate-earth-data-science-textbook'\n",
    "module-type: 'class'\n",
    "sidebar:\n",
    "  nav:\n",
    "author_profile: false\n",
    "comments: true\n",
    "order: 2\n",
    "topics:\n",
    "  earth-science: ['fire']\n",
    "redirect_from:\n",
    "  - \"/courses/earth-analytics-python/multispectral-remote-sensing-in-python/wildfire-field-methods/\"\n",
    "---\n"
   ]
  },
  {
   "cell_type": "markdown",
   "metadata": {},
   "source": [
    "{% include toc title=\"On This Page\" icon=\"file-text\" %}\n",
    "\n",
    "<div class='notice--success' markdown=\"1\">\n",
    "\n",
    "## <i class=\"fa fa-graduation-cap\" aria-hidden=\"true\"></i> Learning Objectives\n",
    "\n",
    "* Explain why scientists study wildfire.\n",
    "* List the types of field measurements that scientists gather to study wildfire.\n",
    "\n",
    "</div>\n",
    "\n",
    "\n",
    "## How Scientists Study Fire\n",
    "\n",
    "While fires naturally occur in most ecological systems, they also have large impacts on both humans and wildlife. Thus, there is significant effort to study fire, in order to, among other things:\n",
    "\n",
    "* Predict future fire behaviour (and potentially save lives and minimize evacuation efforts).\n",
    "* Understand how humans impact fire intensity and frequency over time.\n",
    "* Understand how fire is impacted by climate.\n",
    "\n",
    "The impacts of wildfires like the Cold Springs Fire can be measured in a number of ways including:\n",
    "\n",
    "* **Field surveys:** Humans taking manual measurements of vegetation loss and soil characteristics at a fire site.\n",
    "* **Remote sensing:** Data from satellites, unmanned aerial vehicles (UAVs), and planes can be used to to calculate quantitative metrics. This can include burn severity, changes before versus after the burn in vegetation, and differences between the burn site and areas around it that did not burn. This data can also be used to monitor ecosystem recovery. \n",
    "\n",
    "In this lesson, you will learn more about how scientists use field surveys to study the impacts of wildfire.  \n",
    "\n",
    "\n",
    "## Field Surveys to Understand Fire\n",
    "\n",
    "When studying fire in the field, scientists will often collect vegetation and soil samples either before and after fire or in burned and unburned areas. From vegetation surveys and sample collection, they can calculate **standing biomass** or measure soil properties. \n",
    "\n",
    "<i class=\"fa fa-star\"></i> Definition: **Standing biomass** is the total mass of living matter in a particular area, including trees, shrubs, and grasses.\n",
    "{: .notice--success}\n",
    "\n",
    "Standing biomass can be broken down by type or species, such as shrub biomass or woody plant biomass. The biomass of grasses and woody plants correlates to increased wildfire risk as these are the species that most commonly fuel fires. \n",
    "\n",
    "To calculate the standing biomass of a tree, you measure the tree’s diameter (and sometimes height) and then use an equation (based on previous studies on these trees) to calculate biomass. For grasses and shrubs, you measure their percent cover and then harvest samples and bring them to a laboratory where you dry and weigh them for biomass analysis. \n",
    "\n",
    "<figure>\n",
    "  <a href=\"{{ site.url }}/images/earth-analytics/science/cold-springs-fire/students-fieldwork-cold-springs-fire-1.jpg\">\n",
    "    <img src=\"{{ site.url }}/images/earth-analytics/science/cold-springs-fire/students-fieldwork-cold-springs-fire-1.jpg\" alt=\"CU Boulder students perform fieldwork at the site of the Cold Springs Fire.\">\n",
    "  </a>\n",
    "  <figcaption>University of Colorado Boulder Earth Lab postdocs and graduate students measure the diameter of a tree to calculate standing biomass at the Cold Springs Fire site on November 2nd, 2016. Source: Nate Mietkiewicz.\n",
    "  </figcaption>\n",
    "</figure>\n",
    "\n",
    "<figure>\n",
    "  <a href=\"{{ site.url }}/images/earth-analytics/science/cold-springs-fire/students-fieldwork-cold-springs-fire-3.jpg\">\n",
    "    <img src=\"{{ site.url }}/images/earth-analytics/science/cold-springs-fire/students-fieldwork-cold-springs-fire-3.jpg\" alt=\"CU Boulder students perform fieldwork at the site of the Cold Springs Fire.\">\n",
    "  </a>\n",
    "  <figcaption>University of Colorado Boulder Earth Lab students perform fieldwork at the Cold Springs Fire site on November 21st, 2016 . Source: Nate Mietkiewicz.\n",
    "  </figcaption>\n",
    "</figure>\n",
    "\n",
    "\n",
    "Soil measurements include measuring the content of organic material or nutrients like nitrogen, phosphorus, and sulfur. These measurements can help assess fire severity. For example, a more intense fire can burn the entire organic layer on the surface of the soil. Scientists might also measure physical properties such as pore space and water repellency. Water repellency caused by a fire may increase erosion and remove soil from the fire site. \n",
    "\n",
    "In addition to biomass and soil calculations,  field surveys are often performed to categorize the vegetation health. Scientists measure things like the percentage of leaves alive on a tree or they will count the number of pinecones in a given area to see if seeds survived. \n",
    "\n",
    "\n",
    "<figure>\n",
    "  <a href=\"{{ site.url }}/images/earth-analytics/science/cold-springs-fire/students-fieldwork-cold-springs-fire-2.jpg\">\n",
    "    <img src=\"{{ site.url }}/images/earth-analytics/science/cold-springs-fire/students-fieldwork-cold-springs-fire-2.jpg\" alt=\"A CU Boulder student performs fieldwork at the site of the Cold Springs Fire.\">\n",
    "  </a>\n",
    "  <figcaption>A University of Colorado Boulder Earth Lab postdoc performs fieldwork at the Cold Springs Fire site on November 2nd, 2016. Source: Nate Mietkiewicz.\n",
    "  </figcaption>\n",
    "</figure>\n"
   ]
  }
 ],
 "metadata": {
  "celltoolbar": "Edit Metadata",
  "kernelspec": {
   "display_name": "Python 3",
   "language": "python",
   "name": "python3"
  },
  "language_info": {
   "codemirror_mode": {
    "name": "ipython",
    "version": 3
   },
   "file_extension": ".py",
   "mimetype": "text/x-python",
   "name": "python",
   "nbconvert_exporter": "python",
   "pygments_lexer": "ipython3",
   "version": "3.7.6"
  },
  "toc": {
   "toc_cell": false,
   "toc_number_sections": false,
   "toc_threshold": "2",
   "toc_window_display": false
  },
  "varInspector": {
   "cols": {
    "lenName": 16,
    "lenType": 16,
    "lenVar": 40
   },
   "kernels_config": {
    "python": {
     "delete_cmd_postfix": "",
     "delete_cmd_prefix": "del ",
     "library": "var_list.py",
     "varRefreshCmd": "print(var_dic_list())"
    },
    "r": {
     "delete_cmd_postfix": ") ",
     "delete_cmd_prefix": "rm(",
     "library": "var_list.r",
     "varRefreshCmd": "cat(var_dic_list()) "
    }
   },
   "types_to_exclude": [
    "module",
    "function",
    "builtin_function_or_method",
    "instance",
    "_Feature"
   ],
   "window_display": false
  }
 },
 "nbformat": 4,
 "nbformat_minor": 2
}
