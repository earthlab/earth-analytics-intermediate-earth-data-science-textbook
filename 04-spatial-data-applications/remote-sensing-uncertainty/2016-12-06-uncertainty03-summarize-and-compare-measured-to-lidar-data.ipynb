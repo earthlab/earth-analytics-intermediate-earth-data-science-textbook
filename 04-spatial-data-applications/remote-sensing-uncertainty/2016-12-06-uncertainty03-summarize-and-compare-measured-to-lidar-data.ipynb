{
 "cells": [
  {
   "cell_type": "raw",
   "metadata": {},
   "source": [
    "---\n",
    "layout: single\n",
    "title: \"Compare Lidar to Measured Tree Height\"\n",
    "excerpt: \"To explore uncertainty in remote sensing data, it is helpful to compare ground-based measurements and data that are collected via airborne instruments or satellites. Learn how to create scatter plots that compare values across two datasets.\"\n",
    "authors: ['Leah Wasser', 'Chris Holdgraf', 'Carson Farmer', 'Nathan Korinek']\n",
    "dateCreated: 2016-12-06\n",
    "modified: '{:%Y-%m-%d}'.format(datetime.now())\n",
    "category: [courses]\n",
    "class-lesson: ['remote-sensing-uncertainty-python-tb']\n",
    "permalink: /courses/use-data-open-source-python/spatial-data-applications/lidar-remote-sensing-uncertainty/summarize-and-compare-lidar-insitu-tree-height/\n",
    "nav-title: 'Compare Lidar to Measured Tree Height'\n",
    "course: 'intermediate-earth-data-science-textbook'\n",
    "week: 4\n",
    "sidebar:\n",
    "  nav:\n",
    "author_profile: false\n",
    "comments: true\n",
    "order: 3\n",
    "topics:\n",
    "  reproducible-science-and-programming: ['python']\n",
    "  remote-sensing: ['lidar']\n",
    "  spatial-data-and-gis: ['raster-data']\n",
    "redirect_from:\n",
    "  - \"/courses/earth-analytics-python/lidar-remote-sensing-uncertainty/summarize-and-compare-lidar-insitu-tree-height/\"\n",
    "---\n"
   ]
  },
  {
   "cell_type": "markdown",
   "metadata": {},
   "source": [
    "{% include toc title=\"On This Page\" icon=\"file-text\" %}\n",
    "\n",
    "<div class='notice--success' markdown=\"1\">\n",
    "\n",
    "## <i class=\"fa fa-graduation-cap\" aria-hidden=\"true\"></i> Learning Objectives\n",
    "\n",
    "* Review how to summarize tabular data using **pandas** in **Python**.\n",
    "* Create a scatter plot with a one to one line in **Python** using **matplotlib**.\n",
    "* Merge two dataframes in **Python**.\n",
    "\n",
    "</div>\n",
    "\n",
    "In this lesson series, your overall goal is to compare tree height measurements taken by humans in the field to height values extracted from a lidar remote sensing canopy height model. You are working with two different types of data:\n",
    "\n",
    "1. Raster of the lidar canopy height model and\n",
    "2. Vector point location data\n",
    "\n",
    "In the previous lesson, you learned how to extract raster values from an area derived by creating a buffer region around each point in a shapefile. In this lesson, you will summarize the human made measurements and then compare them to lidar. \n",
    "\n",
    "To begin, load all of the required libraries. "
   ]
  },
  {
   "cell_type": "code",
   "execution_count": 1,
   "metadata": {
    "tags": [
     "hide"
    ]
   },
   "outputs": [],
   "source": [
    "# Hide warnings -- optional\n",
    "import warnings\n",
    "warnings.filterwarnings('ignore')"
   ]
  },
  {
   "cell_type": "code",
   "execution_count": 2,
   "metadata": {},
   "outputs": [],
   "source": [
    "import os\n",
    "import matplotlib.pyplot as plt\n",
    "import seaborn as sns\n",
    "import numpy as np\n",
    "import pandas as pd\n",
    "import rioxarray as rxr\n",
    "from rasterio.plot import plotting_extent\n",
    "import geopandas as gpd\n",
    "import rasterstats as rs\n",
    "from earthpy import spatial as es\n",
    "import earthpy as et\n",
    "import earthpy.plot as ep\n",
    "\n",
    "# Setting consistent plotting style throughout notebook\n",
    "sns.set_style(\"white\")\n",
    "sns.axes_style(\"white\")\n",
    "sns.set(font_scale=1.5)\n",
    "\n",
    "# Download data and set working directory\n",
    "data = et.data.get_data(\"spatial-vector-lidar\")\n",
    "os.chdir(os.path.join(et.io.HOME,\n",
    "                      'earth-analytics',\n",
    "                      'data'))"
   ]
  },
  {
   "cell_type": "markdown",
   "metadata": {
    "tags": [
     "hide"
    ]
   },
   "source": [
    "If you already don't have the `SJER_chm_data` array created from the previous lesson, you can download \n",
    "and import the pre-processed data by clicking on the link below. \n",
    "\n",
    "[<i class=\"fa fa-download\" aria-hidden=\"true\"></i> Download the processed CHM layer here (16 MB)](https://ndownloader.figshare.com/files/12388304){:data-proofer-ignore='' .btn }\n",
    "\n",
    "Make sure the path to the data that you downloaded here is:\n",
    "`spatial-vector-lidar/outputs/sjer_chm_zero_removed.tif`"
   ]
  },
  {
   "cell_type": "markdown",
   "metadata": {},
   "source": [
    "For this lesson you will work with the Lidar Canopy Height Model created by NEON located here:\n",
    "\n",
    "`spatial-vector-lidar/california/neon-sjer-site/2013/lidar/SJER_lidarCHM.tif`"
   ]
  },
  {
   "cell_type": "code",
   "execution_count": 3,
   "metadata": {},
   "outputs": [],
   "source": [
    "sjer_lidar_chm_path = os.path.join(\"spatial-vector-lidar\",\n",
    "                                   \"california\",\n",
    "                                   \"neon-sjer-site\",\n",
    "                                   \"2013\",\n",
    "                                   \"lidar\",\n",
    "                                   \"SJER_lidarCHM.tif\")\n",
    "\n",
    "# Load data\n",
    "sjer_chm_data = rxr.open_rasterio(sjer_lidar_chm_path, masked=True).squeeze()\n",
    "\n",
    "plot_buffer_path = os.path.join('spatial-vector-lidar',\n",
    "                                'outputs',\n",
    "                                'plot_buffer.shp')\n",
    "\n",
    "# Extract zonal stats & create geodataframe\n",
    "sjer_tree_heights = rs.zonal_stats(plot_buffer_path,\n",
    "                                   sjer_chm_data.values,\n",
    "                                   affine=sjer_chm_data.rio.transform(),\n",
    "                                   geojson_out=True,\n",
    "                                   copy_properties=True,\n",
    "                                   nodata=0,\n",
    "                                   stats=\"count mean max\")\n",
    "\n",
    "sjer_lidar_height_df = gpd.GeoDataFrame.from_features(sjer_tree_heights)"
   ]
  },
  {
   "cell_type": "markdown",
   "metadata": {},
   "source": [
    "## Is Lidar Derived Tree Height the Same As Human Measured Tree Height?\n",
    "\n",
    "You have now done the following:\n",
    "\n",
    "1. You've opened and cleaned up some lidar canopy height model data\n",
    "2. You've extracted height values for the field plot locations where humans measured trees.\n",
    "\n",
    "Next, you need to summarize the *in situ* collected\n",
    "tree height data, measured within circular plots across our study area. You will then compare\n",
    "the maximum measured tree height value to the maximum LiDAR derived height value\n",
    "for each circular plot.\n",
    "\n",
    "For this lesson, you will use the a `.csv` (comma separate value) file,\n",
    "located in `SJER/2013/insitu/veg_structure/D17_2013_SJER_vegStr.csv`.\n",
    "\n",
    "First determine the number many plots are in the tree height data. Note that the tree\n",
    "height data is stored in `.csv` format."
   ]
  },
  {
   "cell_type": "code",
   "execution_count": 4,
   "metadata": {},
   "outputs": [
    {
     "data": {
      "text/plain": [
       "Index(['siteid', 'sitename', 'plotid', 'easting', 'northing', 'taxonid',\n",
       "       'scientificname', 'indvidual_id', 'pointid', 'individualdistance',\n",
       "       'individualazimuth', 'dbh', 'dbhheight', 'basalcanopydiam',\n",
       "       'basalcanopydiam_90deg', 'maxcanopydiam', 'canopydiam_90deg',\n",
       "       'stemheight', 'stemremarks', 'stemstatus', 'canopyform', 'livingcanopy',\n",
       "       'inplotcanopy', 'materialsampleid', 'dbhqf', 'stemmapqf', 'plant_group',\n",
       "       'common_name', 'aop_plot', 'unique_id'],\n",
       "      dtype='object')"
      ]
     },
     "execution_count": 4,
     "metadata": {},
     "output_type": "execute_result"
    }
   ],
   "source": [
    "# Import & view insitu (field measured) data\n",
    "path_insitu = os.path.join(\"spatial-vector-lidar\",\n",
    "                           \"california\",\n",
    "                           \"neon-sjer-site\",\n",
    "                           \"2013\",\n",
    "                           \"insitu\",\n",
    "                           \"veg_structure\",\n",
    "                           \"D17_2013_SJER_vegStr.csv\")\n",
    "\n",
    "sjer_insitu_all = pd.read_csv(path_insitu)\n",
    "\n",
    "# View columns in data\n",
    "sjer_insitu_all.columns"
   ]
  },
  {
   "cell_type": "markdown",
   "metadata": {},
   "source": [
    "Before you go any further, you may want to select just the columns that you will need in your analysis. This will make your data a bit cleaner. In some cases you will not want to drop columns. However for this lesson, there is no reason to keep the extra data as you won't use it in this analysis!"
   ]
  },
  {
   "cell_type": "code",
   "execution_count": 5,
   "metadata": {},
   "outputs": [
    {
     "data": {
      "text/html": [
       "<div>\n",
       "<style scoped>\n",
       "    .dataframe tbody tr th:only-of-type {\n",
       "        vertical-align: middle;\n",
       "    }\n",
       "\n",
       "    .dataframe tbody tr th {\n",
       "        vertical-align: top;\n",
       "    }\n",
       "\n",
       "    .dataframe thead th {\n",
       "        text-align: right;\n",
       "    }\n",
       "</style>\n",
       "<table border=\"1\" class=\"dataframe\">\n",
       "  <thead>\n",
       "    <tr style=\"text-align: right;\">\n",
       "      <th></th>\n",
       "      <th>siteid</th>\n",
       "      <th>sitename</th>\n",
       "      <th>plotid</th>\n",
       "      <th>stemheight</th>\n",
       "      <th>scientificname</th>\n",
       "    </tr>\n",
       "  </thead>\n",
       "  <tbody>\n",
       "    <tr>\n",
       "      <th>0</th>\n",
       "      <td>SJER</td>\n",
       "      <td>San Joaquin</td>\n",
       "      <td>SJER128</td>\n",
       "      <td>18.2</td>\n",
       "      <td>Pinus sabiniana</td>\n",
       "    </tr>\n",
       "    <tr>\n",
       "      <th>1</th>\n",
       "      <td>SJER</td>\n",
       "      <td>San Joaquin</td>\n",
       "      <td>SJER2796</td>\n",
       "      <td>3.3</td>\n",
       "      <td>Arctostaphylos viscida</td>\n",
       "    </tr>\n",
       "    <tr>\n",
       "      <th>2</th>\n",
       "      <td>SJER</td>\n",
       "      <td>San Joaquin</td>\n",
       "      <td>SJER272</td>\n",
       "      <td>1.7</td>\n",
       "      <td>Arctostaphylos viscida</td>\n",
       "    </tr>\n",
       "    <tr>\n",
       "      <th>3</th>\n",
       "      <td>SJER</td>\n",
       "      <td>San Joaquin</td>\n",
       "      <td>SJER112</td>\n",
       "      <td>2.1</td>\n",
       "      <td>Arctostaphylos viscida</td>\n",
       "    </tr>\n",
       "    <tr>\n",
       "      <th>4</th>\n",
       "      <td>SJER</td>\n",
       "      <td>San Joaquin</td>\n",
       "      <td>SJER272</td>\n",
       "      <td>3.0</td>\n",
       "      <td>Arctostaphylos viscida</td>\n",
       "    </tr>\n",
       "  </tbody>\n",
       "</table>\n",
       "</div>"
      ],
      "text/plain": [
       "  siteid     sitename    plotid  stemheight          scientificname\n",
       "0   SJER  San Joaquin   SJER128        18.2         Pinus sabiniana\n",
       "1   SJER  San Joaquin  SJER2796         3.3  Arctostaphylos viscida\n",
       "2   SJER  San Joaquin   SJER272         1.7  Arctostaphylos viscida\n",
       "3   SJER  San Joaquin   SJER112         2.1  Arctostaphylos viscida\n",
       "4   SJER  San Joaquin   SJER272         3.0  Arctostaphylos viscida"
      ]
     },
     "execution_count": 5,
     "metadata": {},
     "output_type": "execute_result"
    }
   ],
   "source": [
    "sjer_insitu = sjer_insitu_all[[\"siteid\",\n",
    "                               \"sitename\",\n",
    "                               \"plotid\",\n",
    "                               \"stemheight\",\n",
    "                               \"scientificname\"]]\n",
    "\n",
    "sjer_insitu.head()"
   ]
  },
  {
   "cell_type": "markdown",
   "metadata": {},
   "source": [
    "## Summarize Tree Height Data  Using Pandas \n",
    "You want to calculate a summary value of max tree height (the tallest tree measured) in each plot. \n",
    "You have a unique id for each plot - **plotid** that can be used to group the data. The tree height values themselves are located in the **stemheight** column.\n",
    "\n",
    "You can calculate this by using the `.groupy()` method in pandas. \n",
    "\n",
    "The steps are\n",
    "\n",
    "1. `.groupby()` - group the data by the plotid column - your unique identifier for each plot.\n",
    "2. `.agg()` - provide the summary statistics that you want to return for each plot. in this case `max` and `mean`.\n",
    "3. below `['stemheight`]` is the name of the column that you want to summarize.\n",
    "\n",
    "\n",
    "`SJER_insitu.groupby('plotid').agg(['mean', 'min', 'max'])['stemheight']`"
   ]
  },
  {
   "cell_type": "code",
   "execution_count": 6,
   "metadata": {
    "tags": [
     "hide"
    ]
   },
   "outputs": [],
   "source": [
    "# extract max tree height for each plot\n",
    "#insitu_stem_height = SJER_insitu.groupby('plotid').max()['stemheight'].reset_index()\n",
    "\n",
    "# get the max and mean stem height for each plot\n",
    "# insitu_stem_ht = SJER_insitu.groupby('plotid', as_index = False)\n",
    "# insitu_stem_ht = insitu_stem_ht['stemheight'].agg(['max', 'mean'])\n",
    "# insitu_stem_ht = insitu_stem_ht.rename(columns={'max': 'insitu_maxht', 'mean': 'insitu_meanht'})\n",
    "# insitu_stem_ht.reset_index(inplace=True)\n",
    "\n",
    "# print(insitu_stem_ht.describe())"
   ]
  },
  {
   "cell_type": "code",
   "execution_count": 7,
   "metadata": {},
   "outputs": [
    {
     "data": {
      "text/html": [
       "<div>\n",
       "<style scoped>\n",
       "    .dataframe tbody tr th:only-of-type {\n",
       "        vertical-align: middle;\n",
       "    }\n",
       "\n",
       "    .dataframe tbody tr th {\n",
       "        vertical-align: top;\n",
       "    }\n",
       "\n",
       "    .dataframe thead th {\n",
       "        text-align: right;\n",
       "    }\n",
       "</style>\n",
       "<table border=\"1\" class=\"dataframe\">\n",
       "  <thead>\n",
       "    <tr style=\"text-align: right;\">\n",
       "      <th></th>\n",
       "      <th>mean</th>\n",
       "      <th>max</th>\n",
       "    </tr>\n",
       "    <tr>\n",
       "      <th>plotid</th>\n",
       "      <th></th>\n",
       "      <th></th>\n",
       "    </tr>\n",
       "  </thead>\n",
       "  <tbody>\n",
       "    <tr>\n",
       "      <th>SJER1068</th>\n",
       "      <td>3.866667</td>\n",
       "      <td>19.3</td>\n",
       "    </tr>\n",
       "    <tr>\n",
       "      <th>SJER112</th>\n",
       "      <td>8.221429</td>\n",
       "      <td>23.9</td>\n",
       "    </tr>\n",
       "    <tr>\n",
       "      <th>SJER116</th>\n",
       "      <td>8.218750</td>\n",
       "      <td>16.0</td>\n",
       "    </tr>\n",
       "    <tr>\n",
       "      <th>SJER117</th>\n",
       "      <td>6.512500</td>\n",
       "      <td>11.0</td>\n",
       "    </tr>\n",
       "    <tr>\n",
       "      <th>SJER120</th>\n",
       "      <td>7.600000</td>\n",
       "      <td>8.8</td>\n",
       "    </tr>\n",
       "  </tbody>\n",
       "</table>\n",
       "</div>"
      ],
      "text/plain": [
       "              mean   max\n",
       "plotid                  \n",
       "SJER1068  3.866667  19.3\n",
       "SJER112   8.221429  23.9\n",
       "SJER116   8.218750  16.0\n",
       "SJER117   6.512500  11.0\n",
       "SJER120   7.600000   8.8"
      ]
     },
     "execution_count": 7,
     "metadata": {},
     "output_type": "execute_result"
    }
   ],
   "source": [
    "insitu_stem_ht = sjer_insitu.groupby('plotid').agg(\n",
    "    ['mean', 'max'])['stemheight']\n",
    "\n",
    "insitu_stem_ht.head()"
   ]
  },
  {
   "cell_type": "markdown",
   "metadata": {},
   "source": [
    "You are almost done sumarizing your data. For expressive and reproducible reasons, add the word `insitu` to each column header so it's very clear which data columns are human measured. This is important given you will MERGE this data frame with the data frame containing lidar mean, min and max values.\n",
    "\n",
    "Notice that below you use a pythonic approach to creating for loops. Rather than looping through each column and appending the word \"insitu\", you create a pythonic for loop which populates a list. You then reassign that list fo the column names for the `insitu_stem_ht` dataframe."
   ]
  },
  {
   "cell_type": "code",
   "execution_count": 8,
   "metadata": {},
   "outputs": [
    {
     "data": {
      "text/html": [
       "<div>\n",
       "<style scoped>\n",
       "    .dataframe tbody tr th:only-of-type {\n",
       "        vertical-align: middle;\n",
       "    }\n",
       "\n",
       "    .dataframe tbody tr th {\n",
       "        vertical-align: top;\n",
       "    }\n",
       "\n",
       "    .dataframe thead th {\n",
       "        text-align: right;\n",
       "    }\n",
       "</style>\n",
       "<table border=\"1\" class=\"dataframe\">\n",
       "  <thead>\n",
       "    <tr style=\"text-align: right;\">\n",
       "      <th></th>\n",
       "      <th>mean</th>\n",
       "      <th>max</th>\n",
       "    </tr>\n",
       "    <tr>\n",
       "      <th>plotid</th>\n",
       "      <th></th>\n",
       "      <th></th>\n",
       "    </tr>\n",
       "  </thead>\n",
       "  <tbody>\n",
       "    <tr>\n",
       "      <th>SJER1068</th>\n",
       "      <td>3.866667</td>\n",
       "      <td>19.3</td>\n",
       "    </tr>\n",
       "    <tr>\n",
       "      <th>SJER112</th>\n",
       "      <td>8.221429</td>\n",
       "      <td>23.9</td>\n",
       "    </tr>\n",
       "    <tr>\n",
       "      <th>SJER116</th>\n",
       "      <td>8.218750</td>\n",
       "      <td>16.0</td>\n",
       "    </tr>\n",
       "    <tr>\n",
       "      <th>SJER117</th>\n",
       "      <td>6.512500</td>\n",
       "      <td>11.0</td>\n",
       "    </tr>\n",
       "    <tr>\n",
       "      <th>SJER120</th>\n",
       "      <td>7.600000</td>\n",
       "      <td>8.8</td>\n",
       "    </tr>\n",
       "  </tbody>\n",
       "</table>\n",
       "</div>"
      ],
      "text/plain": [
       "              mean   max\n",
       "plotid                  \n",
       "SJER1068  3.866667  19.3\n",
       "SJER112   8.221429  23.9\n",
       "SJER116   8.218750  16.0\n",
       "SJER117   6.512500  11.0\n",
       "SJER120   7.600000   8.8"
      ]
     },
     "execution_count": 8,
     "metadata": {},
     "output_type": "execute_result"
    }
   ],
   "source": [
    "# Rename each column\n",
    "insitu_stem_ht.head()"
   ]
  },
  {
   "cell_type": "markdown",
   "metadata": {},
   "source": [
    "Rename each column - appending \"insitu\". "
   ]
  },
  {
   "cell_type": "code",
   "execution_count": 9,
   "metadata": {},
   "outputs": [
    {
     "data": {
      "text/html": [
       "<div>\n",
       "<style scoped>\n",
       "    .dataframe tbody tr th:only-of-type {\n",
       "        vertical-align: middle;\n",
       "    }\n",
       "\n",
       "    .dataframe tbody tr th {\n",
       "        vertical-align: top;\n",
       "    }\n",
       "\n",
       "    .dataframe thead th {\n",
       "        text-align: right;\n",
       "    }\n",
       "</style>\n",
       "<table border=\"1\" class=\"dataframe\">\n",
       "  <thead>\n",
       "    <tr style=\"text-align: right;\">\n",
       "      <th></th>\n",
       "      <th>insitu_mean</th>\n",
       "      <th>insitu_max</th>\n",
       "    </tr>\n",
       "    <tr>\n",
       "      <th>plotid</th>\n",
       "      <th></th>\n",
       "      <th></th>\n",
       "    </tr>\n",
       "  </thead>\n",
       "  <tbody>\n",
       "    <tr>\n",
       "      <th>SJER1068</th>\n",
       "      <td>3.866667</td>\n",
       "      <td>19.3</td>\n",
       "    </tr>\n",
       "    <tr>\n",
       "      <th>SJER112</th>\n",
       "      <td>8.221429</td>\n",
       "      <td>23.9</td>\n",
       "    </tr>\n",
       "    <tr>\n",
       "      <th>SJER116</th>\n",
       "      <td>8.218750</td>\n",
       "      <td>16.0</td>\n",
       "    </tr>\n",
       "    <tr>\n",
       "      <th>SJER117</th>\n",
       "      <td>6.512500</td>\n",
       "      <td>11.0</td>\n",
       "    </tr>\n",
       "    <tr>\n",
       "      <th>SJER120</th>\n",
       "      <td>7.600000</td>\n",
       "      <td>8.8</td>\n",
       "    </tr>\n",
       "  </tbody>\n",
       "</table>\n",
       "</div>"
      ],
      "text/plain": [
       "          insitu_mean  insitu_max\n",
       "plotid                           \n",
       "SJER1068     3.866667        19.3\n",
       "SJER112      8.221429        23.9\n",
       "SJER116      8.218750        16.0\n",
       "SJER117      6.512500        11.0\n",
       "SJER120      7.600000         8.8"
      ]
     },
     "execution_count": 9,
     "metadata": {},
     "output_type": "execute_result"
    }
   ],
   "source": [
    "insitu_stem_ht.rename(columns={\"mean\": \"insitu_mean\",\n",
    "                               \"max\": \"insitu_max\"},\n",
    "                      inplace=True)  # Modify the dataframe columns\n",
    "\n",
    "insitu_stem_ht.head()"
   ]
  },
  {
   "cell_type": "code",
   "execution_count": 10,
   "metadata": {},
   "outputs": [
    {
     "data": {
      "text/html": [
       "<div>\n",
       "<style scoped>\n",
       "    .dataframe tbody tr th:only-of-type {\n",
       "        vertical-align: middle;\n",
       "    }\n",
       "\n",
       "    .dataframe tbody tr th {\n",
       "        vertical-align: top;\n",
       "    }\n",
       "\n",
       "    .dataframe thead th {\n",
       "        text-align: right;\n",
       "    }\n",
       "</style>\n",
       "<table border=\"1\" class=\"dataframe\">\n",
       "  <thead>\n",
       "    <tr style=\"text-align: right;\">\n",
       "      <th></th>\n",
       "      <th>plotid</th>\n",
       "      <th>insitu_insitu_mean</th>\n",
       "      <th>insitu_insitu_max</th>\n",
       "    </tr>\n",
       "  </thead>\n",
       "  <tbody>\n",
       "    <tr>\n",
       "      <th>0</th>\n",
       "      <td>SJER1068</td>\n",
       "      <td>3.866667</td>\n",
       "      <td>19.3</td>\n",
       "    </tr>\n",
       "    <tr>\n",
       "      <th>1</th>\n",
       "      <td>SJER112</td>\n",
       "      <td>8.221429</td>\n",
       "      <td>23.9</td>\n",
       "    </tr>\n",
       "    <tr>\n",
       "      <th>2</th>\n",
       "      <td>SJER116</td>\n",
       "      <td>8.218750</td>\n",
       "      <td>16.0</td>\n",
       "    </tr>\n",
       "    <tr>\n",
       "      <th>3</th>\n",
       "      <td>SJER117</td>\n",
       "      <td>6.512500</td>\n",
       "      <td>11.0</td>\n",
       "    </tr>\n",
       "    <tr>\n",
       "      <th>4</th>\n",
       "      <td>SJER120</td>\n",
       "      <td>7.600000</td>\n",
       "      <td>8.8</td>\n",
       "    </tr>\n",
       "  </tbody>\n",
       "</table>\n",
       "</div>"
      ],
      "text/plain": [
       "     plotid  insitu_insitu_mean  insitu_insitu_max\n",
       "0  SJER1068            3.866667               19.3\n",
       "1   SJER112            8.221429               23.9\n",
       "2   SJER116            8.218750               16.0\n",
       "3   SJER117            6.512500               11.0\n",
       "4   SJER120            7.600000                8.8"
      ]
     },
     "execution_count": 10,
     "metadata": {},
     "output_type": "execute_result"
    }
   ],
   "source": [
    "# Reset the index (plotid)\n",
    "insitu_stem_ht = insitu_stem_ht.reset_index()\n",
    "insitu_stem_ht.head()"
   ]
  },
  {
   "cell_type": "markdown",
   "metadata": {},
   "source": [
    "## Merge InSitu Data With Spatial Dataframe\n",
    "\n",
    "Once you have our summarized insitu data, you can `merge` it into the centroids\n",
    "`data frame`. Merge requires two data.frames and the names of the columns\n",
    "containing the unique ID that we will merge the data on. In this case, you will\n",
    "merge the data on the `plot_id` column. Notice that it's spelled slightly differently\n",
    "in both data.frames so we'll need to tell Python what it's called in each `dataframe`.\n",
    "\n",
    "Note that if you want to merge two GeoDataFrames together, you **cannot** use the standard Pandas `merge` function. This will turn the GeoDataFrame into a regular DataFrame. Instead, you need to use the `merge` *method* of a GeoDataFrame object, like so:"
   ]
  },
  {
   "cell_type": "code",
   "execution_count": 11,
   "metadata": {},
   "outputs": [
    {
     "data": {
      "text/html": [
       "<div>\n",
       "<style scoped>\n",
       "    .dataframe tbody tr th:only-of-type {\n",
       "        vertical-align: middle;\n",
       "    }\n",
       "\n",
       "    .dataframe tbody tr th {\n",
       "        vertical-align: top;\n",
       "    }\n",
       "\n",
       "    .dataframe thead th {\n",
       "        text-align: right;\n",
       "    }\n",
       "</style>\n",
       "<table border=\"1\" class=\"dataframe\">\n",
       "  <thead>\n",
       "    <tr style=\"text-align: right;\">\n",
       "      <th></th>\n",
       "      <th>geometry</th>\n",
       "      <th>Plot_ID</th>\n",
       "      <th>Point</th>\n",
       "      <th>northing</th>\n",
       "      <th>easting</th>\n",
       "      <th>plot_type</th>\n",
       "      <th>lidar_max</th>\n",
       "      <th>lidar_mean</th>\n",
       "      <th>count</th>\n",
       "      <th>plotid</th>\n",
       "      <th>insitu_insitu_mean</th>\n",
       "      <th>insitu_insitu_max</th>\n",
       "    </tr>\n",
       "  </thead>\n",
       "  <tbody>\n",
       "    <tr>\n",
       "      <th>0</th>\n",
       "      <td>POLYGON ((255872.376 4111567.818, 255872.280 4...</td>\n",
       "      <td>SJER1068</td>\n",
       "      <td>center</td>\n",
       "      <td>4111567.818</td>\n",
       "      <td>255852.376</td>\n",
       "      <td>trees</td>\n",
       "      <td>19.049999</td>\n",
       "      <td>11.544348</td>\n",
       "      <td>161</td>\n",
       "      <td>SJER1068</td>\n",
       "      <td>3.866667</td>\n",
       "      <td>19.3</td>\n",
       "    </tr>\n",
       "    <tr>\n",
       "      <th>1</th>\n",
       "      <td>POLYGON ((257426.967 4111298.971, 257426.871 4...</td>\n",
       "      <td>SJER112</td>\n",
       "      <td>center</td>\n",
       "      <td>4111298.971</td>\n",
       "      <td>257406.967</td>\n",
       "      <td>trees</td>\n",
       "      <td>24.019999</td>\n",
       "      <td>10.369277</td>\n",
       "      <td>443</td>\n",
       "      <td>SJER112</td>\n",
       "      <td>8.221429</td>\n",
       "      <td>23.9</td>\n",
       "    </tr>\n",
       "    <tr>\n",
       "      <th>2</th>\n",
       "      <td>POLYGON ((256858.760 4110819.876, 256858.664 4...</td>\n",
       "      <td>SJER116</td>\n",
       "      <td>center</td>\n",
       "      <td>4110819.876</td>\n",
       "      <td>256838.760</td>\n",
       "      <td>grass</td>\n",
       "      <td>16.070000</td>\n",
       "      <td>7.518398</td>\n",
       "      <td>643</td>\n",
       "      <td>SJER116</td>\n",
       "      <td>8.218750</td>\n",
       "      <td>16.0</td>\n",
       "    </tr>\n",
       "    <tr>\n",
       "      <th>3</th>\n",
       "      <td>POLYGON ((256196.947 4108752.026, 256196.851 4...</td>\n",
       "      <td>SJER117</td>\n",
       "      <td>center</td>\n",
       "      <td>4108752.026</td>\n",
       "      <td>256176.947</td>\n",
       "      <td>trees</td>\n",
       "      <td>11.059999</td>\n",
       "      <td>7.675347</td>\n",
       "      <td>245</td>\n",
       "      <td>SJER117</td>\n",
       "      <td>6.512500</td>\n",
       "      <td>11.0</td>\n",
       "    </tr>\n",
       "    <tr>\n",
       "      <th>4</th>\n",
       "      <td>POLYGON ((255988.372 4110476.079, 255988.276 4...</td>\n",
       "      <td>SJER120</td>\n",
       "      <td>center</td>\n",
       "      <td>4110476.079</td>\n",
       "      <td>255968.372</td>\n",
       "      <td>grass</td>\n",
       "      <td>5.740000</td>\n",
       "      <td>4.591176</td>\n",
       "      <td>17</td>\n",
       "      <td>SJER120</td>\n",
       "      <td>7.600000</td>\n",
       "      <td>8.8</td>\n",
       "    </tr>\n",
       "  </tbody>\n",
       "</table>\n",
       "</div>"
      ],
      "text/plain": [
       "                                            geometry   Plot_ID   Point  \\\n",
       "0  POLYGON ((255872.376 4111567.818, 255872.280 4...  SJER1068  center   \n",
       "1  POLYGON ((257426.967 4111298.971, 257426.871 4...   SJER112  center   \n",
       "2  POLYGON ((256858.760 4110819.876, 256858.664 4...   SJER116  center   \n",
       "3  POLYGON ((256196.947 4108752.026, 256196.851 4...   SJER117  center   \n",
       "4  POLYGON ((255988.372 4110476.079, 255988.276 4...   SJER120  center   \n",
       "\n",
       "      northing     easting plot_type  lidar_max  lidar_mean  count    plotid  \\\n",
       "0  4111567.818  255852.376     trees  19.049999   11.544348    161  SJER1068   \n",
       "1  4111298.971  257406.967     trees  24.019999   10.369277    443   SJER112   \n",
       "2  4110819.876  256838.760     grass  16.070000    7.518398    643   SJER116   \n",
       "3  4108752.026  256176.947     trees  11.059999    7.675347    245   SJER117   \n",
       "4  4110476.079  255968.372     grass   5.740000    4.591176     17   SJER120   \n",
       "\n",
       "   insitu_insitu_mean  insitu_insitu_max  \n",
       "0            3.866667               19.3  \n",
       "1            8.221429               23.9  \n",
       "2            8.218750               16.0  \n",
       "3            6.512500               11.0  \n",
       "4            7.600000                8.8  "
      ]
     },
     "execution_count": 11,
     "metadata": {},
     "output_type": "execute_result"
    }
   ],
   "source": [
    "# Rename columns so that we know which columns represent lidar values\n",
    "sjer_lidar_height_df = sjer_lidar_height_df.rename(\n",
    "    columns={'max': 'lidar_max',\n",
    "             'mean': 'lidar_mean',\n",
    "             'min': 'lidar_min'})\n",
    "\n",
    "# Join lidar and human measured tree height data\n",
    "sjer_final_height = sjer_lidar_height_df.merge(insitu_stem_ht,\n",
    "                                               left_on='Plot_ID',\n",
    "                                               right_on='plotid')\n",
    "sjer_final_height.head()"
   ]
  },
  {
   "cell_type": "markdown",
   "metadata": {},
   "source": [
    "### Column Names Matter\n",
    "\n",
    "Take note that while you you don't have to rename the columns as you did above in order to successfully computer your final merged dataframe, it helps if you do because\n",
    "\n",
    "1. Now anyone looking at your data knows what each column represents.\n",
    "2. If you export the data to a text file, your columns are named expressively\n",
    "3. If you return to this analysis in 6 months, you will still be able to quickly understand what data are in each column if they are well named!\n",
    "\n",
    "## Plot Data (CHM vs Measured)\n",
    "\n",
    "You've now merged the two dataframes together. Your are ready to create your first scatterplot of the data. \n",
    "You can use the pandas `.plot()` to create a scatterplot (or you can use matplotlib directly). The example below uses pandas plotting.  "
   ]
  },
  {
   "cell_type": "code",
   "execution_count": 12,
   "metadata": {
    "tags": [
     "hide"
    ]
   },
   "outputs": [],
   "source": [
    "# this plot should be a scatter plot with labels and such\n",
    "# how to add x and y labels\n",
    "# http://pandas.pydata.org/pandas-docs/stable/generated/pandas.DataFrame.plot.html\n",
    "# Prettier plots: https://datasciencelab.wordpress.com/2013/12/21/beautiful-plots-with-pandas-and-matplotlib/"
   ]
  },
  {
   "cell_type": "code",
   "execution_count": 13,
   "metadata": {
    "caption": "Scatterplot showing the relationship between lidar and measured tree height without a 1:1 line."
   },
   "outputs": [
    {
     "ename": "KeyError",
     "evalue": "'insitu_max'",
     "output_type": "error",
     "traceback": [
      "\u001b[0;31m---------------------------------------------------------------------------\u001b[0m",
      "\u001b[0;31mKeyError\u001b[0m                                  Traceback (most recent call last)",
      "\u001b[0;32m~/opt/miniconda3/envs/earth-analytics-python/lib/python3.8/site-packages/pandas/core/indexes/base.py\u001b[0m in \u001b[0;36mget_loc\u001b[0;34m(self, key, method, tolerance)\u001b[0m\n\u001b[1;32m   3079\u001b[0m             \u001b[0;32mtry\u001b[0m\u001b[0;34m:\u001b[0m\u001b[0;34m\u001b[0m\u001b[0;34m\u001b[0m\u001b[0m\n\u001b[0;32m-> 3080\u001b[0;31m                 \u001b[0;32mreturn\u001b[0m \u001b[0mself\u001b[0m\u001b[0;34m.\u001b[0m\u001b[0m_engine\u001b[0m\u001b[0;34m.\u001b[0m\u001b[0mget_loc\u001b[0m\u001b[0;34m(\u001b[0m\u001b[0mcasted_key\u001b[0m\u001b[0;34m)\u001b[0m\u001b[0;34m\u001b[0m\u001b[0;34m\u001b[0m\u001b[0m\n\u001b[0m\u001b[1;32m   3081\u001b[0m             \u001b[0;32mexcept\u001b[0m \u001b[0mKeyError\u001b[0m \u001b[0;32mas\u001b[0m \u001b[0merr\u001b[0m\u001b[0;34m:\u001b[0m\u001b[0;34m\u001b[0m\u001b[0;34m\u001b[0m\u001b[0m\n",
      "\u001b[0;32mpandas/_libs/index.pyx\u001b[0m in \u001b[0;36mpandas._libs.index.IndexEngine.get_loc\u001b[0;34m()\u001b[0m\n",
      "\u001b[0;32mpandas/_libs/index.pyx\u001b[0m in \u001b[0;36mpandas._libs.index.IndexEngine.get_loc\u001b[0;34m()\u001b[0m\n",
      "\u001b[0;32mpandas/_libs/hashtable_class_helper.pxi\u001b[0m in \u001b[0;36mpandas._libs.hashtable.PyObjectHashTable.get_item\u001b[0;34m()\u001b[0m\n",
      "\u001b[0;32mpandas/_libs/hashtable_class_helper.pxi\u001b[0m in \u001b[0;36mpandas._libs.hashtable.PyObjectHashTable.get_item\u001b[0;34m()\u001b[0m\n",
      "\u001b[0;31mKeyError\u001b[0m: 'insitu_max'",
      "\nThe above exception was the direct cause of the following exception:\n",
      "\u001b[0;31mKeyError\u001b[0m                                  Traceback (most recent call last)",
      "\u001b[0;32m<ipython-input-13-89c29ef9ee3b>\u001b[0m in \u001b[0;36m<module>\u001b[0;34m\u001b[0m\n\u001b[1;32m      4\u001b[0m \u001b[0mfig\u001b[0m\u001b[0;34m,\u001b[0m \u001b[0max\u001b[0m \u001b[0;34m=\u001b[0m \u001b[0mplt\u001b[0m\u001b[0;34m.\u001b[0m\u001b[0msubplots\u001b[0m\u001b[0;34m(\u001b[0m\u001b[0mfigsize\u001b[0m\u001b[0;34m=\u001b[0m\u001b[0;34m(\u001b[0m\u001b[0;36m10\u001b[0m\u001b[0;34m,\u001b[0m \u001b[0;36m10\u001b[0m\u001b[0;34m)\u001b[0m\u001b[0;34m)\u001b[0m\u001b[0;34m\u001b[0m\u001b[0;34m\u001b[0m\u001b[0m\n\u001b[1;32m      5\u001b[0m \u001b[0;34m\u001b[0m\u001b[0m\n\u001b[0;32m----> 6\u001b[0;31m sjer_final_height_df.plot('lidar_max',\n\u001b[0m\u001b[1;32m      7\u001b[0m                           \u001b[0;34m'insitu_max'\u001b[0m\u001b[0;34m,\u001b[0m\u001b[0;34m\u001b[0m\u001b[0;34m\u001b[0m\u001b[0m\n\u001b[1;32m      8\u001b[0m                           \u001b[0mkind\u001b[0m\u001b[0;34m=\u001b[0m\u001b[0;34m'scatter'\u001b[0m\u001b[0;34m,\u001b[0m\u001b[0;34m\u001b[0m\u001b[0;34m\u001b[0m\u001b[0m\n",
      "\u001b[0;32m~/opt/miniconda3/envs/earth-analytics-python/lib/python3.8/site-packages/pandas/plotting/_core.py\u001b[0m in \u001b[0;36m__call__\u001b[0;34m(self, *args, **kwargs)\u001b[0m\n\u001b[1;32m    898\u001b[0m         \u001b[0;32mif\u001b[0m \u001b[0mkind\u001b[0m \u001b[0;32min\u001b[0m \u001b[0mself\u001b[0m\u001b[0;34m.\u001b[0m\u001b[0m_dataframe_kinds\u001b[0m\u001b[0;34m:\u001b[0m\u001b[0;34m\u001b[0m\u001b[0;34m\u001b[0m\u001b[0m\n\u001b[1;32m    899\u001b[0m             \u001b[0;32mif\u001b[0m \u001b[0misinstance\u001b[0m\u001b[0;34m(\u001b[0m\u001b[0mdata\u001b[0m\u001b[0;34m,\u001b[0m \u001b[0mABCDataFrame\u001b[0m\u001b[0;34m)\u001b[0m\u001b[0;34m:\u001b[0m\u001b[0;34m\u001b[0m\u001b[0;34m\u001b[0m\u001b[0m\n\u001b[0;32m--> 900\u001b[0;31m                 \u001b[0;32mreturn\u001b[0m \u001b[0mplot_backend\u001b[0m\u001b[0;34m.\u001b[0m\u001b[0mplot\u001b[0m\u001b[0;34m(\u001b[0m\u001b[0mdata\u001b[0m\u001b[0;34m,\u001b[0m \u001b[0mx\u001b[0m\u001b[0;34m=\u001b[0m\u001b[0mx\u001b[0m\u001b[0;34m,\u001b[0m \u001b[0my\u001b[0m\u001b[0;34m=\u001b[0m\u001b[0my\u001b[0m\u001b[0;34m,\u001b[0m \u001b[0mkind\u001b[0m\u001b[0;34m=\u001b[0m\u001b[0mkind\u001b[0m\u001b[0;34m,\u001b[0m \u001b[0;34m**\u001b[0m\u001b[0mkwargs\u001b[0m\u001b[0;34m)\u001b[0m\u001b[0;34m\u001b[0m\u001b[0;34m\u001b[0m\u001b[0m\n\u001b[0m\u001b[1;32m    901\u001b[0m             \u001b[0;32melse\u001b[0m\u001b[0;34m:\u001b[0m\u001b[0;34m\u001b[0m\u001b[0;34m\u001b[0m\u001b[0m\n\u001b[1;32m    902\u001b[0m                 \u001b[0;32mraise\u001b[0m \u001b[0mValueError\u001b[0m\u001b[0;34m(\u001b[0m\u001b[0;34mf\"plot kind {kind} can only be used for data frames\"\u001b[0m\u001b[0;34m)\u001b[0m\u001b[0;34m\u001b[0m\u001b[0;34m\u001b[0m\u001b[0m\n",
      "\u001b[0;32m~/opt/miniconda3/envs/earth-analytics-python/lib/python3.8/site-packages/pandas/plotting/_matplotlib/__init__.py\u001b[0m in \u001b[0;36mplot\u001b[0;34m(data, kind, **kwargs)\u001b[0m\n\u001b[1;32m     59\u001b[0m             \u001b[0mkwargs\u001b[0m\u001b[0;34m[\u001b[0m\u001b[0;34m\"ax\"\u001b[0m\u001b[0;34m]\u001b[0m \u001b[0;34m=\u001b[0m \u001b[0mgetattr\u001b[0m\u001b[0;34m(\u001b[0m\u001b[0max\u001b[0m\u001b[0;34m,\u001b[0m \u001b[0;34m\"left_ax\"\u001b[0m\u001b[0;34m,\u001b[0m \u001b[0max\u001b[0m\u001b[0;34m)\u001b[0m\u001b[0;34m\u001b[0m\u001b[0;34m\u001b[0m\u001b[0m\n\u001b[1;32m     60\u001b[0m     \u001b[0mplot_obj\u001b[0m \u001b[0;34m=\u001b[0m \u001b[0mPLOT_CLASSES\u001b[0m\u001b[0;34m[\u001b[0m\u001b[0mkind\u001b[0m\u001b[0;34m]\u001b[0m\u001b[0;34m(\u001b[0m\u001b[0mdata\u001b[0m\u001b[0;34m,\u001b[0m \u001b[0;34m**\u001b[0m\u001b[0mkwargs\u001b[0m\u001b[0;34m)\u001b[0m\u001b[0;34m\u001b[0m\u001b[0;34m\u001b[0m\u001b[0m\n\u001b[0;32m---> 61\u001b[0;31m     \u001b[0mplot_obj\u001b[0m\u001b[0;34m.\u001b[0m\u001b[0mgenerate\u001b[0m\u001b[0;34m(\u001b[0m\u001b[0;34m)\u001b[0m\u001b[0;34m\u001b[0m\u001b[0;34m\u001b[0m\u001b[0m\n\u001b[0m\u001b[1;32m     62\u001b[0m     \u001b[0mplot_obj\u001b[0m\u001b[0;34m.\u001b[0m\u001b[0mdraw\u001b[0m\u001b[0;34m(\u001b[0m\u001b[0;34m)\u001b[0m\u001b[0;34m\u001b[0m\u001b[0;34m\u001b[0m\u001b[0m\n\u001b[1;32m     63\u001b[0m     \u001b[0;32mreturn\u001b[0m \u001b[0mplot_obj\u001b[0m\u001b[0;34m.\u001b[0m\u001b[0mresult\u001b[0m\u001b[0;34m\u001b[0m\u001b[0;34m\u001b[0m\u001b[0m\n",
      "\u001b[0;32m~/opt/miniconda3/envs/earth-analytics-python/lib/python3.8/site-packages/pandas/plotting/_matplotlib/core.py\u001b[0m in \u001b[0;36mgenerate\u001b[0;34m(self)\u001b[0m\n\u001b[1;32m    278\u001b[0m         \u001b[0mself\u001b[0m\u001b[0;34m.\u001b[0m\u001b[0m_compute_plot_data\u001b[0m\u001b[0;34m(\u001b[0m\u001b[0;34m)\u001b[0m\u001b[0;34m\u001b[0m\u001b[0;34m\u001b[0m\u001b[0m\n\u001b[1;32m    279\u001b[0m         \u001b[0mself\u001b[0m\u001b[0;34m.\u001b[0m\u001b[0m_setup_subplots\u001b[0m\u001b[0;34m(\u001b[0m\u001b[0;34m)\u001b[0m\u001b[0;34m\u001b[0m\u001b[0;34m\u001b[0m\u001b[0m\n\u001b[0;32m--> 280\u001b[0;31m         \u001b[0mself\u001b[0m\u001b[0;34m.\u001b[0m\u001b[0m_make_plot\u001b[0m\u001b[0;34m(\u001b[0m\u001b[0;34m)\u001b[0m\u001b[0;34m\u001b[0m\u001b[0;34m\u001b[0m\u001b[0m\n\u001b[0m\u001b[1;32m    281\u001b[0m         \u001b[0mself\u001b[0m\u001b[0;34m.\u001b[0m\u001b[0m_add_table\u001b[0m\u001b[0;34m(\u001b[0m\u001b[0;34m)\u001b[0m\u001b[0;34m\u001b[0m\u001b[0;34m\u001b[0m\u001b[0m\n\u001b[1;32m    282\u001b[0m         \u001b[0mself\u001b[0m\u001b[0;34m.\u001b[0m\u001b[0m_make_legend\u001b[0m\u001b[0;34m(\u001b[0m\u001b[0;34m)\u001b[0m\u001b[0;34m\u001b[0m\u001b[0;34m\u001b[0m\u001b[0m\n",
      "\u001b[0;32m~/opt/miniconda3/envs/earth-analytics-python/lib/python3.8/site-packages/pandas/plotting/_matplotlib/core.py\u001b[0m in \u001b[0;36m_make_plot\u001b[0;34m(self)\u001b[0m\n\u001b[1;32m   1041\u001b[0m         scatter = ax.scatter(\n\u001b[1;32m   1042\u001b[0m             \u001b[0mdata\u001b[0m\u001b[0;34m[\u001b[0m\u001b[0mx\u001b[0m\u001b[0;34m]\u001b[0m\u001b[0;34m.\u001b[0m\u001b[0mvalues\u001b[0m\u001b[0;34m,\u001b[0m\u001b[0;34m\u001b[0m\u001b[0;34m\u001b[0m\u001b[0m\n\u001b[0;32m-> 1043\u001b[0;31m             \u001b[0mdata\u001b[0m\u001b[0;34m[\u001b[0m\u001b[0my\u001b[0m\u001b[0;34m]\u001b[0m\u001b[0;34m.\u001b[0m\u001b[0mvalues\u001b[0m\u001b[0;34m,\u001b[0m\u001b[0;34m\u001b[0m\u001b[0;34m\u001b[0m\u001b[0m\n\u001b[0m\u001b[1;32m   1044\u001b[0m             \u001b[0mc\u001b[0m\u001b[0;34m=\u001b[0m\u001b[0mc_values\u001b[0m\u001b[0;34m,\u001b[0m\u001b[0;34m\u001b[0m\u001b[0;34m\u001b[0m\u001b[0m\n\u001b[1;32m   1045\u001b[0m             \u001b[0mlabel\u001b[0m\u001b[0;34m=\u001b[0m\u001b[0mlabel\u001b[0m\u001b[0;34m,\u001b[0m\u001b[0;34m\u001b[0m\u001b[0;34m\u001b[0m\u001b[0m\n",
      "\u001b[0;32m~/opt/miniconda3/envs/earth-analytics-python/lib/python3.8/site-packages/pandas/core/frame.py\u001b[0m in \u001b[0;36m__getitem__\u001b[0;34m(self, key)\u001b[0m\n\u001b[1;32m   3022\u001b[0m             \u001b[0;32mif\u001b[0m \u001b[0mself\u001b[0m\u001b[0;34m.\u001b[0m\u001b[0mcolumns\u001b[0m\u001b[0;34m.\u001b[0m\u001b[0mnlevels\u001b[0m \u001b[0;34m>\u001b[0m \u001b[0;36m1\u001b[0m\u001b[0;34m:\u001b[0m\u001b[0;34m\u001b[0m\u001b[0;34m\u001b[0m\u001b[0m\n\u001b[1;32m   3023\u001b[0m                 \u001b[0;32mreturn\u001b[0m \u001b[0mself\u001b[0m\u001b[0;34m.\u001b[0m\u001b[0m_getitem_multilevel\u001b[0m\u001b[0;34m(\u001b[0m\u001b[0mkey\u001b[0m\u001b[0;34m)\u001b[0m\u001b[0;34m\u001b[0m\u001b[0;34m\u001b[0m\u001b[0m\n\u001b[0;32m-> 3024\u001b[0;31m             \u001b[0mindexer\u001b[0m \u001b[0;34m=\u001b[0m \u001b[0mself\u001b[0m\u001b[0;34m.\u001b[0m\u001b[0mcolumns\u001b[0m\u001b[0;34m.\u001b[0m\u001b[0mget_loc\u001b[0m\u001b[0;34m(\u001b[0m\u001b[0mkey\u001b[0m\u001b[0;34m)\u001b[0m\u001b[0;34m\u001b[0m\u001b[0;34m\u001b[0m\u001b[0m\n\u001b[0m\u001b[1;32m   3025\u001b[0m             \u001b[0;32mif\u001b[0m \u001b[0mis_integer\u001b[0m\u001b[0;34m(\u001b[0m\u001b[0mindexer\u001b[0m\u001b[0;34m)\u001b[0m\u001b[0;34m:\u001b[0m\u001b[0;34m\u001b[0m\u001b[0;34m\u001b[0m\u001b[0m\n\u001b[1;32m   3026\u001b[0m                 \u001b[0mindexer\u001b[0m \u001b[0;34m=\u001b[0m \u001b[0;34m[\u001b[0m\u001b[0mindexer\u001b[0m\u001b[0;34m]\u001b[0m\u001b[0;34m\u001b[0m\u001b[0;34m\u001b[0m\u001b[0m\n",
      "\u001b[0;32m~/opt/miniconda3/envs/earth-analytics-python/lib/python3.8/site-packages/pandas/core/indexes/base.py\u001b[0m in \u001b[0;36mget_loc\u001b[0;34m(self, key, method, tolerance)\u001b[0m\n\u001b[1;32m   3080\u001b[0m                 \u001b[0;32mreturn\u001b[0m \u001b[0mself\u001b[0m\u001b[0;34m.\u001b[0m\u001b[0m_engine\u001b[0m\u001b[0;34m.\u001b[0m\u001b[0mget_loc\u001b[0m\u001b[0;34m(\u001b[0m\u001b[0mcasted_key\u001b[0m\u001b[0;34m)\u001b[0m\u001b[0;34m\u001b[0m\u001b[0;34m\u001b[0m\u001b[0m\n\u001b[1;32m   3081\u001b[0m             \u001b[0;32mexcept\u001b[0m \u001b[0mKeyError\u001b[0m \u001b[0;32mas\u001b[0m \u001b[0merr\u001b[0m\u001b[0;34m:\u001b[0m\u001b[0;34m\u001b[0m\u001b[0;34m\u001b[0m\u001b[0m\n\u001b[0;32m-> 3082\u001b[0;31m                 \u001b[0;32mraise\u001b[0m \u001b[0mKeyError\u001b[0m\u001b[0;34m(\u001b[0m\u001b[0mkey\u001b[0m\u001b[0;34m)\u001b[0m \u001b[0;32mfrom\u001b[0m \u001b[0merr\u001b[0m\u001b[0;34m\u001b[0m\u001b[0;34m\u001b[0m\u001b[0m\n\u001b[0m\u001b[1;32m   3083\u001b[0m \u001b[0;34m\u001b[0m\u001b[0m\n\u001b[1;32m   3084\u001b[0m         \u001b[0;32mif\u001b[0m \u001b[0mtolerance\u001b[0m \u001b[0;32mis\u001b[0m \u001b[0;32mnot\u001b[0m \u001b[0;32mNone\u001b[0m\u001b[0;34m:\u001b[0m\u001b[0;34m\u001b[0m\u001b[0;34m\u001b[0m\u001b[0m\n",
      "\u001b[0;31mKeyError\u001b[0m: 'insitu_max'"
     ]
    },
    {
     "data": {
      "image/png": "[encoded data removed]",
      "text/plain": [
       "<Figure size 720x720 with 1 Axes>"
      ]
     },
     "metadata": {},
     "output_type": "display_data"
    }
   ],
   "source": [
    "# Convert to a dataframe so you can use standard pandas plotting\n",
    "sjer_final_height_df = pd.DataFrame(sjer_final_height)\n",
    "\n",
    "fig, ax = plt.subplots(figsize=(10, 10))\n",
    "\n",
    "sjer_final_height_df.plot('lidar_max',\n",
    "                          'insitu_max',\n",
    "                          kind='scatter',\n",
    "                          fontsize=14, s=60,\n",
    "                          color=\"purple\",\n",
    "                          ax=ax)\n",
    "\n",
    "ax.set(xlabel=\"Lidar derived max tree height\",\n",
    "       ylabel=\"Measured tree height (m)\",\n",
    "       title=\"Lidar vs Measured Max Tree Height \\n NEON SJER Field Site\")\n",
    "\n",
    "plt.show()"
   ]
  },
  {
   "cell_type": "markdown",
   "metadata": {
    "tags": [
     "hide"
    ]
   },
   "source": [
    "how to add x and y labels\n",
    "http://pandas.pydata.org/pandas-docs/stable/generated/pandas.DataFrame.plot.html\n",
    "Prettier plots: https://datasciencelab.wordpress.com/2013/12/21/beautiful-plots-with-pandas-and-matplotlib/\n"
   ]
  },
  {
   "cell_type": "markdown",
   "metadata": {},
   "source": [
    "\n",
    "\n",
    "Next, let's fix the plot adding a 1:1 line and making the x and y axis the same .\n"
   ]
  },
  {
   "cell_type": "code",
   "execution_count": null,
   "metadata": {
    "caption": "Scatterplot showing the relationship between lidar and measured tree height with a 1:1 line."
   },
   "outputs": [],
   "source": [
    "fig, ax = plt.subplots(figsize=(10, 10))\n",
    "\n",
    "sjer_final_height_df.plot('lidar_max',\n",
    "                          'insitu_max',\n",
    "                          kind='scatter',\n",
    "                          fontsize=14,\n",
    "                          color=\"purple\",\n",
    "                          s=60, ax=ax)\n",
    "\n",
    "ax.set(xlabel=\"Lidar Derived Max Tree Height (m)\",\n",
    "       ylabel=\"Measured Tree Height (m)\",\n",
    "       title=\"Lidar vs. Measured Max Tree Height \\n NEON SJER Field Site\")\n",
    "\n",
    "# Add 1:1 line\n",
    "ax.plot((0, 1), (0, 1),\n",
    "        transform=ax.transAxes, ls='--', c='k')\n",
    "\n",
    "# Adjust x and y axis limits\n",
    "ax.set(xlim=[0, 30], ylim=[0, 30])\n",
    "plt.show()"
   ]
  },
  {
   "cell_type": "markdown",
   "metadata": {},
   "source": [
    "****\n",
    "\n",
    "<div class=\"notice--info\" markdown=\"1\">\n",
    "\n",
    "### OPTIONAL - Export Results as a .csv File\n",
    "\n",
    "You may want to export your final analysis file as a `.csv` file. You can use the Pandas `.to_csv()` method to export a dataframe. .to_csv requires a directory that exists on your computer and a file name like this:\n",
    "\n",
    "`dataframe_name.to_csv(\"data/spatial-vector-lidar/outputs/sjer-lidar-insitu-merge.csv\")`\n",
    "\n",
    "</div>\n"
   ]
  },
  {
   "cell_type": "code",
   "execution_count": null,
   "metadata": {},
   "outputs": [],
   "source": [
    "# Export the final data frame as a csv file\n",
    "outpath = os.path.join(\"spatial-vector-lidar\",\n",
    "                       \"outputs\",\n",
    "                       \"sjer-lidar-insitu-merge.csv\")\n",
    "\n",
    "sjer_final_height_df.to_csv(outpath)"
   ]
  },
  {
   "cell_type": "markdown",
   "metadata": {},
   "source": [
    "\n",
    "\n",
    "## Create Map of Plot Locations Sized by Tree Height\n",
    "\n",
    "Finally, you may want to create a map where points are sized according to tree height. To do that you\n",
    "\n",
    "1. Create or use a point geometry for each site location. In the case below we are using the data.frame that had the buffered points, and updating the geometry so that it is a point rather than the buffered polygon geometry.\n",
    "2. Then you set the point markersize using an attribute in your geodataframe. In the example below you use `insitu_maxht`\n",
    "\n"
   ]
  },
  {
   "cell_type": "code",
   "execution_count": null,
   "metadata": {},
   "outputs": [],
   "source": [
    "# Convert the geometry column to contain points\n",
    "sjer_final_height['geometry'] = sjer_final_height.centroid\n",
    "sjer_final_height.head()\n",
    "\n",
    "sjer_final_height['insitu_max']"
   ]
  },
  {
   "cell_type": "markdown",
   "metadata": {},
   "source": [
    "Plot the points by tree height. "
   ]
  },
  {
   "cell_type": "code",
   "execution_count": null,
   "metadata": {
    "caption": "Map showing plot locations with points sized by the height of vegetation in each plot overlayed on top of a canopy height model."
   },
   "outputs": [],
   "source": [
    "fig, ax = plt.subplots(figsize=(10, 10))\n",
    "ep.plot_bands(sjer_chm_data,\n",
    "              cmap='Greys',\n",
    "              extent=plotting_extent(sjer_chm_data,\n",
    "                                     sjer_chm_data.rio.transform()),\n",
    "              ax=ax,\n",
    "              scale=False)\n",
    "\n",
    "# Plot centroids of each geometry as points so that you can control their size\n",
    "sjer_final_height.centroid.plot(ax=ax,\n",
    "                                marker='o',\n",
    "                                markersize=sjer_final_height['insitu_max'] * 80,\n",
    "                                c='purple')\n",
    "ax.set_axis_off()\n",
    "plt.show()"
   ]
  },
  {
   "cell_type": "markdown",
   "metadata": {},
   "source": [
    "****\n",
    "\n",
    "<div class=\"notice--info\" markdown=\"1\">\n",
    "\n",
    "## Optional - Create Difference Bar Plot: Lidar vs Measured\n",
    "The last comparison that you may wish to explore is the plot by plot difference between lidar and measured tree height data. This is often helpful when you are trying to troubleshoot outlier values in your data. For instance you may notice that a few plots have very large differences between lidar and measured tree height.\n",
    "\n",
    "You may decide to either:\n",
    "\n",
    "1. Visit the sites if you are close to the field site or\n",
    "2. Explore imagery for the sites to see if you can figure out a good reason for why the results may be so different. \n",
    "\n",
    "Below you do the following\n",
    "1. You first subtract field measured tree height from lidar estimates\n",
    "2. Then you create a barplot of that value \n",
    "</div>"
   ]
  },
  {
   "cell_type": "code",
   "execution_count": null,
   "metadata": {
    "caption": "Barplot showing the difference between lidar and measured tree height for each plot.",
    "scrolled": false
   },
   "outputs": [],
   "source": [
    "# Calculate difference\n",
    "sjer_final_height[\"lidar_measured\"] = sjer_final_height[\"lidar_max\"] - \\\n",
    "    sjer_final_height[\"insitu_max\"]\n",
    "\n",
    "# Create a bar plot\n",
    "fig, ax = plt.subplots(figsize=(12, 7))\n",
    "ax.bar(sjer_final_height['plotid'],\n",
    "       sjer_final_height['lidar_measured'],\n",
    "       color=\"purple\")\n",
    "\n",
    "ax.set(xlabel='Plot ID', ylabel='(Lidar - Measured) Height Difference (m)',\n",
    "       title='Difference Between lidar and Measured Tree Height')\n",
    "\n",
    "plt.setp(ax.get_xticklabels(),\n",
    "         rotation=45, horizontalalignment='right')\n",
    "plt.show()"
   ]
  }
 ],
 "metadata": {
  "anaconda-cloud": {},
  "celltoolbar": "Tags",
  "kernelspec": {
   "display_name": "Python 3",
   "language": "python",
   "name": "python3"
  },
  "language_info": {
   "codemirror_mode": {
    "name": "ipython",
    "version": 3
   },
   "file_extension": ".py",
   "mimetype": "text/x-python",
   "name": "python",
   "nbconvert_exporter": "python",
   "pygments_lexer": "ipython3",
   "version": "3.7.8"
  },
  "toc": {
   "base_numbering": 1,
   "nav_menu": {},
   "number_sections": true,
   "sideBar": true,
   "skip_h1_title": false,
   "title_cell": "Table of Contents",
   "title_sidebar": "Contents",
   "toc_cell": false,
   "toc_position": {},
   "toc_section_display": true,
   "toc_window_display": false
  },
  "varInspector": {
   "cols": {
    "lenName": 16,
    "lenType": 16,
    "lenVar": 40
   },
   "kernels_config": {
    "python": {
     "delete_cmd_postfix": "",
     "delete_cmd_prefix": "del ",
     "library": "var_list.py",
     "varRefreshCmd": "print(var_dic_list())"
    },
    "r": {
     "delete_cmd_postfix": ") ",
     "delete_cmd_prefix": "rm(",
     "library": "var_list.r",
     "varRefreshCmd": "cat(var_dic_list()) "
    }
   },
   "types_to_exclude": [
    "module",
    "function",
    "builtin_function_or_method",
    "instance",
    "_Feature"
   ],
   "window_display": false
  }
 },
 "nbformat": 4,
 "nbformat_minor": 2
}
