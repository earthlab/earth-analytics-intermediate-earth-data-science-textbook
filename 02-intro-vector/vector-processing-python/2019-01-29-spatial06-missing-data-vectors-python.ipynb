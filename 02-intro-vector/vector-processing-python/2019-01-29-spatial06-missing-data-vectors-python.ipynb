{
 "cells": [
  {
   "cell_type": "raw",
   "metadata": {},
   "source": [
    "---\n",
    "layout: single\n",
    "title: \"Handle missing spatial attribute data: GIS in Python\"\n",
    "excerpt: \"Sometimes vector data are missing attribute data, and it can be helpful to clean up your data. Learn how to handle missing attribute data in Python using GeoPandas.\"  \n",
    "authors: ['Chris Holdgraf', 'Leah Wasser', 'Martha Morrissey']\n",
    "dateCreated: 2018-02-05\n",
    "modified: '{:%Y-%m-%d}'.format(datetime.now())\n",
    "category: [courses]\n",
    "class-lesson: ['vector-processing-python']\n",
    "permalink: /courses/use-data-open-source-python/intro-vector-data-python/vector-data-processing/missing-data-vector-data-in-python/\n",
    "nav-title: 'Missing spatial data'\n",
    "module-type: 'class'\n",
    "course: 'intermediate-earth-data-science-textbook'\n",
    "week: 2\n",
    "sidebar:\n",
    "  nav:\n",
    "author_profile: false\n",
    "comments: true\n",
    "order: 6\n",
    "topics:\n",
    "  spatial-data-and-gis: ['vector-data']\n",
    "redirect_from:\n",
    "  - \"/courses/earth-analytics-python/spatial-data-vector-shapefiles/missing-data-vector-data-in-python/\"\n",
    "---\n"
   ]
  },
  {
   "cell_type": "markdown",
   "metadata": {},
   "source": [
    "{% include toc title=\"On This Page\" icon=\"file-text\" %}\n",
    "\n",
    "<div class='notice--success' markdown=\"1\">\n",
    "\n",
    "## <i class=\"fa fa-graduation-cap\" aria-hidden=\"true\"></i> Learning Objectives\n",
    "\n",
    "* Work with data sets that have missing data.\n",
    "* Replace missing data values \n",
    "\n",
    "</div>\n",
    "\n",
    "This lesson covers how to rename and clean up attribute data using **geopandas."
   ]
  },
  {
   "cell_type": "code",
   "execution_count": 1,
   "metadata": {},
   "outputs": [],
   "source": [
    "import os\n",
    "import numpy as np\n",
    "import pandas as pd\n",
    "import geopandas as gpd\n",
    "import earthpy as et \n",
    "\n",
    "# Set working dir & get data\n",
    "data = et.data.get_data('spatial-vector-lidar')\n",
    "os.chdir(os.path.join(et.io.HOME, 'earth-analytics'))"
   ]
  },
  {
   "cell_type": "code",
   "execution_count": 2,
   "metadata": {},
   "outputs": [
    {
     "data": {
      "text/plain": [
       "geopandas.geodataframe.GeoDataFrame"
      ]
     },
     "execution_count": 2,
     "metadata": {},
     "output_type": "execute_result"
    }
   ],
   "source": [
    "# Import roads shapefile\n",
    "sjer_roads_path = os.path.join(\"data\", \"spatial-vector-lidar\", \"california\", \n",
    "                               \"madera-county-roads\", \"tl_2013_06039_roads.shp\")\n",
    "sjer_roads = gpd.read_file(sjer_roads_path)\n",
    "\n",
    "type(sjer_roads)"
   ]
  },
  {
   "cell_type": "markdown",
   "metadata": {},
   "source": [
    "## Explore Data Values \n",
    "\n",
    "There are several ways to use `pandas` to explore your data and determine if you have any missing values.\n",
    "\n",
    "* To find the number of missing values per column in a DataFrame you can run `dfname.is_null().sum()`\n",
    "* Look at the unique values for a specific column of a DataFrame `dfname['column'].unique()`"
   ]
  },
  {
   "cell_type": "code",
   "execution_count": 3,
   "metadata": {},
   "outputs": [
    {
     "data": {
      "text/plain": [
       "LINEARID       0\n",
       "FULLNAME    5149\n",
       "RTTYP       5149\n",
       "MTFCC          0\n",
       "geometry       0\n",
       "dtype: int64"
      ]
     },
     "execution_count": 3,
     "metadata": {},
     "output_type": "execute_result"
    }
   ],
   "source": [
    "sjer_roads.isnull().sum()"
   ]
  },
  {
   "cell_type": "markdown",
   "metadata": {},
   "source": [
    "Based on this method there are no `NaN` or `None` type obejcts as values in the `geodataframe`. Double check the unique values in the road type column. "
   ]
  },
  {
   "cell_type": "code",
   "execution_count": 4,
   "metadata": {},
   "outputs": [
    {
     "name": "stdout",
     "output_type": "stream",
     "text": [
      "<class 'pandas.core.series.Series'>\n",
      "['M' None 'S' 'C']\n"
     ]
    }
   ],
   "source": [
    "# View data type \n",
    "print(type(sjer_roads['RTTYP']))\n",
    "\n",
    "# View unique attributes for each road in the data\n",
    "print(sjer_roads['RTTYP'].unique())"
   ]
  },
  {
   "cell_type": "markdown",
   "metadata": {},
   "source": [
    "## Replacing Values\n",
    "\n",
    "* If the value you want to replace is a `Nan` or `Nonetype` you can use \n",
    "    `dfname.loc[dfname['column'].isnull(), 'column' = 'newvaluu'`\n",
    "    \n",
    "* Or you can use the `pandas` `.fillna()` method and .`fullna` takes in the value that you want to replace. "
   ]
  },
  {
   "cell_type": "markdown",
   "metadata": {},
   "source": [
    "Hmmmm there's a road type that's given an empty `string` as a name. It would be helpful to fix this before doing more analyis or mapping with this dataset. \n",
    "\n",
    "There are several ways to deal with this issue. One is to use the `.replace` method to replace all instances of None in the attribute data with some new value. In this case, you will use - 'Unknown'. "
   ]
  },
  {
   "cell_type": "code",
   "execution_count": 5,
   "metadata": {},
   "outputs": [
    {
     "name": "stdout",
     "output_type": "stream",
     "text": [
      "['M' 'Unknown' 'S' 'C']\n"
     ]
    }
   ],
   "source": [
    "# Map each value to a new value \n",
    "sjer_roads[\"RTTYP\"] = sjer_roads[\"RTTYP\"].fillna(\"Unknown\")\n",
    "print(sjer_roads['RTTYP'].unique())"
   ]
  },
  {
   "cell_type": "markdown",
   "metadata": {},
   "source": [
    "Alternatively you can use the `.isnull()` function to select all attribute cells with a value equal to `null` and set those to 'Unknown'.\n",
    "\n",
    "If the value you want to change is not `NaN` or a `Nonetype` then you will have to specify the origina value that you want to change, as shown below. "
   ]
  },
  {
   "cell_type": "code",
   "execution_count": 6,
   "metadata": {},
   "outputs": [
    {
     "data": {
      "text/html": [
       "<div>\n",
       "<style scoped>\n",
       "    .dataframe tbody tr th:only-of-type {\n",
       "        vertical-align: middle;\n",
       "    }\n",
       "\n",
       "    .dataframe tbody tr th {\n",
       "        vertical-align: top;\n",
       "    }\n",
       "\n",
       "    .dataframe thead th {\n",
       "        text-align: right;\n",
       "    }\n",
       "</style>\n",
       "<table border=\"1\" class=\"dataframe\">\n",
       "  <thead>\n",
       "    <tr style=\"text-align: right;\">\n",
       "      <th></th>\n",
       "      <th>LINEARID</th>\n",
       "      <th>FULLNAME</th>\n",
       "      <th>RTTYP</th>\n",
       "      <th>MTFCC</th>\n",
       "      <th>geometry</th>\n",
       "    </tr>\n",
       "  </thead>\n",
       "  <tbody>\n",
       "    <tr>\n",
       "      <th>0</th>\n",
       "      <td>110454239066</td>\n",
       "      <td>N 14th St</td>\n",
       "      <td>M</td>\n",
       "      <td>S1400</td>\n",
       "      <td>LINESTRING (-120.27227 37.11615, -120.27244 37...</td>\n",
       "    </tr>\n",
       "    <tr>\n",
       "      <th>1</th>\n",
       "      <td>110454239052</td>\n",
       "      <td>N 11th St</td>\n",
       "      <td>M</td>\n",
       "      <td>S1400</td>\n",
       "      <td>LINESTRING (-120.26788 37.11667, -120.26807 37...</td>\n",
       "    </tr>\n",
       "    <tr>\n",
       "      <th>2</th>\n",
       "      <td>110454239056</td>\n",
       "      <td>N 12th St</td>\n",
       "      <td>M</td>\n",
       "      <td>S1400</td>\n",
       "      <td>LINESTRING (-120.27053 37.11749, -120.27045 37...</td>\n",
       "    </tr>\n",
       "    <tr>\n",
       "      <th>3</th>\n",
       "      <td>110454239047</td>\n",
       "      <td>N 10th St</td>\n",
       "      <td>M</td>\n",
       "      <td>S1400</td>\n",
       "      <td>LINESTRING (-120.26703 37.11735, -120.26721 37...</td>\n",
       "    </tr>\n",
       "    <tr>\n",
       "      <th>4</th>\n",
       "      <td>110454243091</td>\n",
       "      <td>N Westberry Blvd</td>\n",
       "      <td>M</td>\n",
       "      <td>S1400</td>\n",
       "      <td>LINESTRING (-120.10122 36.96524, -120.10123 36...</td>\n",
       "    </tr>\n",
       "  </tbody>\n",
       "</table>\n",
       "</div>"
      ],
      "text/plain": [
       "       LINEARID          FULLNAME RTTYP  MTFCC  \\\n",
       "0  110454239066         N 14th St     M  S1400   \n",
       "1  110454239052         N 11th St     M  S1400   \n",
       "2  110454239056         N 12th St     M  S1400   \n",
       "3  110454239047         N 10th St     M  S1400   \n",
       "4  110454243091  N Westberry Blvd     M  S1400   \n",
       "\n",
       "                                            geometry  \n",
       "0  LINESTRING (-120.27227 37.11615, -120.27244 37...  \n",
       "1  LINESTRING (-120.26788 37.11667, -120.26807 37...  \n",
       "2  LINESTRING (-120.27053 37.11749, -120.27045 37...  \n",
       "3  LINESTRING (-120.26703 37.11735, -120.26721 37...  \n",
       "4  LINESTRING (-120.10122 36.96524, -120.10123 36...  "
      ]
     },
     "execution_count": 6,
     "metadata": {},
     "output_type": "execute_result"
    }
   ],
   "source": [
    "sjer_roads.head()"
   ]
  },
  {
   "cell_type": "markdown",
   "metadata": {},
   "source": [
    "## Removing Values\n",
    "\n",
    "In some specific instances you will want to remove `NaN` values from your `DataFrame`, to do this you can use the `pandas` `.dropna` function, note that this function will remove all rows from the dataframe that have a `Nan` value in any of the columns. "
   ]
  },
  {
   "cell_type": "markdown",
   "metadata": {},
   "source": [
    "<div class=\"notice--success\" markdown=\"1\">\n",
    "## <i class=\"fa fa-pencil-square-o\" aria-hidden=\"true\"></i> Optional Challenge: Import & Plot Roads Shapefile\n",
    "\n",
    "Import the madera-county-roads layer - `california/madera-county-roads/tl_2013_06039_roads.shp`. Plot the roads.\n",
    "\n",
    "Next, try to overlay the plot locations `california/SJER/vector_data/SJER_plot_centroids.shp` and sjer_crop- `california/SJER/vector_data/SJER_crop.shp` on top of the\n",
    "SJER crop extent. What happens?\n",
    "\n",
    "* Check the CRS of both layers. What do you notice?\n",
    "\n",
    "</div>"
   ]
  }
 ],
 "metadata": {
  "anaconda-cloud": {},
  "celltoolbar": "Tags",
  "kernelspec": {
   "display_name": "Python 3",
   "language": "python",
   "name": "python3"
  },
  "language_info": {
   "codemirror_mode": {
    "name": "ipython",
    "version": 3
   },
   "file_extension": ".py",
   "mimetype": "text/x-python",
   "name": "python",
   "nbconvert_exporter": "python",
   "pygments_lexer": "ipython3",
   "version": "3.7.6"
  },
  "toc": {
   "toc_cell": false,
   "toc_number_sections": false,
   "toc_threshold": "2",
   "toc_window_display": false
  },
  "varInspector": {
   "cols": {
    "lenName": 16,
    "lenType": 16,
    "lenVar": 40
   },
   "kernels_config": {
    "python": {
     "delete_cmd_postfix": "",
     "delete_cmd_prefix": "del ",
     "library": "var_list.py",
     "varRefreshCmd": "print(var_dic_list())"
    },
    "r": {
     "delete_cmd_postfix": ") ",
     "delete_cmd_prefix": "rm(",
     "library": "var_list.r",
     "varRefreshCmd": "cat(var_dic_list()) "
    }
   },
   "types_to_exclude": [
    "module",
    "function",
    "builtin_function_or_method",
    "instance",
    "_Feature"
   ],
   "window_display": false
  }
 },
 "nbformat": 4,
 "nbformat_minor": 2
}
