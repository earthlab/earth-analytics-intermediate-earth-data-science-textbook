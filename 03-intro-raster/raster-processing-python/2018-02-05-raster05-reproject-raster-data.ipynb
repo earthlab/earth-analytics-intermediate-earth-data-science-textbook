{
 "cells": [
  {
   "cell_type": "raw",
   "metadata": {
    "hideCode": false,
    "hidePrompt": false
   },
   "source": [
    "---\n",
    "layout: single\n",
    "title: \"Reproject Raster Data Using Rioxarray in Open Source Python\"\n",
    "excerpt: \"Sometimes you will work with multiple rasters that are not in the same projections, and thus, need to reproject the rasters, so they are in the same coordinate reference system. Learn how to reproject raster data in Python using Rasterio.\"\n",
    "authors: ['Leah Wasser', 'Nathan Korinek', 'Martha Morrissey']\n",
    "dateCreated: 2018-02-05\n",
    "modified: '{:%Y-%m-%d}'.format(datetime.now())\n",
    "category: ['courses']\n",
    "class-lesson: ['raster-processing-python']\n",
    "permalink: /courses/use-data-open-source-python/intro-raster-data-python/raster-data-processing/reproject-raster/\n",
    "nav-title: 'Reproject Raster'\n",
    "week: 3\n",
    "course: 'intermediate-earth-data-science-textbook'\n",
    "sidebar:\n",
    "  nav:\n",
    "author_profile: false\n",
    "comments: false\n",
    "order: 5\n",
    "topics:\n",
    "  reproducible-science-and-programming: ['python']\n",
    "  spatial-data-and-gis: ['raster-data']\n",
    "  find-and-manage-data: ['metadata']\n",
    "redirect_from:\n",
    "  - \"/courses/earth-analytics-python/lidar-raster-data/reproject-raster/\"\n",
    "---\n"
   ]
  },
  {
   "cell_type": "markdown",
   "metadata": {
    "hideCode": false,
    "hidePrompt": false
   },
   "source": [
    "{% include toc title=\"On This Page\" icon=\"file-text\" %}\n",
    "\n",
    "<div class='notice--success' markdown=\"1\">\n",
    "\n",
    "## <i class=\"fa fa-graduation-cap\" aria-hidden=\"true\"></i> Learning objectives\n",
    "\n",
    "* Reproject a raster in **Python** using **rioxarray**.\n",
    "\n",
    "</div>\n",
    "\n",
    "\n",
    "## Reproject Raster Data Using Rioxarray\n",
    "\n",
    "Sometimes you your raster data are not all in the same Coordinate Reference Systems (CRS).\n",
    "When this happens, you may need to reproject your data from its current CRS to match the \n",
    "CRS of other data that you are using. \n",
    "\n",
    "<i class=\"fa fa-star\"></i> **Data Tip:** Proceed with caution when you are reprojecting raster data. Often it's best to \n",
    "reproject your vector data as reprojecting a raster means that the entire dataset are \n",
    "interpolated and cast into a new grid system. This adds error and uncertainty to your analysis. There are times when you need to reproject your data. However, consider carefully whether\n",
    "you need to do this, before implementimg it in an analysis.\n",
    "{: .notice--success}\n",
    "\n",
    "Below you will learn how to reproject raster data to another crs using both a CRS string \n",
    "that you create using the **rasterio CRS** module and using the crs object from another \n",
    "spatial layer. "
   ]
  },
  {
   "cell_type": "code",
   "execution_count": 1,
   "metadata": {
    "hideCode": false,
    "hidePrompt": false
   },
   "outputs": [],
   "source": [
    "import os\n",
    "\n",
    "import matplotlib.pyplot as plt\n",
    "import numpy as np\n",
    "import geopandas as gpd\n",
    "from rasterio.crs import CRS\n",
    "import rioxarray as rxr\n",
    "import earthpy as et\n",
    "\n",
    "# Get data and set working directory\n",
    "et.data.get_data(\"colorado-flood\")\n",
    "os.chdir(os.path.join(et.io.HOME,\n",
    "                      'earth-analytics',\n",
    "                      'data'))"
   ]
  },
  {
   "cell_type": "markdown",
   "metadata": {
    "hideCode": false,
    "hidePrompt": false
   },
   "source": [
    "In this lesson, you have a few different layers that are in different \n",
    "coordinate reference systems\n",
    "\n",
    "1. Boulder County Roads: You have a shapefile representing roads in Boulder County, Colorado\n",
    "2. You have a AOI extent that represents your study area in Boulder, Colorado\n",
    "3. You have a raster layer for that study area.\n",
    "\n",
    "Typically, when it is possible, you want to avoid reprojecting raster data.\n",
    "It's often easier and carries less error when you reproject the vector layers.\n",
    "However, in this lesson the goal is to learn how to reproject raster data.\n",
    "As such, for this lesson you will reproject a raster layer to align with \n",
    "the CRS of your vector data.\n",
    "\n",
    "To begin, open up the road centerline data for Boulder, Colorado.\n",
    "Take note of the CRS of the road centerlines vector data. "
   ]
  },
  {
   "cell_type": "code",
   "execution_count": 2,
   "metadata": {
    "hideCode": false,
    "hidePrompt": false,
    "tags": [
     "hide"
    ]
   },
   "outputs": [
    {
     "ename": "NameError",
     "evalue": "name 'crop_extent' is not defined",
     "output_type": "error",
     "traceback": [
      "\u001b[0;31m---------------------------------------------------------------------------\u001b[0m",
      "\u001b[0;31mNameError\u001b[0m                                 Traceback (most recent call last)",
      "\u001b[0;32m<ipython-input-2-0d4a00462ef5>\u001b[0m in \u001b[0;36m<module>\u001b[0;34m\u001b[0m\n\u001b[0;32m----> 1\u001b[0;31m \u001b[0mcrop_extent\u001b[0m\u001b[0;34m.\u001b[0m\u001b[0mcrs\u001b[0m\u001b[0;34m\u001b[0m\u001b[0;34m\u001b[0m\u001b[0m\n\u001b[0m\u001b[1;32m      2\u001b[0m \u001b[0;31m# build_footprints = gpd.read_file(\u001b[0m\u001b[0;34m\u001b[0m\u001b[0;34m\u001b[0m\u001b[0;34m\u001b[0m\u001b[0m\n\u001b[1;32m      3\u001b[0m \u001b[0;31m#     \"https://opendata.arcgis.com/datasets/0d43652d038a4a0dbca68f0501151bb0_0.geojson\")\u001b[0m\u001b[0;34m\u001b[0m\u001b[0;34m\u001b[0m\u001b[0;34m\u001b[0m\u001b[0m\n\u001b[1;32m      4\u001b[0m \u001b[0;31m# These data don't clip properly now. there is an issue with geopandas and topology\u001b[0m\u001b[0;34m\u001b[0m\u001b[0;34m\u001b[0m\u001b[0;34m\u001b[0m\u001b[0m\n\u001b[1;32m      5\u001b[0m \u001b[0;31m#buildings_clip = gpd.clip(build_footprints.explode(), crop_extent_wgs84,keep_geom_type=True)\u001b[0m\u001b[0;34m\u001b[0m\u001b[0;34m\u001b[0m\u001b[0;34m\u001b[0m\u001b[0m\n",
      "\u001b[0;31mNameError\u001b[0m: name 'crop_extent' is not defined"
     ]
    }
   ],
   "source": [
    "# build_footprints = gpd.read_file(\n",
    "#     \"https://opendata.arcgis.com/datasets/0d43652d038a4a0dbca68f0501151bb0_0.geojson\")\n",
    "# These data don't clip properly now. there is an issue with geopandas and topology\n",
    "#buildings_clip = gpd.clip(build_footprints.explode(), crop_extent_wgs84,keep_geom_type=True)"
   ]
  },
  {
   "cell_type": "code",
   "execution_count": null,
   "metadata": {
    "hideCode": false,
    "hidePrompt": false
   },
   "outputs": [],
   "source": [
    "# Get data from Boulder Open Data portal\n",
    "boulder_roads = gpd.read_file(\n",
    "    \"https://opendata.arcgis.com/datasets/5388d74deeb8450e8b0a45a542488ec8_0.geojson\")\n",
    "\n",
    "boulder_roads.crs"
   ]
  },
  {
   "cell_type": "markdown",
   "metadata": {
    "hideCode": false,
    "hidePrompt": false
   },
   "source": [
    "Next, open up a shapefile that you will use to clip the \n",
    "vector data opened above to the extent of your study area\n",
    "which is LeeHill Road in Boulder, Colorado.\n"
   ]
  },
  {
   "cell_type": "code",
   "execution_count": null,
   "metadata": {
    "hideCode": false,
    "hidePrompt": false
   },
   "outputs": [],
   "source": [
    "# Clip the boulder data to the extent of the study area aoo\n",
    "aoi_path = os.path.join(\"colorado-flood\",\n",
    "                        \"spatial\",\n",
    "                        \"boulder-leehill-rd\",\n",
    "                        \"clip-extent.shp\")\n",
    "\n",
    "# Open crop extent (your study area extent boundary)\n",
    "crop_extent = gpd.read_file(aoi_path)\n",
    "# Reproject the crop extent data to match the roads layer.\n",
    "crop_extent_wgs84 = crop_extent.to_crs(boulder_roads.crs)\n",
    "\n",
    "# Clip the buildings and roads to the extent of the study area using geopandas\n",
    "roads_clip = gpd.clip(boulder_roads, crop_extent_wgs84)"
   ]
  },
  {
   "cell_type": "code",
   "execution_count": null,
   "metadata": {
    "caption": "Plot showing the roads data for Boulder, County, Colorado clipped to your study area extent.",
    "hideCode": false,
    "hidePrompt": false
   },
   "outputs": [],
   "source": [
    "# Plot the clipped data\n",
    "f, ax = plt.subplots(figsize=(10, 4))\n",
    "\n",
    "crop_extent_wgs84.plot(ax=ax,\n",
    "                       edgecolor=\"blue\",\n",
    "                       color=\"white\")\n",
    "\n",
    "roads_clip.plot(ax=ax,\n",
    "                color=\"grey\")\n",
    "ax.set(title=\"Plot of study area with roads\")\n",
    "plt.show()"
   ]
  },
  {
   "cell_type": "markdown",
   "metadata": {
    "hideCode": false,
    "hidePrompt": false
   },
   "source": [
    "### Open Up Your Raster Data\n",
    "\n",
    "Next, you will open up the digital terrain model for your study area.\n",
    "Note the CRS of your raster data which is UTM zone 13  epgs `32613`."
   ]
  },
  {
   "cell_type": "code",
   "execution_count": null,
   "metadata": {
    "hideCode": false,
    "hidePrompt": false
   },
   "outputs": [],
   "source": [
    "# Open up a DTM\n",
    "lidar_dem_path = os.path.join(\"colorado-flood\",\n",
    "                              \"spatial\",\n",
    "                              \"boulder-leehill-rd\",\n",
    "                              \"pre-flood\",\n",
    "                              \"lidar\",\n",
    "                              \"pre_DTM.tif\")\n",
    "\n",
    "lidar_dem = rxr.open_rasterio(lidar_dem_path,\n",
    "                              masked=True).squeeze()\n",
    "# CHeck the CRS\n",
    "lidar_dem.rio.crs"
   ]
  },
  {
   "cell_type": "markdown",
   "metadata": {
    "hideCode": false,
    "hidePrompt": false
   },
   "source": [
    "Below you plot your data. Notice that the data in the plot do not \n",
    "line up as you need it to for processing."
   ]
  },
  {
   "cell_type": "code",
   "execution_count": null,
   "metadata": {
    "caption": "Plot showing what happens when the data are not in the same CRS. The data do not plot properly."
   },
   "outputs": [],
   "source": [
    "# When you try to overlay the building footprints the data don't line up\n",
    "f, ax = plt.subplots()\n",
    "lidar_dem.plot.imshow(ax=ax,\n",
    "                      cmap='Greys')\n",
    "roads_clip.plot(ax=ax)\n",
    "\n",
    "plt.show()"
   ]
  },
  {
   "cell_type": "markdown",
   "metadata": {
    "hideCode": false,
    "hidePrompt": false
   },
   "source": [
    "## Reproject Your Raster Data Using RioXarray\n",
    "\n",
    "You can reproject your data using the crs of the roads data using `rioxarray`.\n",
    "Below, you reproject your data using:\n",
    "\n",
    "`xarray-object-name.rio.reproject(crs-value-here)`\n",
    "\n",
    "You can provide the crs by\n",
    "\n",
    "1. grabbing the CRS of another spatial layer \n",
    "2. as an Proj4 string \n",
    "\n",
    "Below you use the crs value for the Geopandas layer that you opened above. "
   ]
  },
  {
   "cell_type": "code",
   "execution_count": null,
   "metadata": {
    "hideCode": false,
    "hidePrompt": false
   },
   "outputs": [],
   "source": [
    "# Reproject the data using the crs from the roads layer\n",
    "lidar_dem_wgs84 = lidar_dem.rio.reproject(roads_clip.crs)\n",
    "lidar_dem_wgs84.rio.crs"
   ]
  },
  {
   "cell_type": "markdown",
   "metadata": {
    "hideCode": false,
    "hidePrompt": false
   },
   "source": [
    "Below you reproject the same data using a Proj4 string.\n",
    "Note that either approach will work well. This lesson simply\n",
    "shows you both options!"
   ]
  },
  {
   "cell_type": "code",
   "execution_count": null,
   "metadata": {
    "hideCode": false,
    "hidePrompt": false
   },
   "outputs": [],
   "source": [
    "# Reproject the data to another crs - 4326?\n",
    "\n",
    "# Create a rasterio crs object for wgs 84 crs - lat / lon\n",
    "crs_wgs84 = CRS.from_string('EPSG:4326')\n",
    "\n",
    "# Reproject the data using the crs object\n",
    "lidar_dem_wgs84_2 = lidar_dem.rio.reproject(crs_wgs84)\n",
    "lidar_dem_wgs84_2.rio.crs"
   ]
  },
  {
   "cell_type": "markdown",
   "metadata": {
    "hideCode": false,
    "hidePrompt": false
   },
   "source": [
    "Once the data have been reprojected, you can plot the \n",
    "DEM with the roads layer and it will line up."
   ]
  },
  {
   "cell_type": "code",
   "execution_count": null,
   "metadata": {
    "caption": "Plot showing your final data - reprojected raster data with roads overlayed on top."
   },
   "outputs": [],
   "source": [
    "# Plot your newly converted data\n",
    "f, ax = plt.subplots(figsize=(10, 4))\n",
    "\n",
    "lidar_dem_wgs84.plot.imshow(ax=ax,\n",
    "                            cmap='Greys')\n",
    "roads_clip.plot(ax=ax)\n",
    "ax.set(title=\"Plot Showing Roads Overlayed on Elevation Data\")\n",
    "ax.set_axis_off()\n",
    "plt.show()"
   ]
  },
  {
   "cell_type": "markdown",
   "metadata": {
    "hideCode": false,
    "hidePrompt": false
   },
   "source": [
    "<div class=\"notice--warning\" markdown=\"1\">\n",
    "\n",
    "## <i class=\"fa fa-pencil-square-o\" aria-hidden=\"true\"></i> Challenge: Reproject a Hillshade Layer\n",
    "\n",
    "Below there is code to open up a hillshade for this \n",
    "same study area. Reproject the hillshade object using rioxarray. \n",
    "Then add it to the map that you created above as an underlay. \n",
    "\n",
    "HINT: you can set the `alpha=` parameter to a value less than 1 \n",
    "to add transparency to a layer in your plot. \n",
    "\n",
    "Your final plot should look like the one below: \n",
    "\n",
    "</div>"
   ]
  },
  {
   "cell_type": "code",
   "execution_count": null,
   "metadata": {
    "hideCode": false,
    "hidePrompt": false
   },
   "outputs": [],
   "source": [
    "# Open up a hillshade\n",
    "lidar_dem_path_hill = os.path.join(\"colorado-flood\",\n",
    "                                   \"spatial\",\n",
    "                                   \"boulder-leehill-rd\",\n",
    "                                   \"pre-flood\",\n",
    "                                   \"lidar\",\n",
    "                                   \"pre_DTM_hill.tif\")\n",
    "\n",
    "lidar_dem_hill = rxr.open_rasterio(lidar_dem_path_hill,\n",
    "                                   masked=True).squeeze()\n",
    "# CHeck the CRS\n",
    "lidar_dem_hill.rio.crs"
   ]
  },
  {
   "cell_type": "code",
   "execution_count": null,
   "metadata": {
    "caption": "Final plot showing the reprojected data with a reprojected hillshade layer.",
    "tags": [
     "hide"
    ]
   },
   "outputs": [],
   "source": [
    "# Reproject the data\n",
    "lidar_dem_hill_wgs84 = lidar_dem_hill.rio.reproject(crs_wgs84)\n",
    "\n",
    "# If you try to plot them together\n",
    "f, ax = plt.subplots(figsize=(10, 4))\n",
    "\n",
    "lidar_dem_wgs84.plot.imshow(ax=ax,\n",
    "                            alpha=.8)\n",
    "lidar_dem_hill_wgs84.plot.imshow(ax=ax,\n",
    "                                 cmap=\"Greys\",\n",
    "                                 alpha=.3,\n",
    "                                 add_colorbar=False)\n",
    "roads_clip.plot(ax=ax,\n",
    "                color=\"black\")\n",
    "ax.set(title=\"Plot of Study Area With a Hillshade Underlay\")\n",
    "ax.set_axis_off()\n",
    "\n",
    "plt.show()"
   ]
  },
  {
   "cell_type": "code",
   "execution_count": null,
   "metadata": {
    "hideCode": false,
    "hidePrompt": false,
    "tags": [
     "hide"
    ]
   },
   "outputs": [],
   "source": [
    "# dst_crs = 'EPSG:3857' # CRS for web meractor\n",
    "\n",
    "# projected_lidar_dem_path = os.path.join(\"colorado-flood\",\n",
    "#                                         \"spatial\",\n",
    "#                                         \"boulder-leehill-rd\",\n",
    "#                                         \"pre-flood\",\n",
    "#                                         \"lidar\",\n",
    "#                                         \"pre_DTM_reproject.tif\")\n",
    "\n",
    "# with rio.open(lidar_dem_path) as src:\n",
    "#     transform, width, height = calculate_default_transform(\n",
    "#         src.crs, dst_crs, src.width, src.height, *src.bounds)\n",
    "#     kwargs = src.meta.copy()\n",
    "#     kwargs.update({\n",
    "#         'crs': dst_crs,\n",
    "#         'transform': transform,\n",
    "#         'width': width,\n",
    "#         'height': height\n",
    "#     })\n",
    "\n",
    "#     with rio.open(projected_lidar_dem_path, 'w', **kwargs) as dst:\n",
    "#         for i in range(1, src.count + 1):\n",
    "#             reproject(\n",
    "#                 source=rio.band(src, i),\n",
    "#                 destination=rio.band(dst, i),\n",
    "#                 src_transform=src.transform,\n",
    "#                 src_crs=src.crs,\n",
    "#                 dst_transform=transform,\n",
    "#                 dst_crs=dst_crs,\n",
    "#                 resampling=Resampling.nearest)"
   ]
  },
  {
   "cell_type": "code",
   "execution_count": null,
   "metadata": {
    "hideCode": false,
    "hidePrompt": false,
    "tags": [
     "hide"
    ]
   },
   "outputs": [],
   "source": [
    "# lidar_dem2 = rio.open(projected_lidar_dem_path)\n",
    "\n",
    "# print(lidar_dem2.meta)"
   ]
  },
  {
   "cell_type": "code",
   "execution_count": null,
   "metadata": {
    "hideCode": false,
    "hidePrompt": false,
    "tags": [
     "hide"
    ]
   },
   "outputs": [],
   "source": [
    "# lidar_dem2.close()"
   ]
  },
  {
   "cell_type": "markdown",
   "metadata": {
    "hideCode": false,
    "hidePrompt": false,
    "tags": [
     "hide"
    ]
   },
   "source": [
    "If you have many raster files to re-project the rasterio method has several lines of code that could get repetitive to type. Therefore your instructions have wrapped the `rasterio` reproject code into a function called `reproject_et` notice that this function contains all of the same code, but allows the input path, the output path, and the new CRS components to change every time the function is called."
   ]
  },
  {
   "cell_type": "code",
   "execution_count": null,
   "metadata": {
    "hideCode": false,
    "hidePrompt": false,
    "tags": [
     "hide"
    ]
   },
   "outputs": [],
   "source": [
    "# def reproject_et(inpath, outpath, new_crs):\n",
    "#     dst_crs = new_crs # CRS for web meractor\n",
    "\n",
    "#     with rio.open(inpath) as src:\n",
    "#         transform, width, height = calculate_default_transform(\n",
    "#             src.crs, dst_crs, src.width, src.height, *src.bounds)\n",
    "#         kwargs = src.meta.copy()\n",
    "#         kwargs.update({\n",
    "#             'crs': dst_crs,\n",
    "#             'transform': transform,\n",
    "#             'width': width,\n",
    "#             'height': height\n",
    "#         })\n",
    "\n",
    "#         with rio.open(outpath, 'w', **kwargs) as dst:\n",
    "#             for i in range(1, src.count + 1):\n",
    "#                 reproject(\n",
    "#                     source=rio.band(src, i),\n",
    "#                     destination=rio.band(dst, i),\n",
    "#                     src_transform=src.transform,\n",
    "#                     src_crs=src.crs,\n",
    "#                     dst_transform=transform,\n",
    "#                     dst_crs=dst_crs,\n",
    "#                     resampling=Resampling.nearest)"
   ]
  },
  {
   "cell_type": "code",
   "execution_count": null,
   "metadata": {
    "hideCode": false,
    "hidePrompt": false,
    "tags": [
     "hide"
    ]
   },
   "outputs": [],
   "source": [
    "# reproject_et(inpath = os.path.join(\"data\", \"colorado-flood\", \"spatial\",\n",
    "#                                    \"boulder-leehill-rd\", \"pre-flood\", \"lidar\", \"pre_DTM.tif\"),\n",
    "#              outpath = os.path.join(\"data\", \"colorado-flood\", \"spatial\",\n",
    "#                                     \"boulder-leehill-rd\", \"pre-flood\", \"lidar\", \"pre_DTM_reproject_2.tif\"),\n",
    "#              new_crs = 'EPSG:3857')"
   ]
  },
  {
   "cell_type": "code",
   "execution_count": null,
   "metadata": {
    "hideCode": false,
    "hidePrompt": false,
    "tags": [
     "hide"
    ]
   },
   "outputs": [],
   "source": [
    "# projected_lidar_dem_path = os.path.join(\"data\", \"colorado-flood\", \"spatial\",\n",
    "#                                         \"boulder-leehill-rd\", \"pre-flood\", \"lidar\",\n",
    "#                                         \"pre_DTM_reproject_2.tif\")\n",
    "\n",
    "# # Check to make sure function worked, then close raster\n",
    "# lidar_dem3 = rio.open(projected_lidar_dem_path)\n",
    "# print(lidar_dem3.meta)\n",
    "\n",
    "# lidar_dem3.close()"
   ]
  }
 ],
 "metadata": {
  "anaconda-cloud": {},
  "celltoolbar": "Tags",
  "hide_code_all_hidden": false,
  "kernelspec": {
   "display_name": "Python 3",
   "language": "python",
   "name": "python3"
  },
  "language_info": {
   "codemirror_mode": {
    "name": "ipython",
    "version": 3
   },
   "file_extension": ".py",
   "mimetype": "text/x-python",
   "name": "python",
   "nbconvert_exporter": "python",
   "pygments_lexer": "ipython3",
   "version": "3.8.5"
  },
  "toc": {
   "base_numbering": 1,
   "nav_menu": {},
   "number_sections": true,
   "sideBar": true,
   "skip_h1_title": false,
   "title_cell": "Table of Contents",
   "title_sidebar": "Contents",
   "toc_cell": false,
   "toc_position": {},
   "toc_section_display": true,
   "toc_window_display": false
  },
  "varInspector": {
   "cols": {
    "lenName": 16,
    "lenType": 16,
    "lenVar": 40
   },
   "kernels_config": {
    "python": {
     "delete_cmd_postfix": "",
     "delete_cmd_prefix": "del ",
     "library": "var_list.py",
     "varRefreshCmd": "print(var_dic_list())"
    },
    "r": {
     "delete_cmd_postfix": ") ",
     "delete_cmd_prefix": "rm(",
     "library": "var_list.r",
     "varRefreshCmd": "cat(var_dic_list()) "
    }
   },
   "types_to_exclude": [
    "module",
    "function",
    "builtin_function_or_method",
    "instance",
    "_Feature"
   ],
   "window_display": false
  }
 },
 "nbformat": 4,
 "nbformat_minor": 2
}
