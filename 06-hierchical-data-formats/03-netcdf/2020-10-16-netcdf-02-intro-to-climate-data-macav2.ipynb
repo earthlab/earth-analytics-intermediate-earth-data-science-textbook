{
 "cells": [
  {
   "cell_type": "raw",
   "metadata": {},
   "source": [
    "---\n",
    "layout: single\n",
    "title: \"Introduction to the CMIP and MACA v2 Climate Data\"\n",
    "excerpt: \"In this lesson you will learn the basics of what CMIP5 and MACA v 2 data are and how global climate data are downscaled to higher resolutions to support regional analysis.\"\n",
    "authors: ['Leah Wasser']\n",
    "dateCreated: 2020-10-23\n",
    "modified: '{:%Y-%m-%d}'.format(datetime.now())\n",
    "category: [courses]\n",
    "class-lesson: ['netcdf4']\n",
    "permalink: /courses/use-data-open-source-python/hierarchical-data-formats-hdf/intro-to-MACAv2-cmip5-data/\n",
    "nav-title: 'Intro to Climate Data'\n",
    "week: 6\n",
    "course: \"intermediate-earth-data-science-textbook\"\n",
    "sidebar:\n",
    "  nav:\n",
    "author_profile: false\n",
    "comments: true\n",
    "order: 2\n",
    "topics:\n",
    "  remote-sensing: ['modis']\n",
    "  reproducible-science-and-programming:\n",
    "  spatial-data-and-gis: ['raster-data']\n",
    "---\n"
   ]
  },
  {
   "cell_type": "markdown",
   "metadata": {},
   "source": [
    "{% include toc title=\"In This Chapter\" icon=\"file-text\" %}\n",
    "\n",
    "<div class='notice--success' markdown=\"1\">\n",
    "\n",
    "## <i class=\"fa fa-ship\" aria-hidden=\"true\"></i> Introduction to Climate Data in Open Source Python \n",
    "\n",
    "In this lesson, you will learn more about the MACA v2 climate data which is a downsampled data set \n",
    "created from the global CMIP5 climate data. \n",
    "\n",
    "## <i class=\"fa fa-graduation-cap\" aria-hidden=\"true\"></i> Learning Objectives\n",
    "\n",
    "After completing this chapter, you will be able to:\n",
    "\n",
    "* Define the characteristics of MACAv2 and CMIP5 data.\n",
    "* Explain what downscaling is.\n",
    "\n",
    "</div>"
   ]
  },
  {
   "cell_type": "markdown",
   "metadata": {},
   "source": [
    "## About Climate Data: What is CMIP5 data?\n",
    "The Climate Model Intercomparison Project, better known as CMIP, is a framework for analyzing and comparing Global Climate Models (GCMs) to better understand climate change occuring now and into the future. GCMs are a type of climate models that simulate the global and regional scale climate processes that include the general circulation of atmosphere and oceans and its interaction with the land, radiative fluxes, cloud processes, and land surface processes that include hydrology and biological feedbacks. CMIP5, phase 5 of the project, is the current and most extensive CMIP, drawing data from over 40 GCMs from countries around the world. \n",
    "\n",
    "## What is MACA v2 Metdata?\n",
    "The CMIP models are global and thus cover the entire world. Due to this global coverage they are delivered at a coarse resolution ranging from 100-300km. Multivariate Adaptive Constructed Analogs (MACA) is a statistical method for downscaling GCM data from its coarse format to a higher spatial resolution for the Continental United States (CONUS). The MACA downscaling approach takes 20 GCMs from CMIP5 and downscales them to 4km or 6km resolution data. The resolution of MACA v2 Metdata is 4km. \n",
    "\n",
    "The data variables include temperature, precipitation, humidity, downward shortwave solar radiation, and eastward and northward wind. Data are also provided for historical time periods from 1950-2005 and future scenarios spanning from 2006-2100.\n",
    "\n",
    "## About Downscaling Data - Creating Higher Resolution Climate Data For the United States Using Lower Resolution Global Data\n",
    "\n",
    "Downscaling refers to the process of taking climate projections data produced at a large scale, with bigger pixels covering larger areas (100-300 km), and increasing its spatial resolution so that the pixels are smaller and cover smaller areas (1-50 km). Downscaling processes also generally tend to remove biases (often referred to as bias correction) between the simulated GCM climatology and the real world climatology. Downscaling allows us to have future climate projections available at a much finer spatial  scale and more representative of a region’s climate and therefore more applicable for regional-scale applications. For example, it is more appropriate for discerning projected hydrological changes at a watershed scale  as opposed to taking those projections directly from a GCM output. Overall, downscaling makes the data more useful on a local and regional level, which is important because adaptation strategies are generally identified and implemented on regional and local scales. This allows resource managers to identify vulnerable areas and prioritize adaptation efforts there. \n",
    "\n",
    "<figure>\n",
    "\n",
    "<img src = \"{{ site.url }}/images/earth-analytics/climate-data/downscale-climate-data-met.jpg\" alt = \"An example of the downscaling process, converting coarse data to a higher resolution. Source: Databasin.org.\">\n",
    "<figcaption>An example of the downscaling process, converting coarse data to a higher resolution. Source: Databasin.org. </figcaption>\n",
    "\n",
    "</figure>\n",
    "\n",
    "Downscaling however comes with its challenges. There are many different processing and statistical approaches that can be used to downscale GCM data, each of which produce different levels and types of uncertainty. The MACA downscaling method uses a constructed analog approach that is a more advanced form of statistical downscaling and has been getting greater acceptability and usability in the user community. For example, the recent National Climate Assessment (NCA4) considered Localized Constructed Analogs (LOCA) downscaled data, while a 2020 Resources Planning Act (RPA) Assessment by the US Forest Service considered MACA v2 Metdata. The constructed analog approach also provides climate projections at daily timescales which is usually not available for most other downscaled datasets. Additionally, MACA v2 Metdata also applies  a  multivariate approach by combining temperature and humidity variables. It has now been extensively vetted by the research community, and has been found suitable for a wide range of applications.\n"
   ]
  },
  {
   "cell_type": "markdown",
   "metadata": {},
   "source": [
    "## What Formats Are MACA v2 Data In?\n",
    "\n",
    "* Tabular (txt and csv) - Learn how to work with txt and csv data in this lesson.\n",
    "* GeoTIFF - Learn how to work with geotiff data in this lesson.\n",
    "* netCDF - Get more detail on the netCDF documentation from UCAR here.\n",
    "\n",
    "\n",
    "## How do you get MACA v2 data?\n",
    "\n",
    "There are several different options for downloading MACA v2 data including the:\n",
    "\n",
    "Directly from MACA v2 through a:\n",
    "Catalog\n",
    "Data portal\n",
    "USGS GeoData Portal\n",
    "Climate Futures Toolbox (CFT), an R tool created by CU Boulder Earth Lab\n",
    "Climate Mapper Tool, a tool from the Climate Toolbox\n",
    "\n",
    "\n",
    "## The Climate Toolbox\n",
    "The Climate Toolbox is a collection of approximately 20 web-based tools that allow the user to visualize past and future projected climate, agriculture, wildfire, and hydrological data for the United States. It is maintained by the University of California, Merced in collaboration with government organizations including the USDA, NOAA, and the USGS.\n",
    "\n",
    "### The Climate Toolbox Climate Mapper Tool\n",
    "The Climate Mapper Tool allows you to map climate data extracted from MACA v2 Metdata, display current conditions, forecasts, and future projections for the U.S. The data includes variables related to climate, agriculture, wildfire, and hydrology. The tool aims to help scientists and decision-makers visualize climate information in a straightforward and easy-to-use way. \n",
    "\n",
    "\n",
    "<div class=\"notice--info\" markdown=\"1\">\n",
    "\n",
    "## Additional Resources  \n",
    "\n",
    "Learn more about MACA v2 data from its creators at the University of California Merced.\n",
    "See example applications of MACA v2 data.\n",
    "Explore the Climate Toolbox.\n",
    "Use the Climate Mapper Tool.\n",
    "\n",
    "</div>\n",
    "\n"
   ]
  }
 ],
 "metadata": {
  "celltoolbar": "Edit Metadata",
  "kernelspec": {
   "display_name": "Python 3",
   "language": "python",
   "name": "python3"
  },
  "language_info": {
   "codemirror_mode": {
    "name": "ipython",
    "version": 3
   },
   "file_extension": ".py",
   "mimetype": "text/x-python",
   "name": "python",
   "nbconvert_exporter": "python",
   "pygments_lexer": "ipython3",
   "version": "3.8.5"
  },
  "toc": {
   "base_numbering": 1,
   "nav_menu": {},
   "number_sections": true,
   "sideBar": true,
   "skip_h1_title": false,
   "title_cell": "Table of Contents",
   "title_sidebar": "Contents",
   "toc_cell": false,
   "toc_position": {
    "height": "calc(100% - 180px)",
    "left": "10px",
    "top": "150px",
    "width": "285.8px"
   },
   "toc_section_display": true,
   "toc_window_display": true
  }
 },
 "nbformat": 4,
 "nbformat_minor": 4
}
