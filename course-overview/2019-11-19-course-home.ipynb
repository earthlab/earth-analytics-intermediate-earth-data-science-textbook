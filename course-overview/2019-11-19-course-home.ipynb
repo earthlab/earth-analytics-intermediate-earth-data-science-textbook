{
 "cells": [
  {
   "cell_type": "raw",
   "metadata": {},
   "source": [
    "---\n",
    "layout: single\n",
    "category: courses\n",
    "title: \"Use Data for Earth and Environmental Science in Open Source Python | Earth Lab CU Boulder\"\n",
    "nav-title: \"Use Data for Earth and Environmental Science in Open Source Python Home\"\n",
    "permalink: /courses/use-data-open-source-python/\n",
    "course: \"intermediate-earth-data-science-textbook\"\n",
    "modified: '{:%Y-%m-%d}'.format(datetime.now())\n",
    "module-type: 'overview'\n",
    "module-title: \"Use Data for Earth and Environmental Science in Open Source Python Textbook\"\n",
    "week-landing: 0\n",
    "week: 0\n",
    "sidebar:\n",
    "  nav:\n",
    "comments: false\n",
    "author_profile: false\n",
    "overview-order: 1\n",
    "redirect_from:\n",
    "  - \"/courses/intermediate-earth-data-science-textbook/\" \n",
    "---\n"
   ]
  },
  {
   "cell_type": "markdown",
   "metadata": {},
   "source": [
    "\n",
    "{% include toc title=\"This Textbook\" icon=\"file-text\" %}\n",
    "\n",
    "{% assign course_posts = site.posts | course: page.course %}\n",
    "{% assign sorted_posts = course_posts | sort:'overview-order' %}\n",
    "\n",
    "{% assign modules = sorted_posts | where:\"module-type\", 'overview' %}\n",
    "{% assign modules_course = modules | where:\"course\", page.course %}\n",
    "\n",
    "<div class=\"notice--info\" markdown=\"1\">\n",
    "\n",
    "## <i class=\"fa fa-ship\" aria-hidden=\"true\"></i> Welcome to the Use Data for Earth and Environmental Science in Open Source Python Textbook!\n",
    "\n",
    "## Key Materials\n",
    "\n",
    "{% for post in modules_course %}\n",
    " * <a href=\"{{ site.url }}{{ post.permalink }}\">{{ post.title }}</a>\n",
    "{% endfor %}\n",
    "\n",
    "</div>\n",
    "<!-- an overview module specifies the overview content for the course including syllabus and any assignments  module-type: 'session' specified a week or a particular set of content surrounding a topic - eg internship seminar, etc -->\n",
    "\n",
    "## About the Use Data for Earth and Environmental Science in Open Source Python Textbook\n",
    "\n",
    "Use Data for Earth and Environmental Science in Open Source Python is an intermediate and multidisciplinary online textbook that addresses major questions in Earth science and teaches students to use the analytical tools necessary to undertake exploration of heterogeneous \"big\" scientific data.\n",
    "\n",
    "This textbook assumes that readers have reviewed the <a href=\"{{ site.url }}/courses/intro-to-earth-data-science/\">Introduction to Earth Data Science textbook </a> or are familiar with the **Python** programming language, **Jupyter Notebook**, and **git/GitHub**. \n",
    "\n",
    "This textbook is designed for the Earth Analytics Python course for the <a href=\"https://www.colorado.edu/earthlab/earth-data-analytics-foundations-professional-certificate\" target = \"_blank\">Earth Data Analytics Professional Certificate </a> taught by instructors at CU Boulder. \n",
    "\n",
    "\n",
    "### Overview \n",
    "\n",
    "In this textbook, you will learn computationally intensive techniques to address scientific questions using a suite of different types of publicly available data including:\n",
    "\n",
    "* Satellite and airborne lidar and spectral remote sensing data,\n",
    "* Data collected using distributed in situ (on the ground) sensor networks\n",
    "* Social media data, and\n",
    "* Basic demographic data.\n",
    "\n",
    "This textbook is highly technical, and each chapter covers some aspect of scientific programming with **Python** and open reproducible science workflows. \n",
    "\n",
    "{% include textbook-toc.html %}"
   ]
  },
  {
   "cell_type": "code",
   "execution_count": null,
   "metadata": {},
   "outputs": [],
   "source": []
  }
 ],
 "metadata": {
  "kernelspec": {
   "display_name": "Python 3",
   "language": "python",
   "name": "python3"
  },
  "language_info": {
   "codemirror_mode": {
    "name": "ipython",
    "version": 3
   },
   "file_extension": ".py",
   "mimetype": "text/x-python",
   "name": "python",
   "nbconvert_exporter": "python",
   "pygments_lexer": "ipython3",
   "version": "3.7.6"
  },
  "varInspector": {
   "cols": {
    "lenName": 16,
    "lenType": 16,
    "lenVar": 40
   },
   "kernels_config": {
    "python": {
     "delete_cmd_postfix": "",
     "delete_cmd_prefix": "del ",
     "library": "var_list.py",
     "varRefreshCmd": "print(var_dic_list())"
    },
    "r": {
     "delete_cmd_postfix": ") ",
     "delete_cmd_prefix": "rm(",
     "library": "var_list.r",
     "varRefreshCmd": "cat(var_dic_list()) "
    }
   },
   "types_to_exclude": [
    "module",
    "function",
    "builtin_function_or_method",
    "instance",
    "_Feature"
   ],
   "window_display": false
  }
 },
 "nbformat": 4,
 "nbformat_minor": 2
}
