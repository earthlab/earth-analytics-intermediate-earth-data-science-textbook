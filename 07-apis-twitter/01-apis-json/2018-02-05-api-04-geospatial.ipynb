{
 "cells": [
  {
   "cell_type": "raw",
   "metadata": {},
   "source": [
    "---\n",
    "layout: single\n",
    "title: 'Programmatically Accessing Geospatial Data Using APIs'\n",
    "excerpt: 'This lesson walks through the process of retrieving and manipulating surface water data housed in the Colorado Information Warehouse. These data are stored in JSON format with spatial x, y information that support mapping.'\n",
    "authors: ['Leah Wasser', 'Max Joseph', 'Martha Morrissey', 'Jenny Palomino', 'Carson Farmer']\n",
    "modified: '{:%Y-%m-%d}'.format(datetime.now())\n",
    "category: [courses]\n",
    "class-lesson: ['intro-APIs-python']\n",
    "permalink: /courses/use-data-open-source-python/intro-to-apis/spatial-data-using-apis/\n",
    "nav-title: 'Geospatial Data From APIs'\n",
    "week: 7\n",
    "sidebar:\n",
    "    nav:\n",
    "author_profile: false\n",
    "comments: true\n",
    "order: 4\n",
    "course: \"intermediate-earth-data-science-textbook\"\n",
    "topics:\n",
    "    find-and-manage-data: ['apis']\n",
    "redirect_from:\n",
    "  - \"/courses/earth-analytics-python/using-apis-natural-language-processing-twitter/co-water-data-spatial-python/\"\n",
    "---"
   ]
  },
  {
   "cell_type": "markdown",
   "metadata": {},
   "source": [
    "{% include toc title = \"In This Lesson\" icon=\"file-text\" %}\n",
    "\n",
    "<div class='notice--success' markdown=\"1\">\n",
    "\n",
    "## <i class=\"fa fa-graduation-cap\" aria-hidden=\"true\"></i> Learning Objectives\n",
    "\n",
    "After completing this tutorial, you will be able to:\n",
    "\n",
    "* Extract geospatial (x,y) coordinate information embedded within a `JSON` hierarchical data structure.\n",
    "* Convert data imported in `JSON` format into a `Geopandas` `DataFrame`.\n",
    "* Create a map of geospatial data.\n",
    "\n",
    "\n",
    "## <i class=\"fa fa-check-square-o fa-2\" aria-hidden=\"true\"></i> What You Need\n",
    "\n",
    "You will need a computer with internet access to complete this lesson.\n",
    "\n",
    "</div>\n",
    "\n",
    "In this lesson, you work with `JSON` data accessed via the Colorado information warehouse. The data will contain geospatial information nested within it that will allow us to create a map of the data."
   ]
  },
  {
   "cell_type": "markdown",
   "metadata": {},
   "source": [
    "## Working with Geospatial Data\n",
    "\n",
    "Check out the map <a href=\"https://data.colorado.gov/Water/DWR-Current-Surface-Water-Conditions-Map-Statewide/j5pc-4t32\" target=\"_blank\"> Colorado DWR Current Surface Water Conditions map</a>. \n",
    "\n",
    "Remember from the previous lesson, APIs can be used for many different things. Web developers (people who program and create web sites and cool applications) can use APIs to create user friendly interfaces - like the map in the previous example that allows us to look at and interact with data. These APIs are similar to, if not the same as, the ones that you often use to access data in `Python`.\n",
    "\n",
    "In this lesson, you will access the data used to create the map at the link above using `Python`.\n",
    "\n",
    "* The data that you will use are located here: <a href=\"https://data.colorado.gov/resource/j5pc-4t32.json\" target=\"_blank\">View JSON format data used to create surface water map.</a>\n",
    "* And you can learn more about the data here: <a href=\"https://data.colorado.gov/Water/DWR-Current-Surface-Water-Conditions/4yw9-a5y6\" target=\"_blank\">View CO Current water surface </a>."
   ]
  },
  {
   "cell_type": "code",
   "execution_count": 1,
   "metadata": {},
   "outputs": [],
   "source": [
    "import requests\n",
    "import folium\n",
    "import urllib\n",
    "from pandas.io.json import json_normalize\n",
    "import pandas as pd\n",
    "import folium\n",
    "from geopandas import GeoDataFrame\n",
    "from shapely.geometry import Point"
   ]
  },
  {
   "cell_type": "code",
   "execution_count": 2,
   "metadata": {},
   "outputs": [],
   "source": [
    "# Get URL\n",
    "water_base_url = \"https://data.colorado.gov/resource/j5pc-4t32.json?\"\n",
    "water_full_url = water_base_url + \"station_status=Active\" + \"&county=BOULDER\""
   ]
  },
  {
   "cell_type": "markdown",
   "metadata": {},
   "source": [
    "<i class=\"fa fa-lightbulb-o\" aria-hidden=\"true\"></i> **ATTENTION WINDOWS USERS:**\n",
    "We have noticed a bug where on windows machines, sometimes the https URL doesn't work.\n",
    "Instead try the same url as above but without the `s` - like this: `water_base_url = \"http://data.colorado.gov/resource/j5pc-4t32.json?\"` This change has resolved many issues on windows machines so give it a try if you are having problems with the API.\n",
    "{: .notice--success }"
   ]
  },
  {
   "cell_type": "code",
   "execution_count": 3,
   "metadata": {},
   "outputs": [
    {
     "data": {
      "text/plain": [
       "'https://data.colorado.gov/resource/j5pc-4t32.json?station_status=Active&county=BOULDER'"
      ]
     },
     "execution_count": 3,
     "metadata": {},
     "output_type": "execute_result"
    }
   ],
   "source": [
    "water_full_url"
   ]
  },
  {
   "cell_type": "code",
   "execution_count": 4,
   "metadata": {},
   "outputs": [],
   "source": [
    "data = requests.get(water_full_url)"
   ]
  },
  {
   "cell_type": "code",
   "execution_count": 5,
   "metadata": {},
   "outputs": [
    {
     "data": {
      "text/plain": [
       "list"
      ]
     },
     "execution_count": 5,
     "metadata": {},
     "output_type": "execute_result"
    }
   ],
   "source": [
    "type(data.json())"
   ]
  },
  {
   "cell_type": "markdown",
   "metadata": {},
   "source": [
    "Remember that the JSON structure supports hierarchical data and can be NESTED. If you look at the structure of the `.json` file below, you can see that the location object, is nested with three sub objects:\n",
    "\n",
    "* latitude\n",
    "* longitude\n",
    "* needs_recoding\n",
    "\n",
    "Since `data.json()` is a `list` you can print out just the first few items of the list to look at your data as a sanity check."
   ]
  },
  {
   "cell_type": "code",
   "execution_count": 6,
   "metadata": {
    "scrolled": false
   },
   "outputs": [
    {
     "data": {
      "text/plain": [
       "[{'station_name': 'ZWECK AND TURNER DITCH',\n",
       "  'div': '1',\n",
       "  'location': {'latitude': '40.185033',\n",
       "   'needs_recoding': False,\n",
       "   'longitude': '-105.185789'},\n",
       "  'dwr_abbrev': 'ZWETURCO',\n",
       "  'data_source': 'Cooperative Program of CDWR, NCWCD & SVLHWCD',\n",
       "  'amount': '0.14',\n",
       "  'station_type': 'Diversion',\n",
       "  'wd': '5',\n",
       "  'http_linkage': {'url': 'https://dwr.state.co.us/SurfaceWater/data/detail_graph.aspx?ID=ZWETURCO&MTYPE=DISCHRG'},\n",
       "  'date_time': '2020-03-23T14:00:00.000',\n",
       "  'county': 'BOULDER',\n",
       "  'variable': 'DISCHRG',\n",
       "  'stage': '0.05',\n",
       "  'station_status': 'Active'},\n",
       " {'station_name': 'SAINT VRAIN CREEK AT LYONS, CO',\n",
       "  'div': '1',\n",
       "  'location': {'latitude': '40.220702',\n",
       "   'needs_recoding': False,\n",
       "   'longitude': '-105.26349'},\n",
       "  'dwr_abbrev': 'SVCLYOCO',\n",
       "  'data_source': 'Co. Division of Water Resources',\n",
       "  'usgs_station_id': '06724000',\n",
       "  'amount': '37.90',\n",
       "  'station_type': 'Stream',\n",
       "  'wd': '5',\n",
       "  'http_linkage': {'url': 'https://dwr.state.co.us/SurfaceWater/data/detail_graph.aspx?ID=SVCLYOCO&MTYPE=DISCHRG'},\n",
       "  'date_time': '2020-03-23T14:15:00.000',\n",
       "  'county': 'BOULDER',\n",
       "  'variable': 'DISCHRG',\n",
       "  'stage': '2.96',\n",
       "  'station_status': 'Active'}]"
      ]
     },
     "execution_count": 6,
     "metadata": {},
     "output_type": "execute_result"
    }
   ],
   "source": [
    "data.json()[:2]"
   ]
  },
  {
   "cell_type": "markdown",
   "metadata": {},
   "source": [
    "## Convert JSON to Pandas DataFrame\n",
    "\n",
    "Now that you have pulled down the data from the website, you have it in the `JSON` format. For the next step, you will use the `json_normalize()` function from the `Pandas` library to convert this data into a `Pandas DataFrame.` \n",
    "\n",
    "This function helps organize and flatten data into a semi-structed table. To learn more, check out the <a href=\"https://pandas.pydata.org/pandas-docs/stable/generated/pandas.io.json.json_normalize.html\" target=\"_blank\">documentation</a>! "
   ]
  },
  {
   "cell_type": "code",
   "execution_count": 7,
   "metadata": {},
   "outputs": [],
   "source": [
    "from pandas.io.json import json_normalize"
   ]
  },
  {
   "cell_type": "code",
   "execution_count": 8,
   "metadata": {},
   "outputs": [
    {
     "name": "stderr",
     "output_type": "stream",
     "text": [
      "/Users/leahwasser/miniconda3/envs/earth-analytics-python/lib/python3.7/site-packages/ipykernel_launcher.py:1: FutureWarning: pandas.io.json.json_normalize is deprecated, use pandas.json_normalize instead\n",
      "  \"\"\"Entry point for launching an IPython kernel.\n"
     ]
    }
   ],
   "source": [
    "result = json_normalize(data.json())"
   ]
  },
  {
   "cell_type": "code",
   "execution_count": 9,
   "metadata": {},
   "outputs": [
    {
     "data": {
      "text/html": [
       "<div>\n",
       "<style scoped>\n",
       "    .dataframe tbody tr th:only-of-type {\n",
       "        vertical-align: middle;\n",
       "    }\n",
       "\n",
       "    .dataframe tbody tr th {\n",
       "        vertical-align: top;\n",
       "    }\n",
       "\n",
       "    .dataframe thead th {\n",
       "        text-align: right;\n",
       "    }\n",
       "</style>\n",
       "<table border=\"1\" class=\"dataframe\">\n",
       "  <thead>\n",
       "    <tr style=\"text-align: right;\">\n",
       "      <th></th>\n",
       "      <th>station_name</th>\n",
       "      <th>div</th>\n",
       "      <th>dwr_abbrev</th>\n",
       "      <th>data_source</th>\n",
       "      <th>amount</th>\n",
       "      <th>station_type</th>\n",
       "      <th>wd</th>\n",
       "      <th>date_time</th>\n",
       "      <th>county</th>\n",
       "      <th>variable</th>\n",
       "      <th>stage</th>\n",
       "      <th>station_status</th>\n",
       "      <th>location.latitude</th>\n",
       "      <th>location.needs_recoding</th>\n",
       "      <th>location.longitude</th>\n",
       "      <th>http_linkage.url</th>\n",
       "      <th>usgs_station_id</th>\n",
       "      <th>flag</th>\n",
       "    </tr>\n",
       "  </thead>\n",
       "  <tbody>\n",
       "    <tr>\n",
       "      <th>0</th>\n",
       "      <td>ZWECK AND TURNER DITCH</td>\n",
       "      <td>1</td>\n",
       "      <td>ZWETURCO</td>\n",
       "      <td>Cooperative Program of CDWR, NCWCD &amp; SVLHWCD</td>\n",
       "      <td>0.14</td>\n",
       "      <td>Diversion</td>\n",
       "      <td>5</td>\n",
       "      <td>2020-03-23T14:00:00.000</td>\n",
       "      <td>BOULDER</td>\n",
       "      <td>DISCHRG</td>\n",
       "      <td>0.05</td>\n",
       "      <td>Active</td>\n",
       "      <td>40.185033</td>\n",
       "      <td>False</td>\n",
       "      <td>-105.185789</td>\n",
       "      <td>https://dwr.state.co.us/SurfaceWater/data/deta...</td>\n",
       "      <td>NaN</td>\n",
       "      <td>NaN</td>\n",
       "    </tr>\n",
       "    <tr>\n",
       "      <th>1</th>\n",
       "      <td>SAINT VRAIN CREEK AT LYONS, CO</td>\n",
       "      <td>1</td>\n",
       "      <td>SVCLYOCO</td>\n",
       "      <td>Co. Division of Water Resources</td>\n",
       "      <td>37.90</td>\n",
       "      <td>Stream</td>\n",
       "      <td>5</td>\n",
       "      <td>2020-03-23T14:15:00.000</td>\n",
       "      <td>BOULDER</td>\n",
       "      <td>DISCHRG</td>\n",
       "      <td>2.96</td>\n",
       "      <td>Active</td>\n",
       "      <td>40.220702</td>\n",
       "      <td>False</td>\n",
       "      <td>-105.26349</td>\n",
       "      <td>https://dwr.state.co.us/SurfaceWater/data/deta...</td>\n",
       "      <td>06724000</td>\n",
       "      <td>NaN</td>\n",
       "    </tr>\n",
       "    <tr>\n",
       "      <th>2</th>\n",
       "      <td>OLIGARCHY DITCH DIVERSION</td>\n",
       "      <td>1</td>\n",
       "      <td>OLIDITCO</td>\n",
       "      <td>Cooperative Program of CDWR, NCWCD &amp; SVLHWCD</td>\n",
       "      <td>6.68</td>\n",
       "      <td>Diversion</td>\n",
       "      <td>5</td>\n",
       "      <td>2020-03-23T12:45:00.000</td>\n",
       "      <td>BOULDER</td>\n",
       "      <td>DISCHRG</td>\n",
       "      <td>0.33</td>\n",
       "      <td>Active</td>\n",
       "      <td>40.196422</td>\n",
       "      <td>False</td>\n",
       "      <td>-105.206592</td>\n",
       "      <td>https://dwr.state.co.us/SurfaceWater/data/deta...</td>\n",
       "      <td>NaN</td>\n",
       "      <td>NaN</td>\n",
       "    </tr>\n",
       "    <tr>\n",
       "      <th>3</th>\n",
       "      <td>SOUTH BOULDER CREEK DIVERSION NEAR ELDORADO SP...</td>\n",
       "      <td>1</td>\n",
       "      <td>BOSDELCO</td>\n",
       "      <td>Co. Division of Water Resources</td>\n",
       "      <td>0.00</td>\n",
       "      <td>Diversion</td>\n",
       "      <td>6</td>\n",
       "      <td>2020-03-23T14:30:00.000</td>\n",
       "      <td>BOULDER</td>\n",
       "      <td>DISCHRG</td>\n",
       "      <td>-1.70</td>\n",
       "      <td>Active</td>\n",
       "      <td>39.931813</td>\n",
       "      <td>False</td>\n",
       "      <td>-105.308432</td>\n",
       "      <td>https://dwr.state.co.us/SurfaceWater/data/deta...</td>\n",
       "      <td>NaN</td>\n",
       "      <td>NaN</td>\n",
       "    </tr>\n",
       "    <tr>\n",
       "      <th>4</th>\n",
       "      <td>CLOUGH AND TRUE DITCH</td>\n",
       "      <td>1</td>\n",
       "      <td>CLODITCO</td>\n",
       "      <td>Cooperative Program of CDWR, NCWCD &amp; SVLHWCD</td>\n",
       "      <td>0.00</td>\n",
       "      <td>Diversion</td>\n",
       "      <td>5</td>\n",
       "      <td>2020-03-23T14:00:00.000</td>\n",
       "      <td>BOULDER</td>\n",
       "      <td>DISCHRG</td>\n",
       "      <td>NaN</td>\n",
       "      <td>Active</td>\n",
       "      <td>40.193758</td>\n",
       "      <td>False</td>\n",
       "      <td>-105.21039</td>\n",
       "      <td>https://dwr.state.co.us/SurfaceWater/data/deta...</td>\n",
       "      <td>NaN</td>\n",
       "      <td>NaN</td>\n",
       "    </tr>\n",
       "  </tbody>\n",
       "</table>\n",
       "</div>"
      ],
      "text/plain": [
       "                                        station_name div dwr_abbrev  \\\n",
       "0                             ZWECK AND TURNER DITCH   1   ZWETURCO   \n",
       "1                     SAINT VRAIN CREEK AT LYONS, CO   1   SVCLYOCO   \n",
       "2                          OLIGARCHY DITCH DIVERSION   1   OLIDITCO   \n",
       "3  SOUTH BOULDER CREEK DIVERSION NEAR ELDORADO SP...   1   BOSDELCO   \n",
       "4                              CLOUGH AND TRUE DITCH   1   CLODITCO   \n",
       "\n",
       "                                    data_source amount station_type wd  \\\n",
       "0  Cooperative Program of CDWR, NCWCD & SVLHWCD   0.14    Diversion  5   \n",
       "1               Co. Division of Water Resources  37.90       Stream  5   \n",
       "2  Cooperative Program of CDWR, NCWCD & SVLHWCD   6.68    Diversion  5   \n",
       "3               Co. Division of Water Resources   0.00    Diversion  6   \n",
       "4  Cooperative Program of CDWR, NCWCD & SVLHWCD   0.00    Diversion  5   \n",
       "\n",
       "                 date_time   county variable  stage station_status  \\\n",
       "0  2020-03-23T14:00:00.000  BOULDER  DISCHRG   0.05         Active   \n",
       "1  2020-03-23T14:15:00.000  BOULDER  DISCHRG   2.96         Active   \n",
       "2  2020-03-23T12:45:00.000  BOULDER  DISCHRG   0.33         Active   \n",
       "3  2020-03-23T14:30:00.000  BOULDER  DISCHRG  -1.70         Active   \n",
       "4  2020-03-23T14:00:00.000  BOULDER  DISCHRG    NaN         Active   \n",
       "\n",
       "  location.latitude  location.needs_recoding location.longitude  \\\n",
       "0         40.185033                    False        -105.185789   \n",
       "1         40.220702                    False         -105.26349   \n",
       "2         40.196422                    False        -105.206592   \n",
       "3         39.931813                    False        -105.308432   \n",
       "4         40.193758                    False         -105.21039   \n",
       "\n",
       "                                    http_linkage.url usgs_station_id flag  \n",
       "0  https://dwr.state.co.us/SurfaceWater/data/deta...             NaN  NaN  \n",
       "1  https://dwr.state.co.us/SurfaceWater/data/deta...        06724000  NaN  \n",
       "2  https://dwr.state.co.us/SurfaceWater/data/deta...             NaN  NaN  \n",
       "3  https://dwr.state.co.us/SurfaceWater/data/deta...             NaN  NaN  \n",
       "4  https://dwr.state.co.us/SurfaceWater/data/deta...             NaN  NaN  "
      ]
     },
     "execution_count": 9,
     "metadata": {},
     "output_type": "execute_result"
    }
   ],
   "source": [
    "result.head()"
   ]
  },
  {
   "cell_type": "code",
   "execution_count": 10,
   "metadata": {},
   "outputs": [
    {
     "data": {
      "text/plain": [
       "pandas.core.frame.DataFrame"
      ]
     },
     "execution_count": 10,
     "metadata": {},
     "output_type": "execute_result"
    }
   ],
   "source": [
    "type(result)"
   ]
  },
  {
   "cell_type": "code",
   "execution_count": 11,
   "metadata": {},
   "outputs": [
    {
     "data": {
      "text/plain": [
       "Index(['station_name', 'div', 'dwr_abbrev', 'data_source', 'amount',\n",
       "       'station_type', 'wd', 'date_time', 'county', 'variable', 'stage',\n",
       "       'station_status', 'location.latitude', 'location.needs_recoding',\n",
       "       'location.longitude', 'http_linkage.url', 'usgs_station_id', 'flag'],\n",
       "      dtype='object')"
      ]
     },
     "execution_count": 11,
     "metadata": {},
     "output_type": "execute_result"
    }
   ],
   "source": [
    "result.columns"
   ]
  },
  {
   "cell_type": "markdown",
   "metadata": {},
   "source": [
    "## Data Cleaning for Visualization"
   ]
  },
  {
   "cell_type": "markdown",
   "metadata": {},
   "source": [
    "Now you can clean up the data. Notice that your longitude and latitude values are stored as strings. Do you think can create a map if these values are stored as strings?"
   ]
  },
  {
   "cell_type": "code",
   "execution_count": 12,
   "metadata": {},
   "outputs": [
    {
     "data": {
      "text/plain": [
       "'40.185033'"
      ]
     },
     "execution_count": 12,
     "metadata": {},
     "output_type": "execute_result"
    }
   ],
   "source": [
    "result['location.latitude'][0]"
   ]
  },
  {
   "cell_type": "markdown",
   "metadata": {},
   "source": [
    "You can convert the strings to type `float` as follows. "
   ]
  },
  {
   "cell_type": "code",
   "execution_count": 13,
   "metadata": {},
   "outputs": [],
   "source": [
    "result['location.latitude'] = result['location.latitude'].astype(float)"
   ]
  },
  {
   "cell_type": "code",
   "execution_count": 14,
   "metadata": {},
   "outputs": [
    {
     "data": {
      "text/plain": [
       "40.185033"
      ]
     },
     "execution_count": 14,
     "metadata": {},
     "output_type": "execute_result"
    }
   ],
   "source": [
    "result['location.latitude'][0]"
   ]
  },
  {
   "cell_type": "code",
   "execution_count": 15,
   "metadata": {},
   "outputs": [],
   "source": [
    "result['location.longitude'] = result['location.longitude'].astype(float)"
   ]
  },
  {
   "cell_type": "code",
   "execution_count": 16,
   "metadata": {},
   "outputs": [
    {
     "data": {
      "text/plain": [
       "-105.185789"
      ]
     },
     "execution_count": 16,
     "metadata": {},
     "output_type": "execute_result"
    }
   ],
   "source": [
    "result['location.longitude'][0]"
   ]
  },
  {
   "cell_type": "markdown",
   "metadata": {},
   "source": [
    "Now that you have numeric values for mapping, make sure that are are no missing values. "
   ]
  },
  {
   "cell_type": "code",
   "execution_count": 17,
   "metadata": {},
   "outputs": [
    {
     "data": {
      "text/plain": [
       "(49, 18)"
      ]
     },
     "execution_count": 17,
     "metadata": {},
     "output_type": "execute_result"
    }
   ],
   "source": [
    "result.shape"
   ]
  },
  {
   "cell_type": "code",
   "execution_count": 18,
   "metadata": {},
   "outputs": [
    {
     "data": {
      "text/plain": [
       "False"
      ]
     },
     "execution_count": 18,
     "metadata": {},
     "output_type": "execute_result"
    }
   ],
   "source": [
    "result['location.longitude'].isna().any()"
   ]
  },
  {
   "cell_type": "code",
   "execution_count": 19,
   "metadata": {},
   "outputs": [
    {
     "data": {
      "text/plain": [
       "False"
      ]
     },
     "execution_count": 19,
     "metadata": {},
     "output_type": "execute_result"
    }
   ],
   "source": [
    "result['location.latitude'].isna().any()"
   ]
  },
  {
   "cell_type": "markdown",
   "metadata": {},
   "source": [
    "There are no `nan` values in this data. However, if there were, you could remove rows where a column has a `nan` value in a specific column with the following: \n",
    "`result_nonan = result.dropna(subset=['location.longitude', 'location.latitude'])`"
   ]
  },
  {
   "cell_type": "markdown",
   "metadata": {},
   "source": [
    "## Data Visualization \n",
    "\n",
    "You will use the `folium` package to visualize the data. One approach you could take would be to convert your `Pandas DataFrame` to a `Geopandas DataFrame` for easy mapping."
   ]
  },
  {
   "cell_type": "code",
   "execution_count": 20,
   "metadata": {},
   "outputs": [],
   "source": [
    "geometry = [Point(xy) for xy in zip(result['location.longitude'], result['location.latitude'])]\n",
    "crs = {'init': 'epsg:4326'}\n",
    "gdf = GeoDataFrame(result, crs=crs, geometry=geometry)"
   ]
  },
  {
   "cell_type": "code",
   "execution_count": 21,
   "metadata": {},
   "outputs": [
    {
     "data": {
      "text/html": [
       "<div>\n",
       "<style scoped>\n",
       "    .dataframe tbody tr th:only-of-type {\n",
       "        vertical-align: middle;\n",
       "    }\n",
       "\n",
       "    .dataframe tbody tr th {\n",
       "        vertical-align: top;\n",
       "    }\n",
       "\n",
       "    .dataframe thead th {\n",
       "        text-align: right;\n",
       "    }\n",
       "</style>\n",
       "<table border=\"1\" class=\"dataframe\">\n",
       "  <thead>\n",
       "    <tr style=\"text-align: right;\">\n",
       "      <th></th>\n",
       "      <th>station_name</th>\n",
       "      <th>div</th>\n",
       "      <th>dwr_abbrev</th>\n",
       "      <th>data_source</th>\n",
       "      <th>amount</th>\n",
       "      <th>station_type</th>\n",
       "      <th>wd</th>\n",
       "      <th>date_time</th>\n",
       "      <th>county</th>\n",
       "      <th>variable</th>\n",
       "      <th>stage</th>\n",
       "      <th>station_status</th>\n",
       "      <th>location.latitude</th>\n",
       "      <th>location.needs_recoding</th>\n",
       "      <th>location.longitude</th>\n",
       "      <th>http_linkage.url</th>\n",
       "      <th>usgs_station_id</th>\n",
       "      <th>flag</th>\n",
       "      <th>geometry</th>\n",
       "    </tr>\n",
       "  </thead>\n",
       "  <tbody>\n",
       "    <tr>\n",
       "      <th>0</th>\n",
       "      <td>ZWECK AND TURNER DITCH</td>\n",
       "      <td>1</td>\n",
       "      <td>ZWETURCO</td>\n",
       "      <td>Cooperative Program of CDWR, NCWCD &amp; SVLHWCD</td>\n",
       "      <td>0.14</td>\n",
       "      <td>Diversion</td>\n",
       "      <td>5</td>\n",
       "      <td>2020-03-23T14:00:00.000</td>\n",
       "      <td>BOULDER</td>\n",
       "      <td>DISCHRG</td>\n",
       "      <td>0.05</td>\n",
       "      <td>Active</td>\n",
       "      <td>40.185033</td>\n",
       "      <td>False</td>\n",
       "      <td>-105.185789</td>\n",
       "      <td>https://dwr.state.co.us/SurfaceWater/data/deta...</td>\n",
       "      <td>NaN</td>\n",
       "      <td>NaN</td>\n",
       "      <td>POINT (-105.18579 40.18503)</td>\n",
       "    </tr>\n",
       "    <tr>\n",
       "      <th>1</th>\n",
       "      <td>SAINT VRAIN CREEK AT LYONS, CO</td>\n",
       "      <td>1</td>\n",
       "      <td>SVCLYOCO</td>\n",
       "      <td>Co. Division of Water Resources</td>\n",
       "      <td>37.90</td>\n",
       "      <td>Stream</td>\n",
       "      <td>5</td>\n",
       "      <td>2020-03-23T14:15:00.000</td>\n",
       "      <td>BOULDER</td>\n",
       "      <td>DISCHRG</td>\n",
       "      <td>2.96</td>\n",
       "      <td>Active</td>\n",
       "      <td>40.220702</td>\n",
       "      <td>False</td>\n",
       "      <td>-105.263490</td>\n",
       "      <td>https://dwr.state.co.us/SurfaceWater/data/deta...</td>\n",
       "      <td>06724000</td>\n",
       "      <td>NaN</td>\n",
       "      <td>POINT (-105.26349 40.22070)</td>\n",
       "    </tr>\n",
       "    <tr>\n",
       "      <th>2</th>\n",
       "      <td>OLIGARCHY DITCH DIVERSION</td>\n",
       "      <td>1</td>\n",
       "      <td>OLIDITCO</td>\n",
       "      <td>Cooperative Program of CDWR, NCWCD &amp; SVLHWCD</td>\n",
       "      <td>6.68</td>\n",
       "      <td>Diversion</td>\n",
       "      <td>5</td>\n",
       "      <td>2020-03-23T12:45:00.000</td>\n",
       "      <td>BOULDER</td>\n",
       "      <td>DISCHRG</td>\n",
       "      <td>0.33</td>\n",
       "      <td>Active</td>\n",
       "      <td>40.196422</td>\n",
       "      <td>False</td>\n",
       "      <td>-105.206592</td>\n",
       "      <td>https://dwr.state.co.us/SurfaceWater/data/deta...</td>\n",
       "      <td>NaN</td>\n",
       "      <td>NaN</td>\n",
       "      <td>POINT (-105.20659 40.19642)</td>\n",
       "    </tr>\n",
       "    <tr>\n",
       "      <th>3</th>\n",
       "      <td>SOUTH BOULDER CREEK DIVERSION NEAR ELDORADO SP...</td>\n",
       "      <td>1</td>\n",
       "      <td>BOSDELCO</td>\n",
       "      <td>Co. Division of Water Resources</td>\n",
       "      <td>0.00</td>\n",
       "      <td>Diversion</td>\n",
       "      <td>6</td>\n",
       "      <td>2020-03-23T14:30:00.000</td>\n",
       "      <td>BOULDER</td>\n",
       "      <td>DISCHRG</td>\n",
       "      <td>-1.70</td>\n",
       "      <td>Active</td>\n",
       "      <td>39.931813</td>\n",
       "      <td>False</td>\n",
       "      <td>-105.308432</td>\n",
       "      <td>https://dwr.state.co.us/SurfaceWater/data/deta...</td>\n",
       "      <td>NaN</td>\n",
       "      <td>NaN</td>\n",
       "      <td>POINT (-105.30843 39.93181)</td>\n",
       "    </tr>\n",
       "    <tr>\n",
       "      <th>4</th>\n",
       "      <td>CLOUGH AND TRUE DITCH</td>\n",
       "      <td>1</td>\n",
       "      <td>CLODITCO</td>\n",
       "      <td>Cooperative Program of CDWR, NCWCD &amp; SVLHWCD</td>\n",
       "      <td>0.00</td>\n",
       "      <td>Diversion</td>\n",
       "      <td>5</td>\n",
       "      <td>2020-03-23T14:00:00.000</td>\n",
       "      <td>BOULDER</td>\n",
       "      <td>DISCHRG</td>\n",
       "      <td>NaN</td>\n",
       "      <td>Active</td>\n",
       "      <td>40.193758</td>\n",
       "      <td>False</td>\n",
       "      <td>-105.210390</td>\n",
       "      <td>https://dwr.state.co.us/SurfaceWater/data/deta...</td>\n",
       "      <td>NaN</td>\n",
       "      <td>NaN</td>\n",
       "      <td>POINT (-105.21039 40.19376)</td>\n",
       "    </tr>\n",
       "  </tbody>\n",
       "</table>\n",
       "</div>"
      ],
      "text/plain": [
       "                                        station_name div dwr_abbrev  \\\n",
       "0                             ZWECK AND TURNER DITCH   1   ZWETURCO   \n",
       "1                     SAINT VRAIN CREEK AT LYONS, CO   1   SVCLYOCO   \n",
       "2                          OLIGARCHY DITCH DIVERSION   1   OLIDITCO   \n",
       "3  SOUTH BOULDER CREEK DIVERSION NEAR ELDORADO SP...   1   BOSDELCO   \n",
       "4                              CLOUGH AND TRUE DITCH   1   CLODITCO   \n",
       "\n",
       "                                    data_source amount station_type wd  \\\n",
       "0  Cooperative Program of CDWR, NCWCD & SVLHWCD   0.14    Diversion  5   \n",
       "1               Co. Division of Water Resources  37.90       Stream  5   \n",
       "2  Cooperative Program of CDWR, NCWCD & SVLHWCD   6.68    Diversion  5   \n",
       "3               Co. Division of Water Resources   0.00    Diversion  6   \n",
       "4  Cooperative Program of CDWR, NCWCD & SVLHWCD   0.00    Diversion  5   \n",
       "\n",
       "                 date_time   county variable  stage station_status  \\\n",
       "0  2020-03-23T14:00:00.000  BOULDER  DISCHRG   0.05         Active   \n",
       "1  2020-03-23T14:15:00.000  BOULDER  DISCHRG   2.96         Active   \n",
       "2  2020-03-23T12:45:00.000  BOULDER  DISCHRG   0.33         Active   \n",
       "3  2020-03-23T14:30:00.000  BOULDER  DISCHRG  -1.70         Active   \n",
       "4  2020-03-23T14:00:00.000  BOULDER  DISCHRG    NaN         Active   \n",
       "\n",
       "   location.latitude  location.needs_recoding  location.longitude  \\\n",
       "0          40.185033                    False         -105.185789   \n",
       "1          40.220702                    False         -105.263490   \n",
       "2          40.196422                    False         -105.206592   \n",
       "3          39.931813                    False         -105.308432   \n",
       "4          40.193758                    False         -105.210390   \n",
       "\n",
       "                                    http_linkage.url usgs_station_id flag  \\\n",
       "0  https://dwr.state.co.us/SurfaceWater/data/deta...             NaN  NaN   \n",
       "1  https://dwr.state.co.us/SurfaceWater/data/deta...        06724000  NaN   \n",
       "2  https://dwr.state.co.us/SurfaceWater/data/deta...             NaN  NaN   \n",
       "3  https://dwr.state.co.us/SurfaceWater/data/deta...             NaN  NaN   \n",
       "4  https://dwr.state.co.us/SurfaceWater/data/deta...             NaN  NaN   \n",
       "\n",
       "                      geometry  \n",
       "0  POINT (-105.18579 40.18503)  \n",
       "1  POINT (-105.26349 40.22070)  \n",
       "2  POINT (-105.20659 40.19642)  \n",
       "3  POINT (-105.30843 39.93181)  \n",
       "4  POINT (-105.21039 40.19376)  "
      ]
     },
     "execution_count": 21,
     "metadata": {},
     "output_type": "execute_result"
    }
   ],
   "source": [
    "gdf.head()"
   ]
  },
  {
   "cell_type": "markdown",
   "metadata": {},
   "source": [
    "Then, you can plot the data using the folium functions `GeoJson()` and `add_to()` to add the data from the `Geopandas DataFrame` to the map object. "
   ]
  },
  {
   "cell_type": "code",
   "execution_count": 22,
   "metadata": {},
   "outputs": [
    {
     "name": "stderr",
     "output_type": "stream",
     "text": [
      "/Users/leahwasser/miniconda3/envs/earth-analytics-python/lib/python3.7/site-packages/pyproj/crs.py:77: FutureWarning: '+init=<authority>:<code>' syntax is deprecated. '<authority>:<code>' is the preferred initialization method.\n",
      "  return _prepare_from_string(\" \".join(pjargs))\n"
     ]
    },
    {
     "data": {
      "text/html": [
       "<div style=\"width:100%;\"><div style=\"position:relative;width:100%;height:0;padding-bottom:60%;\"><iframe src=\"data:text/html;charset=utf-8;base64,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\" style=\"position:absolute;width:100%;height:100%;left:0;top:0;border:none !important;\" allowfullscreen webkitallowfullscreen mozallowfullscreen></iframe></div></div>"
      ],
      "text/plain": [
       "<folium.folium.Map at 0x129a94710>"
      ]
     },
     "execution_count": 22,
     "metadata": {},
     "output_type": "execute_result"
    }
   ],
   "source": [
    "m = folium.Map([40.01, -105.27], zoom_start= 10, tiles='cartodbpositron')\n",
    "folium.GeoJson(gdf).add_to(m)\n",
    "\n",
    "m"
   ]
  },
  {
   "cell_type": "markdown",
   "metadata": {},
   "source": [
    "Great! You now have an interactive map in your notebook! \n",
    "\n",
    "You can also cluster the markers, and add a popup to each marker, so you can give your viewers more information about station: such as its name and the amount of precipitation measured.\n",
    "\n",
    "For this example below, you will work with the `Pandas DataFrame` you originally created from the `JSON`, instead of the `Geopandas GeoDataFrame`."
   ]
  },
  {
   "cell_type": "code",
   "execution_count": 23,
   "metadata": {},
   "outputs": [],
   "source": [
    "# Get the latitude and longitude from result as a list\n",
    "locations = result[['location.latitude', 'location.longitude']]\n",
    "coords = locations.values.tolist()"
   ]
  },
  {
   "cell_type": "code",
   "execution_count": 24,
   "metadata": {},
   "outputs": [
    {
     "data": {
      "text/html": [
       "<div style=\"width:100%;\"><div style=\"position:relative;width:100%;height:0;padding-bottom:60%;\"><iframe src=\"data:text/html;charset=utf-8;base64,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\" style=\"position:absolute;width:100%;height:100%;left:0;top:0;border:none !important;\" allowfullscreen webkitallowfullscreen mozallowfullscreen></iframe></div></div>"
      ],
      "text/plain": [
       "<folium.folium.Map at 0x129aa18d0>"
      ]
     },
     "execution_count": 24,
     "metadata": {},
     "output_type": "execute_result"
    }
   ],
   "source": [
    "from folium.plugins import MarkerCluster\n",
    "\n",
    "m = folium.Map([40.01, -105.27], zoom_start= 10, tiles='cartodbpositron')\n",
    "\n",
    "marker_cluster = MarkerCluster().add_to(m)\n",
    "\n",
    "for point in range(0, len(coords)):\n",
    "    folium.Marker(location = coords[point], popup= 'Name: ' + result['station_name'][point] + ' ' + 'Precip: ' + str(result['amount'][point])).add_to(marker_cluster)\n",
    "\n",
    "m"
   ]
  },
  {
   "cell_type": "markdown",
   "metadata": {},
   "source": [
    "<div class=\"notice--info\" markdown=\"1\">\n",
    "\n",
    "## Additional Resources\n",
    "\n",
    "* <a href=\"https://blog.datafiniti.co/4-reasons-you-should-use-json-instead-of-csv-2cac362f1943\" target=\"_blank\">Why you should use JSON instead of csv.</a>\n",
    "\n",
    "\n",
    "* <a href=\"https://www.w3schools.com/js/js_json_intro.asp\" target=\"_blank\">W3schools JSON intro </a>\n",
    "\n",
    "</div>"
   ]
  },
  {
   "cell_type": "code",
   "execution_count": null,
   "metadata": {},
   "outputs": [],
   "source": []
  }
 ],
 "metadata": {
  "anaconda-cloud": {},
  "kernelspec": {
   "display_name": "Python 3",
   "language": "python",
   "name": "python3"
  },
  "language_info": {
   "codemirror_mode": {
    "name": "ipython",
    "version": 3
   },
   "file_extension": ".py",
   "mimetype": "text/x-python",
   "name": "python",
   "nbconvert_exporter": "python",
   "pygments_lexer": "ipython3",
   "version": "3.7.6"
  },
  "toc": {
   "base_numbering": 1,
   "nav_menu": {},
   "number_sections": true,
   "sideBar": true,
   "skip_h1_title": false,
   "title_cell": "Table of Contents",
   "title_sidebar": "Contents",
   "toc_cell": false,
   "toc_position": {},
   "toc_section_display": true,
   "toc_window_display": false
  }
 },
 "nbformat": 4,
 "nbformat_minor": 2
}
