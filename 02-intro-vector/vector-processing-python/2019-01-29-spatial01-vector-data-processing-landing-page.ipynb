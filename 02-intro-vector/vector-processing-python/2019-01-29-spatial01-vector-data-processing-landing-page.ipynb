{
 "cells": [
  {
   "cell_type": "raw",
   "metadata": {},
   "source": [
    "---\n",
    "layout: single\n",
    "title: \"GIS in Python: Reproject Vector Data.\"\n",
    "excerpt: \"Often when spatial data do not line up properly on a plot, it is because they are in different \n",
    "coordinate reference systems (CRS). Learn how to reproject a vector dataset to a different CRS in Python using the to_crs() function from GeoPandas.\"\n",
    "authors: ['Leah Wasser','Martha Morrissey','Chris Holdgraf']\n",
    "dateCreated: 2018-02-05\n",
    "modified: '{:%Y-%m-%d}'.format(datetime.now())\n",
    "category: [courses]\n",
    "class-lesson: ['vector-processing-python']\n",
    "permalink: /courses/use-data-open-source-python/intro-vector-data-python/vector-data-processing/\n",
    "nav-title: 'Processing Spatial Vector Data in Python'\n",
    "module-title: 'Spatial Vector Data Processing in Python'\n",
    "module-description: 'Common spatial vector data processing tasks include reprojecting data to a different coordinate reference system (CRS), clipping data to a specified boundary, and joining data based on spatial location and attributes. Learn how to process spatial vector data using open source Python.'\n",
    "module-nav-title: 'Processing Spatial Vector Data in Python'\n",
    "module-type: 'class'\n",
    "course: 'intermediate-earth-data-science-textbook'\n",
    "chapter: 3\n",
    "week: 2\n",
    "class-order: 2\n",
    "estimated-time: \"2-3 hours\"\n",
    "difficulty: \"intermediate\"\n",
    "sidebar:\n",
    "  nav:\n",
    "author_profile: false\n",
    "comments: true\n",
    "order: 1\n",
    "topics:\n",
    "  spatial-data-and-gis: ['vector-data']\n",
    "---\n"
   ]
  },
  {
   "cell_type": "markdown",
   "metadata": {},
   "source": [
    "{% include toc title=\"In This Chapter\" icon=\"file-text\" %}\n",
    "\n",
    "<div class='notice--success' markdown=\"1\">\n",
    "\n",
    "## <i class=\"fa fa-ship\" aria-hidden=\"true\"></i> Chapter Three - Spatial Vector Data Processing in Python \n",
    "\n",
    "In this chapter, you will learn how process vector data including how to reproject data to a different coordinate reference system (CRS), clip data to a specified boundary, and join data based on spatial location and attributes.\n",
    "\n",
    "\n",
    "## <i class=\"fa fa-graduation-cap\" aria-hidden=\"true\"></i> Learning Objectives\n",
    "\n",
    "After completing this chapter, you will be able to:\n",
    "\n",
    "* Identify the CRS of a spatial dataset and reproject it to another CRS in **Python**.\n",
    "* Clip a spatial vector point and line layer to the spatial extent of a polygon layer in **Python** using **geopandas**.\n",
    "* Dissolve polygons based upon an attribute in **Python** using **geopandas**.\n",
    "* Join spatial attributes from one shapefile to another in **Python** using **geopandas**.\n",
    "\n",
    "## <i class=\"fa fa-check-square-o fa-2\" aria-hidden=\"true\"></i> What You Need\n",
    "\n",
    "You will need a computer with internet access to complete this lesson and the\n",
    "spatial-vector-lidar data subset created for the course.\n",
    "\n",
    "{% include/data_subsets/course_earth_analytics/_data-spatial-lidar.md %}\n",
    "\n",
    "</div>\n"
   ]
  }
 ],
 "metadata": {
  "anaconda-cloud": {},
  "celltoolbar": "Tags",
  "kernelspec": {
   "display_name": "Python 3",
   "language": "python",
   "name": "python3"
  },
  "language_info": {
   "codemirror_mode": {
    "name": "ipython",
    "version": 3
   },
   "file_extension": ".py",
   "mimetype": "text/x-python",
   "name": "python",
   "nbconvert_exporter": "python",
   "pygments_lexer": "ipython3",
   "version": "3.7.6"
  },
  "toc": {
   "base_numbering": 1,
   "nav_menu": {},
   "number_sections": true,
   "sideBar": true,
   "skip_h1_title": false,
   "title_cell": "Table of Contents",
   "title_sidebar": "Contents",
   "toc_cell": false,
   "toc_position": {},
   "toc_section_display": true,
   "toc_window_display": false
  },
  "varInspector": {
   "cols": {
    "lenName": 16,
    "lenType": 16,
    "lenVar": 40
   },
   "kernels_config": {
    "python": {
     "delete_cmd_postfix": "",
     "delete_cmd_prefix": "del ",
     "library": "var_list.py",
     "varRefreshCmd": "print(var_dic_list())"
    },
    "r": {
     "delete_cmd_postfix": ") ",
     "delete_cmd_prefix": "rm(",
     "library": "var_list.r",
     "varRefreshCmd": "cat(var_dic_list()) "
    }
   },
   "types_to_exclude": [
    "module",
    "function",
    "builtin_function_or_method",
    "instance",
    "_Feature"
   ],
   "window_display": false
  }
 },
 "nbformat": 4,
 "nbformat_minor": 2
}
