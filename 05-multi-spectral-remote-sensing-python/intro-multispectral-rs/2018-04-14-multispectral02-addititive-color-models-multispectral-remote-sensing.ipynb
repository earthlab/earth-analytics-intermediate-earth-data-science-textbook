{
 "cells": [
  {
   "cell_type": "raw",
   "metadata": {},
   "source": [
    "---\n",
    "layout: single\n",
    "title: \"How multispectral imagery is drawn on computers - Additive Color Models\"\n",
    "excerpt: \"Learn the basics of how addidative colors models are used to render RGB images in Python.\"\n",
    "authors: ['Leah Wasser']\n",
    "dateCreated: 2018-04-14\n",
    "modified: '{:%Y-%m-%d}'.format(datetime.now())\n",
    "category: [courses]\n",
    "class-lesson: ['multispectral-remote-sensing-data-python-tb']\n",
    "permalink: /courses/use-data-open-source-python/multispectral-remote-sensing/intro-multispectral-data/addititive-color-models-how-multispectral-imagery-is-drawn-on-computers/\n",
    "nav-title: 'Additive Color Models'\n",
    "week: 5\n",
    "course: \"intermediate-earth-data-science-textbook\"\n",
    "sidebar:\n",
    "  nav:\n",
    "author_profile: false\n",
    "comments: true\n",
    "order: 2\n",
    "topics:\n",
    "  remote-sensing: ['landsat']\n",
    "  earth-science: ['fire']\n",
    "  reproducible-science-and-programming:\n",
    "  spatial-data-and-gis: ['raster-data']\n",
    "lang-lib:\n",
    "  python: []\n",
    "redirect_from:\n",
    "  - \"/courses/earth-analytics-python/multispectral-remote-sensing-in-python/addititive-color-models-how-multispectral-imagery-is-drawn-on-computers/\"\n",
    "---\n"
   ]
  },
  {
   "cell_type": "markdown",
   "metadata": {},
   "source": [
    "{% include toc title=\"On This Page\" icon=\"file-text\" %}\n",
    "\n",
    "<div class='notice--success' markdown=\"1\">\n",
    "\n",
    "## <i class=\"fa fa-graduation-cap\" aria-hidden=\"true\"></i> Learning Objectives\n",
    "\n",
    "* Describe the difference between additive and subtractive light models.\n",
    "* Explain how RGB images are rendered in a computer monitor.\n",
    "\n",
    "</div>\n",
    "\n",
    "The ~1 minute video below inspired the demonstration that you saw in class.\n",
    "\n",
    "<iframe width=\"560\" height=\"315\" src=\"https://www.youtube.com/embed/hxJ7QbPbNkg\" frameborder=\"0\" allowfullscreen></iframe>\n",
    "\n",
    "The 2:30 minute video below shows the difference between additive and subtractive\n",
    "light models and demonstrates subtractive models with paints.\n",
    "\n",
    "<iframe width=\"560\" height=\"315\" src=\"https://www.youtube.com/embed/Er7CM_RNFZ4\" frameborder=\"0\" allowfullscreen></iframe>\n",
    "\n",
    "\n",
    "The ~3 minute video below has no sound, but look closely as they zoom in on the pixels of\n",
    "an old school computer monitor. You will notice that each  pixel is composed of three\n",
    "types of light red, green and blue.\n",
    "\n",
    "<iframe width=\"560\" height=\"315\" src=\"https://www.youtube.com/embed/HzY4Q5fKxmU\" frameborder=\"0\" allowfullscreen></iframe>\n",
    "\n",
    "\n",
    "\n"
   ]
  }
 ],
 "metadata": {
  "anaconda-cloud": {},
  "kernelspec": {
   "display_name": "Python 3",
   "language": "python",
   "name": "python3"
  },
  "language_info": {
   "codemirror_mode": {
    "name": "ipython",
    "version": 3
   },
   "file_extension": ".py",
   "mimetype": "text/x-python",
   "name": "python",
   "nbconvert_exporter": "python",
   "pygments_lexer": "ipython3",
   "version": "3.7.8"
  },
  "varInspector": {
   "cols": {
    "lenName": 16,
    "lenType": 16,
    "lenVar": 40
   },
   "kernels_config": {
    "python": {
     "delete_cmd_postfix": "",
     "delete_cmd_prefix": "del ",
     "library": "var_list.py",
     "varRefreshCmd": "print(var_dic_list())"
    },
    "r": {
     "delete_cmd_postfix": ") ",
     "delete_cmd_prefix": "rm(",
     "library": "var_list.r",
     "varRefreshCmd": "cat(var_dic_list()) "
    }
   },
   "types_to_exclude": [
    "module",
    "function",
    "builtin_function_or_method",
    "instance",
    "_Feature"
   ],
   "window_display": false
  }
 },
 "nbformat": 4,
 "nbformat_minor": 2
}
