{
 "cells": [
  {
   "cell_type": "raw",
   "metadata": {},
   "source": [
    "---\n",
    "layout: single\n",
    "title: \"Why A Hundred Year Flood Can Occur Every Year. Calculate Exceedance Probability and Return Periods in Python\"\n",
    "excerpt: \"Learn how to calculate exceedance probability and return periods associated with a flood in Python.\"\n",
    "authors: ['Matthew Rossi', 'Leah Wasser']\n",
    "dateCreated: 2018-02-05\n",
    "modified: '{:%Y-%m-%d}'.format(datetime.now())\n",
    "category: [courses]\n",
    "class-lesson: ['ts-flood-return-python']\n",
    "course: 'intermediate-earth-data-science-textbook'\n",
    "permalink: /courses/use-data-open-source-python/use-time-series-data-in-python/floods-return-period-and-probability/\n",
    "module-description: 'Python provides a datetime object for storing and working with dates. Learn how to handle date fields using pandas to work with time series data in Python.'\n",
    "module-nav-title: 'Flood Returns Period Analysis in Python'\n",
    "module-title: 'Calculate Flood Return Periods and Exceedance Probability in Python With Pandas'\n",
    "module-type: 'class'\n",
    "nav-title: 'Flood Return Period'\n",
    "chapter: 1.5\n",
    "week: 1\n",
    "sidebar:\n",
    "  nav:\n",
    "author_profile: false\n",
    "comments: true\n",
    "class-order: 2\n",
    "order: 1\n",
    "topics:\n",
    "  reproducible-science-and-programming: ['jupyter-notebook', 'python']\n",
    "  time-series:\n",
    "  data-exploration-and-analysis: ['data-visualization']\n",
    "redirect_from:\n",
    "  - \"/courses/earth-analytics-python/use-time-series-data-in-python/floods-return-period-and-probability/\"\n",
    "  - \"/courses/use-data-open-source-python/use-time-series-data-in-python/floods-return-period-and-probability/\"\n",
    "---\n"
   ]
  },
  {
   "cell_type": "markdown",
   "metadata": {},
   "source": [
    "{% include toc title=\"On This Page\" icon=\"file-text\" %}\n",
    "\n",
    "<div class='notice--success' markdown=\"1\">\n",
    "\n",
    "## <i class=\"fa fa-ship\" aria-hidden=\"true\"></i> Chapter 1.5 - Flood Return and Exceedance Probability Calculations In Python - Earth Data Science Applications\n",
    "\n",
    "In this chapter, you will learn how to calculate flood return periods\n",
    "and exceedance probability using **Python**. \n",
    "\n",
    "## <i class=\"fa fa-graduation-cap\" aria-hidden=\"true\"></i> Learning Objectives\n",
    "\n",
    "* Calculate exceedance probability and return periods associated with a flood in **Python**.\n",
    "\n",
    "</div>\n",
    "\n",
    "\n",
    "## Introduction to Flood Frequency Analysis\n",
    "\n",
    "One way to analyze time series data - particularly related to events like floods - is to calculate the frequency of different magnitude events. You have have likey heard the term **\"100-year flood\"**. While you may think it means that it is the size of flood that occurs every 100 years, it actually refers to the flood magnitude that has a probability of exceedance of 1/100 in any given year (i.e., a 1% chance). This is why the hundred year flood event can occur two years in a row.\n",
    "\n",
    "In this lesson you will learn how \"100-year floods\" (and other flood frequencies) are calculated using some basic statistics. To begin, let's define two terms:\n",
    "\n",
    "1. **Exceedance probability:** the probability of a given magnitude event or greater to occur.\n",
    "    \n",
    "2. **Recurrence interval:** the average time of exceedance is the inverse of the exceedance probability.\n",
    "    \n",
    "### Important Considerations\n",
    "\n",
    "* The above definitions assume that flood events in the time series are independent (i.e., that event magnitudes are not correlated with each other in time) and that the process is stationary (i.e., that the probability distribution of events is not changing through time).\n",
    "\n",
    "> In this project, we will be interpreting maximum annual floods. How valid do you think the above assumptions are for annual maxima?\n",
    "\n",
    "* Even though the phrase \"recurrence interval\" evokes the idea of regularity in the time between events, this is an important misconception (recall our assumption of independence). The 100-year flood is just as likely to occur after a year that already experienced a 100-yr flood as any other year.\n",
    "\n",
    "> In this project, we will be asking you to construct and interpret plots of recurrence intervals. Do you think the processes that drive floods are periodic? If so, over what timescales?\n",
    "\n",
    "\n",
    "The content below comes from <a href=\"https://water.usgs.gov/edu/100yearflood.html\" target= \"_blank\">this USGS waterscience page</a>. It provides an excellent overview of recurrence intervals and return periods.\n",
    "\n",
    "****\n",
    "\n",
    "## What is a Recurrence Interval?\n",
    "\n",
    "> *100-year floods can happen 2 years in a row*\n",
    "\n",
    "Statistical techniques, through a process called frequency analysis, are used to estimate the probability of the occurrence of a given precipitation event. The recurrence interval is based on the probability that the given event will be equalled or exceeded in any given year. For example, assume there is a 1 in 50 chance that 6.60 inches of rain will fall in a certain area in a 24-hour period during any given year. Thus, a rainfall total of 6.60 inches in a consecutive 24-hour period is said to have a 50-year recurrence interval. Likewise, using a frequency analysis (Interagency Advisory Committee on Water Data, 1982) there is a 1 in 100 chance that a streamflow of 15,000 cubic feet per second (ft3/s) will occur during any year at a certain streamflow-measurement site. Thus, a peak flow of 15,000 ft3/s at the site is said to have a 100-year recurrence interval. Rainfall recurrence intervals are based on both the magnitude and the duration of a rainfall event, whereas streamflow recurrence intervals are based solely on the magnitude of the annual peak flow.\n",
    "\n",
    "Ten or more years of data are required to perform a frequency analysis for the determination of recurrence intervals. Of course, the more years of historical data the better—a hydrologist will have more confidence on an analysis of a river with 30 years of record than one based on 10 years of record.\n",
    "\n",
    "Recurrence intervals for the annual peak streamflow at a given location change if there are significant changes in the flow patterns at that location, possibly caused by an impoundment or diversion of flow. The effects of development (conversion of land from forested or agricultural uses to commercial, residential, or industrial uses) on peak flows is generally much greater for low-recurrence interval floods than for high-recurrence interval floods, such as 25- 50- or 100-year floods. During these larger floods, the soil is saturated and does not have the capacity to absorb additional rainfall. Under these conditions, essentially all of the rain that falls, whether on paved surfaces or on saturated soil, runs off and becomes streamflow.\n",
    "\n",
    "## How Can We Have two \"100-year floods\" in less than two years?\n",
    "\n",
    "This question points out the importance of proper terminology. The term \"100-year flood\" is used in an attempt to simplify the definition of a flood that statistically has a 1-percent chance of occurring in any given year. Likewise, the term \"100-year storm\" is used to define a rainfall event that statistically has this same 1-percent chance of occurring. In other words, over the course of 1 million years, these events would be expected to occur 10,000 times. But, just because it rained 10 inches in one day last year doesn't mean it can't rain 10 inches in one day again this year.\n",
    "\n",
    "### Recurrence intervals and probabilities of occurrences \n",
    "\n",
    "|Recurrance interval, in years | Probability of occurrence in any given year| Percent chance of occurrence in any given year | \n",
    "|100|\t1 in 100 |\t1 |\n",
    "|50\t|1 in 50\t|2|\n",
    "|25|\t1 in 25|\t4|\n",
    "|10|\t1 in 10|\t10|\n",
    "|5|\t1 in 5\t|20|\n",
    "|==\n",
    "|2|\t1 in 2|\t50|\n",
    "\n",
    "## What is an Annual Exceedance Probability?\n",
    "\n",
    "The USGS and other agencies often refer to the percent chance of occurrence as an Annual Exceedance Probability or AEP. An AEP is always a fraction of one. So a 0.2 AEP flood has a 20% chance of occurring in any given year, and this corresponds to a 5-year recurrence-interval flood. Recurrence-interval terminology tends to be more understandable for flood intensity comparisons. However, AEP terminology reminds the observer that a rare flood does not reduce the chances of another rare flood within a short time period.\n",
    "\n",
    "****\n",
    "## Calculate Probability in Python\n",
    "In this lesson, you will use streamflow data to explore the probabilities of a different magnitude events (e.g., discharge is measured in cubic feet per second). To do this, you will want long historic records to make your statistical inferences more robust. \n",
    "\n",
    "You will use the `hydrofunctions` python package to access streamflow data via an API from the United States Geological Survey (USGS) National Water Information System (NWIS) website. \n",
    "\n",
    "To begin, load all of your libraries."
   ]
  },
  {
   "cell_type": "markdown",
   "metadata": {
    "tags": [
     "hide"
    ]
   },
   "source": [
    "# docs for this api!\n",
    "https://pypi.org/project/HydroFunctions/\n",
    "\n",
    "\n",
    "http://earthpy.org/flow.html"
   ]
  },
  {
   "cell_type": "code",
   "execution_count": 1,
   "metadata": {},
   "outputs": [],
   "source": [
    "# Import packages\n",
    "import os\n",
    "import urllib\n",
    "import requests\n",
    "import math\n",
    "import matplotlib.pyplot as plt\n",
    "import seaborn as sns\n",
    "import pandas as pd\n",
    "import earthpy as et\n",
    "import hydrofunctions as hf\n",
    "\n",
    "# Date time conversion registration\n",
    "from pandas.plotting import register_matplotlib_converters\n",
    "register_matplotlib_converters()\n",
    "\n",
    "# Get the data & set working director\n",
    "data = et.data.get_data('colorado-flood')\n",
    "os.chdir(os.path.join(et.io.HOME, 'earth-analytics'))\n",
    "\n",
    "# Prettier plotting with seaborn\n",
    "sns.set(font_scale=1.5, style=\"whitegrid\")"
   ]
  },
  {
   "cell_type": "code",
   "execution_count": 2,
   "metadata": {
    "tags": [
     "hide"
    ]
   },
   "outputs": [],
   "source": [
    "# Trying to remove warning and get plots to render\n",
    "%matplotlib inline\n",
    "\n",
    "# UserWarning: Matplotlib is currently using agg, which is a non-GUI backend, so cannot show the figure.\n",
    "  # This is added back by InteractiveShellApp.init_path() "
   ]
  },
  {
   "cell_type": "markdown",
   "metadata": {},
   "source": [
    "## Find A Station of Interest\n",
    "\n",
    "The `hf.draw_map()` function allows you to explore the station visually in a particular area. Explore the map below. Notice the gage locations in the Boulder, Colorado area. \n",
    "\n",
    "For the purposes of this lesson, you will use gage `dv06730500` This gage along Boulder Creek survived the 2013 flood event and is one of the longest time series datasets along Boulder Creek. \n",
    "\n",
    "The map below also allows you to explore hydrographs for several stream gages at once if you click on the buttons at the bottom center of the map. \n",
    "\n",
    "```python\n",
    "# Create map of stations\n",
    "hf.draw_map()\n",
    "```\n",
    "\n",
    "<iframe src=\"http://hydrocloud.org/\" width=\"700\" height=\"400\"></iframe>\n"
   ]
  },
  {
   "cell_type": "markdown",
   "metadata": {},
   "source": [
    "You can get a list of all stations located in Colorado using the `hf.NWIS().get_data()` method. "
   ]
  },
  {
   "cell_type": "code",
   "execution_count": 3,
   "metadata": {},
   "outputs": [
    {
     "data": {
      "text/plain": [
       "['COLORADO CREEK NEAR SPICER, CO.',\n",
       " 'GRIZZLY CREEK NEAR SPICER, CO.',\n",
       " 'BUFFALO CREEK NEAR HEBRON, CO.',\n",
       " 'GRIZZLY CREEK NEAR HEBRON, CO.',\n",
       " 'GRIZZLY CREEK NEAR WALDEN, CO']"
      ]
     },
     "execution_count": 3,
     "metadata": {},
     "output_type": "execute_result"
    }
   ],
   "source": [
    "# Request data for all stations in Colorado\n",
    "PR = hf.NWIS(stateCd='CO').get_data()\n",
    "\n",
    "# List the names for the first 5 sites in Colorado, USA\n",
    "PR.siteName[0:5]"
   ]
  },
  {
   "cell_type": "markdown",
   "metadata": {},
   "source": [
    "## Download Stream Gage Data\n",
    "You are now ready to grab some data from the NWIS API. \n",
    "\n",
    "### Mean Daily vs Instantaneous Stream Flow Data\n",
    "\n",
    "There are two kinds of streamflow time-series data that the USGS provides online: \n",
    "\n",
    "1. **Mean daily streamflow:** Mean daily streamflow is useful because it is a complete time series (except for days when the gage fails) and thus retains all recorded streamflow events over the period of record.\n",
    "1. **Annual maximum instantaneous streamflow:** Instantaneous data is not averaged over the entire day, but instead reflects continuous variations in the flood hydrograph recorded by the stream gage. As such, annual maximum instantaneous streamflow data are useful because they retain the maximum values of discharge recorded in a given year. \n",
    "\n",
    "> How do you think flood frequencies characterized by these two different data types will compare?\n",
    "\n",
    "For this part of the lesson, you will download the mean daily discharge data. The code for this data in `dv` when using the `hydrofunctions` python package. \n",
    "\n",
    "### Get Data Using Hydrofunctions API Interface for Python\n",
    "\n",
    "To begin define a start and end date that you'd like to download. Also define the `site ID`.\n",
    "Use `USGS 06730500` as your selected site. This stream gage survived the 2013 flood event in Colorado. It also has a long record of measurement that will be helpful when calculating recurrence intervals and exceedance probability values below.  \n",
    "\n",
    "## Station Selection\n",
    "In general, to select stream gages for flood frequency analysis you will want to carefully examine the metadata for candidate stations to check for the time period of operation, record completeness, and other comments on gage operation that might impact your interpretation of statistical results (e.g., Is there a dam upstream? When was it built? Other flow diversions? Did the gage malfunction during some events?) \n",
    "\n",
    "There are two subsets of USGS gages that have been specially identified for hydo-climatic analyses because station records are of high quality, cover a long time period, and human modification of the watershed is minimal (e.g., due to flow regulation or urban development): (1) Hydro-Climatic Data Network - 2009 (Lins, 2012) and (2) Geospatial attributes of gages for evaluating streamflow (Falcone, 2011).\n",
    "\n",
    "For this project, we followed the lead of scientists assessing the significance of the 2013 Colorado floods using methods similar to the ones introduced in this project (Yochum, 2015). For more context of data availability along rivers draining the Colorado Front Range, check out Table 2 of this regional flood frequency analysis. \n",
    "\n"
   ]
  },
  {
   "cell_type": "code",
   "execution_count": 4,
   "metadata": {},
   "outputs": [],
   "source": [
    "# Define the site number and start and end dates that you are interested in\n",
    "site = \"06730500\"\n",
    "start = '1946-05-10'\n",
    "end = '2018-08-29'\n",
    "\n",
    "# Request data for that site and time period\n",
    "longmont_resp = hf.get_nwis(site, 'dv', start, end)"
   ]
  },
  {
   "cell_type": "markdown",
   "metadata": {},
   "source": [
    "### View Site and Metadata Information\n",
    "You can explore the metadata for the site using the `get_nwis()` function. Below we request the metadata for the site and the \"dv\" or Daily Value data. Recall from above that dv is the mean daily value. `iv` provides the instantaneous values.\n",
    "\n",
    "You can also visit the <a href=\"https://waterdata.usgs.gov/nwis/inventory/?site_no=06730500\" target = \"_blank\">USGS Site page</a> to learn more about this USGS station. "
   ]
  },
  {
   "cell_type": "code",
   "execution_count": 5,
   "metadata": {},
   "outputs": [
    {
     "data": {
      "text/plain": [
       "{'name': 'ns1:timeSeriesResponseType',\n",
       " 'declaredType': 'org.cuahsi.waterml.TimeSeriesResponseType',\n",
       " 'scope': 'javax.xml.bind.JAXBElement$GlobalScope',\n",
       " 'value': {'queryInfo': {'queryURL': 'http://waterservices.usgs.gov/nwis/dv/format=json%2C1.1&sites=06730500&parameterCd=00060',\n",
       "   'criteria': {'locationParam': '[ALL:06730500]',\n",
       "    'variableParam': '[00060]',\n",
       "    'parameter': []},\n",
       "   'note': [{'value': '[ALL:06730500]', 'title': 'filter:sites'},\n",
       "    {'value': '[mode=LATEST, modifiedSince=null]',\n",
       "     'title': 'filter:timeRange'},\n",
       "    {'value': 'methodIds=[ALL]', 'title': 'filter:methodId'},\n",
       "    {'value': '2020-03-02T23:32:37.578Z', 'title': 'requestDT'},\n",
       "    {'value': '19ee6390-5cde-11ea-8bc9-6cae8b6642ea', 'title': 'requestId'},\n",
       "    {'value': 'Provisional data are subject to revision. Go to http://waterdata.usgs.gov/nwis/help/?provisional for more information.',\n",
       "     'title': 'disclaimer'},\n",
       "    {'value': 'sdas01', 'title': 'server'}]},\n",
       "  'timeSeries': [{'sourceInfo': {'siteName': 'BOULDER CREEK AT MOUTH NEAR LONGMONT, CO',\n",
       "     'siteCode': [{'value': '06730500',\n",
       "       'network': 'NWIS',\n",
       "       'agencyCode': 'USGS'}],\n",
       "     'timeZoneInfo': {'defaultTimeZone': {'zoneOffset': '-07:00',\n",
       "       'zoneAbbreviation': 'MST'},\n",
       "      'daylightSavingsTimeZone': {'zoneOffset': '-06:00',\n",
       "       'zoneAbbreviation': 'MDT'},\n",
       "      'siteUsesDaylightSavingsTime': True},\n",
       "     'geoLocation': {'geogLocation': {'srs': 'EPSG:4326',\n",
       "       'latitude': 40.13877778,\n",
       "       'longitude': -105.0202222},\n",
       "      'localSiteXY': []},\n",
       "     'note': [],\n",
       "     'siteType': [],\n",
       "     'siteProperty': [{'value': 'ST', 'name': 'siteTypeCd'},\n",
       "      {'value': '10190005', 'name': 'hucCd'},\n",
       "      {'value': '08', 'name': 'stateCd'},\n",
       "      {'value': '08123', 'name': 'countyCd'}]},\n",
       "    'variable': {'variableCode': [{'value': '00060',\n",
       "       'network': 'NWIS',\n",
       "       'vocabulary': 'NWIS:UnitValues',\n",
       "       'variableID': 45807197,\n",
       "       'default': True}],\n",
       "     'variableName': 'Streamflow, ft&#179;/s',\n",
       "     'variableDescription': 'Discharge, cubic feet per second',\n",
       "     'valueType': 'Derived Value',\n",
       "     'unit': {'unitCode': 'ft3/s'},\n",
       "     'options': {'option': [{'value': 'Mean',\n",
       "        'name': 'Statistic',\n",
       "        'optionCode': '00003'}]},\n",
       "     'note': [],\n",
       "     'noDataValue': -999999.0,\n",
       "     'variableProperty': [],\n",
       "     'oid': '45807197'},\n",
       "    'values': [{'value': [{'value': '65.2',\n",
       "        'qualifiers': ['P'],\n",
       "        'dateTime': '2020-03-01T00:00:00.000'}],\n",
       "      'qualifier': [{'qualifierCode': 'P',\n",
       "        'qualifierDescription': 'Provisional data subject to revision.',\n",
       "        'qualifierID': 0,\n",
       "        'network': 'NWIS',\n",
       "        'vocabulary': 'uv_rmk_cd'}],\n",
       "      'qualityControlLevel': [],\n",
       "      'method': [{'methodDescription': '', 'methodID': 17666}],\n",
       "      'source': [],\n",
       "      'offset': [],\n",
       "      'sample': [],\n",
       "      'censorCode': []}],\n",
       "    'name': 'USGS:06730500:00060:00003'}]},\n",
       " 'nil': False,\n",
       " 'globalScope': True,\n",
       " 'typeSubstituted': False}"
      ]
     },
     "execution_count": 5,
     "metadata": {},
     "output_type": "execute_result"
    }
   ],
   "source": [
    "# Request data for the site and time period\n",
    "longmont_resp = hf.get_nwis(site, 'dv', start, end)\n",
    "\n",
    "# Convert the response to a json in order to use the extract_nwis_df function\n",
    "longmont_resp = longmont_resp.json()\n",
    "\n",
    "# Get metadata about the data\n",
    "hf.get_nwis(site, 'dv').json()"
   ]
  },
  {
   "cell_type": "markdown",
   "metadata": {},
   "source": [
    "Now, request the data. The data will be returned as a `pandas` dataframe."
   ]
  },
  {
   "cell_type": "code",
   "execution_count": 6,
   "metadata": {},
   "outputs": [
    {
     "data": {
      "text/html": [
       "<div>\n",
       "<style scoped>\n",
       "    .dataframe tbody tr th:only-of-type {\n",
       "        vertical-align: middle;\n",
       "    }\n",
       "\n",
       "    .dataframe tbody tr th {\n",
       "        vertical-align: top;\n",
       "    }\n",
       "\n",
       "    .dataframe thead th {\n",
       "        text-align: right;\n",
       "    }\n",
       "</style>\n",
       "<table border=\"1\" class=\"dataframe\">\n",
       "  <thead>\n",
       "    <tr style=\"text-align: right;\">\n",
       "      <th></th>\n",
       "      <th>USGS:06730500:00060:00003</th>\n",
       "      <th>USGS:06730500:00060:00003_qualifiers</th>\n",
       "    </tr>\n",
       "    <tr>\n",
       "      <th>datetime</th>\n",
       "      <th></th>\n",
       "      <th></th>\n",
       "    </tr>\n",
       "  </thead>\n",
       "  <tbody>\n",
       "    <tr>\n",
       "      <th>1946-05-10</th>\n",
       "      <td>16.0</td>\n",
       "      <td>A</td>\n",
       "    </tr>\n",
       "    <tr>\n",
       "      <th>1946-05-11</th>\n",
       "      <td>19.0</td>\n",
       "      <td>A</td>\n",
       "    </tr>\n",
       "    <tr>\n",
       "      <th>1946-05-12</th>\n",
       "      <td>9.0</td>\n",
       "      <td>A</td>\n",
       "    </tr>\n",
       "    <tr>\n",
       "      <th>1946-05-13</th>\n",
       "      <td>3.0</td>\n",
       "      <td>A</td>\n",
       "    </tr>\n",
       "    <tr>\n",
       "      <th>1946-05-14</th>\n",
       "      <td>7.8</td>\n",
       "      <td>A</td>\n",
       "    </tr>\n",
       "  </tbody>\n",
       "</table>\n",
       "</div>"
      ],
      "text/plain": [
       "            USGS:06730500:00060:00003 USGS:06730500:00060:00003_qualifiers\n",
       "datetime                                                                  \n",
       "1946-05-10                       16.0                                    A\n",
       "1946-05-11                       19.0                                    A\n",
       "1946-05-12                        9.0                                    A\n",
       "1946-05-13                        3.0                                    A\n",
       "1946-05-14                        7.8                                    A"
      ]
     },
     "execution_count": 6,
     "metadata": {},
     "output_type": "execute_result"
    }
   ],
   "source": [
    "# Get the data in a pandas dataframe format\n",
    "longmont_discharge = hf.extract_nwis_df(longmont_resp)\n",
    "longmont_discharge.head()"
   ]
  },
  {
   "cell_type": "markdown",
   "metadata": {},
   "source": [
    "`Hydrofunctions` imports your data into a `pandas` dataframe with a datetime index. However you may find the column headings to be too long. Below you will rename them to keep the code in this lesson simpler.\n",
    "NOTE: if you are working with many different sites, you'd likely want to keep the column names as they are - with the site ID included."
   ]
  },
  {
   "cell_type": "code",
   "execution_count": 7,
   "metadata": {},
   "outputs": [
    {
     "data": {
      "text/html": [
       "<div>\n",
       "<style scoped>\n",
       "    .dataframe tbody tr th:only-of-type {\n",
       "        vertical-align: middle;\n",
       "    }\n",
       "\n",
       "    .dataframe tbody tr th {\n",
       "        vertical-align: top;\n",
       "    }\n",
       "\n",
       "    .dataframe thead th {\n",
       "        text-align: right;\n",
       "    }\n",
       "</style>\n",
       "<table border=\"1\" class=\"dataframe\">\n",
       "  <thead>\n",
       "    <tr style=\"text-align: right;\">\n",
       "      <th></th>\n",
       "      <th>discharge</th>\n",
       "      <th>flag</th>\n",
       "    </tr>\n",
       "    <tr>\n",
       "      <th>datetime</th>\n",
       "      <th></th>\n",
       "      <th></th>\n",
       "    </tr>\n",
       "  </thead>\n",
       "  <tbody>\n",
       "    <tr>\n",
       "      <th>1946-05-10</th>\n",
       "      <td>16.0</td>\n",
       "      <td>A</td>\n",
       "    </tr>\n",
       "    <tr>\n",
       "      <th>1946-05-11</th>\n",
       "      <td>19.0</td>\n",
       "      <td>A</td>\n",
       "    </tr>\n",
       "    <tr>\n",
       "      <th>1946-05-12</th>\n",
       "      <td>9.0</td>\n",
       "      <td>A</td>\n",
       "    </tr>\n",
       "    <tr>\n",
       "      <th>1946-05-13</th>\n",
       "      <td>3.0</td>\n",
       "      <td>A</td>\n",
       "    </tr>\n",
       "    <tr>\n",
       "      <th>1946-05-14</th>\n",
       "      <td>7.8</td>\n",
       "      <td>A</td>\n",
       "    </tr>\n",
       "  </tbody>\n",
       "</table>\n",
       "</div>"
      ],
      "text/plain": [
       "            discharge flag\n",
       "datetime                  \n",
       "1946-05-10       16.0    A\n",
       "1946-05-11       19.0    A\n",
       "1946-05-12        9.0    A\n",
       "1946-05-13        3.0    A\n",
       "1946-05-14        7.8    A"
      ]
     },
     "execution_count": 7,
     "metadata": {},
     "output_type": "execute_result"
    }
   ],
   "source": [
    "# Rename columns\n",
    "longmont_discharge.columns = [\"discharge\", \"flag\"]\n",
    "\n",
    "# View first 5 rows\n",
    "longmont_discharge.head()"
   ]
  },
  {
   "cell_type": "code",
   "execution_count": 8,
   "metadata": {},
   "outputs": [
    {
     "data": {
      "text/html": [
       "<div>\n",
       "<style scoped>\n",
       "    .dataframe tbody tr th:only-of-type {\n",
       "        vertical-align: middle;\n",
       "    }\n",
       "\n",
       "    .dataframe tbody tr th {\n",
       "        vertical-align: top;\n",
       "    }\n",
       "\n",
       "    .dataframe thead th {\n",
       "        text-align: right;\n",
       "    }\n",
       "</style>\n",
       "<table border=\"1\" class=\"dataframe\">\n",
       "  <thead>\n",
       "    <tr style=\"text-align: right;\">\n",
       "      <th></th>\n",
       "      <th>discharge</th>\n",
       "      <th>flag</th>\n",
       "    </tr>\n",
       "    <tr>\n",
       "      <th>datetime</th>\n",
       "      <th></th>\n",
       "      <th></th>\n",
       "    </tr>\n",
       "  </thead>\n",
       "  <tbody>\n",
       "    <tr>\n",
       "      <th>2018-08-25</th>\n",
       "      <td>9.86</td>\n",
       "      <td>A</td>\n",
       "    </tr>\n",
       "    <tr>\n",
       "      <th>2018-08-26</th>\n",
       "      <td>7.02</td>\n",
       "      <td>A</td>\n",
       "    </tr>\n",
       "    <tr>\n",
       "      <th>2018-08-27</th>\n",
       "      <td>4.05</td>\n",
       "      <td>A</td>\n",
       "    </tr>\n",
       "    <tr>\n",
       "      <th>2018-08-28</th>\n",
       "      <td>2.67</td>\n",
       "      <td>A</td>\n",
       "    </tr>\n",
       "    <tr>\n",
       "      <th>2018-08-29</th>\n",
       "      <td>3.36</td>\n",
       "      <td>A</td>\n",
       "    </tr>\n",
       "  </tbody>\n",
       "</table>\n",
       "</div>"
      ],
      "text/plain": [
       "            discharge flag\n",
       "datetime                  \n",
       "2018-08-25       9.86    A\n",
       "2018-08-26       7.02    A\n",
       "2018-08-27       4.05    A\n",
       "2018-08-28       2.67    A\n",
       "2018-08-29       3.36    A"
      ]
     },
     "execution_count": 8,
     "metadata": {},
     "output_type": "execute_result"
    }
   ],
   "source": [
    "# View last 5 rows of the data\n",
    "# Note that the 'P' flag indicates that the data is provisional\n",
    "longmont_discharge.tail()"
   ]
  },
  {
   "cell_type": "code",
   "execution_count": 9,
   "metadata": {
    "tags": [
     "hide"
    ]
   },
   "outputs": [],
   "source": [
    "# ignore this cell - hiding it.\n",
    "# USGS 06727000 (Boulder Creek near Orodell) has 89 years of record that ends in 1995.\n",
    "# doesn't cover the flood\n",
    "# site = \"06727000\"\n",
    "# start = '1946-01-01'\n",
    "# end = '2018-08-29'\n",
    "# bc_orodell_resp = hf.get_nwis(site, 'dv', start, end)\n",
    "# bc_orodell_discharge = hf.extract_nwis_df(bc_orodell_resp)"
   ]
  },
  {
   "cell_type": "markdown",
   "metadata": {},
   "source": [
    "## Plot Your Data\n",
    "Next, plot the time series using `matplotlib`. What do you notice?\n",
    "There is an unfortunate gap in the data. The good news that while this gap may not work for some analyses, it is acceptable when you calculate a recurrence interval (based on our assumptions of independence and stationarity). \n",
    "\n",
    "Note that below I grab the site variable and add it to my plot title using the syntax:\n",
    "\n",
    "`ax.set_title(\"Stream Discharge - Station {} \\n 1946-2017\".format(site))`\n",
    "\n",
    "where `{}` is a placeholder for the variable that you want to insert into the title and `.format(site)` tells `Python` to grab and format the `site` variable that was defined above."
   ]
  },
  {
   "cell_type": "code",
   "execution_count": 10,
   "metadata": {
    "caption": "Stream Discharge for the longmont USGS stream gage from 1946-2017"
   },
   "outputs": [
    {
     "data": {
      "image/png": "[encoded data removed]",
      "text/plain": [
       "<Figure size 792x432 with 1 Axes>"
      ]
     },
     "metadata": {
      "needs_background": "light"
     },
     "output_type": "display_data"
    }
   ],
   "source": [
    "# Plot using matplotlib\n",
    "fig, ax = plt.subplots(figsize=(11, 6))\n",
    "\n",
    "ax.scatter(x=longmont_discharge.index,\n",
    "           y=longmont_discharge[\"discharge\"],\n",
    "           marker=\"o\",\n",
    "           s=4,\n",
    "           color=\"purple\")\n",
    "\n",
    "ax.set(xlabel=\"Date\", ylabel=\"Discharge Value (CFS)\",\n",
    "       title=\"Stream Discharge - Station {} \\n {} to {}\".format(site, start, end))\n",
    "\n",
    "plt.show()"
   ]
  },
  {
   "cell_type": "code",
   "execution_count": 11,
   "metadata": {
    "tags": [
     "hide"
    ]
   },
   "outputs": [],
   "source": [
    "# boulder site\n",
    "# site = '06730200'\n",
    "# start = '1966-05-10'\n",
    "# end = '2018-08-29'\n",
    "# response = hf.get_nwis(site, 'dv', start, end)\n",
    "#response = hf.get_nwis(site, 'iv', start, end)\n",
    "#stream_discharge = hf.extract_nwis_df(response)\n",
    "\n",
    "# dv is the daily value, iv is the other option if you want instantaneous!\n",
    "# it doesn't look like you can get the annual max product this way...\n",
    "\n",
    "# fig, ax = plt.subplots(figsize = (10,7))\n",
    "# ax.scatter(x=stream_discharge.index,\n",
    "#            y=stream_discharge[\"USGS:06730200:00060:00003\"],\n",
    "#            marker=\"o\",\n",
    "#            s=4, color =\"purple\")\n",
    "# ax.set_xlabel(\"Date\")\n",
    "# ax.set_ylabel(\"Discharge Value (CFS)\");"
   ]
  },
  {
   "cell_type": "markdown",
   "metadata": {
    "tags": [
     "hide"
    ]
   },
   "source": [
    "## multiple by \"day\" \n",
    "\n",
    "60*60*24* CFS to get volume -- cubic feet - of water...  \n",
    "\n",
    "might be interesting to overlay mean annual data to see potentail change??\n",
    "palmer might also be interesting\n",
    "\n",
    " divide this by the drainage area to get Runoff (units -- square miles --> square KM) and (convert feet to meters )\n",
    " the slope of that line would represent MAR - mean annual runoff "
   ]
  },
  {
   "cell_type": "markdown",
   "metadata": {},
   "source": [
    "## Annual Maxima\n",
    "\n",
    "Next you will look at the annual maxima of both instantanoeus and mean daily streamflow. Annual maxima refers to the biggest value that occured within each year. In the case of stream discharge - this is the largest discharge value that was recorded in cubic feet per second (CFS) during each year.\n",
    "\n",
    "There are two ways we can identify annual maxima for USGS stream gages.\n",
    "\n",
    "1. You can take the daily mean values to construct a series of the annual maximum value. This is done using `pandas resample` - you learned how to do this in a previous lesson!\n",
    "2. You can download the instantaneous annual maximum value dataset from <a href=\"https://nwis.waterdata.usgs.gov/nwis\" target = \"_blank\">USGS  here</a>.\n",
    "\n",
    "Note that you will compare the data that you download to the analysis of mean dailydata you do below. \n",
    "The instantaneous annual maxima data from the USGS is data collected every 5-30 minutes. \n",
    "\n",
    "The annual maxima that you derive below uses the mean daily value data that you downloaded above. Do you think you will get the same annual maxima each year?\n",
    "\n",
    "Let's find out. \n",
    "\n",
    "### Add a Year Column to Your Data\n",
    "\n",
    "Note that below you will add a 'year' column to the longmont discharge data. While this step is not necessary for resampling. It will make your life easier when you plot the data later. "
   ]
  },
  {
   "cell_type": "code",
   "execution_count": 12,
   "metadata": {},
   "outputs": [
    {
     "data": {
      "text/html": [
       "<div>\n",
       "<style scoped>\n",
       "    .dataframe tbody tr th:only-of-type {\n",
       "        vertical-align: middle;\n",
       "    }\n",
       "\n",
       "    .dataframe tbody tr th {\n",
       "        vertical-align: top;\n",
       "    }\n",
       "\n",
       "    .dataframe thead th {\n",
       "        text-align: right;\n",
       "    }\n",
       "</style>\n",
       "<table border=\"1\" class=\"dataframe\">\n",
       "  <thead>\n",
       "    <tr style=\"text-align: right;\">\n",
       "      <th></th>\n",
       "      <th>discharge</th>\n",
       "      <th>flag</th>\n",
       "      <th>year</th>\n",
       "    </tr>\n",
       "    <tr>\n",
       "      <th>datetime</th>\n",
       "      <th></th>\n",
       "      <th></th>\n",
       "      <th></th>\n",
       "    </tr>\n",
       "  </thead>\n",
       "  <tbody>\n",
       "    <tr>\n",
       "      <th>1946-01-01</th>\n",
       "      <td>99.0</td>\n",
       "      <td>A</td>\n",
       "      <td>1946.0</td>\n",
       "    </tr>\n",
       "    <tr>\n",
       "      <th>1947-01-01</th>\n",
       "      <td>1930.0</td>\n",
       "      <td>A</td>\n",
       "      <td>1947.0</td>\n",
       "    </tr>\n",
       "    <tr>\n",
       "      <th>1948-01-01</th>\n",
       "      <td>339.0</td>\n",
       "      <td>A</td>\n",
       "      <td>1948.0</td>\n",
       "    </tr>\n",
       "    <tr>\n",
       "      <th>1949-01-01</th>\n",
       "      <td>2010.0</td>\n",
       "      <td>A</td>\n",
       "      <td>1949.0</td>\n",
       "    </tr>\n",
       "    <tr>\n",
       "      <th>1950-01-01</th>\n",
       "      <td>NaN</td>\n",
       "      <td>NaN</td>\n",
       "      <td>NaN</td>\n",
       "    </tr>\n",
       "  </tbody>\n",
       "</table>\n",
       "</div>"
      ],
      "text/plain": [
       "            discharge flag    year\n",
       "datetime                          \n",
       "1946-01-01       99.0    A  1946.0\n",
       "1947-01-01     1930.0    A  1947.0\n",
       "1948-01-01      339.0    A  1948.0\n",
       "1949-01-01     2010.0    A  1949.0\n",
       "1950-01-01        NaN  NaN     NaN"
      ]
     },
     "execution_count": 12,
     "metadata": {},
     "output_type": "execute_result"
    }
   ],
   "source": [
    "# add a year column to your longmont discharge data\n",
    "longmont_discharge[\"year\"] = longmont_discharge.index.year\n",
    "\n",
    "# Calculate annual max by resampling\n",
    "longmont_discharge_annual_max = longmont_discharge.resample('AS').max()\n",
    "longmont_discharge_annual_max.head()"
   ]
  },
  {
   "cell_type": "markdown",
   "metadata": {},
   "source": [
    "### Import USGS Annual Peak Max Data\n",
    "Next import the USGS annual maxima data. \n"
   ]
  },
  {
   "cell_type": "code",
   "execution_count": 13,
   "metadata": {
    "tags": [
     "hide"
    ]
   },
   "outputs": [],
   "source": [
    "# # download usgs annual max data from figshare\n",
    "# delete\n",
    "# url = \"https://ndownloader.figshare.com/files/12982820\"\n",
    "# download_path = \"data/colorado-flood/downloads/annual-peak-flow.txt\"\n",
    "# urllib.request.urlretrieve(url, download_path)"
   ]
  },
  {
   "cell_type": "code",
   "execution_count": 14,
   "metadata": {},
   "outputs": [
    {
     "data": {
      "text/plain": [
       "('data/colorado-flood/downloads/annual-peak-flow.txt',\n",
       " <http.client.HTTPMessage at 0x7f62c40d61d0>)"
      ]
     },
     "execution_count": 14,
     "metadata": {},
     "output_type": "execute_result"
    }
   ],
   "source": [
    "# download usgs annual max data from figshare\n",
    "url = \"https://nwis.waterdata.usgs.gov/nwis/peak?site_no=06730500&agency_cd=USGS&format=rdb\"\n",
    "download_path = os.path.join(\"data\", \"colorado-flood\", \n",
    "                             \"downloads\", \"annual-peak-flow.txt\")\n",
    "\n",
    "urllib.request.urlretrieve(url, download_path)"
   ]
  },
  {
   "cell_type": "code",
   "execution_count": 15,
   "metadata": {},
   "outputs": [],
   "source": [
    "# A function that counts the number of lines with a comment \n",
    "def count_the(file_url):\n",
    "    r = requests.get(file_url, stream=True)\n",
    "    file = r.text\n",
    "    count = 0\n",
    "    for line in file:\n",
    "        if line.startswith('#'):\n",
    "            count += 1\n",
    "    return count\n",
    "\n",
    "# Lines to skip\n",
    "line_to_skip = count_the(url)+1"
   ]
  },
  {
   "cell_type": "markdown",
   "metadata": {},
   "source": [
    "The data that you are downloading are `tab-delimited`. When you import, be sure to specify \n",
    "\n",
    "`sep='\\t'`\n",
    "\n",
    "to ensure that the data download properly. Notice that below the `index_col` for the data is not specified when the data are opened in pandas. This is because you will need to bring in 2 lines of data headers. In pandas, two header rows import as a `multi-index` element. In this particular case it is easier to specify the index after you have removed one line of this `multi-index`.\n",
    "\n",
    "Your pandas read_csv function will include 4 arguments as follows:\n",
    "\n",
    "\n",
    "* `download_path`: this is the path where you file is saved\n",
    "* `header=[1,2]`: this tells pandas to import two header lines - lines 1 and 2 after the skipped rows \n",
    "* `sep='\\t'`: import the data as a tab delimited file\n",
    "* `skiprows = 63`: skip the first 63 rows of the data. IF you open the data in a text editor you will notice the entire top of the file is all metadata.\n",
    "* `parse_dates = [2]`: convert the second column in the data to a datetime format"
   ]
  },
  {
   "cell_type": "code",
   "execution_count": 16,
   "metadata": {},
   "outputs": [
    {
     "data": {
      "text/html": [
       "<div>\n",
       "<style scoped>\n",
       "    .dataframe tbody tr th:only-of-type {\n",
       "        vertical-align: middle;\n",
       "    }\n",
       "\n",
       "    .dataframe tbody tr th {\n",
       "        vertical-align: top;\n",
       "    }\n",
       "\n",
       "    .dataframe thead th {\n",
       "        text-align: right;\n",
       "    }\n",
       "</style>\n",
       "<table border=\"1\" class=\"dataframe\">\n",
       "  <thead>\n",
       "    <tr style=\"text-align: right;\">\n",
       "      <th></th>\n",
       "      <th>peak_va</th>\n",
       "    </tr>\n",
       "    <tr>\n",
       "      <th>peak_dt</th>\n",
       "      <th></th>\n",
       "    </tr>\n",
       "  </thead>\n",
       "  <tbody>\n",
       "    <tr>\n",
       "      <th>1927-07-29</th>\n",
       "      <td>407.0</td>\n",
       "    </tr>\n",
       "    <tr>\n",
       "      <th>1928-06-04</th>\n",
       "      <td>694.0</td>\n",
       "    </tr>\n",
       "    <tr>\n",
       "      <th>1929-07-23</th>\n",
       "      <td>530.0</td>\n",
       "    </tr>\n",
       "    <tr>\n",
       "      <th>1930-08-18</th>\n",
       "      <td>353.0</td>\n",
       "    </tr>\n",
       "    <tr>\n",
       "      <th>1931-05-29</th>\n",
       "      <td>369.0</td>\n",
       "    </tr>\n",
       "  </tbody>\n",
       "</table>\n",
       "</div>"
      ],
      "text/plain": [
       "            peak_va\n",
       "peak_dt            \n",
       "1927-07-29    407.0\n",
       "1928-06-04    694.0\n",
       "1929-07-23    530.0\n",
       "1930-08-18    353.0\n",
       "1931-05-29    369.0"
      ]
     },
     "execution_count": 16,
     "metadata": {},
     "output_type": "execute_result"
    }
   ],
   "source": [
    "# Open the data using pandas\n",
    "usgs_annual_max = pd.read_csv(download_path,\n",
    "                              skiprows=[line_to_skip],\n",
    "                              comment=\"#\",\n",
    "                              sep='\\t',\n",
    "                              usecols=[\"peak_dt\",\"peak_va\"],\n",
    "                              parse_dates=[\"peak_dt\"],\n",
    "                              index_col=\"peak_dt\")\n",
    "\n",
    "usgs_annual_max.head()"
   ]
  },
  {
   "cell_type": "markdown",
   "metadata": {},
   "source": [
    "Next, add a year column to your data for easy plotting and make sure that you have only one value per year as expected."
   ]
  },
  {
   "cell_type": "code",
   "execution_count": 17,
   "metadata": {},
   "outputs": [
    {
     "data": {
      "text/html": [
       "<div>\n",
       "<style scoped>\n",
       "    .dataframe tbody tr th:only-of-type {\n",
       "        vertical-align: middle;\n",
       "    }\n",
       "\n",
       "    .dataframe tbody tr th {\n",
       "        vertical-align: top;\n",
       "    }\n",
       "\n",
       "    .dataframe thead th {\n",
       "        text-align: right;\n",
       "    }\n",
       "</style>\n",
       "<table border=\"1\" class=\"dataframe\">\n",
       "  <thead>\n",
       "    <tr style=\"text-align: right;\">\n",
       "      <th></th>\n",
       "      <th>peak_va</th>\n",
       "      <th>year</th>\n",
       "    </tr>\n",
       "    <tr>\n",
       "      <th>peak_dt</th>\n",
       "      <th></th>\n",
       "      <th></th>\n",
       "    </tr>\n",
       "  </thead>\n",
       "  <tbody>\n",
       "    <tr>\n",
       "      <th>1947-10-15</th>\n",
       "      <td>721.0</td>\n",
       "      <td>1947</td>\n",
       "    </tr>\n",
       "    <tr>\n",
       "      <th>1993-10-18</th>\n",
       "      <td>497.0</td>\n",
       "      <td>1993</td>\n",
       "    </tr>\n",
       "  </tbody>\n",
       "</table>\n",
       "</div>"
      ],
      "text/plain": [
       "            peak_va  year\n",
       "peak_dt                  \n",
       "1947-10-15    721.0  1947\n",
       "1993-10-18    497.0  1993"
      ]
     },
     "execution_count": 17,
     "metadata": {},
     "output_type": "execute_result"
    }
   ],
   "source": [
    "# Add a year column to the data for easier plotting\n",
    "usgs_annual_max[\"year\"] = usgs_annual_max.index.year\n",
    "\n",
    "# Are there any years that have two entries?\n",
    "usgs_annual_max[usgs_annual_max.duplicated(subset=\"year\") == True]"
   ]
  },
  {
   "cell_type": "markdown",
   "metadata": {},
   "source": [
    "It looks like you have two years that have more than one data value - 1947 and 1993. For the purpose of this exercise let's only take the largest discharge value from each year. "
   ]
  },
  {
   "cell_type": "code",
   "execution_count": 18,
   "metadata": {},
   "outputs": [
    {
     "data": {
      "text/html": [
       "<div>\n",
       "<style scoped>\n",
       "    .dataframe tbody tr th:only-of-type {\n",
       "        vertical-align: middle;\n",
       "    }\n",
       "\n",
       "    .dataframe tbody tr th {\n",
       "        vertical-align: top;\n",
       "    }\n",
       "\n",
       "    .dataframe thead th {\n",
       "        text-align: right;\n",
       "    }\n",
       "</style>\n",
       "<table border=\"1\" class=\"dataframe\">\n",
       "  <thead>\n",
       "    <tr style=\"text-align: right;\">\n",
       "      <th></th>\n",
       "      <th>peak_va</th>\n",
       "      <th>year</th>\n",
       "    </tr>\n",
       "    <tr>\n",
       "      <th>peak_dt</th>\n",
       "      <th></th>\n",
       "      <th></th>\n",
       "    </tr>\n",
       "  </thead>\n",
       "  <tbody>\n",
       "  </tbody>\n",
       "</table>\n",
       "</div>"
      ],
      "text/plain": [
       "Empty DataFrame\n",
       "Columns: [peak_va, year]\n",
       "Index: []"
      ]
     },
     "execution_count": 18,
     "metadata": {},
     "output_type": "execute_result"
    }
   ],
   "source": [
    "# Remove duplicate years - keep the max discharge value\n",
    "usgs_annual_max = usgs_annual_max.sort_values(\n",
    "    'peak_va', ascending=False).drop_duplicates('year').sort_index()\n",
    "\n",
    "# If this returns no results you have successfully removed duplicates!\n",
    "usgs_annual_max[usgs_annual_max.duplicated(subset=\"year\") == True]"
   ]
  },
  {
   "cell_type": "markdown",
   "metadata": {},
   "source": [
    "Finally, you are ready to plot the USGS annual max with the calculated annual max derived from your daily mean data. Are they the same? Or Different?\n",
    "\n",
    "What could cause differences in these two different approaches to getting annual max values?"
   ]
  },
  {
   "cell_type": "code",
   "execution_count": 19,
   "metadata": {
    "caption": "Annual maxima data compared - USGS product vs daily value calculated."
   },
   "outputs": [
    {
     "data": {
      "image/png": "[encoded data removed]",
      "text/plain": [
       "<Figure size 792x648 with 1 Axes>"
      ]
     },
     "metadata": {
      "needs_background": "light"
     },
     "output_type": "display_data"
    }
   ],
   "source": [
    "# Plot calculated vs USGS annual max flow values\n",
    "fig, ax = plt.subplots(figsize=(11, 9))\n",
    "\n",
    "ax.plot(usgs_annual_max[\"year\"],\n",
    "        usgs_annual_max[\"peak_va\"],\n",
    "        color=\"purple\",\n",
    "        linestyle=':',\n",
    "        marker='o',\n",
    "        label=\"Instantaneous Value\")\n",
    "\n",
    "ax.plot(longmont_discharge_annual_max[\"year\"],\n",
    "        longmont_discharge_annual_max[\"discharge\"],\n",
    "        color=\"lightgrey\",\n",
    "        linestyle=':',\n",
    "        marker='o', label=\"Mean Daily Value\")\n",
    "ax.legend()\n",
    "ax.set_title(\n",
    "    \"Annual Maxima - Downloaded Instantaneous vs. Derived Daily Peak Flows\")\n",
    "\n",
    "plt.show()"
   ]
  },
  {
   "cell_type": "markdown",
   "metadata": {
    "tags": [
     "hide"
    ]
   },
   "source": [
    "#https://nwis.waterdata.usgs.gov/usa/nwis/peak/?site_no=06730500 \n",
    "\n",
    "#https://nwis.waterdata.usgs.gov/nwis/peak?site_no=06730500&agency_cd=USGS&format=rdb"
   ]
  },
  {
   "cell_type": "markdown",
   "metadata": {},
   "source": [
    "## Optional - Difference Bar Plot\n",
    "\n",
    "To further more quickly explore differences between the USGS annual max data set and the annual max that you calculated using the mean daily value data, you can calculate a difference value between the USGS max value and your annual max calculated from daily mean data. You don't need to do this for your homework however! It's just setup for you to see what the differences look like. "
   ]
  },
  {
   "cell_type": "code",
   "execution_count": 20,
   "metadata": {},
   "outputs": [],
   "source": [
    "# Merge the two pandas dataframes on the year column\n",
    "usgs_calculated = pd.merge(longmont_discharge_annual_max,\n",
    "                           usgs_annual_max,\n",
    "                           left_on=\"year\",\n",
    "                           right_on=\"year\")\n",
    "\n",
    "# Subtract usgs values from your calculated values\n",
    "usgs_calculated[\"diff\"] = usgs_calculated[\"peak_va\"] - \\\n",
    "    usgs_calculated[\"discharge\"]"
   ]
  },
  {
   "cell_type": "markdown",
   "metadata": {},
   "source": [
    "Once you have calculated a difference column, create a barplot. "
   ]
  },
  {
   "cell_type": "code",
   "execution_count": 21,
   "metadata": {
    "tags": [
     "hide"
    ]
   },
   "outputs": [],
   "source": [
    "# import plotly.plotly as py\n",
    "# import plotly.graph_objs as go\n",
    "\n",
    "# data = [go.Bar(x=df.School,\n",
    "#             y=df.Gap)]\n",
    "\n",
    "# py.iplot(data, filename='jupyter-basic_bar')"
   ]
  },
  {
   "cell_type": "code",
   "execution_count": 22,
   "metadata": {
    "caption": "Bar plot showing the difference between the USGS max product and the calculated annual max."
   },
   "outputs": [
    {
     "data": {
      "image/png": "[encoded data removed]",
      "text/plain": [
       "<Figure size 792x432 with 1 Axes>"
      ]
     },
     "metadata": {
      "needs_background": "light"
     },
     "output_type": "display_data"
    }
   ],
   "source": [
    "# Plot difference\n",
    "fig, ax = plt.subplots(figsize=(11, 6))\n",
    "\n",
    "ax.bar(usgs_calculated[\"year\"],\n",
    "       usgs_calculated[\"diff\"],\n",
    "      color=\"purple\")\n",
    "\n",
    "ax.set_title(\n",
    "    \"Difference Plot of Annual Maxima \\nInstantaneous Minus Mean Daily\")\n",
    "\n",
    "plt.show()"
   ]
  },
  {
   "cell_type": "markdown",
   "metadata": {},
   "source": [
    "## Calculate Return Period\n",
    "\n",
    "Now that you have both datasets, you are ready to calculate the return period from each. You will calculate this value and the associated probability of each event size for both the USGS max annual flow data and for the max flow value that you derived from the mean daily data.  To calculate return period you will do the following:\n",
    "\n",
    "1.\tSort your data from smallest to largest.\n",
    "2.\tCalculate exceedance probabilities using the equation below where `n` is length of the record and `i` is the rank.\n",
    "3.\tCalculate the inverse of the exceedance probabilities to determine return period in years.\n",
    "4.\tPlot flood magnitudes against return time. It is common to plot these kinds of data on log-linear or log-log axes. \n",
    "\n",
    "****\n",
    "\n",
    "Exceedance probability equation: \n",
    "\n",
    "$$Probablity = \\frac{n-i+1}{n+1}$$\n",
    "\n",
    "\n",
    "where i is the rank order (smallest to largest) from 1 to n. Note that the limits of this equation vary from n/(n+1) ~ 1 for the smallest events and 1/(n+1) for the largest events (i.e., the largest events have a very small exceedance probability). \n",
    "\n",
    "****\n",
    "\n",
    "<i class=\"fa fa-star\"></i> **Data Tip:** If you want to extrapolate beyond the observations that you have - for instance to predict what a 1000 year flood would be given only 100 years of data - then you would need to fit a model to the data.\n",
    "{: .notice--success}\n",
    "\n",
    "The steps that you will need to implement are below. "
   ]
  },
  {
   "cell_type": "code",
   "execution_count": 23,
   "metadata": {},
   "outputs": [],
   "source": [
    "# Sort data smallest to largest\n",
    "longmont_discharge_sorted = longmont_discharge.sort_values(by=\"discharge\")\n",
    "\n",
    "# Count total obervations\n",
    "n = longmont_discharge_sorted.shape[0]\n",
    "\n",
    "# Add a numbered column 1 -> n to use in return calculation for rank\n",
    "longmont_discharge_sorted.insert(0, 'rank', range(1, 1 + n))\n",
    "\n",
    "# Calculate probability - note you may need to adjust this value based upon the time period of your data\n",
    "longmont_discharge_sorted[\"probability\"] = (\n",
    "    (n - longmont_discharge_sorted[\"rank\"] + 1) / (n + 1))\n",
    "longmont_discharge_sorted[\"return-years\"] = (\n",
    "    1 / longmont_discharge_sorted[\"probability\"])"
   ]
  },
  {
   "cell_type": "markdown",
   "metadata": {},
   "source": [
    "You will ultimately perform the steps above several times for both the discharge data and the precipitation data as a part of your homework. Turning these steps into a function will help you more efficiently process your data. \n",
    "An example of what this function could look like is below. For your homework, you will add documentation to this function. "
   ]
  },
  {
   "cell_type": "code",
   "execution_count": 24,
   "metadata": {},
   "outputs": [],
   "source": [
    "# Create a function from the workflow below\n",
    "\n",
    "# Add an argument for annual vs daily...\n",
    "\n",
    "\n",
    "def calculate_return(df, colname):\n",
    "    '''\n",
    "    Add Documentation Here\n",
    "\n",
    "\n",
    "    '''\n",
    "    # Sort data smallest to largest\n",
    "    sorted_data = df.sort_values(by=colname)\n",
    "    \n",
    "    # Count total obervations\n",
    "    n = sorted_data.shape[0]\n",
    "    \n",
    "    # Add a numbered column 1 -> n to use in return calculation for rank\n",
    "    sorted_data.insert(0, 'rank', range(1, 1 + n))\n",
    "    \n",
    "    # Calculate probability\n",
    "    sorted_data[\"probability\"] = (n - sorted_data[\"rank\"] + 1) / (n + 1)\n",
    "    \n",
    "    # Calculate return - data are daily to then divide by 365?\n",
    "    sorted_data[\"return-years\"] = (1 / sorted_data[\"probability\"])\n",
    "\n",
    "    return(sorted_data)"
   ]
  },
  {
   "cell_type": "markdown",
   "metadata": {},
   "source": [
    "Once you have a function, you can calculate return period and probability on both datasets."
   ]
  },
  {
   "cell_type": "code",
   "execution_count": 25,
   "metadata": {},
   "outputs": [
    {
     "data": {
      "text/html": [
       "<div>\n",
       "<style scoped>\n",
       "    .dataframe tbody tr th:only-of-type {\n",
       "        vertical-align: middle;\n",
       "    }\n",
       "\n",
       "    .dataframe tbody tr th {\n",
       "        vertical-align: top;\n",
       "    }\n",
       "\n",
       "    .dataframe thead th {\n",
       "        text-align: right;\n",
       "    }\n",
       "</style>\n",
       "<table border=\"1\" class=\"dataframe\">\n",
       "  <thead>\n",
       "    <tr style=\"text-align: right;\">\n",
       "      <th></th>\n",
       "      <th>rank</th>\n",
       "      <th>discharge</th>\n",
       "      <th>flag</th>\n",
       "      <th>year</th>\n",
       "      <th>probability</th>\n",
       "      <th>return-years</th>\n",
       "    </tr>\n",
       "    <tr>\n",
       "      <th>datetime</th>\n",
       "      <th></th>\n",
       "      <th></th>\n",
       "      <th></th>\n",
       "      <th></th>\n",
       "      <th></th>\n",
       "      <th></th>\n",
       "    </tr>\n",
       "  </thead>\n",
       "  <tbody>\n",
       "    <tr>\n",
       "      <th>2013-09-16</th>\n",
       "      <td>17078</td>\n",
       "      <td>3270.0</td>\n",
       "      <td>A e</td>\n",
       "      <td>2013</td>\n",
       "      <td>0.106831</td>\n",
       "      <td>9.360548</td>\n",
       "    </tr>\n",
       "    <tr>\n",
       "      <th>2013-09-12</th>\n",
       "      <td>17079</td>\n",
       "      <td>3680.0</td>\n",
       "      <td>A</td>\n",
       "      <td>2013</td>\n",
       "      <td>0.085465</td>\n",
       "      <td>11.700685</td>\n",
       "    </tr>\n",
       "    <tr>\n",
       "      <th>2013-09-15</th>\n",
       "      <td>17080</td>\n",
       "      <td>3970.0</td>\n",
       "      <td>A e</td>\n",
       "      <td>2013</td>\n",
       "      <td>0.064099</td>\n",
       "      <td>15.600913</td>\n",
       "    </tr>\n",
       "    <tr>\n",
       "      <th>2013-09-14</th>\n",
       "      <td>17081</td>\n",
       "      <td>4970.0</td>\n",
       "      <td>A e</td>\n",
       "      <td>2013</td>\n",
       "      <td>0.042733</td>\n",
       "      <td>23.401370</td>\n",
       "    </tr>\n",
       "    <tr>\n",
       "      <th>2013-09-13</th>\n",
       "      <td>17082</td>\n",
       "      <td>8910.0</td>\n",
       "      <td>A e</td>\n",
       "      <td>2013</td>\n",
       "      <td>0.021366</td>\n",
       "      <td>46.802740</td>\n",
       "    </tr>\n",
       "  </tbody>\n",
       "</table>\n",
       "</div>"
      ],
      "text/plain": [
       "             rank  discharge flag  year  probability  return-years\n",
       "datetime                                                          \n",
       "2013-09-16  17078     3270.0  A e  2013     0.106831      9.360548\n",
       "2013-09-12  17079     3680.0    A  2013     0.085465     11.700685\n",
       "2013-09-15  17080     3970.0  A e  2013     0.064099     15.600913\n",
       "2013-09-14  17081     4970.0  A e  2013     0.042733     23.401370\n",
       "2013-09-13  17082     8910.0  A e  2013     0.021366     46.802740"
      ]
     },
     "execution_count": 25,
     "metadata": {},
     "output_type": "execute_result"
    }
   ],
   "source": [
    "longmont_prob = calculate_return(longmont_discharge, \"discharge\")\n",
    "\n",
    "# Because these data are daily,\n",
    "# divide return period in days by 365 to get a return period in years\n",
    "longmont_prob[\"return-years\"] = longmont_prob[\"return-years\"] / 365\n",
    "longmont_prob[\"probability\"] = longmont_prob[\"probability\"] * 365\n",
    "longmont_prob.tail()"
   ]
  },
  {
   "cell_type": "code",
   "execution_count": 26,
   "metadata": {},
   "outputs": [
    {
     "data": {
      "text/html": [
       "<div>\n",
       "<style scoped>\n",
       "    .dataframe tbody tr th:only-of-type {\n",
       "        vertical-align: middle;\n",
       "    }\n",
       "\n",
       "    .dataframe tbody tr th {\n",
       "        vertical-align: top;\n",
       "    }\n",
       "\n",
       "    .dataframe thead th {\n",
       "        text-align: right;\n",
       "    }\n",
       "</style>\n",
       "<table border=\"1\" class=\"dataframe\">\n",
       "  <thead>\n",
       "    <tr style=\"text-align: right;\">\n",
       "      <th></th>\n",
       "      <th>rank</th>\n",
       "      <th>peak_va</th>\n",
       "      <th>year</th>\n",
       "      <th>probability</th>\n",
       "      <th>return-years</th>\n",
       "    </tr>\n",
       "    <tr>\n",
       "      <th>peak_dt</th>\n",
       "      <th></th>\n",
       "      <th></th>\n",
       "      <th></th>\n",
       "      <th></th>\n",
       "      <th></th>\n",
       "    </tr>\n",
       "  </thead>\n",
       "  <tbody>\n",
       "    <tr>\n",
       "      <th>1954-01-14</th>\n",
       "      <td>1</td>\n",
       "      <td>26.0</td>\n",
       "      <td>1954</td>\n",
       "      <td>0.985075</td>\n",
       "      <td>1.015152</td>\n",
       "    </tr>\n",
       "    <tr>\n",
       "      <th>1932-07-13</th>\n",
       "      <td>2</td>\n",
       "      <td>128.0</td>\n",
       "      <td>1932</td>\n",
       "      <td>0.970149</td>\n",
       "      <td>1.030769</td>\n",
       "    </tr>\n",
       "    <tr>\n",
       "      <th>1940-07-03</th>\n",
       "      <td>3</td>\n",
       "      <td>174.0</td>\n",
       "      <td>1940</td>\n",
       "      <td>0.955224</td>\n",
       "      <td>1.046875</td>\n",
       "    </tr>\n",
       "    <tr>\n",
       "      <th>1946-07-19</th>\n",
       "      <td>4</td>\n",
       "      <td>178.0</td>\n",
       "      <td>1946</td>\n",
       "      <td>0.940299</td>\n",
       "      <td>1.063492</td>\n",
       "    </tr>\n",
       "    <tr>\n",
       "      <th>2002-05-24</th>\n",
       "      <td>5</td>\n",
       "      <td>238.0</td>\n",
       "      <td>2002</td>\n",
       "      <td>0.925373</td>\n",
       "      <td>1.080645</td>\n",
       "    </tr>\n",
       "  </tbody>\n",
       "</table>\n",
       "</div>"
      ],
      "text/plain": [
       "            rank  peak_va  year  probability  return-years\n",
       "peak_dt                                                   \n",
       "1954-01-14     1     26.0  1954     0.985075      1.015152\n",
       "1932-07-13     2    128.0  1932     0.970149      1.030769\n",
       "1940-07-03     3    174.0  1940     0.955224      1.046875\n",
       "1946-07-19     4    178.0  1946     0.940299      1.063492\n",
       "2002-05-24     5    238.0  2002     0.925373      1.080645"
      ]
     },
     "execution_count": 26,
     "metadata": {},
     "output_type": "execute_result"
    }
   ],
   "source": [
    "# Calculate the same thing using the USGS annual max data\n",
    "usgs_annual_prob = calculate_return(usgs_annual_max, \"peak_va\")\n",
    "usgs_annual_prob.head()"
   ]
  },
  {
   "cell_type": "markdown",
   "metadata": {
    "tags": [
     "hide"
    ]
   },
   "source": [
    "## hidd en\n",
    "# maybe trim the x axis to remove anything under one year... \n",
    "annual max should plot ...\n",
    "use the one i downloaded -- because this grabs max from the instantaneous data rather than dv data\n",
    "\n",
    "exceedance probability - the prob that event or LARGER will occur ...matts drawing is pretty good..\n",
    "\n",
    "to add the prbabiltiy of a 10 year flood --> 1/(10 * 365)\n",
    "\n",
    "so i could add a few of these for 10, 100??, ..\n",
    "\n",
    "\n",
    "Add annual maxima here! it may fall above\n",
    "nice discussion... here\n",
    "\n",
    "Matt can help me code up a few models that we can change parameters for to see what the fit might look like using different models...and what the preducitions would be (and how they would be different ) for say a 100 year flood\n",
    "\n",
    "## To do -- \n",
    "\n",
    "1. add the annual max calculated from IV to this plot below. this means i have to calculate it!\n",
    "2. potentially remove small values so return periods <1 year"
   ]
  },
  {
   "cell_type": "code",
   "execution_count": 27,
   "metadata": {
    "tags": [
     "hide"
    ]
   },
   "outputs": [],
   "source": [
    "# plot the data\n",
    "# fig, ax = plt.subplots(figsize = (11,6) )\n",
    "# longmont_prob.plot.scatter(y =\"probability\", x=\"discharge\",\n",
    "#                  title = \"Probability \", ax=ax,\n",
    "#                         color = 'purple', fontsize = 16,\n",
    "#                          #logx=True,\n",
    "#                          logy=True)\n",
    "# ax.set_ylabel(\"Probability\")\n",
    "# ax.set_xlabel(\"Discharge Value (CFS)\")\n",
    "# ax.set_title(\"Probabability vs Discharge - Longmont Station \\nDerived from Daily Mean Data\")\n",
    "# plt.show()"
   ]
  },
  {
   "cell_type": "code",
   "execution_count": 28,
   "metadata": {
    "tags": [
     "hide"
    ]
   },
   "outputs": [],
   "source": [
    "# to do - # make this plot interactive so they can see the dates!"
   ]
  },
  {
   "cell_type": "markdown",
   "metadata": {},
   "source": [
    "\n",
    "### Plot Event Probability\n",
    "\n",
    "Below, you plot Discharge on the x-axis and the probability that an event of that size will occur on the y-axis. "
   ]
  },
  {
   "cell_type": "code",
   "execution_count": 29,
   "metadata": {
    "tags": [
     "hide"
    ]
   },
   "outputs": [],
   "source": [
    "# import plotly\n",
    "# import plotly.graph_objs as go\n",
    "\n",
    "# plotly.offline.init_notebook_mode(connected=True)\n",
    "\n",
    "# plotly.offline.iplot({\n",
    "#     \"data\": [go.Scatter(x=usgs_annual_prob.peak_va, y=usgs_annual_prob.probability)],\n",
    "#     \"layout\": go.Layout(title=\"hello world\")\n",
    "# })"
   ]
  },
  {
   "cell_type": "code",
   "execution_count": 30,
   "metadata": {
    "caption": "Plot showing the probability of a discharge event using both datasets. Note that the y-axis is log scaled in this plot."
   },
   "outputs": [
    {
     "data": {
      "image/png": "[encoded data removed]",
      "text/plain": [
       "<Figure size 792x432 with 1 Axes>"
      ]
     },
     "metadata": {
      "needs_background": "light"
     },
     "output_type": "display_data"
    }
   ],
   "source": [
    "# Compare both datasets\n",
    "fig, ax = plt.subplots(figsize=(11, 6))\n",
    "\n",
    "usgs_annual_prob.plot.scatter(x=\"peak_va\",\n",
    "                              y=\"probability\",\n",
    "                              title=\"Probability \",\n",
    "                              ax=ax,\n",
    "                              color='purple',\n",
    "                              fontsize=16,\n",
    "                              logy=True,\n",
    "                              label=\"USGS Annual Max Calculated\")\n",
    "\n",
    "longmont_prob.plot.scatter(y=\"probability\",\n",
    "                           x=\"discharge\",\n",
    "                           title=\"Probability \",\n",
    "                           ax=ax,\n",
    "                           color='grey',\n",
    "                           fontsize=16,\n",
    "                           logy=True,\n",
    "                           label=\"Daily Mean Calculated\")\n",
    "ax.legend(frameon=True,\n",
    "          framealpha=1)\n",
    "\n",
    "ax.set_ylabel(\"Probability\")\n",
    "ax.set_xlabel(\"Discharge Value (CFS)\")\n",
    "ax.set_title(\n",
    "    \"Probability of Discharge Events \\n USGS Annual Max Data Compared to Daily Mean Calculated Annual Max\")\n",
    "\n",
    "plt.show()"
   ]
  },
  {
   "cell_type": "markdown",
   "metadata": {},
   "source": [
    "## Plot Stream Discharge Return Period\n",
    "\n",
    "And then you plot steram dicharge vs return period. This plot shows you the frequency in years that you can expect an event of any magnitude to occur upon. But remember that this doesn't mean that this size of an event will occur every x years! The probability plot above tells you what the probability is that any event of any size might occur in any particular year. \n"
   ]
  },
  {
   "cell_type": "code",
   "execution_count": 31,
   "metadata": {
    "caption": "Plot showing the return period of a discharge event using both datasets. Note that the y-axis is log scaled in this plot."
   },
   "outputs": [
    {
     "data": {
      "image/png": "[encoded data removed]",
      "text/plain": [
       "<Figure size 792x432 with 1 Axes>"
      ]
     },
     "metadata": {
      "needs_background": "light"
     },
     "output_type": "display_data"
    }
   ],
   "source": [
    "fig, ax = plt.subplots(figsize=(11, 6))\n",
    "\n",
    "longmont_prob.plot.scatter(y=\"discharge\",\n",
    "                           x=\"return-years\",\n",
    "                           title=\"Return Period (Years)\",\n",
    "                           ax=ax,\n",
    "                           color='purple',\n",
    "                           fontsize=16,\n",
    "                           label=\"Daily Mean Calculated\")\n",
    "\n",
    "usgs_annual_prob.plot.scatter(y=\"peak_va\",\n",
    "                              x=\"return-years\",\n",
    "                              title=\"Return Period (Years)\",\n",
    "                              ax=ax,\n",
    "                              color='grey',\n",
    "                              fontsize=16,\n",
    "                              label=\"USGS Annual Max\")\n",
    "ax.legend(frameon=True,\n",
    "          framealpha=1)\n",
    "\n",
    "ax.set_xlabel(\"Return Period (Years)\")\n",
    "ax.set_ylabel(\"Discharge Value (CFS)\")\n",
    "\n",
    "plt.show()"
   ]
  },
  {
   "cell_type": "markdown",
   "metadata": {},
   "source": [
    "### References\n",
    "Falcone, J. A. (2011). GAGES-II: Geospatial attributes of gages for evaluating streamflow. US Geological Survey.\n",
    "\n",
    "Lins, H. F. (2012). USGS hydro-climatic data network 2009 (HCDN-2009). US Geological Survey Fact Sheet, 3047(4).\n",
    "\n",
    "Yochum, S. E. (2015, April). Colorado Front Range Flood of 2013: Peak flows and flood frequencies. In Proceedings of the 3rd Joint Federal Interagency Conference on Sedimentation and Hydrologic Modeling, Reno, NV, USA (pp. 19-23).\n"
   ]
  },
  {
   "cell_type": "markdown",
   "metadata": {
    "tags": [
     "hide"
    ]
   },
   "source": [
    "This is where i got the precip data from... it's only available through 2013... can i get up to date data?\n",
    "# https://www.ncdc.noaa.gov/cdo-web/datasets/PRECIP_HLY/locations/CITY:US080001/detail\n",
    "\n",
    "https://www.ncdc.noaa.gov/homr/#ncdcstnid=20003803&tab=PHR\n",
    "i may have to be ok with not having data for the entire period... that is ok.."
   ]
  }
 ],
 "metadata": {
  "celltoolbar": "Tags",
  "kernelspec": {
   "display_name": "Python 3",
   "language": "python",
   "name": "python3"
  },
  "language_info": {
   "codemirror_mode": {
    "name": "ipython",
    "version": 3
   },
   "file_extension": ".py",
   "mimetype": "text/x-python",
   "name": "python",
   "nbconvert_exporter": "python",
   "pygments_lexer": "ipython3",
   "version": "3.7.6"
  },
  "toc": {
   "base_numbering": 1,
   "nav_menu": {},
   "number_sections": true,
   "sideBar": true,
   "skip_h1_title": false,
   "title_cell": "Table of Contents",
   "title_sidebar": "Contents",
   "toc_cell": false,
   "toc_position": {},
   "toc_section_display": true,
   "toc_window_display": false
  },
  "varInspector": {
   "cols": {
    "lenName": 16,
    "lenType": 16,
    "lenVar": 40
   },
   "kernels_config": {
    "python": {
     "delete_cmd_postfix": "",
     "delete_cmd_prefix": "del ",
     "library": "var_list.py",
     "varRefreshCmd": "print(var_dic_list())"
    },
    "r": {
     "delete_cmd_postfix": ") ",
     "delete_cmd_prefix": "rm(",
     "library": "var_list.r",
     "varRefreshCmd": "cat(var_dic_list()) "
    }
   },
   "types_to_exclude": [
    "module",
    "function",
    "builtin_function_or_method",
    "instance",
    "_Feature"
   ],
   "window_display": false
  }
 },
 "nbformat": 4,
 "nbformat_minor": 2
}
