{
 "cells": [
  {
   "cell_type": "raw",
   "metadata": {},
   "source": [
    "---\n",
    "layout: single\n",
    "title: \"An Overview of the Cold Springs Wildfire\"\n",
    "excerpt: \"The Cold Springs wildfire burned a total of 528 acres of land between July 9, 2016 and July 14, 2016. Learn more about this wildfire and how scientists study wildfire using both field and remote sensing methods.\"\n",
    "authors: ['Leah Wasser']\n",
    "dateCreated: 2018-10-04\n",
    "modified: '{:%Y-%m-%d}'.format(datetime.now())\n",
    "category: [courses]\n",
    "class-lesson: ['wildfire-overview-tb']\n",
    "permalink: /courses/use-data-open-source-python/data-stories/cold-springs-wildfire/\n",
    "nav-title: 'Cold Springs Wildfire'\n",
    "week: 9\n",
    "course: 'intermediate-earth-data-science-textbook'\n",
    "chapter: 22\n",
    "module-title: 'An Overview of the Impacts and Study of Wildfire'\n",
    "module-nav-title: 'Wildfire Overview'\n",
    "module-description: 'The Cold Springs wildfire burned 528 acres near Nederland, Colorado, in July 2016. Learn about how scientists study the impacts of wildfire using field surveys and remote sensing.'\n",
    "module-type: 'class'\n",
    "class-order: 3\n",
    "sidebar:\n",
    "  nav:\n",
    "author_profile: false\n",
    "comments: true\n",
    "order: 1\n",
    "topics:\n",
    "  earth-science: ['fire']\n",
    "redirect_from:\n",
    "  - \"/courses/earth-analytics-python/multispectral-remote-sensing-in-python/intro-wildfires/\"\n",
    "---\n"
   ]
  },
  {
   "cell_type": "markdown",
   "metadata": {},
   "source": [
    "{% include toc title=\"In This Chapter\" icon=\"file-text\" %}\n",
    "\n",
    "<div class='notice--success' markdown=\"1\">\n",
    "\n",
    "## <i class=\"fa fa-ship\" aria-hidden=\"true\"></i> Chapter 22 - The Cold Springs Wildfire \n",
    "\n",
    "In this chapter, you will learn about the Cold Springs wildfire, which burned a total of 528 acres of land between July 9, 2016 and July 14, 2016. You will also learn how scientists study wildfire using both field and remote sensing methods.\n",
    "\n",
    "\n",
    "## <i class=\"fa fa-graduation-cap\" aria-hidden=\"true\"></i> Learning Objectives\n",
    "\n",
    "At completing this chapter, you will be able to:\n",
    "\n",
    "* List the causes and impacts of the 2016 Cold Springs wildfire in Colorado. \n",
    "* Explain how scientists use field measurements and remote sensing to study wildfire impacts.\n",
    "* List two primary vegetation indices that are used to study wildfire impacts.\n",
    "* List four primary sources of remote sensing data that can be used to study wildfire.\n",
    "\n",
    "</div>\n",
    "\n",
    "\n",
    "## What Causes Wildfires?\n",
    "\n",
    "Wildfires can occur naturally or be triggered by humans. Research from Jennifer Balch of the University of Colorado Earth Lab has shown that humans are responsible for <a href=\"http://www.sciencemag.org/news/2017/09/who-starting-all-those-wildfires-we-are\" target=\"_blank\">starting 84% of wildfires.</a> The most common causes of human-induced fires are intentional acts of arson, campfires, debris burning, and discarded cigarettes.\n",
    "\n",
    "Humans also increase the prevalence of wildfires indirectly through climate change. Warmer, drier conditions from climate change lead to drought. Specifically, spring is coming sooner, making mountain snow melt earlier and increasing the likelihood of drought later in the summer. These droughts make vegetation drier and a better fuel source for fire. A drier climate also leads to more lightening, which is the most common non-human source of fires.\n",
    "\n",
    "Wildfires can be both devastating and rejuvenating for the environment. While they cause destruction, many ecosystems depend on them. They perform critical ecological tasks like facilitating vegetation growth and removing non-native species. When humans actively try to prevent natural fires, it can lead to larger fires due to fuel buildup. \n",
    "\n",
    "<figure>\n",
    "  <a href=\"{{ site.url }}/images/earth-analytics/science/cold-springs-fire/animals-fleeing-wildfire-montana-cold-springs-fire.jpg\">\n",
    "    <img src=\"{{ site.url }}/images/earth-analytics/science/cold-springs-fire/animals-fleeing-wildfire-montana-cold-springs-fire.jpg\" alt=\"Two elk flee from a wildfire into a river in this photo of Bitterroot National Forest, Montana.\">\n",
    "  </a>\n",
    "  <figcaption>Two elk seek safety in a river in this photo of a wildfire in Bitterroot National Forest, Montana taken on August 6, 2000. The year 2000 was one of the worst fire seasons in a half century in the US. By August, when this photo was taken, an area greater than the size of Maryland had burned from wildfires in the country. Source: <a href=\"https://earthobservatory.nasa.gov/IOTD/view.php?id=843\" target=\"_blank\">John McColgan.</a>\n",
    "  </figcaption>\n",
    "</figure>\n",
    "\n",
    "\n",
    "## Wildfire in the US \n",
    "\n",
    "Many fires have extreme impacts on humans. The deadliest fire in U.S. history was the Peshtigo Fire in northeastern Wisconsin in 1871. It killed about 2,500 people and burned 1.2 million acres of land. While the entire western U.S. is prone to wildfires, California is particularly vulnerable due to frequent droughts and coastal winds. \n",
    "\n",
    "One of the most destructive blazes in the world in recent history was the Cedar Fire in San Diego County, California in October 2003, killing 14 people, destroying 2,280 buildings, and burning 280,000 acres of land. The most destructive in Colorado was the Fourmile Canyon Fire in September 2010, which destroyed 168 homes and led to $217 million in insurance claims. "
   ]
  },
  {
   "cell_type": "markdown",
   "metadata": {},
   "source": [
    "<figure>\n",
    "  <a href=\"{{ site.url }}/images/earth-analytics/science/cold-springs-fire/los-angeles-day-fire-nasa-satellite-image-cold-springs-fire.jpg\">\n",
    "    <img src=\"{{ site.url }}/images/earth-analytics/science/cold-springs-fire/los-angeles-day-fire-nasa-satellite-image-cold-springs-fire.jpg\" alt=\"Remote sensing image of the Los Angeles Day Fire from NASA’s MASTER sensor.\">\n",
    "  </a>\n",
    "  <figcaption>This image was taken with NASA’s aircraft-based MASTER sensor shows the Day Fire northwest of Los Angeles burning on September 19, 2006. Source: <a href=\"https://earthobservatory.nasa.gov/NaturalHazards/view.php?id=17339\" target=\"_blank\">NASA.</a>\n",
    "  </figcaption>\n",
    "</figure>"
   ]
  },
  {
   "cell_type": "markdown",
   "metadata": {},
   "source": [
    "## About the Cold Springs Fire\n",
    "\n",
    "The Cold Springs wildfire was first reported on July 9, 2016 along Hurricane Hill, approximately two miles northeast of Nederland, Colorado. \n",
    "\n",
    "<figure>\n",
    "  <a href=\"{{ site.url }}/images/earth-analytics/science/cold-springs-fire/map-nederland-cold-springs-fire.png\">\n",
    "    <img src=\"{{ site.url }}/images/earth-analytics/science/cold-springs-fire/map-nederland-cold-springs-fire.png\" alt=\"Map of Nederland, Colorado.\">\n",
    "  </a>\n",
    "  <figcaption>Map showing the location of Nederland, Colorado, in relation to the Denver Metro Area. Source: Google Maps.\n",
    "  </figcaption>\n",
    "</figure>\n",
    "\n",
    "<figure>\n",
    "  <a href=\"{{ site.url }}/images/earth-analytics/science/cold-springs-fire/map-extent-of-cold-springs-fire.jpg\">\n",
    "    <img src=\"{{ site.url }}/images/earth-analytics/science/cold-springs-fire/map-extent-of-cold-springs-fire.jpg\" alt=\"Map of the extent of the Cold Springs fire near Nederland, Colorado.\">\n",
    "  </a>\n",
    "  <figcaption>This map shows the extent of the Cold Springs fire, just outside of Nederland, Colorado, at its peak on July 10th, 2016. Source: InciWeb.\n",
    "  </figcaption>\n",
    "</figure>\n",
    "\n",
    "The human-started wildfire was officially extinguished on July 14, 2016. It burned a total of 528 acres of land, 430 acres on privately owned land and 98 on US Forest Service property. Eight homes were lost.\n",
    "\n",
    "<figure>\n",
    "  <a href=\"{{ site.url }}/images/earth-analytics/science/cold-springs-fire/firefighters-on-scene-of-cold-springs-fire.jpg\">\n",
    "    <img src=\"{{ site.url }}/images/earth-analytics/science/cold-springs-fire/firefighters-on-scene-of-cold-springs-fire.jpg\" alt=\"Firefighters on the scene of the Cold Springs Fire.\">\n",
    "  </a>\n",
    "  <figcaption>Firefighters on the scene of the Cold Springs Fire on July 11, 2016. The wildfire burned mainly in Ponderosa and lodgepole pine forests. The fire burned on a total of 528 acres and destroyed eight homes. Source: <a href=\"https://www.denverpost.com/2016/07/13/cold-springs-fire-wednesday/\" target=\"_blank\">The Denver Post.</a>\n",
    "  </figcaption>\n",
    "</figure>\n",
    "\n",
    "The cause of the Cold Springs wildfire has been attributed to a campfire that was not properly extinguished during a county-wide fire ban. Two transient men from Alabama were charged with fourth-degree arson. They were sentenced with two years of work release to be followed by four years of probation and must pay restitution of up to 1.25 million dollars. \n",
    "\n",
    "<figure>\n",
    "  <a href=\"{{ site.url }}/images/earth-analytics/science/cold-springs-fire/burned-trees-cold-springs-fire.jpg\">\n",
    "    <img src=\"{{ site.url }}/images/earth-analytics/science/cold-springs-fire/burned-trees-cold-springs-fire.jpg\" alt=\"Burned trees after the Cold Springs wildfire.\">\n",
    "  </a>\n",
    "  <figcaption>A scene from the fire site taken on September 7th 2016, about two months after the Cold Springs wildfire. Source: Nate Mietkiewicz, Earth Lab.\n",
    "  </figcaption>\n",
    "</figure>\n",
    "\n",
    "\n",
    "## Impacts of the Cold Springs Fire\n",
    "\n",
    "In addition to the homes that were destroyed, the Cold Springs Fire had significant impacts on those close to it. Due to the proximity to the town of Nederland, nearly 2,000 people were forced to evacuate. At the height of the fire, officials drafted plans to evacuate residents as far east as Boulder.\n",
    "\n",
    "<figure>\n",
    "  <a href=\"{{ site.url }}/images/earth-analytics/science/cold-springs-fire/burned-cars-cold-springs-fire.jpg\">\n",
    "    <img src=\"{{ site.url }}/images/earth-analytics/science/cold-springs-fire/burned-cars-cold-springs-fire.jpg\" alt=\"Burned cars in Nederland, Colorado after the Cold Springs fire.\">\n",
    "  </a>\n",
    "  <figcaption>An image of a burned Porsche and Ford Bronco at the site of a home decimated by the Cold Springs fire in Nederland, Colorado. Source: <a href=\"https://www.denverpost.com/2016/07/13/cold-springs-fire-wednesday/\" target=\"_blank\">The Denver Post.</a>\n",
    "  </figcaption>\n",
    "</figure>"
   ]
  }
 ],
 "metadata": {
  "celltoolbar": "Edit Metadata",
  "kernelspec": {
   "display_name": "Python 3",
   "language": "python",
   "name": "python3"
  },
  "language_info": {
   "codemirror_mode": {
    "name": "ipython",
    "version": 3
   },
   "file_extension": ".py",
   "mimetype": "text/x-python",
   "name": "python",
   "nbconvert_exporter": "python",
   "pygments_lexer": "ipython3",
   "version": "3.7.6"
  },
  "toc": {
   "toc_cell": false,
   "toc_number_sections": false,
   "toc_threshold": "2",
   "toc_window_display": false
  },
  "varInspector": {
   "cols": {
    "lenName": 16,
    "lenType": 16,
    "lenVar": 40
   },
   "kernels_config": {
    "python": {
     "delete_cmd_postfix": "",
     "delete_cmd_prefix": "del ",
     "library": "var_list.py",
     "varRefreshCmd": "print(var_dic_list())"
    },
    "r": {
     "delete_cmd_postfix": ") ",
     "delete_cmd_prefix": "rm(",
     "library": "var_list.r",
     "varRefreshCmd": "cat(var_dic_list()) "
    }
   },
   "types_to_exclude": [
    "module",
    "function",
    "builtin_function_or_method",
    "instance",
    "_Feature"
   ],
   "window_display": false
  }
 },
 "nbformat": 4,
 "nbformat_minor": 2
}
